{
 "cells": [
  {
   "cell_type": "markdown",
   "metadata": {},
   "source": [
    "# Анализ бизнеса. Исследование метрик юнит-экономики.\n",
    "\n",
    "Мы являемся маркетинговым аналитиком развлекательного приложения Procrastinate Pro+. Несколько прошлых месяцев наш бизнес постоянно нес убытки - в привлечение пользователей была вложена куча денег, а толку никакого. Нам нужно разобраться в причинах этой ситуации.\n",
    "\n",
    "В нашем распоряжении есть лог сервера с данными о посещениях приложения новыми пользователями, зарегистрировавшимися в период с 2019-05-01 по 2019-10-27, выгрузка их покупок за этот период, а также статистика рекламных расходов. Нам предстоит изучить, как люди пользуются продуктом, когда они начинают покупать, сколько денег приносит каждый клиент, когда он окупается и какие факторы отрицательно влияют на привлечение пользователей.\n",
    "\n",
    "**Цели исследования:**\n",
    "\n",
    "* Через пользовательские профили посмотреть страну, устройства входа, рекламный источник с определением доли платящих пользователей.\n",
    "* Рассчитать расходы на маркетинг и среднее на привлечение одного пользователя\n",
    "* С помощью LTV и ROI рассчитать окупаемость рекламы \n",
    "* Построить и изучить графики конверсии и удержания\n",
    "* Выделить причины неэффективности привлечения пользователей\n",
    "* Сформулируйте рекомендации для отдела маркетинга\n",
    "\n",
    "**Ход исследования:**\n",
    "Изучить и обработать данные. Собрать из данных профили пользователей и рассчитать долю платящих с разбивкой по целям исследования. Рассмотреть затраты на каналы. Рассчитать ROI и LTV и построить по ним графики. Сделать общий вывод."
   ]
  },
  {
   "cell_type": "markdown",
   "metadata": {},
   "source": [
    "## Изучение и обработка данных"
   ]
  },
  {
   "cell_type": "markdown",
   "metadata": {},
   "source": [
    "В первую очередь подключаем библиотеки, которые в дальнейшем нам понадобятся:"
   ]
  },
  {
   "cell_type": "code",
   "execution_count": 1,
   "metadata": {},
   "outputs": [],
   "source": [
    "import pandas as pd\n",
    "import matplotlib.pyplot as plt\n",
    "import seaborn as sns\n",
    "from datetime import datetime, timedelta\n",
    "import numpy as np"
   ]
  },
  {
   "cell_type": "markdown",
   "metadata": {},
   "source": [
    "Откроем данные с файлами."
   ]
  },
  {
   "cell_type": "markdown",
   "metadata": {},
   "source": [
    "Посмотрим на таблицу с посещениями сайта."
   ]
  },
  {
   "cell_type": "markdown",
   "metadata": {},
   "source": [
    "\n",
    "В данных отсуствуют пропуски. Заголовки для удобства перепишем в удобный формат."
   ]
  },
  {
   "cell_type": "code",
   "execution_count": 5,
   "metadata": {},
   "outputs": [],
   "source": [
    "visits.columns = visits.columns.str.lower()\n",
    "visits = visits.rename(columns={'user id' : 'user_id', 'session start' : 'session_start', 'session end' : 'session_end'})"
   ]
  },
  {
   "cell_type": "markdown",
   "metadata": {},
   "source": [
    "Посмотрим на таблицу с информацией по покупкам."
   ]
  },
  {
   "cell_type": "markdown",
   "metadata": {},
   "source": [
    "\n",
    "\n",
    "Аналогично отсуствую пропуски и также требуется переписать название колонок."
   ]
  },
  {
   "cell_type": "markdown",
   "metadata": {},
   "source": [
    "Посмотрим на таблицу с расходами на рекламу."
   ]
  },
  {
   "cell_type": "markdown",
   "metadata": {},
   "source": [
    "\n",
    "\n",
    "Данные также без пропусков и также требуется переписать название колонок."
   ]
  },
  {
   "cell_type": "code",
   "execution_count": 11,
   "metadata": {
    "scrolled": true
   },
   "outputs": [],
   "source": [
    "costs.columns = costs.columns.str.lower()"
   ]
  },
  {
   "cell_type": "markdown",
   "metadata": {},
   "source": [
    "Посмотрим имеются ли среди данных дубликаты."
   ]
  },
  {
   "cell_type": "code",
   "execution_count": 12,
   "metadata": {
    "scrolled": false
   },
   "outputs": [
    {
     "name": "stdout",
     "output_type": "stream",
     "text": [
      "Количество дупликатов visits: 0\n",
      "Количество дупликатов orders: 0\n",
      "Количество дупликатов costs: 0\n"
     ]
    }
   ],
   "source": [
    "print('Количество дупликатов visits:',visits.duplicated().sum()) \n",
    "print('Количество дупликатов orders:',orders.duplicated().sum())\n",
    "print('Количество дупликатов costs:',costs.duplicated().sum())"
   ]
  },
  {
   "cell_type": "markdown",
   "metadata": {},
   "source": [
    "Для удобства работы с датами, в каждой таблице поменяем тип данных в нужных для нас колонках."
   ]
  },
  {
   "cell_type": "code",
   "execution_count": 13,
   "metadata": {},
   "outputs": [],
   "source": [
    "visits['session_start'] = pd.to_datetime(visits['session_start'])\n",
    "orders['event_dt'] = pd.to_datetime(orders['event_dt'])\n",
    "costs['dt'] = pd.to_datetime(costs['dt']).dt.date "
   ]
  },
  {
   "cell_type": "markdown",
   "metadata": {},
   "source": [
    "Теперь мы можем приступить непосредственно к анализу.\n",
    "\n",
    "### Вывод \n",
    "\n",
    "Перед нами качественные данные, с отсуствием пропусков и дубликатов. Для удобства мы изменили название некоторых колонок, привели их к нижнему регистру и заменили пробелы нижним слэшем. Колонки с датами мы привели к типу `datetime`."
   ]
  },
  {
   "cell_type": "markdown",
   "metadata": {},
   "source": [
    "## Анализ данных\n",
    "\n",
    "### Профили пользователей\n",
    "\n",
    "Для построение профилей пользователей мы используем отдельно функцию которая учтёт первые посещения пользователи и траты на рекламу ."
   ]
  },
  {
   "cell_type": "code",
   "execution_count": 14,
   "metadata": {},
   "outputs": [],
   "source": [
    "# функция для создания пользовательских профилей\n",
    "\n",
    "def get_profiles(sessions, orders, ad_costs):\n",
    "\n",
    "    # находим параметры первых посещений\n",
    "    profiles = (\n",
    "        sessions.sort_values(by=['user_id', 'session_start'])\n",
    "        .groupby('user_id')\n",
    "        .agg(\n",
    "            {\n",
    "                'session_start': 'first',\n",
    "                'channel': 'first',\n",
    "                'device': 'first',\n",
    "                'region': 'first',\n",
    "            }\n",
    "        )\n",
    "        .rename(columns={'session_start': 'first_ts'})\n",
    "        .reset_index()\n",
    "    )\n",
    "\n",
    "    # для когортного анализа определяем дату первого посещения\n",
    "    # и первый день месяца, в который это посещение произошло\n",
    "    profiles['dt'] = profiles['first_ts'].dt.date\n",
    "    profiles['month'] = profiles['first_ts'].astype('datetime64[M]')\n",
    "\n",
    "    # добавляем признак платящих пользователей\n",
    "    profiles['payer'] = profiles['user_id'].isin(orders['user_id'].unique())\n",
    "\n",
    "\n",
    "    # считаем количество уникальных пользователей\n",
    "    # с одинаковыми источником и датой привлечения\n",
    "    new_users = (\n",
    "        profiles.groupby(['dt', 'channel'])\n",
    "        .agg({'user_id': 'nunique'})\n",
    "        .rename(columns={'user_id': 'unique_users'})\n",
    "        .reset_index()\n",
    "    )\n",
    "\n",
    "    # объединяем траты на рекламу и число привлечённых пользователей\n",
    "    ad_costs = ad_costs.merge(new_users, on=['dt', 'channel'], how='left')\n",
    "\n",
    "    # делим рекламные расходы на число привлечённых пользователей\n",
    "    ad_costs['acquisition_cost'] = ad_costs['costs'] / ad_costs['unique_users']\n",
    "\n",
    "    # добавляем стоимость привлечения в профили\n",
    "    profiles = profiles.merge(\n",
    "        ad_costs[['dt', 'channel', 'acquisition_cost']],\n",
    "        on=['dt', 'channel'],\n",
    "        how='left',\n",
    "    )\n",
    "\n",
    "    # стоимость привлечения органических пользователей равна нулю\n",
    "    profiles['acquisition_cost'] = profiles['acquisition_cost'].fillna(0)\n",
    "\n",
    "    return profiles\n"
   ]
  },
  {
   "cell_type": "markdown",
   "metadata": {},
   "source": [
    "Рассмотрим первые 10 строк таблицы профилей: "
   ]
  },
  {
   "cell_type": "code",
   "execution_count": 15,
   "metadata": {
    "scrolled": true
   },
   "outputs": [
    {
     "data": {
      "text/html": [
       "<div>\n",
       "<style scoped>\n",
       "    .dataframe tbody tr th:only-of-type {\n",
       "        vertical-align: middle;\n",
       "    }\n",
       "\n",
       "    .dataframe tbody tr th {\n",
       "        vertical-align: top;\n",
       "    }\n",
       "\n",
       "    .dataframe thead th {\n",
       "        text-align: right;\n",
       "    }\n",
       "</style>\n",
       "<table border=\"1\" class=\"dataframe\">\n",
       "  <thead>\n",
       "    <tr style=\"text-align: right;\">\n",
       "      <th></th>\n",
       "      <th>user_id</th>\n",
       "      <th>first_ts</th>\n",
       "      <th>channel</th>\n",
       "      <th>device</th>\n",
       "      <th>region</th>\n",
       "      <th>dt</th>\n",
       "      <th>month</th>\n",
       "      <th>payer</th>\n",
       "      <th>acquisition_cost</th>\n",
       "    </tr>\n",
       "  </thead>\n",
       "  <tbody>\n",
       "    <tr>\n",
       "      <td>0</td>\n",
       "      <td>599326</td>\n",
       "      <td>2019-05-07 20:58:57</td>\n",
       "      <td>FaceBoom</td>\n",
       "      <td>Mac</td>\n",
       "      <td>United States</td>\n",
       "      <td>2019-05-07</td>\n",
       "      <td>2019-05-01</td>\n",
       "      <td>True</td>\n",
       "      <td>1.088172</td>\n",
       "    </tr>\n",
       "    <tr>\n",
       "      <td>1</td>\n",
       "      <td>4919697</td>\n",
       "      <td>2019-07-09 12:46:07</td>\n",
       "      <td>FaceBoom</td>\n",
       "      <td>iPhone</td>\n",
       "      <td>United States</td>\n",
       "      <td>2019-07-09</td>\n",
       "      <td>2019-07-01</td>\n",
       "      <td>False</td>\n",
       "      <td>1.107237</td>\n",
       "    </tr>\n",
       "    <tr>\n",
       "      <td>2</td>\n",
       "      <td>6085896</td>\n",
       "      <td>2019-10-01 09:58:33</td>\n",
       "      <td>organic</td>\n",
       "      <td>iPhone</td>\n",
       "      <td>France</td>\n",
       "      <td>2019-10-01</td>\n",
       "      <td>2019-10-01</td>\n",
       "      <td>False</td>\n",
       "      <td>0.000000</td>\n",
       "    </tr>\n",
       "    <tr>\n",
       "      <td>3</td>\n",
       "      <td>22593348</td>\n",
       "      <td>2019-08-22 21:35:48</td>\n",
       "      <td>AdNonSense</td>\n",
       "      <td>PC</td>\n",
       "      <td>Germany</td>\n",
       "      <td>2019-08-22</td>\n",
       "      <td>2019-08-01</td>\n",
       "      <td>False</td>\n",
       "      <td>0.988235</td>\n",
       "    </tr>\n",
       "    <tr>\n",
       "      <td>4</td>\n",
       "      <td>31989216</td>\n",
       "      <td>2019-10-02 00:07:44</td>\n",
       "      <td>YRabbit</td>\n",
       "      <td>iPhone</td>\n",
       "      <td>United States</td>\n",
       "      <td>2019-10-02</td>\n",
       "      <td>2019-10-01</td>\n",
       "      <td>False</td>\n",
       "      <td>0.230769</td>\n",
       "    </tr>\n",
       "    <tr>\n",
       "      <td>5</td>\n",
       "      <td>34186288</td>\n",
       "      <td>2019-05-09 17:29:23</td>\n",
       "      <td>organic</td>\n",
       "      <td>Android</td>\n",
       "      <td>United States</td>\n",
       "      <td>2019-05-09</td>\n",
       "      <td>2019-05-01</td>\n",
       "      <td>False</td>\n",
       "      <td>0.000000</td>\n",
       "    </tr>\n",
       "    <tr>\n",
       "      <td>6</td>\n",
       "      <td>38448301</td>\n",
       "      <td>2019-08-16 11:56:00</td>\n",
       "      <td>organic</td>\n",
       "      <td>Android</td>\n",
       "      <td>United States</td>\n",
       "      <td>2019-08-16</td>\n",
       "      <td>2019-08-01</td>\n",
       "      <td>False</td>\n",
       "      <td>0.000000</td>\n",
       "    </tr>\n",
       "    <tr>\n",
       "      <td>7</td>\n",
       "      <td>46006712</td>\n",
       "      <td>2019-06-30 03:46:29</td>\n",
       "      <td>AdNonSense</td>\n",
       "      <td>Android</td>\n",
       "      <td>France</td>\n",
       "      <td>2019-06-30</td>\n",
       "      <td>2019-06-01</td>\n",
       "      <td>True</td>\n",
       "      <td>1.008000</td>\n",
       "    </tr>\n",
       "    <tr>\n",
       "      <td>8</td>\n",
       "      <td>58263264</td>\n",
       "      <td>2019-05-11 19:18:43</td>\n",
       "      <td>FaceBoom</td>\n",
       "      <td>iPhone</td>\n",
       "      <td>United States</td>\n",
       "      <td>2019-05-11</td>\n",
       "      <td>2019-05-01</td>\n",
       "      <td>False</td>\n",
       "      <td>1.128205</td>\n",
       "    </tr>\n",
       "    <tr>\n",
       "      <td>9</td>\n",
       "      <td>59835779</td>\n",
       "      <td>2019-05-11 21:13:47</td>\n",
       "      <td>MediaTornado</td>\n",
       "      <td>iPhone</td>\n",
       "      <td>United States</td>\n",
       "      <td>2019-05-11</td>\n",
       "      <td>2019-05-01</td>\n",
       "      <td>False</td>\n",
       "      <td>0.250435</td>\n",
       "    </tr>\n",
       "  </tbody>\n",
       "</table>\n",
       "</div>"
      ],
      "text/plain": [
       "    user_id            first_ts       channel   device         region  \\\n",
       "0    599326 2019-05-07 20:58:57      FaceBoom      Mac  United States   \n",
       "1   4919697 2019-07-09 12:46:07      FaceBoom   iPhone  United States   \n",
       "2   6085896 2019-10-01 09:58:33       organic   iPhone         France   \n",
       "3  22593348 2019-08-22 21:35:48    AdNonSense       PC        Germany   \n",
       "4  31989216 2019-10-02 00:07:44       YRabbit   iPhone  United States   \n",
       "5  34186288 2019-05-09 17:29:23       organic  Android  United States   \n",
       "6  38448301 2019-08-16 11:56:00       organic  Android  United States   \n",
       "7  46006712 2019-06-30 03:46:29    AdNonSense  Android         France   \n",
       "8  58263264 2019-05-11 19:18:43      FaceBoom   iPhone  United States   \n",
       "9  59835779 2019-05-11 21:13:47  MediaTornado   iPhone  United States   \n",
       "\n",
       "           dt      month  payer  acquisition_cost  \n",
       "0  2019-05-07 2019-05-01   True          1.088172  \n",
       "1  2019-07-09 2019-07-01  False          1.107237  \n",
       "2  2019-10-01 2019-10-01  False          0.000000  \n",
       "3  2019-08-22 2019-08-01  False          0.988235  \n",
       "4  2019-10-02 2019-10-01  False          0.230769  \n",
       "5  2019-05-09 2019-05-01  False          0.000000  \n",
       "6  2019-08-16 2019-08-01  False          0.000000  \n",
       "7  2019-06-30 2019-06-01   True          1.008000  \n",
       "8  2019-05-11 2019-05-01  False          1.128205  \n",
       "9  2019-05-11 2019-05-01  False          0.250435  "
      ]
     },
     "execution_count": 15,
     "metadata": {},
     "output_type": "execute_result"
    }
   ],
   "source": [
    "profiles = get_profiles(visits, orders, costs)\n",
    "profiles.head(10)"
   ]
  },
  {
   "cell_type": "markdown",
   "metadata": {},
   "source": [
    "Посмотрим на минимальную и максимальную дату привлечения пользователя."
   ]
  },
  {
   "cell_type": "code",
   "execution_count": 16,
   "metadata": {
    "scrolled": true
   },
   "outputs": [
    {
     "name": "stdout",
     "output_type": "stream",
     "text": [
      "Минимальная дата привлечения: 2019-05-01\n",
      "Максимальная дата привлечения: 2019-10-27\n"
     ]
    }
   ],
   "source": [
    "print('Минимальная дата привлечения:', profiles['dt'].min())\n",
    "print('Максимальная дата привлечения:', profiles['dt'].max())"
   ]
  },
  {
   "cell_type": "markdown",
   "metadata": {},
   "source": [
    "Даты совпадают с логами сервера данных о посещениях приложения новыми пользователями.\n",
    "\n",
    "Следующие разбивки примерно буду похожи между собой. Напишем функцию под наши целию."
   ]
  },
  {
   "cell_type": "code",
   "execution_count": 17,
   "metadata": {},
   "outputs": [],
   "source": [
    "def group_by(column):\n",
    "    return (\n",
    "         profiles\n",
    "        .groupby(column)\n",
    "        .agg({'user_id' : 'nunique', 'payer' : 'mean'})\n",
    "        .sort_values('user_id',ascending=False)\n",
    "        .round(3)\n",
    "    )\n",
    "   \n",
    "     "
   ]
  },
  {
   "cell_type": "markdown",
   "metadata": {},
   "source": [
    "Посмотрим на профили с разбивкой по странам."
   ]
  },
  {
   "cell_type": "code",
   "execution_count": 18,
   "metadata": {
    "scrolled": true
   },
   "outputs": [
    {
     "data": {
      "text/html": [
       "<div>\n",
       "<style scoped>\n",
       "    .dataframe tbody tr th:only-of-type {\n",
       "        vertical-align: middle;\n",
       "    }\n",
       "\n",
       "    .dataframe tbody tr th {\n",
       "        vertical-align: top;\n",
       "    }\n",
       "\n",
       "    .dataframe thead th {\n",
       "        text-align: right;\n",
       "    }\n",
       "</style>\n",
       "<table border=\"1\" class=\"dataframe\">\n",
       "  <thead>\n",
       "    <tr style=\"text-align: right;\">\n",
       "      <th></th>\n",
       "      <th>user_id</th>\n",
       "      <th>payer</th>\n",
       "    </tr>\n",
       "    <tr>\n",
       "      <th>region</th>\n",
       "      <th></th>\n",
       "      <th></th>\n",
       "    </tr>\n",
       "  </thead>\n",
       "  <tbody>\n",
       "    <tr>\n",
       "      <td>United States</td>\n",
       "      <td>100002</td>\n",
       "      <td>0.069</td>\n",
       "    </tr>\n",
       "    <tr>\n",
       "      <td>UK</td>\n",
       "      <td>17575</td>\n",
       "      <td>0.040</td>\n",
       "    </tr>\n",
       "    <tr>\n",
       "      <td>France</td>\n",
       "      <td>17450</td>\n",
       "      <td>0.038</td>\n",
       "    </tr>\n",
       "    <tr>\n",
       "      <td>Germany</td>\n",
       "      <td>14981</td>\n",
       "      <td>0.041</td>\n",
       "    </tr>\n",
       "  </tbody>\n",
       "</table>\n",
       "</div>"
      ],
      "text/plain": [
       "               user_id  payer\n",
       "region                       \n",
       "United States   100002  0.069\n",
       "UK               17575  0.040\n",
       "France           17450  0.038\n",
       "Germany          14981  0.041"
      ]
     },
     "execution_count": 18,
     "metadata": {},
     "output_type": "execute_result"
    }
   ],
   "source": [
    "group_by('region')"
   ]
  },
  {
   "cell_type": "markdown",
   "metadata": {},
   "source": [
    "Основной приток пользователей, в том числе и платящих, идёт из США. Стоит также обратить внимание что хоть и Германия находится в конце по количеству пользователей, доля платящих выше по сравнению с Францией и Британией.\n",
    "\n",
    "Посмотрим профили с разбивкой по устройствам."
   ]
  },
  {
   "cell_type": "code",
   "execution_count": 19,
   "metadata": {},
   "outputs": [
    {
     "data": {
      "text/html": [
       "<div>\n",
       "<style scoped>\n",
       "    .dataframe tbody tr th:only-of-type {\n",
       "        vertical-align: middle;\n",
       "    }\n",
       "\n",
       "    .dataframe tbody tr th {\n",
       "        vertical-align: top;\n",
       "    }\n",
       "\n",
       "    .dataframe thead th {\n",
       "        text-align: right;\n",
       "    }\n",
       "</style>\n",
       "<table border=\"1\" class=\"dataframe\">\n",
       "  <thead>\n",
       "    <tr style=\"text-align: right;\">\n",
       "      <th></th>\n",
       "      <th>user_id</th>\n",
       "      <th>payer</th>\n",
       "    </tr>\n",
       "    <tr>\n",
       "      <th>device</th>\n",
       "      <th></th>\n",
       "      <th></th>\n",
       "    </tr>\n",
       "  </thead>\n",
       "  <tbody>\n",
       "    <tr>\n",
       "      <td>iPhone</td>\n",
       "      <td>54479</td>\n",
       "      <td>0.062</td>\n",
       "    </tr>\n",
       "    <tr>\n",
       "      <td>Android</td>\n",
       "      <td>35032</td>\n",
       "      <td>0.059</td>\n",
       "    </tr>\n",
       "    <tr>\n",
       "      <td>PC</td>\n",
       "      <td>30455</td>\n",
       "      <td>0.050</td>\n",
       "    </tr>\n",
       "    <tr>\n",
       "      <td>Mac</td>\n",
       "      <td>30042</td>\n",
       "      <td>0.064</td>\n",
       "    </tr>\n",
       "  </tbody>\n",
       "</table>\n",
       "</div>"
      ],
      "text/plain": [
       "         user_id  payer\n",
       "device                 \n",
       "iPhone     54479  0.062\n",
       "Android    35032  0.059\n",
       "PC         30455  0.050\n",
       "Mac        30042  0.064"
      ]
     },
     "execution_count": 19,
     "metadata": {},
     "output_type": "execute_result"
    }
   ],
   "source": [
    "group_by('device')"
   ]
  },
  {
   "cell_type": "markdown",
   "metadata": {},
   "source": [
    "Большинство пользователей заходит через iPhone. Стоит также обратить внимание что доля платящих выше всего для Mac, хотя количество пользователей практически в два раза меньше пользователей iPhone. \n",
    "\n",
    "Рассмотрим последнюю разбивку по рекламным каналам."
   ]
  },
  {
   "cell_type": "code",
   "execution_count": 20,
   "metadata": {},
   "outputs": [
    {
     "data": {
      "text/html": [
       "<div>\n",
       "<style scoped>\n",
       "    .dataframe tbody tr th:only-of-type {\n",
       "        vertical-align: middle;\n",
       "    }\n",
       "\n",
       "    .dataframe tbody tr th {\n",
       "        vertical-align: top;\n",
       "    }\n",
       "\n",
       "    .dataframe thead th {\n",
       "        text-align: right;\n",
       "    }\n",
       "</style>\n",
       "<table border=\"1\" class=\"dataframe\">\n",
       "  <thead>\n",
       "    <tr style=\"text-align: right;\">\n",
       "      <th></th>\n",
       "      <th>user_id</th>\n",
       "      <th>payer</th>\n",
       "    </tr>\n",
       "    <tr>\n",
       "      <th>channel</th>\n",
       "      <th></th>\n",
       "      <th></th>\n",
       "    </tr>\n",
       "  </thead>\n",
       "  <tbody>\n",
       "    <tr>\n",
       "      <td>organic</td>\n",
       "      <td>56439</td>\n",
       "      <td>0.021</td>\n",
       "    </tr>\n",
       "    <tr>\n",
       "      <td>FaceBoom</td>\n",
       "      <td>29144</td>\n",
       "      <td>0.122</td>\n",
       "    </tr>\n",
       "    <tr>\n",
       "      <td>TipTop</td>\n",
       "      <td>19561</td>\n",
       "      <td>0.096</td>\n",
       "    </tr>\n",
       "    <tr>\n",
       "      <td>OppleCreativeMedia</td>\n",
       "      <td>8605</td>\n",
       "      <td>0.027</td>\n",
       "    </tr>\n",
       "    <tr>\n",
       "      <td>LeapBob</td>\n",
       "      <td>8553</td>\n",
       "      <td>0.031</td>\n",
       "    </tr>\n",
       "    <tr>\n",
       "      <td>WahooNetBanner</td>\n",
       "      <td>8553</td>\n",
       "      <td>0.053</td>\n",
       "    </tr>\n",
       "    <tr>\n",
       "      <td>RocketSuperAds</td>\n",
       "      <td>4448</td>\n",
       "      <td>0.079</td>\n",
       "    </tr>\n",
       "    <tr>\n",
       "      <td>MediaTornado</td>\n",
       "      <td>4364</td>\n",
       "      <td>0.036</td>\n",
       "    </tr>\n",
       "    <tr>\n",
       "      <td>YRabbit</td>\n",
       "      <td>4312</td>\n",
       "      <td>0.038</td>\n",
       "    </tr>\n",
       "    <tr>\n",
       "      <td>AdNonSense</td>\n",
       "      <td>3880</td>\n",
       "      <td>0.113</td>\n",
       "    </tr>\n",
       "    <tr>\n",
       "      <td>lambdaMediaAds</td>\n",
       "      <td>2149</td>\n",
       "      <td>0.105</td>\n",
       "    </tr>\n",
       "  </tbody>\n",
       "</table>\n",
       "</div>"
      ],
      "text/plain": [
       "                    user_id  payer\n",
       "channel                           \n",
       "organic               56439  0.021\n",
       "FaceBoom              29144  0.122\n",
       "TipTop                19561  0.096\n",
       "OppleCreativeMedia     8605  0.027\n",
       "LeapBob                8553  0.031\n",
       "WahooNetBanner         8553  0.053\n",
       "RocketSuperAds         4448  0.079\n",
       "MediaTornado           4364  0.036\n",
       "YRabbit                4312  0.038\n",
       "AdNonSense             3880  0.113\n",
       "lambdaMediaAds         2149  0.105"
      ]
     },
     "execution_count": 20,
     "metadata": {},
     "output_type": "execute_result"
    }
   ],
   "source": [
    "group_by('channel')"
   ]
  },
  {
   "cell_type": "markdown",
   "metadata": {},
   "source": [
    "Основные рекламные каналы привлечения являются FaceBoom и TipTop. Хотя самое большое количество пользователей пришли самостоятельно. Построем столбчатую диаграмму для просмотра доли платящих пользователей. "
   ]
  },
  {
   "cell_type": "code",
   "execution_count": 21,
   "metadata": {
    "scrolled": false
   },
   "outputs": [
    {
     "data": {
      "image/png": "[encoded data removed]",
      "text/plain": [
       "<Figure size 720x360 with 1 Axes>"
      ]
     },
     "metadata": {
      "needs_background": "light"
     },
     "output_type": "display_data"
    }
   ],
   "source": [
    "plt.figure(figsize=(10,5))\n",
    "channel = group_by('channel').sort_values('payer', ascending=False)\n",
    "sns.barplot(x = channel['payer'], y = channel.index)\n",
    "plt.xlabel('Процент платящих пользователей')\n",
    "plt.show()"
   ]
  },
  {
   "cell_type": "markdown",
   "metadata": {},
   "source": [
    "Стоит обратить внимание, что для AdNonSense и lambdaMediaAds высокие доли платящих при этом количество пользователей из этих источников в несколько раз меньше TipTop. \n",
    "\n",
    "### Вывод\n",
    "\n",
    "Основной регион пользователей приходит из США. А самым популярным устройством яляется хоть и iPhone, платящих пользователей больше на Mac. Основные каналы привлечения является \"естественный\", FaceBoom и TipTop. При этом FaceBoom имеет самую высокую долю платящих. "
   ]
  },
  {
   "cell_type": "markdown",
   "metadata": {},
   "source": [
    "<div style=\"border:solid Green 2px; padding: 10px\"> \n",
    "<font style=\"color:Green; font-size:100%\";> ✔️ Комментарий ревьюера:</font> Верно\n",
    "    \n",
    "    \n",
    "</div>"
   ]
  },
  {
   "cell_type": "markdown",
   "metadata": {},
   "source": [
    "## Маркетинг\n",
    "\n",
    "Рассмотрим общие траты на маркетинг по источникам."
   ]
  },
  {
   "cell_type": "code",
   "execution_count": 22,
   "metadata": {
    "scrolled": true
   },
   "outputs": [
    {
     "data": {
      "text/plain": [
       "channel\n",
       "TipTop                54751.30\n",
       "FaceBoom              32445.60\n",
       "WahooNetBanner         5151.00\n",
       "AdNonSense             3911.25\n",
       "OppleCreativeMedia     2151.25\n",
       "RocketSuperAds         1833.00\n",
       "LeapBob                1797.60\n",
       "lambdaMediaAds         1557.60\n",
       "MediaTornado            954.48\n",
       "YRabbit                 944.22\n",
       "organic                   0.00\n",
       "Name: acquisition_cost, dtype: float64"
      ]
     },
     "execution_count": 22,
     "metadata": {},
     "output_type": "execute_result"
    }
   ],
   "source": [
    "profiles.groupby('channel')['acquisition_cost'].sum().sort_values(ascending=False)"
   ]
  },
  {
   "cell_type": "markdown",
   "metadata": {},
   "source": [
    "TipTop и FaceBoom затратили больше всего денег на маркетинг. Обратим внимание, что также у нас в данных есть профили которые пришли самостоятельно. Так как затраты на такой источник нет, то уберём его из профилей и посмотрим динамику изменений со  временем затрат на рекламу. "
   ]
  },
  {
   "cell_type": "code",
   "execution_count": null,
   "metadata": {
    "scrolled": false
   },
   "outputs": [],
   "source": [
    "profiles = profiles.query('channel != \"organic\"')\n",
    "(\n",
    "    profiles.pivot_table(index='dt', columns='channel', values='acquisition_cost', aggfunc='sum')\n",
    "    .plot(figsize=(15,7), grid=True)\n",
    ")\n",
    "plt.title('Динамика изменения затрат на рекламу')\n",
    "plt.xlabel('Время')\n",
    "plt.ylabel('Затраты')\n",
    "plt.show()"
   ]
  },
  {
   "cell_type": "markdown",
   "metadata": {},
   "source": [
    "Мы можем наблюдать, что с июня затраты FaceBoom в целом стали стабильнее, по сравнению с TipTop, где можжно наблюдать постепенный рост. Остальные каналы в целом ведут себя стабильно во времени. \n",
    "\n",
    "Рассмотрим стоимость привлечения клиента \"CAC\", рассчитав среднее для каждого канала. "
   ]
  },
  {
   "cell_type": "code",
   "execution_count": null,
   "metadata": {
    "scrolled": false
   },
   "outputs": [],
   "source": [
    "(\n",
    "    profiles.groupby('channel')\n",
    "    .agg({'acquisition_cost': 'mean'})\n",
    "    .round(3)\n",
    "    .rename(columns={'acquisition_cost': 'cac'})\n",
    "    .sort_values('cac',ascending=False)\n",
    ")"
   ]
  },
  {
   "cell_type": "markdown",
   "metadata": {},
   "source": [
    "И среднее для всего проекта."
   ]
  },
  {
   "cell_type": "code",
   "execution_count": null,
   "metadata": {},
   "outputs": [],
   "source": [
    "profiles['acquisition_cost'].mean().round(3)"
   ]
  },
  {
   "cell_type": "markdown",
   "metadata": {},
   "source": [
    "TipTop затрачивает больше всех на рекламу в несколько раз по сравнению с другими каналами. Из-за такого влияние, среднее по всем клиентам выше всех значение кроме упомянутого TipTop. \n",
    "\n",
    "Посмотрим на диманиму САС по каналам привлечения."
   ]
  },
  {
   "cell_type": "code",
   "execution_count": null,
   "metadata": {},
   "outputs": [],
   "source": [
    "profiles.pivot_table(\n",
    "    index='month', columns='channel', values='acquisition_cost', aggfunc='mean'\n",
    ").plot(figsize=(15,7))\n",
    "plt.ylabel('CAC')\n",
    "plt.xlabel('Дата привлечения')\n",
    "plt.title('Динамика САС по каналам привлечения')\n",
    "plt.show()"
   ]
  },
  {
   "cell_type": "markdown",
   "metadata": {},
   "source": [
    "Обратим внимание, что:\n",
    "* САС для TipTop со временем только растёт\n",
    "* RocketSuperAds со временем снижает затраты на рекламу \n",
    "* В целом все каналы стабильны во времени\n",
    "\n",
    "### Вывод \n",
    "\n",
    "Самым высокие затраты на рекламу приносит канал TipTop и FaceBoom. При этом платящих пользователей больше именно у FaceBoom, а TipTop не входит даже в топ - 3 . При этом TipTop со времнем только увеличивал расходы на маркетинг. Полученных данных пока что недостаточно, чтобы точно давать отчёт. Требуется провести оценку окупаемости рекламы для привлечения пользователей."
   ]
  },
  {
   "cell_type": "markdown",
   "metadata": {},
   "source": [
    "## Оцените окупаемость рекламы для привлечения пользователей\n",
    "\n",
    "С помощью LTV и ROI:\n",
    "- Проанализируем общую окупаемость рекламы;\n",
    "- Проанализируйем окупаемость рекламы с разбивкой по устройствам;\n",
    "- Проанализируйем окупаемость рекламы с разбивкой по странам;\n",
    "- Проанализируйем окупаемость рекламы с разбивкой по рекламным каналам.\n",
    "\n",
    "Для рассчётов и анализа отдельно пропишем функции расчёта LTV и ROI и отдельно функцию для визуализации данных."
   ]
  },
  {
   "cell_type": "code",
   "execution_count": null,
   "metadata": {},
   "outputs": [],
   "source": [
    "# функция для расчёта LTV и ROI\n",
    "\n",
    "def get_ltv(\n",
    "    profiles,\n",
    "    purchases,\n",
    "    observation_date,\n",
    "    horizon_days,\n",
    "    dimensions=[],\n",
    "    ignore_horizon=False,\n",
    "):\n",
    "\n",
    "    # исключаем пользователей, не «доживших» до горизонта анализа\n",
    "    last_suitable_acquisition_date = observation_date\n",
    "    if not ignore_horizon:\n",
    "        last_suitable_acquisition_date = observation_date - timedelta(\n",
    "            days=horizon_days - 1\n",
    "        )\n",
    "    result_raw = profiles.query('dt <= @last_suitable_acquisition_date')\n",
    "    # добавляем данные о покупках в профили\n",
    "    result_raw = result_raw.merge(\n",
    "        purchases[['user_id', 'event_dt', 'revenue']], on='user_id', how='left'\n",
    "    )\n",
    "    # рассчитываем лайфтайм пользователя для каждой покупки\n",
    "    result_raw['lifetime'] = (\n",
    "        result_raw['event_dt'] - result_raw['first_ts']\n",
    "    ).dt.days\n",
    "    # группируем по cohort, если в dimensions ничего нет\n",
    "    if len(dimensions) == 0:\n",
    "        result_raw['cohort'] = 'All users'\n",
    "        dimensions = dimensions + ['cohort']\n",
    "\n",
    "    # функция группировки по желаемым признакам\n",
    "    def group_by_dimensions(df, dims, horizon_days):\n",
    "        # строим «треугольную» таблицу выручки\n",
    "        result = df.pivot_table(\n",
    "            index=dims, columns='lifetime', values='revenue', aggfunc='sum'\n",
    "        )\n",
    "        # находим сумму выручки с накоплением\n",
    "        result = result.fillna(0).cumsum(axis=1)\n",
    "        # вычисляем размеры когорт\n",
    "        cohort_sizes = (\n",
    "            df.groupby(dims)\n",
    "            .agg({'user_id': 'nunique'})\n",
    "            .rename(columns={'user_id': 'cohort_size'})\n",
    "        )\n",
    "        # объединяем размеры когорт и таблицу выручки\n",
    "        result = cohort_sizes.merge(result, on=dims, how='left').fillna(0)\n",
    "        # считаем LTV: делим каждую «ячейку» в строке на размер когорты\n",
    "        result = result.div(result['cohort_size'], axis=0)\n",
    "        # исключаем все лайфтаймы, превышающие горизонт анализа\n",
    "        result = result[['cohort_size'] + list(range(horizon_days))]\n",
    "        # восстанавливаем размеры когорт\n",
    "        result['cohort_size'] = cohort_sizes\n",
    "\n",
    "        # собираем датафрейм с данными пользователей и значениями CAC, \n",
    "        # добавляя параметры из dimensions\n",
    "        cac = df[['user_id', 'acquisition_cost'] + dims].drop_duplicates()\n",
    "\n",
    "        # считаем средний CAC по параметрам из dimensions\n",
    "        cac = (\n",
    "            cac.groupby(dims)\n",
    "            .agg({'acquisition_cost': 'mean'})\n",
    "            .rename(columns={'acquisition_cost': 'cac'})\n",
    "        )\n",
    "\n",
    "        # считаем ROI: делим LTV на CAC\n",
    "        roi = result.div(cac['cac'], axis=0)\n",
    "\n",
    "        # удаляем строки с бесконечным ROI\n",
    "        roi = roi[~roi['cohort_size'].isin([np.inf])]\n",
    "\n",
    "        # восстанавливаем размеры когорт в таблице ROI\n",
    "        roi['cohort_size'] = cohort_sizes\n",
    "\n",
    "        # добавляем CAC в таблицу ROI\n",
    "        roi['cac'] = cac['cac']\n",
    "\n",
    "        # в финальной таблице оставляем размеры когорт, CAC\n",
    "        # и ROI в лайфтаймы, не превышающие горизонт анализа\n",
    "        roi = roi[['cohort_size', 'cac'] + list(range(horizon_days))]\n",
    "\n",
    "        # возвращаем таблицы LTV и ROI\n",
    "        return result, roi\n",
    "\n",
    "    # получаем таблицы LTV и ROI\n",
    "    result_grouped, roi_grouped = group_by_dimensions(\n",
    "        result_raw, dimensions, horizon_days\n",
    "    )\n",
    "\n",
    "    # для таблиц динамики убираем 'cohort' из dimensions\n",
    "    if 'cohort' in dimensions:\n",
    "        dimensions = []\n",
    "\n",
    "    # получаем таблицы динамики LTV и ROI\n",
    "    result_in_time, roi_in_time = group_by_dimensions(\n",
    "        result_raw, dimensions + ['dt'], horizon_days\n",
    "    )\n",
    "\n",
    "    return (\n",
    "        result_raw,  # сырые данные\n",
    "        result_grouped,  # таблица LTV\n",
    "        result_in_time,  # таблица динамики LTV\n",
    "        roi_grouped,  # таблица ROI\n",
    "        roi_in_time,  # таблица динамики ROI\n",
    "    )"
   ]
  },
  {
   "cell_type": "code",
   "execution_count": null,
   "metadata": {},
   "outputs": [],
   "source": [
    "def filter_data(df, window):\n",
    "    # для каждого столбца применяем скользящее среднее\n",
    "    for column in df.columns.values:\n",
    "        df[column] = df[column].rolling(window).mean() \n",
    "    return df "
   ]
  },
  {
   "cell_type": "code",
   "execution_count": null,
   "metadata": {},
   "outputs": [],
   "source": [
    "# функция для визуализации LTV и ROI\n",
    "\n",
    "def plot_ltv_roi(ltv, ltv_history, roi, roi_history, horizon, window=7):\n",
    "\n",
    "    # задаём сетку отрисовки графиков\n",
    "    plt.figure(figsize=(20, 10))\n",
    "\n",
    "    # из таблицы ltv исключаем размеры когорт\n",
    "    ltv = ltv.drop(columns=['cohort_size'])\n",
    "    # в таблице динамики ltv оставляем только нужный лайфтайм\n",
    "    ltv_history = ltv_history.drop(columns=['cohort_size'])[[horizon - 1]]\n",
    "\n",
    "    # стоимость привлечения запишем в отдельный фрейм\n",
    "    cac_history = roi_history[['cac']]\n",
    "\n",
    "    # из таблицы roi исключаем размеры когорт и cac\n",
    "    roi = roi.drop(columns=['cohort_size', 'cac'])\n",
    "    # в таблице динамики roi оставляем только нужный лайфтайм\n",
    "    roi_history = roi_history.drop(columns=['cohort_size', 'cac'])[\n",
    "        [horizon - 1]\n",
    "    ]\n",
    "\n",
    "    # первый график — кривые ltv\n",
    "    ax1 = plt.subplot(2, 3, 1)\n",
    "    ltv.T.plot(grid=True, ax=ax1)\n",
    "    plt.legend()\n",
    "    plt.xlabel('Лайфтайм')\n",
    "    plt.title('LTV')\n",
    "\n",
    "    # второй график — динамика ltv\n",
    "    ax2 = plt.subplot(2, 3, 2, sharey=ax1)\n",
    "    # столбцами сводной таблицы станут все столбцы индекса, кроме даты\n",
    "    columns = [name for name in ltv_history.index.names if name not in ['dt']]\n",
    "    filtered_data = ltv_history.pivot_table(\n",
    "        index='dt', columns=columns, values=horizon - 1, aggfunc='mean'\n",
    "    )\n",
    "    filter_data(filtered_data, window).plot(grid=True, ax=ax2)\n",
    "    plt.xlabel('Дата привлечения')\n",
    "    plt.title('Динамика LTV пользователей на {}-й день'.format(horizon))\n",
    "\n",
    "    # третий график — динамика cac\n",
    "    ax3 = plt.subplot(2, 3, 3, sharey=ax1)\n",
    "    # столбцами сводной таблицы станут все столбцы индекса, кроме даты\n",
    "    columns = [name for name in cac_history.index.names if name not in ['dt']]\n",
    "    filtered_data = cac_history.pivot_table(\n",
    "        index='dt', columns=columns, values='cac', aggfunc='mean'\n",
    "    )\n",
    "    filter_data(filtered_data, window).plot(grid=True, ax=ax3)\n",
    "    plt.xlabel('Дата привлечения')\n",
    "    plt.title('Динамика стоимости привлечения пользователей')\n",
    "\n",
    "    # четвёртый график — кривые roi\n",
    "    ax4 = plt.subplot(2, 3, 4)\n",
    "    roi.T.plot(grid=True, ax=ax4)\n",
    "    plt.axhline(y=1, color='red', linestyle='--', label='Уровень окупаемости')\n",
    "    plt.legend()\n",
    "    plt.xlabel('Лайфтайм')\n",
    "    plt.title('ROI')\n",
    "\n",
    "    # пятый график — динамика roi\n",
    "    ax5 = plt.subplot(2, 3, 5, sharey=ax4)\n",
    "    # столбцами сводной таблицы станут все столбцы индекса, кроме даты\n",
    "    columns = [name for name in roi_history.index.names if name not in ['dt']]\n",
    "    filtered_data = roi_history.pivot_table(\n",
    "        index='dt', columns=columns, values=horizon - 1, aggfunc='mean'\n",
    "    )\n",
    "    filter_data(filtered_data, window).plot(grid=True, ax=ax5)\n",
    "    plt.axhline(y=1, color='red', linestyle='--', label='Уровень окупаемости')\n",
    "    plt.xlabel('Дата привлечения')\n",
    "    plt.title('Динамика ROI пользователей на {}-й день'.format(horizon))\n",
    "\n",
    "    plt.tight_layout()\n",
    "    plt.show() "
   ]
  },
  {
   "cell_type": "markdown",
   "metadata": {},
   "source": [
    "За момент анализа, возьмём первое ноября 2019 года. А окупаемость, должна достигаться за две недели."
   ]
  },
  {
   "cell_type": "code",
   "execution_count": null,
   "metadata": {},
   "outputs": [],
   "source": [
    "observation_date = datetime(2019, 11, 1).date()  # момент анализа\n",
    "horizon_days = 14  # горизонт анализа "
   ]
  },
  {
   "cell_type": "markdown",
   "metadata": {},
   "source": [
    "Рассмотрим общую окупаемость рекламы."
   ]
  },
  {
   "cell_type": "code",
   "execution_count": null,
   "metadata": {
    "scrolled": false
   },
   "outputs": [],
   "source": [
    "ltv_raw, ltv_grouped, ltv_history, roi_grouped, roi_history = get_ltv(\n",
    "    profiles, orders, observation_date, horizon_days\n",
    ")\n",
    "\n",
    "# строим графики\n",
    "plot_ltv_roi(ltv_grouped, ltv_history, roi_grouped, roi_history, horizon_days) "
   ]
  },
  {
   "cell_type": "markdown",
   "metadata": {},
   "source": [
    "Что мы можем видеть на графике: \n",
    "* Реклама не окупается, значение ROI на вторую неделю достигает только 80%\n",
    "* Стоимость привлечения клиентов при этом только растёт \n",
    "* Значение LTV в целом стабильны\n",
    "\n",
    "Чтобы разобраться в причинах, рассмотрим окупаемость рекламы по каналам привлечения,устройствам и странам пользователей. \n",
    "\n",
    "Начнём со стран пользователей."
   ]
  },
  {
   "cell_type": "code",
   "execution_count": null,
   "metadata": {
    "scrolled": false
   },
   "outputs": [],
   "source": [
    "\n",
    "ltv_raw, ltv_grouped, ltv_history, roi_grouped, roi_history = get_ltv(\n",
    "    profiles, orders, observation_date, horizon_days, dimensions=['region']\n",
    ")\n",
    "\n",
    "plot_ltv_roi(\n",
    "    ltv_grouped, ltv_history, roi_grouped, roi_history, horizon_days, window=14\n",
    ") "
   ]
  },
  {
   "cell_type": "markdown",
   "metadata": {},
   "source": [
    "По графикам: \n",
    "* Окупаются все страны кроме США, также в динамике окупаемость США падает постепенно.\n",
    "* Стоимость привлечения для США с июня только растёт, в отличии от остальных стран, которые уменьшился и стабильно держался.\n",
    "\n",
    "\n",
    "Можно сделать вывод, что пользователи из США \"вносят\" основной вклад в общую не окупаемость проекта. Попробуем найти причина такой разницы, т.к основной поток пользователей приходит из США.\n",
    "\n",
    "Рассмотрим графики по устройствам. "
   ]
  },
  {
   "cell_type": "code",
   "execution_count": null,
   "metadata": {
    "scrolled": false
   },
   "outputs": [],
   "source": [
    "ltv_raw, ltv_grouped, ltv_history, roi_grouped, roi_history = get_ltv(\n",
    "    profiles, orders, observation_date, horizon_days, dimensions=['device']\n",
    ")\n",
    "\n",
    "plot_ltv_roi(\n",
    "    ltv_grouped, ltv_history, roi_grouped, roi_history, horizon_days, window=14\n",
    ") "
   ]
  },
  {
   "cell_type": "markdown",
   "metadata": {},
   "source": [
    "Из графикам можно увидеть: \n",
    "* Окупается со временем только пользователи с PC. Для пользователи продукции Apple окупаемость в районе 70%\n",
    "* Стоимость привлечение пользователей растёт постепенно, для продукции Apple рост выше. \n",
    "\n",
    "По устройствам заметно что продукция Apple не окупают рекламу. Стоит обратить внимание на схожесть САС для Apple с динамикой США.\n",
    "\n",
    "Рассмотрим окупаемость рекламы с разбивкой по каналам."
   ]
  },
  {
   "cell_type": "code",
   "execution_count": null,
   "metadata": {
    "scrolled": false
   },
   "outputs": [],
   "source": [
    "\n",
    "ltv_raw, ltv_grouped, ltv_history, roi_grouped, roi_history = get_ltv(\n",
    "    profiles, orders, observation_date, horizon_days, dimensions=['channel']\n",
    ")\n",
    "\n",
    "plot_ltv_roi(\n",
    "    ltv_grouped, ltv_history, roi_grouped, roi_history, horizon_days, window=14\n",
    ") "
   ]
  },
  {
   "cell_type": "markdown",
   "metadata": {},
   "source": [
    "По графикам: \n",
    "* Окупаеются больше половины каналов. ROI для YRabbit в динамике на летнее время имело самые высокие значения\n",
    "* Самое высокое значение LTV имеется для lambdaMediaAds\n",
    "* Привлечение пользователей для TipTop увеличивается со временем, остальные каналы практически стабильны во времени. \n",
    "\n",
    "Можно заметить схожесть графиков САС для канала TipTop c США. Видно, что такой перекос для США связан непосредственно с этим каналом. Можно попробовать про анализировать сред данных по США, исключив канал TipTop, чтобы рассмотреть возможное влияние и других каналов, а может устройств, для данной страны.\n",
    "\n",
    "Перед тем как приступить к такому анализу, рассмотрим ещё конверсию и удержание, также с разбивкой по стране/устройству/рекламному канала.\n",
    "\n",
    "Для этого мы напишем отдельно функции для расчёта и их визуализации."
   ]
  },
  {
   "cell_type": "code",
   "execution_count": null,
   "metadata": {},
   "outputs": [],
   "source": [
    "# функция для расчёта удержания\n",
    "\n",
    "def get_retention(\n",
    "    profiles,\n",
    "    sessions,\n",
    "    observation_date,\n",
    "    horizon_days,\n",
    "    dimensions=[],\n",
    "    ignore_horizon=False,\n",
    "):\n",
    "\n",
    "    # добавляем столбец payer в передаваемый dimensions список\n",
    "    dimensions = ['payer'] + dimensions\n",
    "\n",
    "    # исключаем пользователей, не «доживших» до горизонта анализа\n",
    "    last_suitable_acquisition_date = observation_date\n",
    "    if not ignore_horizon:\n",
    "        last_suitable_acquisition_date = observation_date - timedelta(\n",
    "            days=horizon_days - 1\n",
    "        )\n",
    "    result_raw = profiles.query('dt <= @last_suitable_acquisition_date')\n",
    "\n",
    "    # собираем «сырые» данные для расчёта удержания\n",
    "    result_raw = result_raw.merge(\n",
    "        sessions[['user_id', 'session_start']], on='user_id', how='left'\n",
    "    )\n",
    "    result_raw['lifetime'] = (\n",
    "        result_raw['session_start'] - result_raw['first_ts']\n",
    "    ).dt.days\n",
    "\n",
    "    # функция для группировки таблицы по желаемым признакам\n",
    "    def group_by_dimensions(df, dims, horizon_days):\n",
    "        result = df.pivot_table(\n",
    "            index=dims, columns='lifetime', values='user_id', aggfunc='nunique'\n",
    "        )\n",
    "        cohort_sizes = (\n",
    "            df.groupby(dims)\n",
    "            .agg({'user_id': 'nunique'})\n",
    "            .rename(columns={'user_id': 'cohort_size'})\n",
    "        )\n",
    "        result = cohort_sizes.merge(result, on=dims, how='left').fillna(0)\n",
    "        result = result.div(result['cohort_size'], axis=0)\n",
    "        result = result[['cohort_size'] + list(range(horizon_days))]\n",
    "        result['cohort_size'] = cohort_sizes\n",
    "        return result\n",
    "\n",
    "    # получаем таблицу удержания\n",
    "    result_grouped = group_by_dimensions(result_raw, dimensions, horizon_days)\n",
    "\n",
    "    # получаем таблицу динамики удержания\n",
    "    result_in_time = group_by_dimensions(\n",
    "        result_raw, dimensions + ['dt'], horizon_days\n",
    "    )\n",
    "\n",
    "    # возвращаем обе таблицы и сырые данные\n",
    "    return result_raw, result_grouped, result_in_time "
   ]
  },
  {
   "cell_type": "code",
   "execution_count": null,
   "metadata": {},
   "outputs": [],
   "source": [
    "# функция для визуализации удержания\n",
    "\n",
    "def plot_retention(retention, retention_history, horizon, window=7):\n",
    "\n",
    "    # задаём размер сетки для графиков\n",
    "    plt.figure(figsize=(15, 10))\n",
    "\n",
    "    # исключаем размеры когорт и удержание первого дня\n",
    "    retention = retention.drop(columns=['cohort_size', 0])\n",
    "    # в таблице динамики оставляем только нужный лайфтайм\n",
    "    retention_history = retention_history.drop(columns=['cohort_size'])[\n",
    "        [horizon - 1]\n",
    "    ]\n",
    "\n",
    "    # если в индексах таблицы удержания только payer,\n",
    "    # добавляем второй признак — cohort\n",
    "    if retention.index.nlevels == 1:\n",
    "        retention['cohort'] = 'All users'\n",
    "        retention = retention.reset_index().set_index(['cohort', 'payer'])\n",
    "\n",
    "    # в таблице графиков — два столбца и две строки, четыре ячейки\n",
    "    # в первой строим кривые удержания платящих пользователей\n",
    "    ax1 = plt.subplot(2, 2, 1)\n",
    "    retention.query('payer == True').droplevel('payer').T.plot(\n",
    "        grid=True, ax=ax1\n",
    "    )\n",
    "    plt.legend()\n",
    "    plt.xlabel('Лайфтайм')\n",
    "    plt.title('Удержание платящих пользователей')\n",
    "\n",
    "    # во второй ячейке строим кривые удержания неплатящих\n",
    "    # вертикальная ось — от графика из первой ячейки\n",
    "    ax2 = plt.subplot(2, 2, 2, sharey=ax1)\n",
    "    retention.query('payer == False').droplevel('payer').T.plot(\n",
    "        grid=True, ax=ax2\n",
    "    )\n",
    "    plt.legend()\n",
    "    plt.xlabel('Лайфтайм')\n",
    "    plt.title('Удержание неплатящих пользователей')\n",
    "\n",
    "    # в третьей ячейке — динамика удержания платящих\n",
    "    ax3 = plt.subplot(2, 2, 3)\n",
    "    # получаем названия столбцов для сводной таблицы\n",
    "    columns = [\n",
    "        name\n",
    "        for name in retention_history.index.names\n",
    "        if name not in ['dt', 'payer']\n",
    "    ]\n",
    "    # фильтруем данные и строим график\n",
    "    filtered_data = retention_history.query('payer == True').pivot_table(\n",
    "        index='dt', columns=columns, values=horizon - 1, aggfunc='mean'\n",
    "    )\n",
    "    filter_data(filtered_data, window).plot(grid=True, ax=ax3)\n",
    "    plt.xlabel('Дата привлечения')\n",
    "    plt.title(\n",
    "        'Динамика удержания платящих пользователей на {}-й день'.format(\n",
    "            horizon\n",
    "        )\n",
    "    )\n",
    "\n",
    "    # в чётвертой ячейке — динамика удержания неплатящих\n",
    "    ax4 = plt.subplot(2, 2, 4, sharey=ax3)\n",
    "    # фильтруем данные и строим график\n",
    "    filtered_data = retention_history.query('payer == False').pivot_table(\n",
    "        index='dt', columns=columns, values=horizon - 1, aggfunc='mean'\n",
    "    )\n",
    "    filter_data(filtered_data, window).plot(grid=True, ax=ax4)\n",
    "    plt.xlabel('Дата привлечения')\n",
    "    plt.title(\n",
    "        'Динамика удержания неплатящих пользователей на {}-й день'.format(\n",
    "            horizon\n",
    "        )\n",
    "    )\n",
    "    \n",
    "    plt.tight_layout()\n",
    "    plt.show() "
   ]
  },
  {
   "cell_type": "code",
   "execution_count": null,
   "metadata": {},
   "outputs": [],
   "source": [
    "def get_conversion(\n",
    "    profiles,\n",
    "    purchases,\n",
    "    observation_date,\n",
    "    horizon_days,\n",
    "    dimensions=[],\n",
    "    ignore_horizon=False,\n",
    "):\n",
    "\n",
    "    # исключаем пользователей, не «доживших» до горизонта анализа\n",
    "    last_suitable_acquisition_date = observation_date\n",
    "    if not ignore_horizon:\n",
    "        last_suitable_acquisition_date = observation_date - timedelta(\n",
    "            days=horizon_days - 1\n",
    "        )\n",
    "    result_raw = profiles.query('dt <= @last_suitable_acquisition_date')\n",
    "\n",
    "    # определяем дату и время первой покупки для каждого пользователя\n",
    "    first_purchases = (\n",
    "        purchases.sort_values(by=['user_id', 'event_dt'])\n",
    "        .groupby('user_id')\n",
    "        .agg({'event_dt': 'first'})\n",
    "        .reset_index()\n",
    "    )\n",
    "\n",
    "    # добавляем данные о покупках в профили\n",
    "    result_raw = result_raw.merge(\n",
    "        first_purchases[['user_id', 'event_dt']], on='user_id', how='left'\n",
    "    )\n",
    "\n",
    "    # рассчитываем лайфтайм для каждой покупки\n",
    "    result_raw['lifetime'] = (\n",
    "        result_raw['event_dt'] - result_raw['first_ts']\n",
    "    ).dt.days\n",
    "\n",
    "    # группируем по cohort, если в dimensions ничего нет\n",
    "    if len(dimensions) == 0:\n",
    "        result_raw['cohort'] = 'All users' \n",
    "        dimensions = dimensions + ['cohort']\n",
    "\n",
    "    # функция для группировки таблицы по желаемым признакам\n",
    "    def group_by_dimensions(df, dims, horizon_days):\n",
    "        result = df.pivot_table(\n",
    "            index=dims, columns='lifetime', values='user_id', aggfunc='nunique'\n",
    "        )\n",
    "        result = result.fillna(0).cumsum(axis = 1)\n",
    "        cohort_sizes = (\n",
    "            df.groupby(dims)\n",
    "            .agg({'user_id': 'nunique'})\n",
    "            .rename(columns={'user_id': 'cohort_size'})\n",
    "        )\n",
    "        result = cohort_sizes.merge(result, on=dims, how='left').fillna(0)\n",
    "        # делим каждую «ячейку» в строке на размер когорты\n",
    "        # и получаем conversion rate\n",
    "        result = result.div(result['cohort_size'], axis=0)\n",
    "        result = result[['cohort_size'] + list(range(horizon_days))]\n",
    "        result['cohort_size'] = cohort_sizes\n",
    "        return result\n",
    "\n",
    "    # получаем таблицу конверсии\n",
    "    result_grouped = group_by_dimensions(result_raw, dimensions, horizon_days)\n",
    "\n",
    "    # для таблицы динамики конверсии убираем 'cohort' из dimensions\n",
    "    if 'cohort' in dimensions: \n",
    "        dimensions = []\n",
    "\n",
    "    # получаем таблицу динамики конверсии\n",
    "    result_in_time = group_by_dimensions(\n",
    "        result_raw, dimensions + ['dt'], horizon_days\n",
    "    )\n",
    "\n",
    "    # возвращаем обе таблицы и сырые данные\n",
    "    return result_raw, result_grouped, result_in_time "
   ]
  },
  {
   "cell_type": "code",
   "execution_count": null,
   "metadata": {},
   "outputs": [],
   "source": [
    "def get_conversion(\n",
    "    profiles,\n",
    "    purchases,\n",
    "    observation_date,\n",
    "    horizon_days,\n",
    "    dimensions=[],\n",
    "    ignore_horizon=False,\n",
    "):\n",
    "\n",
    "    # исключаем пользователей, не «доживших» до горизонта анализа\n",
    "    last_suitable_acquisition_date = observation_date\n",
    "    if not ignore_horizon:\n",
    "        last_suitable_acquisition_date = observation_date - timedelta(\n",
    "            days=horizon_days - 1\n",
    "        )\n",
    "    result_raw = profiles.query('dt <= @last_suitable_acquisition_date')\n",
    "\n",
    "    # определяем дату и время первой покупки для каждого пользователя\n",
    "    first_purchases = (\n",
    "        purchases.sort_values(by=['user_id', 'event_dt'])\n",
    "        .groupby('user_id')\n",
    "        .agg({'event_dt': 'first'})\n",
    "        .reset_index()\n",
    "    )\n",
    "\n",
    "    # добавляем данные о покупках в профили\n",
    "    result_raw = result_raw.merge(\n",
    "        first_purchases[['user_id', 'event_dt']], on='user_id', how='left'\n",
    "    )\n",
    "\n",
    "    # рассчитываем лайфтайм для каждой покупки\n",
    "    result_raw['lifetime'] = (\n",
    "        result_raw['event_dt'] - result_raw['first_ts']\n",
    "    ).dt.days\n",
    "\n",
    "    # группируем по cohort, если в dimensions ничего нет\n",
    "    if len(dimensions) == 0:\n",
    "        result_raw['cohort'] = 'All users' \n",
    "        dimensions = dimensions + ['cohort']\n",
    "\n",
    "    # функция для группировки таблицы по желаемым признакам\n",
    "    def group_by_dimensions(df, dims, horizon_days):\n",
    "        result = df.pivot_table(\n",
    "            index=dims, columns='lifetime', values='user_id', aggfunc='nunique'\n",
    "        )\n",
    "        result = result.fillna(0).cumsum(axis = 1)\n",
    "        cohort_sizes = (\n",
    "            df.groupby(dims)\n",
    "            .agg({'user_id': 'nunique'})\n",
    "            .rename(columns={'user_id': 'cohort_size'})\n",
    "        )\n",
    "        result = cohort_sizes.merge(result, on=dims, how='left').fillna(0)\n",
    "        # делим каждую «ячейку» в строке на размер когорты\n",
    "        # и получаем conversion rate\n",
    "        result = result.div(result['cohort_size'], axis=0)\n",
    "        result = result[['cohort_size'] + list(range(horizon_days))]\n",
    "        result['cohort_size'] = cohort_sizes\n",
    "        return result\n",
    "\n",
    "    # получаем таблицу конверсии\n",
    "    result_grouped = group_by_dimensions(result_raw, dimensions, horizon_days)\n",
    "\n",
    "    # для таблицы динамики конверсии убираем 'cohort' из dimensions\n",
    "    if 'cohort' in dimensions: \n",
    "        dimensions = []\n",
    "\n",
    "    # получаем таблицу динамики конверсии\n",
    "    result_in_time = group_by_dimensions(\n",
    "        result_raw, dimensions + ['dt'], horizon_days\n",
    "    )\n",
    "\n",
    "    # возвращаем обе таблицы и сырые данные\n",
    "    return result_raw, result_grouped, result_in_time "
   ]
  },
  {
   "cell_type": "code",
   "execution_count": null,
   "metadata": {},
   "outputs": [],
   "source": [
    "# функция для визуализации конверсии\n",
    "\n",
    "def plot_conversion(conversion, conversion_history, horizon, window=7):\n",
    "\n",
    "    # задаём размер сетки для графиков\n",
    "    plt.figure(figsize=(15, 5))\n",
    "\n",
    "    # исключаем размеры когорт\n",
    "    conversion = conversion.drop(columns=['cohort_size'])\n",
    "    # в таблице динамики оставляем только нужный лайфтайм\n",
    "    conversion_history = conversion_history.drop(columns=['cohort_size'])[\n",
    "        [horizon - 1]\n",
    "    ]\n",
    "\n",
    "    # первый график — кривые конверсии\n",
    "    ax1 = plt.subplot(1, 2, 1)\n",
    "    conversion.T.plot(grid=True, ax=ax1)\n",
    "    plt.legend()\n",
    "    plt.xlabel('Лайфтайм')\n",
    "    plt.title('Конверсия пользователей')\n",
    "\n",
    "    # второй график — динамика конверсии\n",
    "    ax2 = plt.subplot(1, 2, 2, sharey=ax1)\n",
    "    columns = [\n",
    "        # столбцами сводной таблицы станут все столбцы индекса, кроме даты\n",
    "        name for name in conversion_history.index.names if name not in ['dt']\n",
    "    ]\n",
    "    filtered_data = conversion_history.pivot_table(\n",
    "        index='dt', columns=columns, values=horizon - 1, aggfunc='mean'\n",
    "    )\n",
    "    filter_data(filtered_data, window).plot(grid=True, ax=ax2)\n",
    "    plt.xlabel('Дата привлечения')\n",
    "    plt.title('Динамика конверсии пользователей на {}-й день'.format(horizon))\n",
    "\n",
    "    plt.tight_layout()\n",
    "    plt.show() "
   ]
  },
  {
   "cell_type": "markdown",
   "metadata": {},
   "source": [
    "Рассмотрим удержание и конверсию по устройствам."
   ]
  },
  {
   "cell_type": "code",
   "execution_count": null,
   "metadata": {
    "scrolled": false
   },
   "outputs": [],
   "source": [
    "retention_raw, retention_grouped, retention_history = get_retention(\n",
    "    profiles, visits, observation_date, horizon_days, dimensions=['device']\n",
    ")\n",
    "\n",
    "plot_retention(retention_grouped, retention_history, horizon_days) \n",
    "\n",
    "conversion_raw, conversion_grouped, conversion_history = get_conversion(\n",
    "    profiles, orders, observation_date, horizon_days, dimensions=['device']\n",
    ")\n",
    "\n",
    "plot_conversion(conversion_grouped, conversion_history, horizon_days) \n"
   ]
  },
  {
   "cell_type": "markdown",
   "metadata": {},
   "source": [
    "Из графиков мы видим:\n",
    "* Удержание в целом для всех устройсв одинаково\n",
    "* Конверсии схожи за исключением PC\n",
    "\n",
    "Стоит заметить, что окупается из всех устройтв только пользователи PС на вторую неделю.\n",
    "\n",
    "Рассмотрим теперь удержание и конверсию по рекламным каналам."
   ]
  },
  {
   "cell_type": "code",
   "execution_count": null,
   "metadata": {
    "scrolled": false
   },
   "outputs": [],
   "source": [
    "retention_raw, retention_grouped, retention_history = get_retention(\n",
    "    profiles, visits, observation_date, horizon_days, dimensions=['channel']\n",
    ")\n",
    "\n",
    "plot_retention(retention_grouped, retention_history, horizon_days) \n",
    "\n",
    "conversion_raw, conversion_grouped, conversion_history = get_conversion(\n",
    "    profiles, orders, observation_date, horizon_days, dimensions=['channel']\n",
    ")\n",
    "\n",
    "plot_conversion(conversion_grouped, conversion_history, horizon_days) \n"
   ]
  },
  {
   "cell_type": "markdown",
   "metadata": {},
   "source": [
    "* Удержание для каналов AdNonSense и Faceboom ниже остальных и разница достигает до 30%. При этом в динамике Faceboom везде практически стабилен.\n",
    "* Упомянутые выше каналы, имеют самую высокую конверсирую.\n",
    "\n",
    "Для Faceboom пользователи не окупаются, так как плохо удерживаются. При этом в FaceBoom они неплохо конверсируются. Учтём эти данные для общего вывода.\n",
    "\n",
    "Построим удержание и конверсию по странам."
   ]
  },
  {
   "cell_type": "code",
   "execution_count": null,
   "metadata": {
    "scrolled": false
   },
   "outputs": [],
   "source": [
    "retention_raw, retention_grouped, retention_history = get_retention(\n",
    "    profiles, visits, observation_date, horizon_days, dimensions=['region']\n",
    ")\n",
    "\n",
    "plot_retention(retention_grouped, retention_history, horizon_days) \n",
    "\n",
    "conversion_raw, conversion_grouped, conversion_history = get_conversion(\n",
    "    profiles, orders, observation_date, horizon_days, dimensions=['region']\n",
    ")\n",
    "\n",
    "plot_conversion(conversion_grouped, conversion_history, horizon_days) "
   ]
  },
  {
   "cell_type": "markdown",
   "metadata": {},
   "source": [
    "* Пользователи США отлично конвертируются, также на динамике не влияет сезоность.\n",
    "* Удержание в целом для США не сликом низкое в отличии от других стран, разница около 10%\n",
    "\n",
    "Пользователи из США отлично конверсируются, но также плохо удерживаются. Из-за этого возможно не окупаемость среди всех стран.\n",
    "\n",
    "Рассмотрим отдельно США с разбивкой по каналам и устройствам, т.к основное количество пользователей идёт именно оттуда. Как мы заметили CAC для США и канала TipTop схожи, поэтому расмотрим данный срез без этого канала."
   ]
  },
  {
   "cell_type": "code",
   "execution_count": null,
   "metadata": {
    "scrolled": false
   },
   "outputs": [],
   "source": [
    "us_profiles = profiles.query('region == \"United States\" and channel != \"TipTop\"')\n",
    "\n",
    "ltv_raw, ltv_grouped, ltv_history, roi_grouped, roi_history = get_ltv(\n",
    "    us_profiles, orders, observation_date, horizon_days, dimensions=['channel']\n",
    ")\n",
    "\n",
    "plot_ltv_roi(\n",
    "    ltv_grouped, ltv_history, roi_grouped, roi_history, horizon_days, window=14\n",
    ") "
   ]
  },
  {
   "cell_type": "markdown",
   "metadata": {},
   "source": [
    "По разбивке по рекламный каналам мы видим:\n",
    "* Что убыточным каналам является FaceBoom, привлечение по этому каналу выше остальных\n",
    "* Высокая динамика YRabbit на летнее время обоснованно, снижение стоимости привлечения\n",
    "* Динамика ROI для RocketSuperAd расчёт с падением САС на осений период\n",
    "\n",
    "Перед тем как сделать выводы по США, рассмотрим разбивку по устройствам."
   ]
  },
  {
   "cell_type": "code",
   "execution_count": null,
   "metadata": {
    "scrolled": false
   },
   "outputs": [],
   "source": [
    "ltv_raw, ltv_grouped, ltv_history, roi_grouped, roi_history = get_ltv(\n",
    "    us_profiles, orders, observation_date, horizon_days, dimensions=['device']\n",
    ")\n",
    "\n",
    "plot_ltv_roi(\n",
    "    ltv_grouped, ltv_history, roi_grouped, roi_history, horizon_days, window=14\n",
    ") "
   ]
  },
  {
   "cell_type": "markdown",
   "metadata": {},
   "source": [
    "Из графиком мы видим:\n",
    "* Устройства для США не окупаются\n",
    "* Стоимость привлечения поднялось с июня и имеет схожее значение с FaceBoom\n",
    "\n",
    "### Вывод \n",
    "Основное влияение на пользователей, оказывает база пользователей США. Мы увидели, что основные убыточные рекламные каналы, приходят оттуда. При этом выяснили, что никак не связанно с устройствами пользователей.\n",
    "\n",
    "\n",
    "## Общий вывод\n",
    "\n",
    "Основная причина неэффективности привлечения пользователей являются рекламные каналы, в основном из США. Главная проблема части из них высокая стоимость привлечения по сравнению с остальными.\n",
    "\n",
    "Устройства в целом ведут себя пр всем каналам примерно одинаково.\n",
    "\n",
    "Для отдела маркетинга стоить исключить каналы TicTop и FaceBoom. Для удержания основного потока пользователей из США, можно вложиться в каналы RocketSuperAd и YRabbit. По Европе можно выделить канал lambdaMediaAds. Данные каналы имеют неплохие значение удержания, конверсии и САС. \n"
   ]
  }
 ],
 "metadata": {
  "ExecuteTimeLog": [
   {
    "duration": 706,
    "start_time": "2022-02-10T12:28:49.783Z"
   },
   {
    "duration": 962,
    "start_time": "2022-02-10T12:29:34.988Z"
   },
   {
    "duration": 25,
    "start_time": "2022-02-10T12:29:45.445Z"
   },
   {
    "duration": 399,
    "start_time": "2022-02-10T12:31:06.802Z"
   },
   {
    "duration": 776,
    "start_time": "2022-02-10T12:31:24.580Z"
   },
   {
    "duration": 12,
    "start_time": "2022-02-10T12:31:27.391Z"
   },
   {
    "duration": 12,
    "start_time": "2022-02-10T12:31:39.898Z"
   },
   {
    "duration": 315,
    "start_time": "2022-02-10T12:35:54.062Z"
   },
   {
    "duration": 7,
    "start_time": "2022-02-10T12:35:58.790Z"
   },
   {
    "duration": 81,
    "start_time": "2022-02-10T12:36:14.456Z"
   },
   {
    "duration": 81,
    "start_time": "2022-02-10T12:37:59.685Z"
   },
   {
    "duration": 13,
    "start_time": "2022-02-10T13:04:48.810Z"
   },
   {
    "duration": 9,
    "start_time": "2022-02-10T13:05:58.594Z"
   },
   {
    "duration": 336,
    "start_time": "2022-02-10T15:55:28.022Z"
   },
   {
    "duration": 897,
    "start_time": "2022-02-10T15:55:33.501Z"
   },
   {
    "duration": 837,
    "start_time": "2022-02-10T15:55:34.402Z"
   },
   {
    "duration": 35,
    "start_time": "2022-02-10T15:55:35.243Z"
   },
   {
    "duration": 157,
    "start_time": "2022-02-10T15:55:35.281Z"
   },
   {
    "duration": 15,
    "start_time": "2022-02-10T15:55:35.441Z"
   },
   {
    "duration": 16,
    "start_time": "2022-02-10T15:55:35.459Z"
   },
   {
    "duration": 16,
    "start_time": "2022-02-10T15:55:35.478Z"
   },
   {
    "duration": 43,
    "start_time": "2022-02-10T15:55:35.498Z"
   },
   {
    "duration": 327,
    "start_time": "2022-02-10T15:55:38.980Z"
   },
   {
    "duration": 415,
    "start_time": "2022-02-10T15:55:44.053Z"
   },
   {
    "duration": 392,
    "start_time": "2022-02-10T15:56:32.228Z"
   },
   {
    "duration": 466,
    "start_time": "2022-02-10T15:56:39.618Z"
   },
   {
    "duration": 283,
    "start_time": "2022-02-10T15:57:16.733Z"
   },
   {
    "duration": 321,
    "start_time": "2022-02-10T15:57:24.262Z"
   },
   {
    "duration": 321,
    "start_time": "2022-02-10T15:57:28.112Z"
   },
   {
    "duration": 8,
    "start_time": "2022-02-10T15:57:40.550Z"
   },
   {
    "duration": 18,
    "start_time": "2022-02-10T15:57:50.944Z"
   },
   {
    "duration": 318,
    "start_time": "2022-02-10T16:03:08.879Z"
   },
   {
    "duration": 486,
    "start_time": "2022-02-10T16:03:14.543Z"
   },
   {
    "duration": 349,
    "start_time": "2022-02-10T16:03:30.320Z"
   },
   {
    "duration": 336,
    "start_time": "2022-02-10T16:04:02.685Z"
   },
   {
    "duration": 5,
    "start_time": "2022-02-10T16:04:07.479Z"
   },
   {
    "duration": 85,
    "start_time": "2022-02-10T16:04:14.365Z"
   },
   {
    "duration": 4,
    "start_time": "2022-02-10T16:04:17.653Z"
   },
   {
    "duration": 269,
    "start_time": "2022-02-10T16:04:25.789Z"
   },
   {
    "duration": 301,
    "start_time": "2022-02-10T16:37:38.389Z"
   },
   {
    "duration": 317,
    "start_time": "2022-02-10T16:37:43.750Z"
   },
   {
    "duration": 5,
    "start_time": "2022-02-10T16:37:52.227Z"
   },
   {
    "duration": 308,
    "start_time": "2022-02-10T16:38:00.746Z"
   },
   {
    "duration": 276,
    "start_time": "2022-02-10T16:38:04.870Z"
   },
   {
    "duration": 275,
    "start_time": "2022-02-10T16:38:09.577Z"
   },
   {
    "duration": 315,
    "start_time": "2022-02-10T16:38:29.282Z"
   },
   {
    "duration": 313,
    "start_time": "2022-02-10T16:38:34.968Z"
   },
   {
    "duration": 279,
    "start_time": "2022-02-10T16:38:49.856Z"
   },
   {
    "duration": 749,
    "start_time": "2022-02-10T16:39:16.992Z"
   },
   {
    "duration": 932,
    "start_time": "2022-02-10T16:39:17.745Z"
   },
   {
    "duration": 23,
    "start_time": "2022-02-10T16:39:18.680Z"
   },
   {
    "duration": 94,
    "start_time": "2022-02-10T16:39:18.706Z"
   },
   {
    "duration": 385,
    "start_time": "2022-02-10T16:39:18.802Z"
   },
   {
    "duration": -1517,
    "start_time": "2022-02-10T16:39:20.707Z"
   },
   {
    "duration": -1530,
    "start_time": "2022-02-10T16:39:20.722Z"
   },
   {
    "duration": -1532,
    "start_time": "2022-02-10T16:39:20.726Z"
   },
   {
    "duration": -1533,
    "start_time": "2022-02-10T16:39:20.729Z"
   },
   {
    "duration": -1533,
    "start_time": "2022-02-10T16:39:20.731Z"
   },
   {
    "duration": -1533,
    "start_time": "2022-02-10T16:39:20.733Z"
   },
   {
    "duration": -1533,
    "start_time": "2022-02-10T16:39:20.735Z"
   },
   {
    "duration": -1533,
    "start_time": "2022-02-10T16:39:20.737Z"
   },
   {
    "duration": 6,
    "start_time": "2022-02-10T16:39:23.660Z"
   },
   {
    "duration": 341,
    "start_time": "2022-02-10T16:39:31.456Z"
   },
   {
    "duration": 301,
    "start_time": "2022-02-10T16:39:34.377Z"
   },
   {
    "duration": 5,
    "start_time": "2022-02-10T16:39:41.481Z"
   },
   {
    "duration": 1205,
    "start_time": "2022-02-10T16:39:53.697Z"
   },
   {
    "duration": 5,
    "start_time": "2022-02-10T16:40:03.966Z"
   },
   {
    "duration": 102,
    "start_time": "2022-02-10T16:40:15.927Z"
   },
   {
    "duration": 305,
    "start_time": "2022-02-10T16:40:19.055Z"
   },
   {
    "duration": 6,
    "start_time": "2022-02-10T16:40:24.045Z"
   },
   {
    "duration": 292,
    "start_time": "2022-02-10T16:40:32.271Z"
   },
   {
    "duration": 278,
    "start_time": "2022-02-10T16:40:36.289Z"
   },
   {
    "duration": 10,
    "start_time": "2022-02-10T16:40:42.146Z"
   },
   {
    "duration": 9,
    "start_time": "2022-02-10T16:40:52.034Z"
   },
   {
    "duration": 19,
    "start_time": "2022-02-10T16:40:55.123Z"
   },
   {
    "duration": 4,
    "start_time": "2022-02-10T16:41:05.571Z"
   },
   {
    "duration": 15,
    "start_time": "2022-02-10T16:41:08.020Z"
   },
   {
    "duration": 299,
    "start_time": "2022-02-10T16:42:33.214Z"
   },
   {
    "duration": 360,
    "start_time": "2022-02-10T16:42:47.247Z"
   },
   {
    "duration": 14,
    "start_time": "2022-02-10T16:42:49.766Z"
   },
   {
    "duration": 17,
    "start_time": "2022-02-10T16:42:53.153Z"
   },
   {
    "duration": 760,
    "start_time": "2022-02-10T16:43:13.095Z"
   },
   {
    "duration": 813,
    "start_time": "2022-02-10T16:43:13.858Z"
   },
   {
    "duration": 23,
    "start_time": "2022-02-10T16:43:14.674Z"
   },
   {
    "duration": 87,
    "start_time": "2022-02-10T16:43:14.699Z"
   },
   {
    "duration": 336,
    "start_time": "2022-02-10T16:43:14.788Z"
   },
   {
    "duration": 20,
    "start_time": "2022-02-10T16:43:15.126Z"
   },
   {
    "duration": 12,
    "start_time": "2022-02-10T16:43:15.150Z"
   },
   {
    "duration": 12,
    "start_time": "2022-02-10T16:43:15.166Z"
   },
   {
    "duration": 57,
    "start_time": "2022-02-10T16:43:15.181Z"
   },
   {
    "duration": 20,
    "start_time": "2022-02-10T16:43:15.242Z"
   },
   {
    "duration": 340,
    "start_time": "2022-02-10T16:43:15.264Z"
   },
   {
    "duration": 35,
    "start_time": "2022-02-10T16:43:15.606Z"
   },
   {
    "duration": 7,
    "start_time": "2022-02-10T16:43:15.644Z"
   },
   {
    "duration": 5,
    "start_time": "2022-02-10T16:43:25.118Z"
   },
   {
    "duration": 383,
    "start_time": "2022-02-10T16:43:44.196Z"
   },
   {
    "duration": 302,
    "start_time": "2022-02-10T16:44:26.847Z"
   },
   {
    "duration": 318,
    "start_time": "2022-02-10T16:44:30.585Z"
   },
   {
    "duration": 306,
    "start_time": "2022-02-10T16:45:09.028Z"
   },
   {
    "duration": 280,
    "start_time": "2022-02-10T16:45:35.628Z"
   },
   {
    "duration": 297,
    "start_time": "2022-02-10T16:45:40.259Z"
   },
   {
    "duration": 305,
    "start_time": "2022-02-10T16:48:16.500Z"
   },
   {
    "duration": 268,
    "start_time": "2022-02-10T16:49:15.814Z"
   },
   {
    "duration": 271,
    "start_time": "2022-02-10T16:49:31.670Z"
   },
   {
    "duration": 280,
    "start_time": "2022-02-10T16:49:40.895Z"
   },
   {
    "duration": 720,
    "start_time": "2022-02-10T16:49:49.850Z"
   },
   {
    "duration": 762,
    "start_time": "2022-02-10T16:49:50.573Z"
   },
   {
    "duration": 25,
    "start_time": "2022-02-10T16:49:51.339Z"
   },
   {
    "duration": 100,
    "start_time": "2022-02-10T16:49:51.368Z"
   },
   {
    "duration": 4,
    "start_time": "2022-02-10T16:49:51.471Z"
   },
   {
    "duration": 8,
    "start_time": "2022-02-10T16:49:51.479Z"
   },
   {
    "duration": 45,
    "start_time": "2022-02-10T16:49:51.489Z"
   },
   {
    "duration": 11,
    "start_time": "2022-02-10T16:49:51.537Z"
   },
   {
    "duration": 15,
    "start_time": "2022-02-10T16:49:51.553Z"
   },
   {
    "duration": 14,
    "start_time": "2022-02-10T16:49:51.571Z"
   },
   {
    "duration": 523,
    "start_time": "2022-02-10T16:49:51.588Z"
   },
   {
    "duration": 37,
    "start_time": "2022-02-10T16:49:52.114Z"
   },
   {
    "duration": 9,
    "start_time": "2022-02-10T16:49:52.154Z"
   },
   {
    "duration": 113,
    "start_time": "2022-02-10T16:50:01.448Z"
   },
   {
    "duration": 14,
    "start_time": "2022-02-10T16:50:23.966Z"
   },
   {
    "duration": 77,
    "start_time": "2022-02-10T16:50:31.789Z"
   },
   {
    "duration": 14,
    "start_time": "2022-02-10T16:50:34.016Z"
   },
   {
    "duration": 62,
    "start_time": "2022-02-10T16:51:35.151Z"
   },
   {
    "duration": 6,
    "start_time": "2022-02-10T16:51:37.721Z"
   },
   {
    "duration": 8,
    "start_time": "2022-02-10T16:52:24.471Z"
   },
   {
    "duration": 4,
    "start_time": "2022-02-10T16:52:55.927Z"
   },
   {
    "duration": 330,
    "start_time": "2022-02-10T16:53:01.845Z"
   },
   {
    "duration": 19,
    "start_time": "2022-02-10T16:53:02.925Z"
   },
   {
    "duration": 7,
    "start_time": "2022-02-10T16:53:03.652Z"
   },
   {
    "duration": 371,
    "start_time": "2022-02-10T16:54:18.129Z"
   },
   {
    "duration": 335,
    "start_time": "2022-02-10T16:54:24.426Z"
   },
   {
    "duration": 322,
    "start_time": "2022-02-10T16:54:28.983Z"
   },
   {
    "duration": 470,
    "start_time": "2022-02-10T16:55:45.142Z"
   },
   {
    "duration": 749,
    "start_time": "2022-02-10T16:56:08.188Z"
   },
   {
    "duration": 9,
    "start_time": "2022-02-10T17:53:12.515Z"
   },
   {
    "duration": 578,
    "start_time": "2022-02-10T17:53:31.933Z"
   },
   {
    "duration": 6601,
    "start_time": "2022-02-10T17:54:32.427Z"
   },
   {
    "duration": 1025,
    "start_time": "2022-02-10T17:55:51.216Z"
   },
   {
    "duration": 1072,
    "start_time": "2022-02-10T17:55:52.244Z"
   },
   {
    "duration": 25,
    "start_time": "2022-02-10T17:55:53.319Z"
   },
   {
    "duration": 98,
    "start_time": "2022-02-10T17:55:53.347Z"
   },
   {
    "duration": 105,
    "start_time": "2022-02-10T17:55:53.447Z"
   },
   {
    "duration": 12,
    "start_time": "2022-02-10T17:55:53.555Z"
   },
   {
    "duration": 11,
    "start_time": "2022-02-10T17:55:53.569Z"
   },
   {
    "duration": 7,
    "start_time": "2022-02-10T17:55:53.585Z"
   },
   {
    "duration": 45,
    "start_time": "2022-02-10T17:55:53.595Z"
   },
   {
    "duration": 10,
    "start_time": "2022-02-10T17:55:53.642Z"
   },
   {
    "duration": 7,
    "start_time": "2022-02-10T17:55:53.654Z"
   },
   {
    "duration": 498,
    "start_time": "2022-02-10T17:55:53.663Z"
   },
   {
    "duration": 11,
    "start_time": "2022-02-10T17:55:54.163Z"
   },
   {
    "duration": 18,
    "start_time": "2022-02-10T17:55:54.177Z"
   },
   {
    "duration": 33,
    "start_time": "2022-02-10T17:55:54.210Z"
   },
   {
    "duration": 12,
    "start_time": "2022-02-10T17:55:54.246Z"
   },
   {
    "duration": 7266,
    "start_time": "2022-02-10T17:55:54.261Z"
   },
   {
    "duration": -1562,
    "start_time": "2022-02-10T17:56:03.092Z"
   },
   {
    "duration": 17,
    "start_time": "2022-02-10T17:56:25.284Z"
   },
   {
    "duration": 16,
    "start_time": "2022-02-10T17:56:41.999Z"
   },
   {
    "duration": 26,
    "start_time": "2022-02-10T17:56:56.698Z"
   },
   {
    "duration": 854,
    "start_time": "2022-02-10T17:56:59.584Z"
   },
   {
    "duration": 829,
    "start_time": "2022-02-10T17:57:20.818Z"
   },
   {
    "duration": 799,
    "start_time": "2022-02-12T15:22:43.676Z"
   },
   {
    "duration": 731,
    "start_time": "2022-02-12T15:22:44.478Z"
   },
   {
    "duration": 18,
    "start_time": "2022-02-12T15:22:45.212Z"
   },
   {
    "duration": 80,
    "start_time": "2022-02-12T15:22:45.232Z"
   },
   {
    "duration": 57,
    "start_time": "2022-02-12T15:22:45.315Z"
   },
   {
    "duration": 10,
    "start_time": "2022-02-12T15:22:45.374Z"
   },
   {
    "duration": 13,
    "start_time": "2022-02-12T15:22:45.407Z"
   },
   {
    "duration": 26,
    "start_time": "2022-02-12T15:22:45.424Z"
   },
   {
    "duration": 21,
    "start_time": "2022-02-12T15:22:45.453Z"
   },
   {
    "duration": 14,
    "start_time": "2022-02-12T15:22:45.476Z"
   },
   {
    "duration": 8,
    "start_time": "2022-02-12T15:22:45.492Z"
   },
   {
    "duration": 254,
    "start_time": "2022-02-12T15:22:45.503Z"
   },
   {
    "duration": 8,
    "start_time": "2022-02-12T15:22:45.758Z"
   },
   {
    "duration": 14,
    "start_time": "2022-02-12T15:22:45.767Z"
   },
   {
    "duration": 26,
    "start_time": "2022-02-12T15:22:45.783Z"
   },
   {
    "duration": 7,
    "start_time": "2022-02-12T15:22:45.811Z"
   },
   {
    "duration": 118,
    "start_time": "2022-02-12T15:22:45.819Z"
   },
   {
    "duration": 614,
    "start_time": "2022-02-12T15:22:45.940Z"
   },
   {
    "duration": 348,
    "start_time": "2022-02-12T15:24:01.885Z"
   },
   {
    "duration": 17,
    "start_time": "2022-02-12T15:24:08.203Z"
   },
   {
    "duration": 17,
    "start_time": "2022-02-12T15:24:16.800Z"
   },
   {
    "duration": 16,
    "start_time": "2022-02-12T15:24:36.240Z"
   },
   {
    "duration": 15,
    "start_time": "2022-02-12T15:24:59.008Z"
   },
   {
    "duration": 30,
    "start_time": "2022-02-12T15:25:33.663Z"
   },
   {
    "duration": 39,
    "start_time": "2022-02-12T15:25:46.146Z"
   },
   {
    "duration": 21,
    "start_time": "2022-02-12T15:26:27.719Z"
   },
   {
    "duration": 17,
    "start_time": "2022-02-12T15:26:52.421Z"
   },
   {
    "duration": 39,
    "start_time": "2022-02-12T15:27:13.992Z"
   },
   {
    "duration": 18,
    "start_time": "2022-02-12T15:27:22.913Z"
   },
   {
    "duration": 240,
    "start_time": "2022-02-12T15:34:01.790Z"
   },
   {
    "duration": 21,
    "start_time": "2022-02-12T15:34:15.393Z"
   },
   {
    "duration": 41,
    "start_time": "2022-02-12T15:34:30.583Z"
   },
   {
    "duration": 16,
    "start_time": "2022-02-12T15:49:36.297Z"
   },
   {
    "duration": 16,
    "start_time": "2022-02-12T15:49:48.573Z"
   },
   {
    "duration": 18,
    "start_time": "2022-02-12T15:49:52.168Z"
   },
   {
    "duration": 14,
    "start_time": "2022-02-12T15:50:13.163Z"
   },
   {
    "duration": 17,
    "start_time": "2022-02-12T15:50:20.004Z"
   },
   {
    "duration": 15,
    "start_time": "2022-02-12T15:51:01.870Z"
   },
   {
    "duration": 17,
    "start_time": "2022-02-12T15:51:06.120Z"
   },
   {
    "duration": 244,
    "start_time": "2022-02-12T15:56:17.942Z"
   },
   {
    "duration": 3,
    "start_time": "2022-02-12T15:58:25.182Z"
   },
   {
    "duration": 175,
    "start_time": "2022-02-12T15:58:40.971Z"
   },
   {
    "duration": 252,
    "start_time": "2022-02-12T15:59:53.427Z"
   },
   {
    "duration": 200,
    "start_time": "2022-02-12T16:00:05.623Z"
   },
   {
    "duration": 26,
    "start_time": "2022-02-12T16:03:18.445Z"
   },
   {
    "duration": 26,
    "start_time": "2022-02-12T16:03:31.315Z"
   },
   {
    "duration": 25,
    "start_time": "2022-02-12T16:03:42.566Z"
   },
   {
    "duration": 27,
    "start_time": "2022-02-12T16:03:46.011Z"
   },
   {
    "duration": 24,
    "start_time": "2022-02-12T16:03:49.637Z"
   },
   {
    "duration": 452,
    "start_time": "2022-02-12T16:05:06.174Z"
   },
   {
    "duration": 197,
    "start_time": "2022-02-12T16:05:15.054Z"
   },
   {
    "duration": 399,
    "start_time": "2022-02-12T16:05:29.564Z"
   },
   {
    "duration": 202,
    "start_time": "2022-02-12T16:05:33.370Z"
   },
   {
    "duration": 231,
    "start_time": "2022-02-12T16:05:49.216Z"
   },
   {
    "duration": 612,
    "start_time": "2022-02-12T16:06:24.610Z"
   },
   {
    "duration": 72,
    "start_time": "2022-02-12T16:06:57.727Z"
   },
   {
    "duration": 409,
    "start_time": "2022-02-12T16:07:07.917Z"
   },
   {
    "duration": 361,
    "start_time": "2022-02-12T16:07:13.599Z"
   },
   {
    "duration": 381,
    "start_time": "2022-02-12T16:07:17.894Z"
   },
   {
    "duration": 191,
    "start_time": "2022-02-12T16:07:29.401Z"
   },
   {
    "duration": 25,
    "start_time": "2022-02-12T16:07:34.083Z"
   },
   {
    "duration": 185,
    "start_time": "2022-02-12T16:11:54.246Z"
   },
   {
    "duration": 339,
    "start_time": "2022-02-12T16:12:01.205Z"
   },
   {
    "duration": 219,
    "start_time": "2022-02-12T16:12:08.256Z"
   },
   {
    "duration": 183,
    "start_time": "2022-02-12T16:12:14.039Z"
   },
   {
    "duration": 181,
    "start_time": "2022-02-12T16:18:41.910Z"
   },
   {
    "duration": 30,
    "start_time": "2022-02-12T16:19:02.673Z"
   },
   {
    "duration": 28,
    "start_time": "2022-02-12T16:19:13.281Z"
   },
   {
    "duration": 24,
    "start_time": "2022-02-12T16:19:57.788Z"
   },
   {
    "duration": 30,
    "start_time": "2022-02-12T16:20:09.098Z"
   },
   {
    "duration": -721,
    "start_time": "2022-02-12T16:20:23.508Z"
   },
   {
    "duration": 5476,
    "start_time": "2022-02-12T16:20:24.309Z"
   },
   {
    "duration": 28,
    "start_time": "2022-02-12T16:20:40.329Z"
   },
   {
    "duration": 25,
    "start_time": "2022-02-12T16:20:48.835Z"
   },
   {
    "duration": 24,
    "start_time": "2022-02-12T16:20:51.695Z"
   },
   {
    "duration": 30,
    "start_time": "2022-02-12T16:20:57.730Z"
   },
   {
    "duration": 27,
    "start_time": "2022-02-12T16:21:43.128Z"
   },
   {
    "duration": 227,
    "start_time": "2022-02-12T16:21:55.515Z"
   },
   {
    "duration": 288,
    "start_time": "2022-02-12T16:22:01.776Z"
   },
   {
    "duration": 238,
    "start_time": "2022-02-12T16:22:05.529Z"
   },
   {
    "duration": 221,
    "start_time": "2022-02-12T16:22:10.096Z"
   },
   {
    "duration": 282,
    "start_time": "2022-02-12T16:22:45.514Z"
   },
   {
    "duration": 211,
    "start_time": "2022-02-12T16:22:50.261Z"
   },
   {
    "duration": 218,
    "start_time": "2022-02-12T16:22:54.563Z"
   },
   {
    "duration": 227,
    "start_time": "2022-02-12T16:23:01.091Z"
   },
   {
    "duration": 226,
    "start_time": "2022-02-12T16:23:09.971Z"
   },
   {
    "duration": 224,
    "start_time": "2022-02-12T16:23:27.859Z"
   },
   {
    "duration": 218,
    "start_time": "2022-02-12T16:23:34.108Z"
   },
   {
    "duration": 31,
    "start_time": "2022-02-12T16:23:45.912Z"
   },
   {
    "duration": 249,
    "start_time": "2022-02-12T16:23:53.235Z"
   },
   {
    "duration": 198,
    "start_time": "2022-02-12T16:45:15.751Z"
   },
   {
    "duration": 8,
    "start_time": "2022-02-12T16:45:36.609Z"
   },
   {
    "duration": 394,
    "start_time": "2022-02-12T16:46:56.891Z"
   },
   {
    "duration": 498,
    "start_time": "2022-02-12T16:47:20.593Z"
   },
   {
    "duration": 278,
    "start_time": "2022-02-12T16:47:38.785Z"
   },
   {
    "duration": 198,
    "start_time": "2022-02-12T16:47:43.385Z"
   },
   {
    "duration": 434,
    "start_time": "2022-02-12T16:48:13.909Z"
   },
   {
    "duration": 454,
    "start_time": "2022-02-12T16:48:58.155Z"
   },
   {
    "duration": 437,
    "start_time": "2022-02-12T16:49:04.404Z"
   },
   {
    "duration": 544,
    "start_time": "2022-02-12T16:49:14.487Z"
   },
   {
    "duration": 449,
    "start_time": "2022-02-12T16:49:20.191Z"
   },
   {
    "duration": 196,
    "start_time": "2022-02-12T16:50:01.052Z"
   },
   {
    "duration": 237,
    "start_time": "2022-02-12T16:50:17.670Z"
   },
   {
    "duration": 220,
    "start_time": "2022-02-12T16:50:29.162Z"
   },
   {
    "duration": 252,
    "start_time": "2022-02-12T16:50:34.952Z"
   },
   {
    "duration": 266,
    "start_time": "2022-02-12T16:50:56.321Z"
   },
   {
    "duration": 667,
    "start_time": "2022-02-12T16:51:17.732Z"
   },
   {
    "duration": 217,
    "start_time": "2022-02-12T16:51:47.489Z"
   },
   {
    "duration": 242,
    "start_time": "2022-02-12T16:53:36.399Z"
   },
   {
    "duration": 456,
    "start_time": "2022-02-12T16:53:49.690Z"
   },
   {
    "duration": 288,
    "start_time": "2022-02-12T16:53:55.790Z"
   },
   {
    "duration": 267,
    "start_time": "2022-02-12T16:54:19.086Z"
   },
   {
    "duration": 315,
    "start_time": "2022-02-12T16:54:31.951Z"
   },
   {
    "duration": 501,
    "start_time": "2022-02-12T16:57:09.699Z"
   },
   {
    "duration": 618,
    "start_time": "2022-02-12T16:57:12.453Z"
   },
   {
    "duration": 238,
    "start_time": "2022-02-12T16:57:55.572Z"
   },
   {
    "duration": 233,
    "start_time": "2022-02-12T16:58:04.845Z"
   },
   {
    "duration": 236,
    "start_time": "2022-02-12T16:58:17.668Z"
   },
   {
    "duration": 310,
    "start_time": "2022-02-12T16:58:31.143Z"
   },
   {
    "duration": 228,
    "start_time": "2022-02-12T16:59:00.552Z"
   },
   {
    "duration": 216,
    "start_time": "2022-02-12T16:59:13.811Z"
   },
   {
    "duration": 222,
    "start_time": "2022-02-12T16:59:21.620Z"
   },
   {
    "duration": 67,
    "start_time": "2022-02-12T16:59:38.007Z"
   },
   {
    "duration": 241,
    "start_time": "2022-02-12T16:59:41.179Z"
   },
   {
    "duration": 231,
    "start_time": "2022-02-12T16:59:59.781Z"
   },
   {
    "duration": 247,
    "start_time": "2022-02-12T17:00:10.494Z"
   },
   {
    "duration": 455,
    "start_time": "2022-02-12T17:03:19.989Z"
   },
   {
    "duration": 235,
    "start_time": "2022-02-12T17:03:30.525Z"
   },
   {
    "duration": 441,
    "start_time": "2022-02-12T17:03:33.015Z"
   },
   {
    "duration": 228,
    "start_time": "2022-02-12T17:03:42.799Z"
   },
   {
    "duration": 548,
    "start_time": "2022-02-12T17:03:49.388Z"
   },
   {
    "duration": 234,
    "start_time": "2022-02-12T17:03:55.448Z"
   },
   {
    "duration": 221,
    "start_time": "2022-02-12T17:04:08.738Z"
   },
   {
    "duration": 324,
    "start_time": "2022-02-12T17:04:19.694Z"
   },
   {
    "duration": 335,
    "start_time": "2022-02-12T17:04:55.819Z"
   },
   {
    "duration": 517,
    "start_time": "2022-02-12T17:04:58.699Z"
   },
   {
    "duration": 218,
    "start_time": "2022-02-12T17:05:03.456Z"
   },
   {
    "duration": 231,
    "start_time": "2022-02-12T17:05:08.415Z"
   },
   {
    "duration": 472,
    "start_time": "2022-02-12T17:05:24.544Z"
   },
   {
    "duration": 567,
    "start_time": "2022-02-12T17:05:59.904Z"
   },
   {
    "duration": 237,
    "start_time": "2022-02-12T17:06:11.080Z"
   },
   {
    "duration": 584,
    "start_time": "2022-02-12T17:06:15.321Z"
   },
   {
    "duration": 217,
    "start_time": "2022-02-12T17:06:20.160Z"
   },
   {
    "duration": 229,
    "start_time": "2022-02-12T17:06:23.965Z"
   },
   {
    "duration": 233,
    "start_time": "2022-02-12T17:06:36.414Z"
   },
   {
    "duration": 229,
    "start_time": "2022-02-12T17:06:41.181Z"
   },
   {
    "duration": 411,
    "start_time": "2022-02-12T17:06:54.027Z"
   },
   {
    "duration": 217,
    "start_time": "2022-02-12T17:08:47.921Z"
   },
   {
    "duration": 225,
    "start_time": "2022-02-12T17:08:55.029Z"
   },
   {
    "duration": 320,
    "start_time": "2022-02-12T17:09:00.287Z"
   },
   {
    "duration": 446,
    "start_time": "2022-02-12T17:11:08.296Z"
   },
   {
    "duration": 113,
    "start_time": "2022-02-12T17:11:27.694Z"
   },
   {
    "duration": 433,
    "start_time": "2022-02-12T17:11:30.974Z"
   },
   {
    "duration": 510,
    "start_time": "2022-02-12T17:12:14.684Z"
   },
   {
    "duration": 351,
    "start_time": "2022-02-12T17:12:20.420Z"
   },
   {
    "duration": 235,
    "start_time": "2022-02-12T17:12:23.797Z"
   },
   {
    "duration": 257,
    "start_time": "2022-02-12T17:12:45.681Z"
   },
   {
    "duration": 267,
    "start_time": "2022-02-12T17:12:51.235Z"
   },
   {
    "duration": 215,
    "start_time": "2022-02-12T17:12:58.024Z"
   },
   {
    "duration": 407,
    "start_time": "2022-02-12T17:13:10.189Z"
   },
   {
    "duration": 256,
    "start_time": "2022-02-12T17:13:13.074Z"
   },
   {
    "duration": 252,
    "start_time": "2022-02-12T17:13:45.659Z"
   },
   {
    "duration": 19,
    "start_time": "2022-02-12T17:22:56.232Z"
   },
   {
    "duration": 6,
    "start_time": "2022-02-12T17:23:05.284Z"
   },
   {
    "duration": 6,
    "start_time": "2022-02-12T17:23:10.553Z"
   },
   {
    "duration": 7,
    "start_time": "2022-02-12T17:23:13.547Z"
   },
   {
    "duration": 8,
    "start_time": "2022-02-12T17:23:16.631Z"
   },
   {
    "duration": 6,
    "start_time": "2022-02-12T17:23:24.296Z"
   },
   {
    "duration": 6,
    "start_time": "2022-02-12T17:23:26.861Z"
   },
   {
    "duration": 68,
    "start_time": "2022-02-12T17:23:30.042Z"
   },
   {
    "duration": 6,
    "start_time": "2022-02-12T17:23:32.936Z"
   },
   {
    "duration": 67,
    "start_time": "2022-02-12T17:27:48.059Z"
   },
   {
    "duration": 57,
    "start_time": "2022-02-12T17:27:51.482Z"
   },
   {
    "duration": 321,
    "start_time": "2022-02-12T17:28:03.667Z"
   },
   {
    "duration": 332,
    "start_time": "2022-02-12T17:28:13.165Z"
   },
   {
    "duration": 381,
    "start_time": "2022-02-12T17:28:29.173Z"
   },
   {
    "duration": 17,
    "start_time": "2022-02-12T17:29:40.656Z"
   },
   {
    "duration": 215,
    "start_time": "2022-02-12T17:29:57.267Z"
   },
   {
    "duration": 17,
    "start_time": "2022-02-12T17:30:33.370Z"
   },
   {
    "duration": 16,
    "start_time": "2022-02-12T17:30:43.876Z"
   },
   {
    "duration": 16,
    "start_time": "2022-02-12T17:31:01.489Z"
   },
   {
    "duration": 16,
    "start_time": "2022-02-12T17:31:05.763Z"
   },
   {
    "duration": 380,
    "start_time": "2022-02-12T17:31:33.681Z"
   },
   {
    "duration": 411,
    "start_time": "2022-02-12T17:31:43.174Z"
   },
   {
    "duration": 483,
    "start_time": "2022-02-12T17:31:50.953Z"
   },
   {
    "duration": 839,
    "start_time": "2022-02-12T17:31:56.968Z"
   },
   {
    "duration": 377,
    "start_time": "2022-02-12T18:06:47.486Z"
   },
   {
    "duration": 442,
    "start_time": "2022-02-12T18:06:57.110Z"
   },
   {
    "duration": 645,
    "start_time": "2022-02-12T18:08:45.430Z"
   },
   {
    "duration": 695,
    "start_time": "2022-02-12T18:09:03.363Z"
   },
   {
    "duration": 461,
    "start_time": "2022-02-12T18:09:55.552Z"
   },
   {
    "duration": 397,
    "start_time": "2022-02-12T18:12:09.790Z"
   },
   {
    "duration": 654,
    "start_time": "2022-02-12T18:12:31.900Z"
   },
   {
    "duration": 465,
    "start_time": "2022-02-12T18:12:50.909Z"
   },
   {
    "duration": 18,
    "start_time": "2022-02-12T18:21:03.377Z"
   },
   {
    "duration": 247,
    "start_time": "2022-02-12T18:21:25.713Z"
   },
   {
    "duration": 20,
    "start_time": "2022-02-12T18:21:49.404Z"
   },
   {
    "duration": 539,
    "start_time": "2022-02-12T18:22:03.774Z"
   },
   {
    "duration": 429,
    "start_time": "2022-02-12T18:22:48.281Z"
   },
   {
    "duration": 518,
    "start_time": "2022-02-12T18:23:01.134Z"
   },
   {
    "duration": 5,
    "start_time": "2022-02-12T18:44:23.072Z"
   },
   {
    "duration": 258,
    "start_time": "2022-02-12T18:45:27.909Z"
   },
   {
    "duration": 5,
    "start_time": "2022-02-12T18:45:36.507Z"
   },
   {
    "duration": 22,
    "start_time": "2022-02-12T18:45:41.910Z"
   },
   {
    "duration": 20,
    "start_time": "2022-02-12T18:48:16.422Z"
   },
   {
    "duration": 30,
    "start_time": "2022-02-12T18:48:29.135Z"
   },
   {
    "duration": 109,
    "start_time": "2022-02-12T18:48:34.698Z"
   },
   {
    "duration": 21,
    "start_time": "2022-02-12T18:48:44.391Z"
   },
   {
    "duration": 217,
    "start_time": "2022-02-12T18:48:50.672Z"
   },
   {
    "duration": 25,
    "start_time": "2022-02-12T18:48:55.734Z"
   },
   {
    "duration": 6,
    "start_time": "2022-02-12T18:53:52.996Z"
   },
   {
    "duration": 6,
    "start_time": "2022-02-12T18:53:56.263Z"
   },
   {
    "duration": 416,
    "start_time": "2022-02-12T19:01:55.511Z"
   },
   {
    "duration": 370,
    "start_time": "2022-02-12T19:02:18.850Z"
   },
   {
    "duration": 582,
    "start_time": "2022-02-12T19:02:28.300Z"
   },
   {
    "duration": 439,
    "start_time": "2022-02-12T19:03:58.547Z"
   },
   {
    "duration": 423,
    "start_time": "2022-02-12T19:05:27.081Z"
   },
   {
    "duration": 282,
    "start_time": "2022-02-12T19:07:43.261Z"
   },
   {
    "duration": 443,
    "start_time": "2022-02-12T19:11:19.501Z"
   },
   {
    "duration": 466,
    "start_time": "2022-02-12T19:14:47.140Z"
   },
   {
    "duration": 439,
    "start_time": "2022-02-12T19:15:09.426Z"
   },
   {
    "duration": 1724,
    "start_time": "2022-02-12T19:17:45.071Z"
   },
   {
    "duration": 449,
    "start_time": "2022-02-12T19:17:57.103Z"
   },
   {
    "duration": 623,
    "start_time": "2022-02-12T19:18:13.022Z"
   },
   {
    "duration": 432,
    "start_time": "2022-02-12T19:18:18.032Z"
   },
   {
    "duration": 457,
    "start_time": "2022-02-12T19:20:27.101Z"
   },
   {
    "duration": 242,
    "start_time": "2022-02-12T19:20:32.370Z"
   },
   {
    "duration": 200,
    "start_time": "2022-02-12T19:20:52.697Z"
   },
   {
    "duration": 16,
    "start_time": "2022-02-12T19:21:13.690Z"
   },
   {
    "duration": 398,
    "start_time": "2022-02-12T19:21:16.374Z"
   },
   {
    "duration": 18,
    "start_time": "2022-02-12T19:21:23.024Z"
   },
   {
    "duration": 5,
    "start_time": "2022-02-12T19:21:26.953Z"
   },
   {
    "duration": 416,
    "start_time": "2022-02-12T19:21:30.187Z"
   },
   {
    "duration": 403,
    "start_time": "2022-02-12T19:21:34.993Z"
   },
   {
    "duration": 401,
    "start_time": "2022-02-12T19:21:52.096Z"
   },
   {
    "duration": 19,
    "start_time": "2022-02-12T19:49:17.870Z"
   },
   {
    "duration": 1123,
    "start_time": "2022-02-12T19:49:52.424Z"
   },
   {
    "duration": 828,
    "start_time": "2022-02-12T19:50:08.935Z"
   },
   {
    "duration": 69,
    "start_time": "2022-02-12T19:50:52.220Z"
   },
   {
    "duration": 808,
    "start_time": "2022-02-12T19:51:00.743Z"
   },
   {
    "duration": 1021,
    "start_time": "2022-02-12T19:51:15.139Z"
   },
   {
    "duration": 813,
    "start_time": "2022-02-12T19:51:24.478Z"
   },
   {
    "duration": 225,
    "start_time": "2022-02-12T19:51:35.351Z"
   },
   {
    "duration": 316,
    "start_time": "2022-02-12T19:51:54.034Z"
   },
   {
    "duration": 14,
    "start_time": "2022-02-12T19:52:09.466Z"
   },
   {
    "duration": 13,
    "start_time": "2022-02-12T19:52:15.527Z"
   },
   {
    "duration": 77,
    "start_time": "2022-02-12T19:52:22.462Z"
   },
   {
    "duration": 15,
    "start_time": "2022-02-12T19:52:28.631Z"
   },
   {
    "duration": 198,
    "start_time": "2022-02-12T19:52:46.490Z"
   },
   {
    "duration": 3,
    "start_time": "2022-02-12T19:53:12.176Z"
   },
   {
    "duration": 207,
    "start_time": "2022-02-12T19:53:23.033Z"
   },
   {
    "duration": 15,
    "start_time": "2022-02-12T19:53:31.804Z"
   },
   {
    "duration": 14,
    "start_time": "2022-02-12T19:53:35.289Z"
   },
   {
    "duration": 232,
    "start_time": "2022-02-12T19:53:43.397Z"
   },
   {
    "duration": 472,
    "start_time": "2022-02-12T19:53:53.180Z"
   },
   {
    "duration": 1534,
    "start_time": "2022-02-12T19:53:56.869Z"
   },
   {
    "duration": 756,
    "start_time": "2022-02-12T19:54:37.174Z"
   },
   {
    "duration": 7,
    "start_time": "2022-02-12T19:55:11.789Z"
   },
   {
    "duration": 82,
    "start_time": "2022-02-12T19:55:19.415Z"
   },
   {
    "duration": 11,
    "start_time": "2022-02-12T20:03:40.749Z"
   },
   {
    "duration": 12,
    "start_time": "2022-02-12T20:03:42.912Z"
   },
   {
    "duration": 3,
    "start_time": "2022-02-12T20:03:43.444Z"
   },
   {
    "duration": 3,
    "start_time": "2022-02-12T20:03:52.168Z"
   },
   {
    "duration": 857,
    "start_time": "2022-02-12T20:04:50.531Z"
   },
   {
    "duration": 4,
    "start_time": "2022-02-12T20:05:38.639Z"
   },
   {
    "duration": 1353,
    "start_time": "2022-02-12T20:05:42.654Z"
   },
   {
    "duration": 284,
    "start_time": "2022-02-12T20:09:32.386Z"
   },
   {
    "duration": 862,
    "start_time": "2022-02-12T20:09:39.358Z"
   },
   {
    "duration": 309,
    "start_time": "2022-02-12T20:09:50.844Z"
   },
   {
    "duration": 13,
    "start_time": "2022-02-12T20:11:44.128Z"
   },
   {
    "duration": 294,
    "start_time": "2022-02-12T20:11:46.261Z"
   },
   {
    "duration": 849,
    "start_time": "2022-02-12T20:11:49.013Z"
   },
   {
    "duration": 12,
    "start_time": "2022-02-12T20:12:22.351Z"
   },
   {
    "duration": 3,
    "start_time": "2022-02-12T20:12:23.532Z"
   },
   {
    "duration": 313,
    "start_time": "2022-02-12T20:12:24.294Z"
   },
   {
    "duration": 985,
    "start_time": "2022-02-12T20:12:25.279Z"
   },
   {
    "duration": 11,
    "start_time": "2022-02-12T20:16:35.451Z"
   },
   {
    "duration": 309,
    "start_time": "2022-02-12T20:16:37.624Z"
   },
   {
    "duration": 862,
    "start_time": "2022-02-12T20:16:39.998Z"
   },
   {
    "duration": 385,
    "start_time": "2022-02-12T20:17:37.913Z"
   },
   {
    "duration": 283,
    "start_time": "2022-02-12T20:17:42.454Z"
   },
   {
    "duration": 214,
    "start_time": "2022-02-12T20:19:07.471Z"
   },
   {
    "duration": 843,
    "start_time": "2022-02-12T20:19:41.149Z"
   },
   {
    "duration": 3,
    "start_time": "2022-02-12T20:24:15.135Z"
   },
   {
    "duration": 12,
    "start_time": "2022-02-12T20:24:16.609Z"
   },
   {
    "duration": 1504,
    "start_time": "2022-02-12T20:24:18.869Z"
   },
   {
    "duration": 1318,
    "start_time": "2022-02-13T18:43:48.574Z"
   },
   {
    "duration": 577,
    "start_time": "2022-02-13T18:43:49.895Z"
   },
   {
    "duration": 12,
    "start_time": "2022-02-13T18:43:50.474Z"
   },
   {
    "duration": 62,
    "start_time": "2022-02-13T18:43:50.488Z"
   },
   {
    "duration": 66,
    "start_time": "2022-02-13T18:43:50.552Z"
   },
   {
    "duration": 10,
    "start_time": "2022-02-13T18:43:50.620Z"
   },
   {
    "duration": 9,
    "start_time": "2022-02-13T18:43:50.632Z"
   },
   {
    "duration": 10,
    "start_time": "2022-02-13T18:43:50.643Z"
   },
   {
    "duration": 8,
    "start_time": "2022-02-13T18:43:50.656Z"
   },
   {
    "duration": 9,
    "start_time": "2022-02-13T18:43:50.666Z"
   },
   {
    "duration": 45,
    "start_time": "2022-02-13T18:43:50.677Z"
   },
   {
    "duration": 231,
    "start_time": "2022-02-13T18:43:50.724Z"
   },
   {
    "duration": 7,
    "start_time": "2022-02-13T18:43:50.956Z"
   },
   {
    "duration": 106,
    "start_time": "2022-02-13T18:43:50.964Z"
   },
   {
    "duration": 664,
    "start_time": "2022-02-13T18:43:51.072Z"
   },
   {
    "duration": 25,
    "start_time": "2022-02-13T18:43:51.738Z"
   },
   {
    "duration": 53,
    "start_time": "2022-02-13T18:43:51.765Z"
   },
   {
    "duration": 24,
    "start_time": "2022-02-13T18:43:51.820Z"
   },
   {
    "duration": 26,
    "start_time": "2022-02-13T18:43:51.846Z"
   },
   {
    "duration": 256,
    "start_time": "2022-02-13T18:43:51.874Z"
   },
   {
    "duration": 15,
    "start_time": "2022-02-13T18:43:52.131Z"
   },
   {
    "duration": 15,
    "start_time": "2022-02-13T18:43:52.147Z"
   },
   {
    "duration": 388,
    "start_time": "2022-02-13T18:43:52.163Z"
   },
   {
    "duration": 16,
    "start_time": "2022-02-13T18:43:52.553Z"
   },
   {
    "duration": 5,
    "start_time": "2022-02-13T18:43:52.571Z"
   },
   {
    "duration": 509,
    "start_time": "2022-02-13T18:43:52.578Z"
   },
   {
    "duration": 14,
    "start_time": "2022-02-13T18:43:53.091Z"
   },
   {
    "duration": 4,
    "start_time": "2022-02-13T18:43:53.118Z"
   },
   {
    "duration": 13,
    "start_time": "2022-02-13T18:43:53.124Z"
   },
   {
    "duration": 7,
    "start_time": "2022-02-13T18:43:53.139Z"
   },
   {
    "duration": 290,
    "start_time": "2022-02-13T18:43:53.147Z"
   },
   {
    "duration": 1429,
    "start_time": "2022-02-13T18:43:53.439Z"
   },
   {
    "duration": 12,
    "start_time": "2022-02-13T18:44:25.340Z"
   },
   {
    "duration": 453,
    "start_time": "2022-02-13T18:44:26.668Z"
   },
   {
    "duration": 16,
    "start_time": "2022-02-13T18:44:32.323Z"
   },
   {
    "duration": 6,
    "start_time": "2022-02-13T18:44:35.661Z"
   },
   {
    "duration": 370,
    "start_time": "2022-02-13T18:44:39.802Z"
   },
   {
    "duration": 1270,
    "start_time": "2022-02-13T18:44:55.460Z"
   },
   {
    "duration": 534,
    "start_time": "2022-02-13T18:44:56.732Z"
   },
   {
    "duration": 11,
    "start_time": "2022-02-13T18:44:57.269Z"
   },
   {
    "duration": 66,
    "start_time": "2022-02-13T18:44:57.282Z"
   },
   {
    "duration": 77,
    "start_time": "2022-02-13T18:44:57.351Z"
   },
   {
    "duration": 10,
    "start_time": "2022-02-13T18:44:57.430Z"
   },
   {
    "duration": 19,
    "start_time": "2022-02-13T18:44:57.442Z"
   },
   {
    "duration": 21,
    "start_time": "2022-02-13T18:44:57.464Z"
   },
   {
    "duration": 9,
    "start_time": "2022-02-13T18:44:57.488Z"
   },
   {
    "duration": 25,
    "start_time": "2022-02-13T18:44:57.499Z"
   },
   {
    "duration": 6,
    "start_time": "2022-02-13T18:44:57.526Z"
   },
   {
    "duration": 323,
    "start_time": "2022-02-13T18:44:57.534Z"
   },
   {
    "duration": 10,
    "start_time": "2022-02-13T18:44:57.860Z"
   },
   {
    "duration": 182,
    "start_time": "2022-02-13T18:44:57.872Z"
   },
   {
    "duration": 544,
    "start_time": "2022-02-13T18:44:58.056Z"
   },
   {
    "duration": 26,
    "start_time": "2022-02-13T18:44:58.602Z"
   },
   {
    "duration": 121,
    "start_time": "2022-02-13T18:44:58.630Z"
   },
   {
    "duration": 23,
    "start_time": "2022-02-13T18:44:58.753Z"
   },
   {
    "duration": 27,
    "start_time": "2022-02-13T18:44:58.778Z"
   },
   {
    "duration": 241,
    "start_time": "2022-02-13T18:44:58.807Z"
   },
   {
    "duration": 19,
    "start_time": "2022-02-13T18:44:59.050Z"
   },
   {
    "duration": 21,
    "start_time": "2022-02-13T18:44:59.072Z"
   },
   {
    "duration": 535,
    "start_time": "2022-02-13T18:44:59.118Z"
   },
   {
    "duration": 22,
    "start_time": "2022-02-13T18:44:59.655Z"
   },
   {
    "duration": 6,
    "start_time": "2022-02-13T18:44:59.679Z"
   },
   {
    "duration": 533,
    "start_time": "2022-02-13T18:44:59.687Z"
   },
   {
    "duration": 15,
    "start_time": "2022-02-13T18:45:00.222Z"
   },
   {
    "duration": 42,
    "start_time": "2022-02-13T18:45:00.239Z"
   },
   {
    "duration": 22,
    "start_time": "2022-02-13T18:45:00.283Z"
   },
   {
    "duration": 33,
    "start_time": "2022-02-13T18:45:00.307Z"
   },
   {
    "duration": 381,
    "start_time": "2022-02-13T18:45:00.343Z"
   },
   {
    "duration": 1582,
    "start_time": "2022-02-13T18:45:00.727Z"
   },
   {
    "duration": 340,
    "start_time": "2022-02-13T18:45:18.759Z"
   },
   {
    "duration": 1354,
    "start_time": "2022-02-13T18:45:22.776Z"
   },
   {
    "duration": 254,
    "start_time": "2022-02-13T18:46:29.040Z"
   },
   {
    "duration": 1421,
    "start_time": "2022-02-13T18:46:31.189Z"
   },
   {
    "duration": 337,
    "start_time": "2022-02-13T18:46:38.146Z"
   },
   {
    "duration": 1448,
    "start_time": "2022-02-13T18:46:39.294Z"
   },
   {
    "duration": 2687,
    "start_time": "2022-02-13T18:48:47.313Z"
   },
   {
    "duration": 1150,
    "start_time": "2022-02-13T18:49:18.537Z"
   },
   {
    "duration": 552,
    "start_time": "2022-02-13T18:49:19.690Z"
   },
   {
    "duration": 16,
    "start_time": "2022-02-13T18:49:20.244Z"
   },
   {
    "duration": 71,
    "start_time": "2022-02-13T18:49:20.262Z"
   },
   {
    "duration": 53,
    "start_time": "2022-02-13T18:49:20.335Z"
   },
   {
    "duration": 8,
    "start_time": "2022-02-13T18:49:20.390Z"
   },
   {
    "duration": 21,
    "start_time": "2022-02-13T18:49:20.402Z"
   },
   {
    "duration": 14,
    "start_time": "2022-02-13T18:49:20.425Z"
   },
   {
    "duration": 8,
    "start_time": "2022-02-13T18:49:20.440Z"
   },
   {
    "duration": 11,
    "start_time": "2022-02-13T18:49:20.450Z"
   },
   {
    "duration": 4,
    "start_time": "2022-02-13T18:49:20.463Z"
   },
   {
    "duration": 274,
    "start_time": "2022-02-13T18:49:20.469Z"
   },
   {
    "duration": 7,
    "start_time": "2022-02-13T18:49:20.745Z"
   },
   {
    "duration": 114,
    "start_time": "2022-02-13T18:49:20.754Z"
   },
   {
    "duration": 557,
    "start_time": "2022-02-13T18:49:20.870Z"
   },
   {
    "duration": 25,
    "start_time": "2022-02-13T18:49:21.428Z"
   },
   {
    "duration": 26,
    "start_time": "2022-02-13T18:49:21.455Z"
   },
   {
    "duration": 49,
    "start_time": "2022-02-13T18:49:21.483Z"
   },
   {
    "duration": 28,
    "start_time": "2022-02-13T18:49:21.534Z"
   },
   {
    "duration": 266,
    "start_time": "2022-02-13T18:49:21.564Z"
   },
   {
    "duration": 15,
    "start_time": "2022-02-13T18:49:21.832Z"
   },
   {
    "duration": 15,
    "start_time": "2022-02-13T18:49:21.848Z"
   },
   {
    "duration": 404,
    "start_time": "2022-02-13T18:49:21.866Z"
   },
   {
    "duration": 14,
    "start_time": "2022-02-13T18:49:22.272Z"
   },
   {
    "duration": 4,
    "start_time": "2022-02-13T18:49:22.288Z"
   },
   {
    "duration": 368,
    "start_time": "2022-02-13T18:49:22.294Z"
   },
   {
    "duration": 10,
    "start_time": "2022-02-13T18:49:22.663Z"
   },
   {
    "duration": 9,
    "start_time": "2022-02-13T18:49:22.675Z"
   },
   {
    "duration": 33,
    "start_time": "2022-02-13T18:49:22.686Z"
   },
   {
    "duration": 3,
    "start_time": "2022-02-13T18:49:22.721Z"
   },
   {
    "duration": 282,
    "start_time": "2022-02-13T18:49:22.726Z"
   },
   {
    "duration": 1556,
    "start_time": "2022-02-13T18:49:23.010Z"
   },
   {
    "duration": 2591,
    "start_time": "2022-02-13T18:49:24.568Z"
   },
   {
    "duration": 2299,
    "start_time": "2022-02-13T18:50:04.313Z"
   },
   {
    "duration": 2146,
    "start_time": "2022-02-13T18:51:01.660Z"
   },
   {
    "duration": 4,
    "start_time": "2022-02-13T19:05:41.927Z"
   },
   {
    "duration": 566,
    "start_time": "2022-02-13T19:05:41.933Z"
   },
   {
    "duration": 9,
    "start_time": "2022-02-13T19:05:42.501Z"
   },
   {
    "duration": 60,
    "start_time": "2022-02-13T19:05:42.512Z"
   },
   {
    "duration": 59,
    "start_time": "2022-02-13T19:05:42.574Z"
   },
   {
    "duration": 10,
    "start_time": "2022-02-13T19:05:42.636Z"
   },
   {
    "duration": 10,
    "start_time": "2022-02-13T19:05:42.648Z"
   },
   {
    "duration": 11,
    "start_time": "2022-02-13T19:05:42.660Z"
   },
   {
    "duration": 7,
    "start_time": "2022-02-13T19:05:42.673Z"
   },
   {
    "duration": 40,
    "start_time": "2022-02-13T19:05:42.682Z"
   },
   {
    "duration": 3,
    "start_time": "2022-02-13T19:05:42.723Z"
   },
   {
    "duration": 224,
    "start_time": "2022-02-13T19:05:42.728Z"
   },
   {
    "duration": 6,
    "start_time": "2022-02-13T19:05:42.954Z"
   },
   {
    "duration": 94,
    "start_time": "2022-02-13T19:05:42.961Z"
   },
   {
    "duration": 526,
    "start_time": "2022-02-13T19:05:43.057Z"
   },
   {
    "duration": 21,
    "start_time": "2022-02-13T19:05:43.584Z"
   },
   {
    "duration": 24,
    "start_time": "2022-02-13T19:05:43.618Z"
   },
   {
    "duration": 25,
    "start_time": "2022-02-13T19:05:43.643Z"
   },
   {
    "duration": 50,
    "start_time": "2022-02-13T19:05:43.669Z"
   },
   {
    "duration": 234,
    "start_time": "2022-02-13T19:05:43.721Z"
   },
   {
    "duration": 15,
    "start_time": "2022-02-13T19:05:43.956Z"
   },
   {
    "duration": 16,
    "start_time": "2022-02-13T19:05:43.972Z"
   },
   {
    "duration": 392,
    "start_time": "2022-02-13T19:05:43.992Z"
   },
   {
    "duration": 35,
    "start_time": "2022-02-13T19:05:44.386Z"
   },
   {
    "duration": 5,
    "start_time": "2022-02-13T19:05:44.423Z"
   },
   {
    "duration": 449,
    "start_time": "2022-02-13T19:05:44.429Z"
   },
   {
    "duration": 9,
    "start_time": "2022-02-13T19:05:44.880Z"
   },
   {
    "duration": 9,
    "start_time": "2022-02-13T19:05:44.890Z"
   },
   {
    "duration": 23,
    "start_time": "2022-02-13T19:05:44.900Z"
   },
   {
    "duration": 8,
    "start_time": "2022-02-13T19:05:44.925Z"
   },
   {
    "duration": 333,
    "start_time": "2022-02-13T19:05:44.934Z"
   },
   {
    "duration": 1580,
    "start_time": "2022-02-13T19:05:45.269Z"
   },
   {
    "duration": 2604,
    "start_time": "2022-02-13T19:05:46.851Z"
   },
   {
    "duration": 2087,
    "start_time": "2022-02-13T19:05:49.457Z"
   },
   {
    "duration": 2239,
    "start_time": "2022-02-13T19:05:51.546Z"
   },
   {
    "duration": 6,
    "start_time": "2022-02-13T19:05:53.787Z"
   },
   {
    "duration": 28,
    "start_time": "2022-02-13T19:05:53.795Z"
   },
   {
    "duration": 12,
    "start_time": "2022-02-13T19:05:53.825Z"
   },
   {
    "duration": 9,
    "start_time": "2022-02-13T19:05:53.838Z"
   },
   {
    "duration": 346,
    "start_time": "2022-02-13T19:06:20.175Z"
   },
   {
    "duration": 582,
    "start_time": "2022-02-13T19:07:16.845Z"
   },
   {
    "duration": 1081,
    "start_time": "2022-02-13T19:07:32.627Z"
   },
   {
    "duration": 1208,
    "start_time": "2022-02-13T19:07:59.452Z"
   },
   {
    "duration": 2508,
    "start_time": "2022-02-13T19:08:31.310Z"
   },
   {
    "duration": 3408,
    "start_time": "2022-02-13T19:09:22.557Z"
   },
   {
    "duration": 2194,
    "start_time": "2022-02-13T19:11:17.688Z"
   },
   {
    "duration": 3364,
    "start_time": "2022-02-13T19:12:10.202Z"
   },
   {
    "duration": 6831,
    "start_time": "2022-02-13T19:12:28.179Z"
   },
   {
    "duration": 2754,
    "start_time": "2022-02-13T19:32:07.123Z"
   },
   {
    "duration": 68,
    "start_time": "2022-02-13T19:33:28.633Z"
   },
   {
    "duration": 2228,
    "start_time": "2022-02-13T19:34:10.081Z"
   },
   {
    "duration": 696,
    "start_time": "2022-02-13T19:35:08.235Z"
   },
   {
    "duration": 2121,
    "start_time": "2022-02-13T19:35:20.828Z"
   },
   {
    "duration": 3,
    "start_time": "2022-02-13T20:01:13.915Z"
   },
   {
    "duration": 571,
    "start_time": "2022-02-13T20:07:28.317Z"
   },
   {
    "duration": 10,
    "start_time": "2022-02-13T20:07:29.541Z"
   },
   {
    "duration": 59,
    "start_time": "2022-02-13T20:07:35.370Z"
   },
   {
    "duration": 35,
    "start_time": "2022-02-13T20:09:14.464Z"
   },
   {
    "duration": 9,
    "start_time": "2022-02-13T20:10:07.436Z"
   },
   {
    "duration": 13,
    "start_time": "2022-02-13T20:10:55.961Z"
   },
   {
    "duration": 218,
    "start_time": "2022-02-13T20:13:03.370Z"
   },
   {
    "duration": 82,
    "start_time": "2022-02-13T20:14:22.485Z"
   },
   {
    "duration": 1182,
    "start_time": "2022-02-14T06:30:59.200Z"
   },
   {
    "duration": 694,
    "start_time": "2022-02-14T06:31:00.384Z"
   },
   {
    "duration": 16,
    "start_time": "2022-02-14T06:31:01.080Z"
   },
   {
    "duration": 78,
    "start_time": "2022-02-14T06:31:01.099Z"
   },
   {
    "duration": 79,
    "start_time": "2022-02-14T06:31:01.180Z"
   },
   {
    "duration": 10,
    "start_time": "2022-02-14T06:31:01.261Z"
   },
   {
    "duration": 25,
    "start_time": "2022-02-14T06:31:01.273Z"
   },
   {
    "duration": 13,
    "start_time": "2022-02-14T06:31:01.301Z"
   },
   {
    "duration": 15,
    "start_time": "2022-02-14T06:31:01.316Z"
   },
   {
    "duration": 14,
    "start_time": "2022-02-14T06:31:01.333Z"
   },
   {
    "duration": 12,
    "start_time": "2022-02-14T06:31:01.349Z"
   },
   {
    "duration": 287,
    "start_time": "2022-02-14T06:31:01.363Z"
   },
   {
    "duration": 120,
    "start_time": "2022-02-14T06:31:01.652Z"
   },
   {
    "duration": 7,
    "start_time": "2022-02-14T06:48:59.524Z"
   },
   {
    "duration": 587,
    "start_time": "2022-02-14T06:55:05.661Z"
   },
   {
    "duration": 23,
    "start_time": "2022-02-14T06:56:21.501Z"
   },
   {
    "duration": 26,
    "start_time": "2022-02-14T06:56:59.979Z"
   },
   {
    "duration": 27,
    "start_time": "2022-02-14T06:57:21.694Z"
   },
   {
    "duration": 26,
    "start_time": "2022-02-14T07:02:44.973Z"
   },
   {
    "duration": 27,
    "start_time": "2022-02-14T07:08:41.387Z"
   },
   {
    "duration": 28,
    "start_time": "2022-02-14T07:26:11.300Z"
   },
   {
    "duration": 272,
    "start_time": "2022-02-14T07:54:58.023Z"
   },
   {
    "duration": 16,
    "start_time": "2022-02-14T08:11:47.056Z"
   },
   {
    "duration": 441,
    "start_time": "2022-02-14T08:58:12.032Z"
   },
   {
    "duration": 17,
    "start_time": "2022-02-14T08:58:53.874Z"
   },
   {
    "duration": 415,
    "start_time": "2022-02-14T08:58:55.821Z"
   },
   {
    "duration": 438,
    "start_time": "2022-02-14T09:02:27.686Z"
   },
   {
    "duration": 459,
    "start_time": "2022-02-14T09:03:17.292Z"
   },
   {
    "duration": 492,
    "start_time": "2022-02-14T09:03:58.532Z"
   },
   {
    "duration": 17,
    "start_time": "2022-02-14T09:07:35.001Z"
   },
   {
    "duration": 26,
    "start_time": "2022-02-14T09:08:05.377Z"
   },
   {
    "duration": 7,
    "start_time": "2022-02-14T09:09:23.366Z"
   },
   {
    "duration": 417,
    "start_time": "2022-02-14T09:09:39.578Z"
   },
   {
    "duration": 531,
    "start_time": "2022-02-14T09:12:31.682Z"
   },
   {
    "duration": 456,
    "start_time": "2022-02-14T09:12:39.678Z"
   },
   {
    "duration": 16,
    "start_time": "2022-02-14T09:26:46.145Z"
   },
   {
    "duration": 3,
    "start_time": "2022-02-14T09:26:48.914Z"
   },
   {
    "duration": 21,
    "start_time": "2022-02-14T09:26:50.421Z"
   },
   {
    "duration": 4,
    "start_time": "2022-02-14T09:28:03.182Z"
   },
   {
    "duration": 325,
    "start_time": "2022-02-14T09:28:10.050Z"
   },
   {
    "duration": 1722,
    "start_time": "2022-02-14T09:28:16.152Z"
   },
   {
    "duration": 2105,
    "start_time": "2022-02-14T09:29:02.009Z"
   },
   {
    "duration": 3014,
    "start_time": "2022-02-14T09:34:54.248Z"
   },
   {
    "duration": 2523,
    "start_time": "2022-02-14T09:42:37.838Z"
   },
   {
    "duration": 2622,
    "start_time": "2022-02-14T09:48:05.997Z"
   },
   {
    "duration": 5207,
    "start_time": "2022-02-14T09:48:47.576Z"
   },
   {
    "duration": 2482,
    "start_time": "2022-02-14T09:49:04.408Z"
   },
   {
    "duration": 2628,
    "start_time": "2022-02-14T09:49:53.037Z"
   },
   {
    "duration": 154,
    "start_time": "2022-02-14T17:32:40.430Z"
   },
   {
    "duration": 1028,
    "start_time": "2022-02-14T17:32:44.340Z"
   },
   {
    "duration": 528,
    "start_time": "2022-02-14T17:32:45.370Z"
   },
   {
    "duration": 12,
    "start_time": "2022-02-14T17:32:45.900Z"
   },
   {
    "duration": 60,
    "start_time": "2022-02-14T17:32:45.913Z"
   },
   {
    "duration": 62,
    "start_time": "2022-02-14T17:32:45.975Z"
   },
   {
    "duration": 7,
    "start_time": "2022-02-14T17:32:46.039Z"
   },
   {
    "duration": 12,
    "start_time": "2022-02-14T17:32:46.047Z"
   },
   {
    "duration": 10,
    "start_time": "2022-02-14T17:32:46.061Z"
   },
   {
    "duration": 7,
    "start_time": "2022-02-14T17:32:46.072Z"
   },
   {
    "duration": 7,
    "start_time": "2022-02-14T17:32:46.081Z"
   },
   {
    "duration": 41,
    "start_time": "2022-02-14T17:32:46.089Z"
   },
   {
    "duration": 221,
    "start_time": "2022-02-14T17:32:46.132Z"
   },
   {
    "duration": 97,
    "start_time": "2022-02-14T17:32:46.355Z"
   },
   {
    "duration": 7,
    "start_time": "2022-02-14T17:32:46.453Z"
   },
   {
    "duration": 519,
    "start_time": "2022-02-14T17:32:46.462Z"
   },
   {
    "duration": 21,
    "start_time": "2022-02-14T17:32:46.982Z"
   },
   {
    "duration": 45,
    "start_time": "2022-02-14T17:32:47.004Z"
   },
   {
    "duration": 23,
    "start_time": "2022-02-14T17:32:47.050Z"
   },
   {
    "duration": 24,
    "start_time": "2022-02-14T17:32:47.075Z"
   },
   {
    "duration": 250,
    "start_time": "2022-02-14T17:32:47.101Z"
   },
   {
    "duration": 14,
    "start_time": "2022-02-14T17:32:47.353Z"
   },
   {
    "duration": 383,
    "start_time": "2022-02-14T17:32:47.368Z"
   },
   {
    "duration": 15,
    "start_time": "2022-02-14T17:32:47.754Z"
   },
   {
    "duration": 4,
    "start_time": "2022-02-14T17:32:47.771Z"
   },
   {
    "duration": 358,
    "start_time": "2022-02-14T17:32:47.777Z"
   },
   {
    "duration": 9,
    "start_time": "2022-02-14T17:32:48.137Z"
   },
   {
    "duration": 8,
    "start_time": "2022-02-14T17:32:48.148Z"
   },
   {
    "duration": 12,
    "start_time": "2022-02-14T17:32:48.158Z"
   },
   {
    "duration": 6,
    "start_time": "2022-02-14T17:32:48.172Z"
   },
   {
    "duration": 1594,
    "start_time": "2022-02-14T17:32:48.179Z"
   },
   {
    "duration": 2473,
    "start_time": "2022-02-14T17:32:49.775Z"
   },
   {
    "duration": 2175,
    "start_time": "2022-02-14T17:32:58.294Z"
   },
   {
    "duration": 2048,
    "start_time": "2022-02-14T17:35:30.799Z"
   },
   {
    "duration": 182,
    "start_time": "2022-02-14T17:58:29.265Z"
   },
   {
    "duration": 8,
    "start_time": "2022-02-14T18:02:58.169Z"
   },
   {
    "duration": 8,
    "start_time": "2022-02-14T18:03:00.818Z"
   },
   {
    "duration": 135,
    "start_time": "2022-02-14T18:03:05.804Z"
   },
   {
    "duration": 6593,
    "start_time": "2022-02-14T18:03:36.913Z"
   },
   {
    "duration": 8,
    "start_time": "2022-02-14T18:06:50.198Z"
   },
   {
    "duration": 5,
    "start_time": "2022-02-14T18:06:54.153Z"
   },
   {
    "duration": 3093,
    "start_time": "2022-02-14T18:08:10.496Z"
   },
   {
    "duration": 3515,
    "start_time": "2022-02-14T18:18:56.981Z"
   },
   {
    "duration": 3244,
    "start_time": "2022-02-14T18:20:38.621Z"
   },
   {
    "duration": 2262,
    "start_time": "2022-02-14T18:33:14.983Z"
   },
   {
    "duration": 1889,
    "start_time": "2022-02-14T18:33:29.963Z"
   },
   {
    "duration": 2096,
    "start_time": "2022-02-14T18:34:44.088Z"
   },
   {
    "duration": 1716,
    "start_time": "2022-02-14T18:39:15.959Z"
   },
   {
    "duration": 2330,
    "start_time": "2022-02-14T18:40:02.740Z"
   },
   {
    "duration": 9,
    "start_time": "2022-02-14T18:45:52.135Z"
   },
   {
    "duration": 11,
    "start_time": "2022-02-14T18:45:57.801Z"
   },
   {
    "duration": 12,
    "start_time": "2022-02-14T18:46:37.665Z"
   },
   {
    "duration": 14,
    "start_time": "2022-02-14T18:46:53.331Z"
   },
   {
    "duration": 40,
    "start_time": "2022-02-14T18:46:59.178Z"
   },
   {
    "duration": 34,
    "start_time": "2022-02-14T18:47:47.188Z"
   },
   {
    "duration": 143,
    "start_time": "2022-02-14T18:48:23.174Z"
   },
   {
    "duration": 37,
    "start_time": "2022-02-14T18:48:29.074Z"
   },
   {
    "duration": 23,
    "start_time": "2022-02-14T18:48:47.759Z"
   },
   {
    "duration": 2532,
    "start_time": "2022-02-14T19:02:23.038Z"
   },
   {
    "duration": 2224,
    "start_time": "2022-02-14T19:02:36.958Z"
   },
   {
    "duration": 1116,
    "start_time": "2022-02-14T19:11:54.179Z"
   },
   {
    "duration": 613,
    "start_time": "2022-02-14T19:11:55.296Z"
   },
   {
    "duration": 12,
    "start_time": "2022-02-14T19:11:55.911Z"
   },
   {
    "duration": 64,
    "start_time": "2022-02-14T19:11:55.925Z"
   },
   {
    "duration": 76,
    "start_time": "2022-02-14T19:11:55.992Z"
   },
   {
    "duration": 8,
    "start_time": "2022-02-14T19:11:56.069Z"
   },
   {
    "duration": 14,
    "start_time": "2022-02-14T19:11:56.078Z"
   },
   {
    "duration": 14,
    "start_time": "2022-02-14T19:11:56.095Z"
   },
   {
    "duration": 11,
    "start_time": "2022-02-14T19:11:56.111Z"
   },
   {
    "duration": 12,
    "start_time": "2022-02-14T19:11:56.123Z"
   },
   {
    "duration": 5,
    "start_time": "2022-02-14T19:11:56.137Z"
   },
   {
    "duration": 340,
    "start_time": "2022-02-14T19:11:56.144Z"
   },
   {
    "duration": 155,
    "start_time": "2022-02-14T19:11:56.486Z"
   },
   {
    "duration": 8,
    "start_time": "2022-02-14T19:11:56.644Z"
   },
   {
    "duration": 860,
    "start_time": "2022-02-14T19:11:56.654Z"
   },
   {
    "duration": 42,
    "start_time": "2022-02-14T19:11:57.516Z"
   },
   {
    "duration": 29,
    "start_time": "2022-02-14T19:11:57.560Z"
   },
   {
    "duration": 46,
    "start_time": "2022-02-14T19:11:57.591Z"
   },
   {
    "duration": 27,
    "start_time": "2022-02-14T19:11:57.639Z"
   },
   {
    "duration": 467,
    "start_time": "2022-02-14T19:11:57.668Z"
   },
   {
    "duration": 15,
    "start_time": "2022-02-14T19:11:58.137Z"
   },
   {
    "duration": 422,
    "start_time": "2022-02-14T19:11:58.154Z"
   },
   {
    "duration": 15,
    "start_time": "2022-02-14T19:11:58.579Z"
   },
   {
    "duration": 5,
    "start_time": "2022-02-14T19:11:58.596Z"
   },
   {
    "duration": 361,
    "start_time": "2022-02-14T19:11:58.602Z"
   },
   {
    "duration": 9,
    "start_time": "2022-02-14T19:11:58.965Z"
   },
   {
    "duration": 8,
    "start_time": "2022-02-14T19:11:58.976Z"
   },
   {
    "duration": 11,
    "start_time": "2022-02-14T19:11:58.986Z"
   },
   {
    "duration": 35,
    "start_time": "2022-02-14T19:11:58.998Z"
   },
   {
    "duration": 1819,
    "start_time": "2022-02-14T19:11:59.035Z"
   },
   {
    "duration": 2582,
    "start_time": "2022-02-14T19:12:00.856Z"
   },
   {
    "duration": 2891,
    "start_time": "2022-02-14T19:12:03.440Z"
   },
   {
    "duration": 2834,
    "start_time": "2022-02-14T19:12:06.333Z"
   },
   {
    "duration": 10,
    "start_time": "2022-02-14T19:12:09.169Z"
   },
   {
    "duration": 9,
    "start_time": "2022-02-14T19:12:09.181Z"
   },
   {
    "duration": 39,
    "start_time": "2022-02-14T19:12:09.191Z"
   },
   {
    "duration": 9,
    "start_time": "2022-02-14T19:12:09.232Z"
   },
   {
    "duration": 9,
    "start_time": "2022-02-14T19:12:09.243Z"
   },
   {
    "duration": 4197,
    "start_time": "2022-02-14T19:12:09.255Z"
   },
   {
    "duration": 3668,
    "start_time": "2022-02-14T19:12:13.454Z"
   },
   {
    "duration": 2984,
    "start_time": "2022-02-14T19:12:17.125Z"
   },
   {
    "duration": 2206,
    "start_time": "2022-02-14T19:12:20.111Z"
   },
   {
    "duration": 3129,
    "start_time": "2022-02-14T19:12:22.319Z"
   },
   {
    "duration": 1032,
    "start_time": "2022-02-14T21:19:19.836Z"
   },
   {
    "duration": 518,
    "start_time": "2022-02-14T21:19:20.870Z"
   },
   {
    "duration": 12,
    "start_time": "2022-02-14T21:19:21.390Z"
   },
   {
    "duration": 58,
    "start_time": "2022-02-14T21:19:21.404Z"
   },
   {
    "duration": 51,
    "start_time": "2022-02-14T21:19:21.464Z"
   },
   {
    "duration": 15,
    "start_time": "2022-02-14T21:19:21.517Z"
   },
   {
    "duration": 8,
    "start_time": "2022-02-14T21:19:21.533Z"
   },
   {
    "duration": 9,
    "start_time": "2022-02-14T21:19:21.544Z"
   },
   {
    "duration": 7,
    "start_time": "2022-02-14T21:19:21.555Z"
   },
   {
    "duration": 5,
    "start_time": "2022-02-14T21:19:21.564Z"
   },
   {
    "duration": 3,
    "start_time": "2022-02-14T21:19:21.571Z"
   },
   {
    "duration": 227,
    "start_time": "2022-02-14T21:19:21.576Z"
   },
   {
    "duration": 94,
    "start_time": "2022-02-14T21:19:21.805Z"
   },
   {
    "duration": 7,
    "start_time": "2022-02-14T21:19:21.901Z"
   },
   {
    "duration": 509,
    "start_time": "2022-02-14T21:19:21.909Z"
   },
   {
    "duration": 25,
    "start_time": "2022-02-14T21:19:22.419Z"
   },
   {
    "duration": 25,
    "start_time": "2022-02-14T21:19:22.446Z"
   },
   {
    "duration": 22,
    "start_time": "2022-02-14T21:19:22.473Z"
   },
   {
    "duration": 48,
    "start_time": "2022-02-14T21:19:22.497Z"
   },
   {
    "duration": 226,
    "start_time": "2022-02-14T21:19:22.547Z"
   },
   {
    "duration": 14,
    "start_time": "2022-02-14T21:19:22.774Z"
   },
   {
    "duration": 383,
    "start_time": "2022-02-14T21:19:22.790Z"
   },
   {
    "duration": 15,
    "start_time": "2022-02-14T21:19:23.176Z"
   },
   {
    "duration": 4,
    "start_time": "2022-02-14T21:19:23.193Z"
   },
   {
    "duration": 341,
    "start_time": "2022-02-14T21:19:23.199Z"
   },
   {
    "duration": 9,
    "start_time": "2022-02-14T21:19:23.542Z"
   },
   {
    "duration": 6,
    "start_time": "2022-02-14T21:19:23.552Z"
   },
   {
    "duration": 9,
    "start_time": "2022-02-14T21:19:23.560Z"
   },
   {
    "duration": 5,
    "start_time": "2022-02-14T21:19:23.571Z"
   },
   {
    "duration": 1686,
    "start_time": "2022-02-14T21:19:23.578Z"
   },
   {
    "duration": 2380,
    "start_time": "2022-02-14T21:19:25.265Z"
   },
   {
    "duration": 2084,
    "start_time": "2022-02-14T21:19:27.646Z"
   },
   {
    "duration": 2088,
    "start_time": "2022-02-14T21:19:29.731Z"
   },
   {
    "duration": 11,
    "start_time": "2022-02-14T21:19:31.821Z"
   },
   {
    "duration": 12,
    "start_time": "2022-02-14T21:19:31.834Z"
   },
   {
    "duration": 9,
    "start_time": "2022-02-14T21:19:31.847Z"
   },
   {
    "duration": 13,
    "start_time": "2022-02-14T21:19:31.857Z"
   },
   {
    "duration": 11,
    "start_time": "2022-02-14T21:19:31.871Z"
   },
   {
    "duration": 3065,
    "start_time": "2022-02-14T21:19:31.883Z"
   },
   {
    "duration": 3522,
    "start_time": "2022-02-14T21:19:34.949Z"
   },
   {
    "duration": 2960,
    "start_time": "2022-02-14T21:19:38.473Z"
   },
   {
    "duration": 2148,
    "start_time": "2022-02-14T21:19:41.435Z"
   },
   {
    "duration": 2046,
    "start_time": "2022-02-14T21:19:43.585Z"
   },
   {
    "duration": 3,
    "start_time": "2022-02-15T06:22:21.489Z"
   },
   {
    "duration": 1140,
    "start_time": "2022-02-15T06:22:30.321Z"
   },
   {
    "duration": 583,
    "start_time": "2022-02-15T06:22:31.462Z"
   },
   {
    "duration": 12,
    "start_time": "2022-02-15T06:22:32.047Z"
   },
   {
    "duration": 59,
    "start_time": "2022-02-15T06:22:32.061Z"
   },
   {
    "duration": 50,
    "start_time": "2022-02-15T06:22:32.122Z"
   },
   {
    "duration": 7,
    "start_time": "2022-02-15T06:22:32.173Z"
   },
   {
    "duration": 8,
    "start_time": "2022-02-15T06:22:32.182Z"
   },
   {
    "duration": 9,
    "start_time": "2022-02-15T06:22:32.192Z"
   },
   {
    "duration": 7,
    "start_time": "2022-02-15T06:22:32.203Z"
   },
   {
    "duration": 6,
    "start_time": "2022-02-15T06:22:32.227Z"
   },
   {
    "duration": 5,
    "start_time": "2022-02-15T06:22:32.234Z"
   },
   {
    "duration": 210,
    "start_time": "2022-02-15T06:22:32.240Z"
   },
   {
    "duration": 86,
    "start_time": "2022-02-15T06:22:32.452Z"
   },
   {
    "duration": 7,
    "start_time": "2022-02-15T06:22:32.539Z"
   },
   {
    "duration": 480,
    "start_time": "2022-02-15T06:22:32.547Z"
   },
   {
    "duration": 19,
    "start_time": "2022-02-15T06:22:33.028Z"
   },
   {
    "duration": 3,
    "start_time": "2022-02-15T06:22:33.049Z"
   },
   {
    "duration": 26,
    "start_time": "2022-02-15T06:22:33.054Z"
   },
   {
    "duration": 21,
    "start_time": "2022-02-15T06:22:33.081Z"
   },
   {
    "duration": 44,
    "start_time": "2022-02-15T06:22:33.104Z"
   },
   {
    "duration": 210,
    "start_time": "2022-02-15T06:22:33.150Z"
   },
   {
    "duration": 13,
    "start_time": "2022-02-15T06:22:33.362Z"
   },
   {
    "duration": 356,
    "start_time": "2022-02-15T06:22:33.378Z"
   },
   {
    "duration": 16,
    "start_time": "2022-02-15T06:22:33.736Z"
   },
   {
    "duration": 5,
    "start_time": "2022-02-15T06:22:33.754Z"
   },
   {
    "duration": 323,
    "start_time": "2022-02-15T06:22:33.760Z"
   },
   {
    "duration": 11,
    "start_time": "2022-02-15T06:22:34.085Z"
   },
   {
    "duration": 7,
    "start_time": "2022-02-15T06:22:34.097Z"
   },
   {
    "duration": 28,
    "start_time": "2022-02-15T06:22:34.106Z"
   },
   {
    "duration": 7,
    "start_time": "2022-02-15T06:22:34.136Z"
   },
   {
    "duration": 1483,
    "start_time": "2022-02-15T06:22:34.144Z"
   },
   {
    "duration": 2303,
    "start_time": "2022-02-15T06:22:35.629Z"
   },
   {
    "duration": 2399,
    "start_time": "2022-02-15T06:22:37.934Z"
   },
   {
    "duration": 1913,
    "start_time": "2022-02-15T06:22:40.335Z"
   },
   {
    "duration": 6,
    "start_time": "2022-02-15T06:22:42.250Z"
   },
   {
    "duration": 8,
    "start_time": "2022-02-15T06:22:42.257Z"
   },
   {
    "duration": 7,
    "start_time": "2022-02-15T06:22:42.266Z"
   },
   {
    "duration": 8,
    "start_time": "2022-02-15T06:22:42.275Z"
   },
   {
    "duration": 6,
    "start_time": "2022-02-15T06:22:42.284Z"
   },
   {
    "duration": 2839,
    "start_time": "2022-02-15T06:22:42.292Z"
   },
   {
    "duration": 3218,
    "start_time": "2022-02-15T06:22:45.132Z"
   },
   {
    "duration": 2659,
    "start_time": "2022-02-15T06:22:48.351Z"
   },
   {
    "duration": 2179,
    "start_time": "2022-02-15T06:22:51.012Z"
   },
   {
    "duration": 1879,
    "start_time": "2022-02-15T06:22:53.193Z"
   },
   {
    "duration": 14,
    "start_time": "2022-02-15T06:23:09.141Z"
   },
   {
    "duration": 15,
    "start_time": "2022-02-15T06:23:14.229Z"
   },
   {
    "duration": 400,
    "start_time": "2022-02-15T06:23:25.951Z"
   },
   {
    "duration": 14,
    "start_time": "2022-02-15T06:23:30.098Z"
   },
   {
    "duration": 3,
    "start_time": "2022-02-15T06:23:43.814Z"
   },
   {
    "duration": 14,
    "start_time": "2022-02-15T06:23:45.664Z"
   },
   {
    "duration": 3,
    "start_time": "2022-02-15T06:24:04.807Z"
   },
   {
    "duration": 14,
    "start_time": "2022-02-15T06:24:07.334Z"
   },
   {
    "duration": 4,
    "start_time": "2022-02-15T06:24:12.545Z"
   },
   {
    "duration": 15,
    "start_time": "2022-02-15T06:24:18.518Z"
   },
   {
    "duration": 15,
    "start_time": "2022-02-15T06:24:23.319Z"
   },
   {
    "duration": 369,
    "start_time": "2022-02-15T06:25:43.354Z"
   },
   {
    "duration": 28,
    "start_time": "2022-02-15T06:25:50.812Z"
   },
   {
    "duration": 112,
    "start_time": "2022-02-15T06:26:32.779Z"
   },
   {
    "duration": 4,
    "start_time": "2022-02-15T06:26:37.004Z"
   },
   {
    "duration": 365,
    "start_time": "2022-02-15T06:26:40.444Z"
   },
   {
    "duration": 5,
    "start_time": "2022-02-15T06:26:53.443Z"
   },
   {
    "duration": 18,
    "start_time": "2022-02-15T06:26:58.557Z"
   },
   {
    "duration": 3,
    "start_time": "2022-02-15T06:28:01.484Z"
   },
   {
    "duration": 16,
    "start_time": "2022-02-15T06:28:05.289Z"
   },
   {
    "duration": 627,
    "start_time": "2022-02-15T06:28:28.751Z"
   },
   {
    "duration": 17,
    "start_time": "2022-02-15T06:28:33.136Z"
   },
   {
    "duration": 1000,
    "start_time": "2022-02-15T06:28:46.847Z"
   },
   {
    "duration": 533,
    "start_time": "2022-02-15T06:28:47.849Z"
   },
   {
    "duration": 11,
    "start_time": "2022-02-15T06:28:48.384Z"
   },
   {
    "duration": 56,
    "start_time": "2022-02-15T06:28:48.397Z"
   },
   {
    "duration": 49,
    "start_time": "2022-02-15T06:28:48.454Z"
   },
   {
    "duration": 7,
    "start_time": "2022-02-15T06:28:48.505Z"
   },
   {
    "duration": 16,
    "start_time": "2022-02-15T06:28:48.513Z"
   },
   {
    "duration": 9,
    "start_time": "2022-02-15T06:28:48.531Z"
   },
   {
    "duration": 7,
    "start_time": "2022-02-15T06:28:48.541Z"
   },
   {
    "duration": 9,
    "start_time": "2022-02-15T06:28:48.549Z"
   },
   {
    "duration": 6,
    "start_time": "2022-02-15T06:28:48.560Z"
   },
   {
    "duration": 217,
    "start_time": "2022-02-15T06:28:48.567Z"
   },
   {
    "duration": 96,
    "start_time": "2022-02-15T06:28:48.785Z"
   },
   {
    "duration": 6,
    "start_time": "2022-02-15T06:28:48.883Z"
   },
   {
    "duration": 598,
    "start_time": "2022-02-15T06:28:48.890Z"
   },
   {
    "duration": 19,
    "start_time": "2022-02-15T06:28:49.490Z"
   },
   {
    "duration": 8,
    "start_time": "2022-02-15T06:28:49.510Z"
   },
   {
    "duration": 27,
    "start_time": "2022-02-15T06:28:49.519Z"
   },
   {
    "duration": 19,
    "start_time": "2022-02-15T06:28:49.548Z"
   },
   {
    "duration": 20,
    "start_time": "2022-02-15T06:28:49.568Z"
   },
   {
    "duration": 42,
    "start_time": "2022-02-15T06:28:49.589Z"
   },
   {
    "duration": 233,
    "start_time": "2022-02-15T06:28:49.633Z"
   },
   {
    "duration": 14,
    "start_time": "2022-02-15T06:28:49.869Z"
   },
   {
    "duration": 358,
    "start_time": "2022-02-15T06:28:49.885Z"
   },
   {
    "duration": 15,
    "start_time": "2022-02-15T06:28:50.245Z"
   },
   {
    "duration": 4,
    "start_time": "2022-02-15T06:28:50.262Z"
   },
   {
    "duration": 325,
    "start_time": "2022-02-15T06:28:50.267Z"
   },
   {
    "duration": 12,
    "start_time": "2022-02-15T06:28:50.593Z"
   },
   {
    "duration": 8,
    "start_time": "2022-02-15T06:28:50.606Z"
   },
   {
    "duration": 18,
    "start_time": "2022-02-15T06:28:50.615Z"
   },
   {
    "duration": 10,
    "start_time": "2022-02-15T06:28:50.635Z"
   },
   {
    "duration": 1557,
    "start_time": "2022-02-15T06:28:50.647Z"
   },
   {
    "duration": 2340,
    "start_time": "2022-02-15T06:28:52.206Z"
   },
   {
    "duration": 2010,
    "start_time": "2022-02-15T06:28:54.548Z"
   },
   {
    "duration": 2102,
    "start_time": "2022-02-15T06:28:56.560Z"
   },
   {
    "duration": 6,
    "start_time": "2022-02-15T06:28:58.663Z"
   },
   {
    "duration": 10,
    "start_time": "2022-02-15T06:28:58.670Z"
   },
   {
    "duration": 7,
    "start_time": "2022-02-15T06:28:58.682Z"
   },
   {
    "duration": 7,
    "start_time": "2022-02-15T06:28:58.690Z"
   },
   {
    "duration": 29,
    "start_time": "2022-02-15T06:28:58.698Z"
   },
   {
    "duration": 3014,
    "start_time": "2022-02-15T06:28:58.728Z"
   },
   {
    "duration": 3443,
    "start_time": "2022-02-15T06:29:01.744Z"
   },
   {
    "duration": 2720,
    "start_time": "2022-02-15T06:29:05.189Z"
   },
   {
    "duration": 2117,
    "start_time": "2022-02-15T06:29:07.910Z"
   },
   {
    "duration": 1960,
    "start_time": "2022-02-15T06:29:10.028Z"
   },
   {
    "duration": 18,
    "start_time": "2022-02-15T06:29:13.484Z"
   },
   {
    "duration": 348,
    "start_time": "2022-02-15T06:46:52.334Z"
   },
   {
    "duration": 1526,
    "start_time": "2022-02-15T06:47:05.801Z"
   },
   {
    "duration": 1453,
    "start_time": "2022-02-15T06:47:24.837Z"
   },
   {
    "duration": 1938,
    "start_time": "2022-02-15T06:48:46.769Z"
   },
   {
    "duration": 1893,
    "start_time": "2022-02-15T06:50:06.234Z"
   },
   {
    "duration": 1803,
    "start_time": "2022-02-15T07:05:26.820Z"
   },
   {
    "duration": 1907,
    "start_time": "2022-02-15T07:06:00.839Z"
   },
   {
    "duration": 1785,
    "start_time": "2022-02-15T07:06:08.278Z"
   },
   {
    "duration": 1919,
    "start_time": "2022-02-15T07:06:28.746Z"
   },
   {
    "duration": 1910,
    "start_time": "2022-02-15T07:06:38.933Z"
   },
   {
    "duration": 2036,
    "start_time": "2022-02-15T07:19:40.686Z"
   },
   {
    "duration": 1833,
    "start_time": "2022-02-15T07:20:01.625Z"
   },
   {
    "duration": 2024,
    "start_time": "2022-02-15T07:20:16.507Z"
   },
   {
    "duration": 1842,
    "start_time": "2022-02-15T07:20:20.421Z"
   },
   {
    "duration": 1925,
    "start_time": "2022-02-15T07:20:25.353Z"
   },
   {
    "duration": 7,
    "start_time": "2022-02-15T07:35:43.316Z"
   },
   {
    "duration": 727,
    "start_time": "2022-02-15T07:35:43.325Z"
   },
   {
    "duration": 12,
    "start_time": "2022-02-15T07:35:44.054Z"
   },
   {
    "duration": 56,
    "start_time": "2022-02-15T07:35:44.068Z"
   },
   {
    "duration": 39,
    "start_time": "2022-02-15T07:35:44.126Z"
   },
   {
    "duration": 7,
    "start_time": "2022-02-15T07:35:44.167Z"
   },
   {
    "duration": 9,
    "start_time": "2022-02-15T07:35:44.176Z"
   },
   {
    "duration": 9,
    "start_time": "2022-02-15T07:35:44.187Z"
   },
   {
    "duration": 7,
    "start_time": "2022-02-15T07:35:44.198Z"
   },
   {
    "duration": 5,
    "start_time": "2022-02-15T07:35:44.207Z"
   },
   {
    "duration": 32,
    "start_time": "2022-02-15T07:35:44.214Z"
   },
   {
    "duration": 215,
    "start_time": "2022-02-15T07:35:44.248Z"
   },
   {
    "duration": 92,
    "start_time": "2022-02-15T07:35:44.464Z"
   },
   {
    "duration": 7,
    "start_time": "2022-02-15T07:35:44.558Z"
   },
   {
    "duration": 487,
    "start_time": "2022-02-15T07:35:44.567Z"
   },
   {
    "duration": 20,
    "start_time": "2022-02-15T07:35:45.056Z"
   },
   {
    "duration": 4,
    "start_time": "2022-02-15T07:35:45.078Z"
   },
   {
    "duration": 26,
    "start_time": "2022-02-15T07:35:45.083Z"
   },
   {
    "duration": 58,
    "start_time": "2022-02-15T07:35:45.111Z"
   },
   {
    "duration": 24,
    "start_time": "2022-02-15T07:35:45.170Z"
   },
   {
    "duration": 235,
    "start_time": "2022-02-15T07:35:45.196Z"
   },
   {
    "duration": 17,
    "start_time": "2022-02-15T07:35:45.433Z"
   },
   {
    "duration": 378,
    "start_time": "2022-02-15T07:35:45.452Z"
   },
   {
    "duration": 21,
    "start_time": "2022-02-15T07:35:45.832Z"
   },
   {
    "duration": 4,
    "start_time": "2022-02-15T07:35:45.854Z"
   },
   {
    "duration": 331,
    "start_time": "2022-02-15T07:35:45.859Z"
   },
   {
    "duration": 9,
    "start_time": "2022-02-15T07:35:46.193Z"
   },
   {
    "duration": 7,
    "start_time": "2022-02-15T07:35:46.204Z"
   },
   {
    "duration": 10,
    "start_time": "2022-02-15T07:35:46.213Z"
   },
   {
    "duration": 7,
    "start_time": "2022-02-15T07:35:46.224Z"
   },
   {
    "duration": 1880,
    "start_time": "2022-02-15T07:35:46.233Z"
   },
   {
    "duration": 2440,
    "start_time": "2022-02-15T07:35:48.115Z"
   },
   {
    "duration": 2268,
    "start_time": "2022-02-15T07:35:50.557Z"
   },
   {
    "duration": 1975,
    "start_time": "2022-02-15T07:35:52.827Z"
   },
   {
    "duration": 6,
    "start_time": "2022-02-15T07:35:54.803Z"
   },
   {
    "duration": 8,
    "start_time": "2022-02-15T07:35:54.810Z"
   },
   {
    "duration": 9,
    "start_time": "2022-02-15T07:35:54.820Z"
   },
   {
    "duration": 19,
    "start_time": "2022-02-15T07:35:54.830Z"
   },
   {
    "duration": 9,
    "start_time": "2022-02-15T07:35:54.851Z"
   },
   {
    "duration": 2875,
    "start_time": "2022-02-15T07:35:54.861Z"
   },
   {
    "duration": 3652,
    "start_time": "2022-02-15T07:35:57.737Z"
   },
   {
    "duration": 2871,
    "start_time": "2022-02-15T07:36:01.391Z"
   },
   {
    "duration": 1988,
    "start_time": "2022-02-15T07:36:04.263Z"
   },
   {
    "duration": 1936,
    "start_time": "2022-02-15T07:36:06.252Z"
   },
   {
    "duration": 307,
    "start_time": "2022-02-16T05:34:35.962Z"
   },
   {
    "duration": 1412,
    "start_time": "2022-02-16T05:44:23.904Z"
   },
   {
    "duration": 743,
    "start_time": "2022-02-16T05:44:25.318Z"
   },
   {
    "duration": 18,
    "start_time": "2022-02-16T05:44:26.064Z"
   },
   {
    "duration": 85,
    "start_time": "2022-02-16T05:44:26.085Z"
   },
   {
    "duration": 100,
    "start_time": "2022-02-16T05:44:26.173Z"
   },
   {
    "duration": 11,
    "start_time": "2022-02-16T05:44:26.277Z"
   },
   {
    "duration": 13,
    "start_time": "2022-02-16T05:44:26.291Z"
   },
   {
    "duration": 12,
    "start_time": "2022-02-16T05:44:26.308Z"
   },
   {
    "duration": 11,
    "start_time": "2022-02-16T05:44:26.350Z"
   },
   {
    "duration": 11,
    "start_time": "2022-02-16T05:44:26.364Z"
   },
   {
    "duration": 7,
    "start_time": "2022-02-16T05:44:26.378Z"
   },
   {
    "duration": 356,
    "start_time": "2022-02-16T05:44:26.387Z"
   },
   {
    "duration": 135,
    "start_time": "2022-02-16T05:44:26.749Z"
   },
   {
    "duration": 9,
    "start_time": "2022-02-16T05:44:26.887Z"
   },
   {
    "duration": 804,
    "start_time": "2022-02-16T05:44:26.899Z"
   },
   {
    "duration": 27,
    "start_time": "2022-02-16T05:44:27.706Z"
   },
   {
    "duration": 4,
    "start_time": "2022-02-16T05:44:27.748Z"
   },
   {
    "duration": 42,
    "start_time": "2022-02-16T05:44:27.754Z"
   },
   {
    "duration": 50,
    "start_time": "2022-02-16T05:44:27.799Z"
   },
   {
    "duration": 34,
    "start_time": "2022-02-16T05:44:27.852Z"
   },
   {
    "duration": 335,
    "start_time": "2022-02-16T05:44:27.888Z"
   },
   {
    "duration": 53,
    "start_time": "2022-02-16T05:44:28.173Z"
   },
   {
    "duration": 34,
    "start_time": "2022-02-16T05:44:28.194Z"
   },
   {
    "duration": 24,
    "start_time": "2022-02-16T05:44:28.205Z"
   },
   {
    "duration": 20,
    "start_time": "2022-02-16T05:44:28.210Z"
   },
   {
    "duration": 17,
    "start_time": "2022-02-16T05:44:28.215Z"
   },
   {
    "duration": 14,
    "start_time": "2022-02-16T05:44:28.219Z"
   },
   {
    "duration": 10,
    "start_time": "2022-02-16T05:44:28.225Z"
   },
   {
    "duration": 8,
    "start_time": "2022-02-16T05:44:28.228Z"
   },
   {
    "duration": 6,
    "start_time": "2022-02-16T05:44:28.231Z"
   },
   {
    "duration": 4,
    "start_time": "2022-02-16T05:44:28.235Z"
   },
   {
    "duration": 2,
    "start_time": "2022-02-16T05:44:28.238Z"
   },
   {
    "duration": 1,
    "start_time": "2022-02-16T05:44:28.241Z"
   },
   {
    "duration": 0,
    "start_time": "2022-02-16T05:44:28.244Z"
   },
   {
    "duration": -1,
    "start_time": "2022-02-16T05:44:28.247Z"
   },
   {
    "duration": -3,
    "start_time": "2022-02-16T05:44:28.251Z"
   },
   {
    "duration": -4,
    "start_time": "2022-02-16T05:44:28.254Z"
   },
   {
    "duration": -5,
    "start_time": "2022-02-16T05:44:28.257Z"
   },
   {
    "duration": -5,
    "start_time": "2022-02-16T05:44:28.259Z"
   },
   {
    "duration": -6,
    "start_time": "2022-02-16T05:44:28.262Z"
   },
   {
    "duration": -13,
    "start_time": "2022-02-16T05:44:28.272Z"
   },
   {
    "duration": -13,
    "start_time": "2022-02-16T05:44:28.275Z"
   },
   {
    "duration": -15,
    "start_time": "2022-02-16T05:44:28.278Z"
   },
   {
    "duration": -15,
    "start_time": "2022-02-16T05:44:28.280Z"
   },
   {
    "duration": 243,
    "start_time": "2022-02-16T05:45:09.257Z"
   },
   {
    "duration": 395,
    "start_time": "2022-02-16T05:46:02.517Z"
   },
   {
    "duration": 1458,
    "start_time": "2022-02-16T05:46:12.682Z"
   },
   {
    "duration": 737,
    "start_time": "2022-02-16T05:46:14.144Z"
   },
   {
    "duration": 18,
    "start_time": "2022-02-16T05:46:14.884Z"
   },
   {
    "duration": 79,
    "start_time": "2022-02-16T05:46:14.904Z"
   },
   {
    "duration": 91,
    "start_time": "2022-02-16T05:46:14.985Z"
   },
   {
    "duration": 11,
    "start_time": "2022-02-16T05:46:15.079Z"
   },
   {
    "duration": 14,
    "start_time": "2022-02-16T05:46:15.092Z"
   },
   {
    "duration": 14,
    "start_time": "2022-02-16T05:46:15.109Z"
   },
   {
    "duration": 10,
    "start_time": "2022-02-16T05:46:15.149Z"
   },
   {
    "duration": 9,
    "start_time": "2022-02-16T05:46:15.162Z"
   },
   {
    "duration": 5,
    "start_time": "2022-02-16T05:46:15.173Z"
   },
   {
    "duration": 356,
    "start_time": "2022-02-16T05:46:15.180Z"
   },
   {
    "duration": 150,
    "start_time": "2022-02-16T05:46:15.539Z"
   },
   {
    "duration": 11,
    "start_time": "2022-02-16T05:46:15.692Z"
   },
   {
    "duration": 767,
    "start_time": "2022-02-16T05:46:15.705Z"
   },
   {
    "duration": 27,
    "start_time": "2022-02-16T05:46:16.475Z"
   },
   {
    "duration": 5,
    "start_time": "2022-02-16T05:46:16.505Z"
   },
   {
    "duration": 62,
    "start_time": "2022-02-16T05:46:16.513Z"
   },
   {
    "duration": 32,
    "start_time": "2022-02-16T05:46:16.578Z"
   },
   {
    "duration": 56,
    "start_time": "2022-02-16T05:46:16.613Z"
   },
   {
    "duration": 410,
    "start_time": "2022-02-16T05:46:16.672Z"
   },
   {
    "duration": 22,
    "start_time": "2022-02-16T05:46:17.085Z"
   }
  ],
  "kernelspec": {
   "display_name": "Python 3",
   "language": "python",
   "name": "python3"
  },
  "language_info": {
   "codemirror_mode": {
    "name": "ipython",
    "version": 3
   },
   "file_extension": ".py",
   "mimetype": "text/x-python",
   "name": "python",
   "nbconvert_exporter": "python",
   "pygments_lexer": "ipython3",
   "version": "3.8.8"
  },
  "toc": {
   "base_numbering": "1",
   "nav_menu": {},
   "number_sections": false,
   "sideBar": true,
   "skip_h1_title": true,
   "title_cell": "Table of Contents",
   "title_sidebar": "Contents",
   "toc_cell": false,
   "toc_position": {
    "height": "calc(100% - 180px)",
    "left": "10px",
    "top": "150px",
    "width": "268.6px"
   },
   "toc_section_display": true,
   "toc_window_display": false
  }
 },
 "nbformat": 4,
 "nbformat_minor": 4
}
