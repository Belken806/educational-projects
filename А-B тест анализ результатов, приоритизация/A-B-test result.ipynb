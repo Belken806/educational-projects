{
 "cells": [
  {
   "cell_type": "markdown",
   "metadata": {},
   "source": [
    "# Приоритизация гипотез. А/B тест, анализ и исследование результатов.\n",
    "Я являюсь аналитиком крупного интернет-магазина. Вместе с отделом маркетинга мы подготовили список гипотез для увеличения выручки.\n",
    "\n",
    "**Цели исследования:**  \n",
    "* Приоритизация гипотез \n",
    "* Анализ результатов A/B-теста\n",
    "\n",
    "**Ход исследования:** \n",
    "Ознакомится с данным, приоритизировать имеющиеся гипотезы методом ICE и RICE. Провести анализ полученных результатов А/В-теста, рассмотреть конверсию и средний чек по группам, построить графики, рассмотреть статистические значимости между конверсией и средним чеком групп."
   ]
  },
  {
   "cell_type": "markdown",
   "metadata": {},
   "source": [
    "## Анализ и обработка данных\n",
    "\n",
    "Перед тем как приступить к анализу данных, импортируем библиотеки для работы."
   ]
  },
  {
   "cell_type": "code",
   "execution_count": 1,
   "metadata": {},
   "outputs": [],
   "source": [
    "import pandas as pd \n",
    "import numpy as np\n",
    "import matplotlib.pyplot as plt\n",
    "import scipy.stats as stats\n",
    "from pandas.plotting import register_matplotlib_converters\n",
    "register_matplotlib_converters()"
   ]
  },
  {
   "cell_type": "markdown",
   "metadata": {},
   "source": [
    "Откроем файлы с данными. "
   ]
  },
  {
   "cell_type": "code",
   "execution_count": 2,
   "metadata": {},
   "outputs": [],
   "source": [
    "hypothesis = pd.read_csv('/datasets/hypothesis.csv')\n",
    "orders = pd.read_csv('/datasets/orders.csv')\n",
    "visitors = pd.read_csv(\"/datasets/visitors.csv\") "
   ]
  },
  {
   "cell_type": "markdown",
   "metadata": {},
   "source": [
    "Рассмотрим данные с гипотезами. "
   ]
  },
  {
   "cell_type": "code",
   "execution_count": 3,
   "metadata": {
    "scrolled": true
   },
   "outputs": [
    {
     "data": {
      "text/html": [
       "<div>\n",
       "<style scoped>\n",
       "    .dataframe tbody tr th:only-of-type {\n",
       "        vertical-align: middle;\n",
       "    }\n",
       "\n",
       "    .dataframe tbody tr th {\n",
       "        vertical-align: top;\n",
       "    }\n",
       "\n",
       "    .dataframe thead th {\n",
       "        text-align: right;\n",
       "    }\n",
       "</style>\n",
       "<table border=\"1\" class=\"dataframe\">\n",
       "  <thead>\n",
       "    <tr style=\"text-align: right;\">\n",
       "      <th></th>\n",
       "      <th>Hypothesis</th>\n",
       "      <th>Reach</th>\n",
       "      <th>Impact</th>\n",
       "      <th>Confidence</th>\n",
       "      <th>Efforts</th>\n",
       "    </tr>\n",
       "  </thead>\n",
       "  <tbody>\n",
       "    <tr>\n",
       "      <td>0</td>\n",
       "      <td>Добавить два новых канала привлечения трафика, что позволит привлекать на 30% больше пользователей</td>\n",
       "      <td>3</td>\n",
       "      <td>10</td>\n",
       "      <td>8</td>\n",
       "      <td>6</td>\n",
       "    </tr>\n",
       "    <tr>\n",
       "      <td>1</td>\n",
       "      <td>Запустить собственную службу доставки, что сократит срок доставки заказов</td>\n",
       "      <td>2</td>\n",
       "      <td>5</td>\n",
       "      <td>4</td>\n",
       "      <td>10</td>\n",
       "    </tr>\n",
       "    <tr>\n",
       "      <td>2</td>\n",
       "      <td>Добавить блоки рекомендаций товаров на сайт интернет магазина, чтобы повысить конверсию и средний чек заказа</td>\n",
       "      <td>8</td>\n",
       "      <td>3</td>\n",
       "      <td>7</td>\n",
       "      <td>3</td>\n",
       "    </tr>\n",
       "    <tr>\n",
       "      <td>3</td>\n",
       "      <td>Изменить структура категорий, что увеличит конверсию, т.к. пользователи быстрее найдут нужный товар</td>\n",
       "      <td>8</td>\n",
       "      <td>3</td>\n",
       "      <td>3</td>\n",
       "      <td>8</td>\n",
       "    </tr>\n",
       "    <tr>\n",
       "      <td>4</td>\n",
       "      <td>Изменить цвет фона главной страницы, чтобы увеличить вовлеченность пользователей</td>\n",
       "      <td>3</td>\n",
       "      <td>1</td>\n",
       "      <td>1</td>\n",
       "      <td>1</td>\n",
       "    </tr>\n",
       "  </tbody>\n",
       "</table>\n",
       "</div>"
      ],
      "text/plain": [
       "                                                                                                     Hypothesis  \\\n",
       "0            Добавить два новых канала привлечения трафика, что позволит привлекать на 30% больше пользователей   \n",
       "1                                     Запустить собственную службу доставки, что сократит срок доставки заказов   \n",
       "2  Добавить блоки рекомендаций товаров на сайт интернет магазина, чтобы повысить конверсию и средний чек заказа   \n",
       "3           Изменить структура категорий, что увеличит конверсию, т.к. пользователи быстрее найдут нужный товар   \n",
       "4                              Изменить цвет фона главной страницы, чтобы увеличить вовлеченность пользователей   \n",
       "\n",
       "   Reach  Impact  Confidence  Efforts  \n",
       "0      3      10           8        6  \n",
       "1      2       5           4       10  \n",
       "2      8       3           7        3  \n",
       "3      8       3           3        8  \n",
       "4      3       1           1        1  "
      ]
     },
     "execution_count": 3,
     "metadata": {},
     "output_type": "execute_result"
    }
   ],
   "source": [
    "pd.options.display.max_colwidth = 150 \n",
    "hypothesis.head()"
   ]
  },
  {
   "cell_type": "code",
   "execution_count": 4,
   "metadata": {
    "scrolled": false
   },
   "outputs": [
    {
     "name": "stdout",
     "output_type": "stream",
     "text": [
      "<class 'pandas.core.frame.DataFrame'>\n",
      "RangeIndex: 9 entries, 0 to 8\n",
      "Data columns (total 5 columns):\n",
      "Hypothesis    9 non-null object\n",
      "Reach         9 non-null int64\n",
      "Impact        9 non-null int64\n",
      "Confidence    9 non-null int64\n",
      "Efforts       9 non-null int64\n",
      "dtypes: int64(4), object(1)\n",
      "memory usage: 488.0+ bytes\n"
     ]
    }
   ],
   "source": [
    "hypothesis.info()"
   ]
  },
  {
   "cell_type": "markdown",
   "metadata": {},
   "source": [
    "\n",
    "\n",
    "Мы можем заметить, что с данными все в порядке. В них отсутствуют пропуски.\n",
    "\n",
    "Посмотрим на данные `orders`."
   ]
  },
  {
   "cell_type": "code",
   "execution_count": null,
   "metadata": {},
   "outputs": [],
   "source": [
    "orders.head()"
   ]
  },
  {
   "cell_type": "code",
   "execution_count": null,
   "metadata": {},
   "outputs": [],
   "source": [
    "orders.info()"
   ]
  },
  {
   "cell_type": "markdown",
   "metadata": {},
   "source": [
    "\n",
    "\n",
    "В данных отсуствуют пропуски. Колонка с датой представленные типом `object`, для удобной работы с датами, мы измением тип данных. Также мы приведём название колонок к одному виду, и для удобства часть из них переменуем. "
   ]
  },
  {
   "cell_type": "code",
   "execution_count": 7,
   "metadata": {},
   "outputs": [],
   "source": [
    "orders['date'] = pd.to_datetime(orders['date'])\n",
    "\n",
    "orders = orders.rename(columns={'transactionId' : 'transaction_id', 'visitorId' : 'visitor_id'})"
   ]
  },
  {
   "cell_type": "markdown",
   "metadata": {},
   "source": [
    "Посмотрим на данные `visitors`."
   ]
  },
  {
   "cell_type": "code",
   "execution_count": null,
   "metadata": {},
   "outputs": [],
   "source": [
    "visitors.head()"
   ]
  },
  {
   "cell_type": "code",
   "execution_count": null,
   "metadata": {},
   "outputs": [],
   "source": [
    "visitors.info()"
   ]
  },
  {
   "cell_type": "markdown",
   "metadata": {},
   "source": [
    "\n",
    "С данными также все хорошо. Дата аналогично, имеет другой тип, его также поменяем."
   ]
  },
  {
   "cell_type": "code",
   "execution_count": 10,
   "metadata": {},
   "outputs": [],
   "source": [
    "visitors['date'] = pd.to_datetime(visitors['date'])"
   ]
  },
  {
   "cell_type": "markdown",
   "metadata": {},
   "source": [
    "Проверим данные на наличие дубликатов."
   ]
  },
  {
   "cell_type": "code",
   "execution_count": 11,
   "metadata": {
    "scrolled": false
   },
   "outputs": [
    {
     "name": "stdout",
     "output_type": "stream",
     "text": [
      "Количество дубликатов в hypothesis: 0\n",
      "Количество дубликатов в orders : 0\n",
      "Количество дубликатов в visitors : 0\n"
     ]
    }
   ],
   "source": [
    "print('Количество дубликатов в hypothesis:', hypothesis.duplicated().sum())\n",
    "print('Количество дубликатов в orders :', orders.duplicated().sum())\n",
    "print('Количество дубликатов в visitors :', visitors.duplicated().sum())"
   ]
  },
  {
   "cell_type": "markdown",
   "metadata": {},
   "source": [
    "Перед тем как закончить с предварительным анализом данных, надо убедиться что результаты А/B теста корректны и все пользователи до конца эксперимента оставались в своей группе."
   ]
  },
  {
   "cell_type": "code",
   "execution_count": null,
   "metadata": {},
   "outputs": [],
   "source": [
    "check = (orders.pivot_table(index='visitor_id', values='group', aggfunc='nunique'))\n",
    "check.sort_values('group', ascending=False).head()"
   ]
  },
  {
   "cell_type": "markdown",
   "metadata": {},
   "source": [
    "Как мы видим часть пользователей, за время эксперимента побывали в двух группах. Чтобы избежать искаженний в наших результатах, мы удалим таких пользователей. И пересохраним полученные результаты."
   ]
  },
  {
   "cell_type": "code",
   "execution_count": null,
   "metadata": {},
   "outputs": [],
   "source": [
    "check = check[check['group'] != 1]\n",
    "check = orders[orders['visitor_id'].isin(check.index)].sort_values('visitor_id')\n",
    "mistakes = check['visitor_id'].unique()\n",
    "orders = orders[~orders['visitor_id'].isin(mistakes)]\n",
    "orders"
   ]
  },
  {
   "cell_type": "markdown",
   "metadata": {},
   "source": [
    "### Вывод\n",
    "\n",
    "Перед нами качественные данные, с отсуствием пропусков и дубликатов. Для удобства мы изменили название некоторых колонок, привели к общему виду и заменили пробелы нижним слэшем. Колонки с датами мы привели к типу `datetime`. \n",
    "\n",
    "В наших данных была часть пользователей, которые попали в обе группы. Чтобы избежать искаженний результатов теста, такие пользователи далее в нашем анализе не участвует."
   ]
  },
  {
   "cell_type": "markdown",
   "metadata": {},
   "source": [
    "## Приоритизация гипотез"
   ]
  },
  {
   "cell_type": "markdown",
   "metadata": {},
   "source": [
    "Посмотрим ещё раз таблицу с гипотезами."
   ]
  },
  {
   "cell_type": "code",
   "execution_count": 14,
   "metadata": {
    "scrolled": true
   },
   "outputs": [
    {
     "data": {
      "text/html": [
       "<div>\n",
       "<style scoped>\n",
       "    .dataframe tbody tr th:only-of-type {\n",
       "        vertical-align: middle;\n",
       "    }\n",
       "\n",
       "    .dataframe tbody tr th {\n",
       "        vertical-align: top;\n",
       "    }\n",
       "\n",
       "    .dataframe thead th {\n",
       "        text-align: right;\n",
       "    }\n",
       "</style>\n",
       "<table border=\"1\" class=\"dataframe\">\n",
       "  <thead>\n",
       "    <tr style=\"text-align: right;\">\n",
       "      <th></th>\n",
       "      <th>Hypothesis</th>\n",
       "      <th>Reach</th>\n",
       "      <th>Impact</th>\n",
       "      <th>Confidence</th>\n",
       "      <th>Efforts</th>\n",
       "    </tr>\n",
       "  </thead>\n",
       "  <tbody>\n",
       "    <tr>\n",
       "      <td>0</td>\n",
       "      <td>Добавить два новых канала привлечения трафика, что позволит привлекать на 30% больше пользователей</td>\n",
       "      <td>3</td>\n",
       "      <td>10</td>\n",
       "      <td>8</td>\n",
       "      <td>6</td>\n",
       "    </tr>\n",
       "    <tr>\n",
       "      <td>1</td>\n",
       "      <td>Запустить собственную службу доставки, что сократит срок доставки заказов</td>\n",
       "      <td>2</td>\n",
       "      <td>5</td>\n",
       "      <td>4</td>\n",
       "      <td>10</td>\n",
       "    </tr>\n",
       "    <tr>\n",
       "      <td>2</td>\n",
       "      <td>Добавить блоки рекомендаций товаров на сайт интернет магазина, чтобы повысить конверсию и средний чек заказа</td>\n",
       "      <td>8</td>\n",
       "      <td>3</td>\n",
       "      <td>7</td>\n",
       "      <td>3</td>\n",
       "    </tr>\n",
       "    <tr>\n",
       "      <td>3</td>\n",
       "      <td>Изменить структура категорий, что увеличит конверсию, т.к. пользователи быстрее найдут нужный товар</td>\n",
       "      <td>8</td>\n",
       "      <td>3</td>\n",
       "      <td>3</td>\n",
       "      <td>8</td>\n",
       "    </tr>\n",
       "    <tr>\n",
       "      <td>4</td>\n",
       "      <td>Изменить цвет фона главной страницы, чтобы увеличить вовлеченность пользователей</td>\n",
       "      <td>3</td>\n",
       "      <td>1</td>\n",
       "      <td>1</td>\n",
       "      <td>1</td>\n",
       "    </tr>\n",
       "    <tr>\n",
       "      <td>5</td>\n",
       "      <td>Добавить страницу отзывов клиентов о магазине, что позволит увеличить количество заказов</td>\n",
       "      <td>3</td>\n",
       "      <td>2</td>\n",
       "      <td>2</td>\n",
       "      <td>3</td>\n",
       "    </tr>\n",
       "    <tr>\n",
       "      <td>6</td>\n",
       "      <td>Показать на главной странице баннеры с актуальными акциями и распродажами, чтобы увеличить конверсию</td>\n",
       "      <td>5</td>\n",
       "      <td>3</td>\n",
       "      <td>8</td>\n",
       "      <td>3</td>\n",
       "    </tr>\n",
       "    <tr>\n",
       "      <td>7</td>\n",
       "      <td>Добавить форму подписки на все основные страницы, чтобы собрать базу клиентов для email-рассылок</td>\n",
       "      <td>10</td>\n",
       "      <td>7</td>\n",
       "      <td>8</td>\n",
       "      <td>5</td>\n",
       "    </tr>\n",
       "    <tr>\n",
       "      <td>8</td>\n",
       "      <td>Запустить акцию, дающую скидку на товар в день рождения</td>\n",
       "      <td>1</td>\n",
       "      <td>9</td>\n",
       "      <td>9</td>\n",
       "      <td>5</td>\n",
       "    </tr>\n",
       "  </tbody>\n",
       "</table>\n",
       "</div>"
      ],
      "text/plain": [
       "                                                                                                     Hypothesis  \\\n",
       "0            Добавить два новых канала привлечения трафика, что позволит привлекать на 30% больше пользователей   \n",
       "1                                     Запустить собственную службу доставки, что сократит срок доставки заказов   \n",
       "2  Добавить блоки рекомендаций товаров на сайт интернет магазина, чтобы повысить конверсию и средний чек заказа   \n",
       "3           Изменить структура категорий, что увеличит конверсию, т.к. пользователи быстрее найдут нужный товар   \n",
       "4                              Изменить цвет фона главной страницы, чтобы увеличить вовлеченность пользователей   \n",
       "5                      Добавить страницу отзывов клиентов о магазине, что позволит увеличить количество заказов   \n",
       "6          Показать на главной странице баннеры с актуальными акциями и распродажами, чтобы увеличить конверсию   \n",
       "7              Добавить форму подписки на все основные страницы, чтобы собрать базу клиентов для email-рассылок   \n",
       "8                                                       Запустить акцию, дающую скидку на товар в день рождения   \n",
       "\n",
       "   Reach  Impact  Confidence  Efforts  \n",
       "0      3      10           8        6  \n",
       "1      2       5           4       10  \n",
       "2      8       3           7        3  \n",
       "3      8       3           3        8  \n",
       "4      3       1           1        1  \n",
       "5      3       2           2        3  \n",
       "6      5       3           8        3  \n",
       "7     10       7           8        5  \n",
       "8      1       9           9        5  "
      ]
     },
     "execution_count": 14,
     "metadata": {},
     "output_type": "execute_result"
    }
   ],
   "source": [
    "hypothesis"
   ]
  },
  {
   "cell_type": "markdown",
   "metadata": {},
   "source": [
    "Для приоритизации гипотез, мы воспользуемся методами ICE и RICE. \n",
    "\n",
    "Для рассчёта ICE мы используем формулу: `Impact * Confidence / Efforts`.\n",
    "Воспользуемся формулой и отсортируем по убыванию. Посмотрим на первые пять гипотез."
   ]
  },
  {
   "cell_type": "code",
   "execution_count": 15,
   "metadata": {
    "scrolled": false
   },
   "outputs": [
    {
     "data": {
      "text/html": [
       "<div>\n",
       "<style scoped>\n",
       "    .dataframe tbody tr th:only-of-type {\n",
       "        vertical-align: middle;\n",
       "    }\n",
       "\n",
       "    .dataframe tbody tr th {\n",
       "        vertical-align: top;\n",
       "    }\n",
       "\n",
       "    .dataframe thead th {\n",
       "        text-align: right;\n",
       "    }\n",
       "</style>\n",
       "<table border=\"1\" class=\"dataframe\">\n",
       "  <thead>\n",
       "    <tr style=\"text-align: right;\">\n",
       "      <th></th>\n",
       "      <th>Hypothesis</th>\n",
       "      <th>ICE</th>\n",
       "    </tr>\n",
       "  </thead>\n",
       "  <tbody>\n",
       "    <tr>\n",
       "      <td>8</td>\n",
       "      <td>Запустить акцию, дающую скидку на товар в день рождения</td>\n",
       "      <td>16.20</td>\n",
       "    </tr>\n",
       "    <tr>\n",
       "      <td>0</td>\n",
       "      <td>Добавить два новых канала привлечения трафика, что позволит привлекать на 30% больше пользователей</td>\n",
       "      <td>13.33</td>\n",
       "    </tr>\n",
       "    <tr>\n",
       "      <td>7</td>\n",
       "      <td>Добавить форму подписки на все основные страницы, чтобы собрать базу клиентов для email-рассылок</td>\n",
       "      <td>11.20</td>\n",
       "    </tr>\n",
       "    <tr>\n",
       "      <td>6</td>\n",
       "      <td>Показать на главной странице баннеры с актуальными акциями и распродажами, чтобы увеличить конверсию</td>\n",
       "      <td>8.00</td>\n",
       "    </tr>\n",
       "    <tr>\n",
       "      <td>2</td>\n",
       "      <td>Добавить блоки рекомендаций товаров на сайт интернет магазина, чтобы повысить конверсию и средний чек заказа</td>\n",
       "      <td>7.00</td>\n",
       "    </tr>\n",
       "  </tbody>\n",
       "</table>\n",
       "</div>"
      ],
      "text/plain": [
       "                                                                                                     Hypothesis  \\\n",
       "8                                                       Запустить акцию, дающую скидку на товар в день рождения   \n",
       "0            Добавить два новых канала привлечения трафика, что позволит привлекать на 30% больше пользователей   \n",
       "7              Добавить форму подписки на все основные страницы, чтобы собрать базу клиентов для email-рассылок   \n",
       "6          Показать на главной странице баннеры с актуальными акциями и распродажами, чтобы увеличить конверсию   \n",
       "2  Добавить блоки рекомендаций товаров на сайт интернет магазина, чтобы повысить конверсию и средний чек заказа   \n",
       "\n",
       "     ICE  \n",
       "8  16.20  \n",
       "0  13.33  \n",
       "7  11.20  \n",
       "6   8.00  \n",
       "2   7.00  "
      ]
     },
     "execution_count": 15,
     "metadata": {},
     "output_type": "execute_result"
    }
   ],
   "source": [
    "hypothesis['ICE'] = (hypothesis['Impact'] * hypothesis['Confidence'] / hypothesis['Efforts']).round(2)\n",
    "hypothesis[['Hypothesis','ICE']].sort_values('ICE',ascending=False).head()"
   ]
  },
  {
   "cell_type": "markdown",
   "metadata": {},
   "source": [
    "Перспективной для нас выглядит гипотеза «*запустить акцию, дающую скидку на товар в день рождения*». Но перед тем окончательно сделать выбор посчитаем RICE. Это модификация ICE, где учитывается охват. \n",
    "\n",
    "Для рассчёта RICE мы используем формулу: `Reach * Impact * Confidence / Efforts`.\n",
    "Воспользуемся формулой и отсортируем по убыванию. Посмотрим на первые пять гипотез c учётом полученных значений ICE."
   ]
  },
  {
   "cell_type": "markdown",
   "metadata": {},
   "source": [
    "RISE"
   ]
  },
  {
   "cell_type": "code",
   "execution_count": 16,
   "metadata": {
    "scrolled": true
   },
   "outputs": [
    {
     "data": {
      "text/html": [
       "<style  type=\"text/css\" >\n",
       "    #T_65d57fdc_93e1_11ec_8886_02420a396fc5row0_col1 {\n",
       "            background-color:  #004529;\n",
       "            color:  #f1f1f1;\n",
       "        }    #T_65d57fdc_93e1_11ec_8886_02420a396fc5row0_col2 {\n",
       "            background-color:  #8bce81;\n",
       "            color:  #000000;\n",
       "        }    #T_65d57fdc_93e1_11ec_8886_02420a396fc5row1_col1 {\n",
       "            background-color:  #9cd687;\n",
       "            color:  #000000;\n",
       "        }    #T_65d57fdc_93e1_11ec_8886_02420a396fc5row1_col2 {\n",
       "            background-color:  #ffffe5;\n",
       "            color:  #000000;\n",
       "        }    #T_65d57fdc_93e1_11ec_8886_02420a396fc5row2_col1 {\n",
       "            background-color:  #daf0a4;\n",
       "            color:  #000000;\n",
       "        }    #T_65d57fdc_93e1_11ec_8886_02420a396fc5row2_col2 {\n",
       "            background-color:  #31974f;\n",
       "            color:  #000000;\n",
       "        }    #T_65d57fdc_93e1_11ec_8886_02420a396fc5row3_col1 {\n",
       "            background-color:  #daf0a4;\n",
       "            color:  #000000;\n",
       "        }    #T_65d57fdc_93e1_11ec_8886_02420a396fc5row3_col2 {\n",
       "            background-color:  #f8fcc0;\n",
       "            color:  #000000;\n",
       "        }    #T_65d57fdc_93e1_11ec_8886_02420a396fc5row4_col1 {\n",
       "            background-color:  #ffffe5;\n",
       "            color:  #000000;\n",
       "        }    #T_65d57fdc_93e1_11ec_8886_02420a396fc5row4_col2 {\n",
       "            background-color:  #004529;\n",
       "            color:  #f1f1f1;\n",
       "        }</style><table id=\"T_65d57fdc_93e1_11ec_8886_02420a396fc5\" ><thead>    <tr>        <th class=\"blank level0\" ></th>        <th class=\"col_heading level0 col0\" >Hypothesis</th>        <th class=\"col_heading level0 col1\" >RICE</th>        <th class=\"col_heading level0 col2\" >ICE</th>    </tr></thead><tbody>\n",
       "                <tr>\n",
       "                        <th id=\"T_65d57fdc_93e1_11ec_8886_02420a396fc5level0_row0\" class=\"row_heading level0 row0\" >7</th>\n",
       "                        <td id=\"T_65d57fdc_93e1_11ec_8886_02420a396fc5row0_col0\" class=\"data row0 col0\" >Добавить форму подписки на все основные страницы, чтобы собрать базу клиентов для email-рассылок</td>\n",
       "                        <td id=\"T_65d57fdc_93e1_11ec_8886_02420a396fc5row0_col1\" class=\"data row0 col1\" >112.00</td>\n",
       "                        <td id=\"T_65d57fdc_93e1_11ec_8886_02420a396fc5row0_col2\" class=\"data row0 col2\" >11.20</td>\n",
       "            </tr>\n",
       "            <tr>\n",
       "                        <th id=\"T_65d57fdc_93e1_11ec_8886_02420a396fc5level0_row1\" class=\"row_heading level0 row1\" >2</th>\n",
       "                        <td id=\"T_65d57fdc_93e1_11ec_8886_02420a396fc5row1_col0\" class=\"data row1 col0\" >Добавить блоки рекомендаций товаров на сайт интернет магазина, чтобы повысить конверсию и средний чек заказа</td>\n",
       "                        <td id=\"T_65d57fdc_93e1_11ec_8886_02420a396fc5row1_col1\" class=\"data row1 col1\" >56.00</td>\n",
       "                        <td id=\"T_65d57fdc_93e1_11ec_8886_02420a396fc5row1_col2\" class=\"data row1 col2\" >7.00</td>\n",
       "            </tr>\n",
       "            <tr>\n",
       "                        <th id=\"T_65d57fdc_93e1_11ec_8886_02420a396fc5level0_row2\" class=\"row_heading level0 row2\" >0</th>\n",
       "                        <td id=\"T_65d57fdc_93e1_11ec_8886_02420a396fc5row2_col0\" class=\"data row2 col0\" >Добавить два новых канала привлечения трафика, что позволит привлекать на 30% больше пользователей</td>\n",
       "                        <td id=\"T_65d57fdc_93e1_11ec_8886_02420a396fc5row2_col1\" class=\"data row2 col1\" >40.00</td>\n",
       "                        <td id=\"T_65d57fdc_93e1_11ec_8886_02420a396fc5row2_col2\" class=\"data row2 col2\" >13.33</td>\n",
       "            </tr>\n",
       "            <tr>\n",
       "                        <th id=\"T_65d57fdc_93e1_11ec_8886_02420a396fc5level0_row3\" class=\"row_heading level0 row3\" >6</th>\n",
       "                        <td id=\"T_65d57fdc_93e1_11ec_8886_02420a396fc5row3_col0\" class=\"data row3 col0\" >Показать на главной странице баннеры с актуальными акциями и распродажами, чтобы увеличить конверсию</td>\n",
       "                        <td id=\"T_65d57fdc_93e1_11ec_8886_02420a396fc5row3_col1\" class=\"data row3 col1\" >40.00</td>\n",
       "                        <td id=\"T_65d57fdc_93e1_11ec_8886_02420a396fc5row3_col2\" class=\"data row3 col2\" >8.00</td>\n",
       "            </tr>\n",
       "            <tr>\n",
       "                        <th id=\"T_65d57fdc_93e1_11ec_8886_02420a396fc5level0_row4\" class=\"row_heading level0 row4\" >8</th>\n",
       "                        <td id=\"T_65d57fdc_93e1_11ec_8886_02420a396fc5row4_col0\" class=\"data row4 col0\" >Запустить акцию, дающую скидку на товар в день рождения</td>\n",
       "                        <td id=\"T_65d57fdc_93e1_11ec_8886_02420a396fc5row4_col1\" class=\"data row4 col1\" >16.20</td>\n",
       "                        <td id=\"T_65d57fdc_93e1_11ec_8886_02420a396fc5row4_col2\" class=\"data row4 col2\" >16.20</td>\n",
       "            </tr>\n",
       "    </tbody></table>"
      ],
      "text/plain": [
       "<pandas.io.formats.style.Styler at 0x7ffb1d86d210>"
      ]
     },
     "execution_count": 16,
     "metadata": {},
     "output_type": "execute_result"
    }
   ],
   "source": [
    "hypothesis['RICE'] = (hypothesis['Reach'] * hypothesis['Impact'] * hypothesis['Confidence'] / hypothesis['Efforts']).round(2)\n",
    "( \n",
    "    hypothesis[['Hypothesis','RICE','ICE']]\n",
    "    .sort_values('RICE',ascending=False)\n",
    "    .head()\n",
    "    .style\n",
    "    .format({'RICE': '{:.2f}','ICE': '{:.2f}'})\n",
    "    .background_gradient(cmap='YlGn')\n",
    "    \n",
    ")"
   ]
  },
  {
   "cell_type": "markdown",
   "metadata": {},
   "source": [
    "Как мы видим, гипотеза «*запустить акцию, дающую скидку на товар в день рождения*», оказалась внизу топа. Это связанно с тем, что охват для этой гипотезы низкий. Перспективной сейчас для нас выглядит гипотеза «*добавить форму подписки на все основные страницы, чтобы собрать базу клиентов для email-рассылок*». "
   ]
  },
  {
   "cell_type": "markdown",
   "metadata": {},
   "source": [
    "### Вывод\n",
    "\n",
    "Приоритазация гипотез методом ICE и RICE показала нам, что если мы будем рассматривать гипотезу без значений Reach (охват), то выбор подёт на гипотезу «*запустить акцию, дающую скидку на товар в день рождения*». Если для нас будет важен и охват, то стоит рассмотреть гипотезу «*добавить форму подписки на все основные страницы, чтобы собрать базу клиентов для email-рассылок*»."
   ]
  },
  {
   "cell_type": "markdown",
   "metadata": {},
   "source": [
    "## Анализ A/B-теста"
   ]
  },
  {
   "cell_type": "markdown",
   "metadata": {},
   "source": [
    "У нас имеются результаты A/B-теста, в таблице `orders`и`visitors`. Чтобы исключить \"проблему подсматривания\" рассмотрим график метрик на примере кумулятивных графиков. Для построения соберём данные. \n",
    "\n",
    "В начале создаем массив уникальных пар значений дат и групп теста."
   ]
  },
  {
   "cell_type": "code",
   "execution_count": 17,
   "metadata": {
    "scrolled": false
   },
   "outputs": [
    {
     "data": {
      "text/html": [
       "<div>\n",
       "<style scoped>\n",
       "    .dataframe tbody tr th:only-of-type {\n",
       "        vertical-align: middle;\n",
       "    }\n",
       "\n",
       "    .dataframe tbody tr th {\n",
       "        vertical-align: top;\n",
       "    }\n",
       "\n",
       "    .dataframe thead th {\n",
       "        text-align: right;\n",
       "    }\n",
       "</style>\n",
       "<table border=\"1\" class=\"dataframe\">\n",
       "  <thead>\n",
       "    <tr style=\"text-align: right;\">\n",
       "      <th></th>\n",
       "      <th>date</th>\n",
       "      <th>group</th>\n",
       "    </tr>\n",
       "  </thead>\n",
       "  <tbody>\n",
       "    <tr>\n",
       "      <td>0</td>\n",
       "      <td>2019-08-15</td>\n",
       "      <td>B</td>\n",
       "    </tr>\n",
       "    <tr>\n",
       "      <td>7</td>\n",
       "      <td>2019-08-15</td>\n",
       "      <td>A</td>\n",
       "    </tr>\n",
       "    <tr>\n",
       "      <td>45</td>\n",
       "      <td>2019-08-16</td>\n",
       "      <td>A</td>\n",
       "    </tr>\n",
       "    <tr>\n",
       "      <td>47</td>\n",
       "      <td>2019-08-16</td>\n",
       "      <td>B</td>\n",
       "    </tr>\n",
       "  </tbody>\n",
       "</table>\n",
       "</div>"
      ],
      "text/plain": [
       "         date group\n",
       "0  2019-08-15     B\n",
       "7  2019-08-15     A\n",
       "45 2019-08-16     A\n",
       "47 2019-08-16     B"
      ]
     },
     "execution_count": 17,
     "metadata": {},
     "output_type": "execute_result"
    }
   ],
   "source": [
    "datesGroups = orders[['date','group']].drop_duplicates() \n",
    "datesGroups.head(4)"
   ]
  },
  {
   "cell_type": "markdown",
   "metadata": {},
   "source": [
    "Соберём агрегированные кумулятивные по дням данные о заказах."
   ]
  },
  {
   "cell_type": "code",
   "execution_count": 18,
   "metadata": {
    "scrolled": true
   },
   "outputs": [
    {
     "data": {
      "text/html": [
       "<div>\n",
       "<style scoped>\n",
       "    .dataframe tbody tr th:only-of-type {\n",
       "        vertical-align: middle;\n",
       "    }\n",
       "\n",
       "    .dataframe tbody tr th {\n",
       "        vertical-align: top;\n",
       "    }\n",
       "\n",
       "    .dataframe thead th {\n",
       "        text-align: right;\n",
       "    }\n",
       "</style>\n",
       "<table border=\"1\" class=\"dataframe\">\n",
       "  <thead>\n",
       "    <tr style=\"text-align: right;\">\n",
       "      <th></th>\n",
       "      <th>date</th>\n",
       "      <th>group</th>\n",
       "      <th>orders</th>\n",
       "      <th>buyers</th>\n",
       "      <th>revenue</th>\n",
       "      <th>visitors</th>\n",
       "    </tr>\n",
       "  </thead>\n",
       "  <tbody>\n",
       "    <tr>\n",
       "      <td>0</td>\n",
       "      <td>2019-08-01</td>\n",
       "      <td>A</td>\n",
       "      <td>23</td>\n",
       "      <td>19</td>\n",
       "      <td>142779</td>\n",
       "      <td>719</td>\n",
       "    </tr>\n",
       "    <tr>\n",
       "      <td>1</td>\n",
       "      <td>2019-08-01</td>\n",
       "      <td>B</td>\n",
       "      <td>17</td>\n",
       "      <td>17</td>\n",
       "      <td>59758</td>\n",
       "      <td>713</td>\n",
       "    </tr>\n",
       "    <tr>\n",
       "      <td>2</td>\n",
       "      <td>2019-08-02</td>\n",
       "      <td>A</td>\n",
       "      <td>42</td>\n",
       "      <td>36</td>\n",
       "      <td>234381</td>\n",
       "      <td>1338</td>\n",
       "    </tr>\n",
       "    <tr>\n",
       "      <td>3</td>\n",
       "      <td>2019-08-02</td>\n",
       "      <td>B</td>\n",
       "      <td>40</td>\n",
       "      <td>39</td>\n",
       "      <td>221801</td>\n",
       "      <td>1294</td>\n",
       "    </tr>\n",
       "    <tr>\n",
       "      <td>4</td>\n",
       "      <td>2019-08-03</td>\n",
       "      <td>A</td>\n",
       "      <td>66</td>\n",
       "      <td>60</td>\n",
       "      <td>346854</td>\n",
       "      <td>1845</td>\n",
       "    </tr>\n",
       "  </tbody>\n",
       "</table>\n",
       "</div>"
      ],
      "text/plain": [
       "        date group  orders  buyers  revenue  visitors\n",
       "0 2019-08-01     A      23      19   142779       719\n",
       "1 2019-08-01     B      17      17    59758       713\n",
       "2 2019-08-02     A      42      36   234381      1338\n",
       "3 2019-08-02     B      40      39   221801      1294\n",
       "4 2019-08-03     A      66      60   346854      1845"
      ]
     },
     "execution_count": 18,
     "metadata": {},
     "output_type": "execute_result"
    }
   ],
   "source": [
    "# получаем агрегированные кумулятивные по дням данные о заказах \n",
    "ordersAggregated = datesGroups.apply(\n",
    "    lambda x: orders[\n",
    "        np.logical_and(\n",
    "            orders['date'] <= x['date'], orders['group'] == x['group']\n",
    "        )\n",
    "    ].agg(\n",
    "        {\n",
    "            'date': 'max',\n",
    "            'group': 'max',\n",
    "            'transaction_id': 'nunique',\n",
    "            'visitor_id': 'nunique',\n",
    "            'revenue': 'sum',\n",
    "        }\n",
    "    ),\n",
    "    axis=1,\n",
    ").sort_values(by=['date', 'group'])\n",
    "\n",
    "# получаем агрегированные кумулятивные по дням данные о посетителях интернет-магазина \n",
    "visitorsAggregated = datesGroups.apply(\n",
    "    lambda x: visitors[\n",
    "        np.logical_and(\n",
    "            visitors['date'] <= x['date'], visitors['group'] == x['group']\n",
    "        )\n",
    "    ].agg({'date': 'max', 'group': 'max', 'visitors': 'sum'}),\n",
    "    axis=1,\n",
    ").sort_values(by=['date', 'group'])\n",
    "\n",
    "# объединяем кумулятивные данные в одной таблице и присваиваем ее столбцам понятные названия\n",
    "cumulativeData = ordersAggregated.merge(\n",
    "    visitorsAggregated, left_on=['date', 'group'], right_on=['date', 'group']\n",
    ")\n",
    "\n",
    "cumulativeData.columns = [\n",
    "    'date',\n",
    "    'group',\n",
    "    'orders',\n",
    "    'buyers',\n",
    "    'revenue',\n",
    "    'visitors',\n",
    "]\n",
    "cumulativeData.head()"
   ]
  },
  {
   "cell_type": "markdown",
   "metadata": {
    "scrolled": true
   },
   "source": [
    "* date — дата;\n",
    "* group — группа A/B-теста (A или B);\n",
    "* orders — кумулятивное количество заказов на указанную дату в указанной группе;\n",
    "* buyers — кумулятивное количество пользователей, совершивших хотя бы один заказ, на указанную дату в указанной группе;\n",
    "* revenue — кумулятивная выручка на указанную дату в указанной группе (средний чек);\n",
    "* visitors — кумулятивное количество посетителей интернет-магазина на указанную дату в определённой группе.\n",
    "\n",
    "Построим графики кумулятивной выручки по дням и группам A/B-тестирования."
   ]
  },
  {
   "cell_type": "code",
   "execution_count": 19,
   "metadata": {
    "scrolled": false
   },
   "outputs": [
    {
     "data": {
      "image/png": "[encoded data removed]",
      "text/plain": [
       "<Figure size 864x360 with 1 Axes>"
      ]
     },
     "metadata": {
      "needs_background": "light"
     },
     "output_type": "display_data"
    }
   ],
   "source": [
    "# датафрейм с кумулятивным количеством заказов и кумулятивной выручкой по дням в группе А\n",
    "cumulativeRevenueA = cumulativeData[cumulativeData['group']=='A'][['date','revenue', 'orders']]\n",
    "\n",
    "# датафрейм с кумулятивным количеством заказов и кумулятивной выручкой по дням в группе B\n",
    "cumulativeRevenueB = cumulativeData[cumulativeData['group']=='B'][['date','revenue', 'orders']]\n",
    "\n",
    "# Строим график выручки группы А\n",
    "plt.figure(figsize=(12,5))\n",
    "plt.grid()\n",
    "plt.plot(cumulativeRevenueA['date'], cumulativeRevenueA['revenue'], label='A')\n",
    "\n",
    "# Строим график выручки группы B\n",
    "plt.plot(cumulativeRevenueB['date'], cumulativeRevenueB['revenue'], label='B')\n",
    "plt.xlim('2019-08-01','2019-09-01')\n",
    "plt.title('График кумулятивной выручки по дням')\n",
    "plt.xlabel(\"Дата\")\n",
    "plt.ylabel('Выручка')\n",
    "plt.legend()\n",
    "plt.show()"
   ]
  },
  {
   "cell_type": "markdown",
   "metadata": {},
   "source": [
    "Графики первые 5 дней вели себя одинаково. Затем мы можем видеть через две недели резкий скачок группы В. Это может сигнализировать о всплесках числа заказов, либо о появлении очень дорогих заказов в выборке. Далее графики ведут себя стабильно. \n",
    "\n",
    "Построим графики среднего чека по группам — разделим кумулятивную выручку на кумулятивное число заказов:"
   ]
  },
  {
   "cell_type": "code",
   "execution_count": 20,
   "metadata": {
    "scrolled": false
   },
   "outputs": [
    {
     "data": {
      "image/png": "[encoded data removed]",
      "text/plain": [
       "<Figure size 864x360 with 1 Axes>"
      ]
     },
     "metadata": {
      "needs_background": "light"
     },
     "output_type": "display_data"
    }
   ],
   "source": [
    "plt.figure(figsize=(12,5))\n",
    "plt.grid()\n",
    "plt.plot(cumulativeRevenueA['date'], cumulativeRevenueA['revenue']/cumulativeRevenueA['orders'], label='A')\n",
    "plt.plot(cumulativeRevenueB['date'], cumulativeRevenueB['revenue']/cumulativeRevenueB['orders'], label='B')\n",
    "plt.xlim('2019-08-01','2019-09-01')\n",
    "plt.title('График среднего чека по группам')\n",
    "plt.xlabel(\"Дата\")\n",
    "plt.ylabel('Средний чек')\n",
    "plt.annotate('Скачок', xy=('2019-08-18', 7500), xytext=('2019-08-13', 8000),\n",
    "            arrowprops=dict(facecolor='g'))\n",
    "plt.legend()\n",
    "plt.show()"
   ]
  },
  {
   "cell_type": "markdown",
   "metadata": {},
   "source": [
    "Видно на графике, что значения ведут себя скачкаобразно. Для группы А, значение первые 5 дней падают, затем растут. После второй недели незначительно падают, но начинают выравниваться. \n",
    "Для группы B, виден скачок после 17ого числа (возможно попал крупный заказ), затем начинается падание. Видно что график пока что не выровнился и требуется больше времени.\n",
    "\n",
    "Построим график относительного изменения кумулятивного среднего чека группы B к группе A."
   ]
  },
  {
   "cell_type": "code",
   "execution_count": 21,
   "metadata": {
    "scrolled": false
   },
   "outputs": [
    {
     "data": {
      "image/png": "[encoded data removed]",
      "text/plain": [
       "<Figure size 864x360 with 1 Axes>"
      ]
     },
     "metadata": {
      "needs_background": "light"
     },
     "output_type": "display_data"
    }
   ],
   "source": [
    "mergedCumulativeRevenue = cumulativeRevenueA.merge(cumulativeRevenueB, left_on='date', right_on='date', how='left', suffixes=['A', 'B'])\n",
    "\n",
    "plt.figure(figsize=(12,5))\n",
    "plt.grid()\n",
    "# cтроим отношение средних чеков\n",
    "plt.plot(mergedCumulativeRevenue['date'], (mergedCumulativeRevenue['revenueB']/mergedCumulativeRevenue['ordersB'])/(mergedCumulativeRevenue['revenueA']/mergedCumulativeRevenue['ordersA'])-1)\n",
    "\n",
    "# добавляем ось X\n",
    "plt.axhline(y=0, color='black', linestyle='--') \n",
    "plt.xlim('2019-08-01','2019-09-01')\n",
    "plt.title('График относительного изменения кумулятивного среднего чека группы B к группе A')\n",
    "plt.xlabel(\"Дата\")\n",
    "plt.ylabel('Отношение среднего чека')\n",
    "plt.show()"
   ]
  },
  {
   "cell_type": "markdown",
   "metadata": {},
   "source": [
    "На графике видны резкие скачки, что можно интерпретировать как наличие выбросов в нашем тесте. Зафиксируем информацию и вернёмся к ней позже. \n",
    "\n",
    "Построем график кумулятивной конверсии по группам."
   ]
  },
  {
   "cell_type": "code",
   "execution_count": 22,
   "metadata": {
    "scrolled": false
   },
   "outputs": [
    {
     "data": {
      "image/png": "[encoded data removed]",
      "text/plain": [
       "<Figure size 864x360 with 1 Axes>"
      ]
     },
     "metadata": {
      "needs_background": "light"
     },
     "output_type": "display_data"
    }
   ],
   "source": [
    "# считаем кумулятивную конверсию\n",
    "cumulativeData['conversion'] = cumulativeData['orders']/cumulativeData['visitors']\n",
    "\n",
    "# отделяем данные по группе A\n",
    "cumulativeDataA = cumulativeData[cumulativeData['group']=='A']\n",
    "\n",
    "# отделяем данные по группе B\n",
    "cumulativeDataB = cumulativeData[cumulativeData['group']=='B']\n",
    "\n",
    "# строим графики\n",
    "plt.figure(figsize=(12,5))\n",
    "plt.grid()\n",
    "plt.plot(cumulativeDataA['date'], cumulativeDataA['conversion'], label='A')\n",
    "plt.plot(cumulativeDataB['date'], cumulativeDataB['conversion'], label='B')\n",
    "\n",
    "plt.title('График кумулятивной конверсии по группам')\n",
    "plt.xlabel(\"Дата\")\n",
    "plt.ylabel('Конверсия')\n",
    "plt.axis([\"2019-08-01\", '2019-09-01', 0.015, 0.040]) \n",
    "plt.legend()\n",
    "plt.show()"
   ]
  },
  {
   "cell_type": "markdown",
   "metadata": {},
   "source": [
    "Из графика можно увидеть, что конверсии групп примерно одинаково себя вела, через пару дней от начала теста, группа B начала расти, а группа А падать. При этом конверсия группы А зафиксировалась, раньше группы B.\n",
    "\n",
    "Посмотирм на график относительного изменения кумулятивной конверсии группы B к группе A."
   ]
  },
  {
   "cell_type": "code",
   "execution_count": 23,
   "metadata": {
    "scrolled": false
   },
   "outputs": [
    {
     "data": {
      "image/png": "[encoded data removed]",
      "text/plain": [
       "<Figure size 864x360 with 1 Axes>"
      ]
     },
     "metadata": {
      "needs_background": "light"
     },
     "output_type": "display_data"
    }
   ],
   "source": [
    "mergedCumulativeConversions = cumulativeDataA[['date','conversion']].merge(cumulativeDataB[['date','conversion']], left_on='date', right_on='date', how='left', suffixes=['A', 'B'])\n",
    "\n",
    "plt.figure(figsize=(12,5))\n",
    "plt.grid()\n",
    "plt.plot(mergedCumulativeConversions['date'], mergedCumulativeConversions['conversionB']/mergedCumulativeConversions['conversionA']-1)\n",
    "\n",
    "plt.xlim('2019-08-01','2019-09-01')\n",
    "plt.axhline(y=0, color='black', linestyle='--')\n",
    "plt.title('График относительного изменения кумулятивной конверсии группы B к группе A')\n",
    "plt.xlabel(\"Дата\")\n",
    "plt.ylabel('Конверсия')\n",
    "\n",
    "plt.show()"
   ]
  },
  {
   "cell_type": "markdown",
   "metadata": {},
   "source": [
    "По графику видно, что первые дни конверсия для группы А была выше, случился скачок в сторону B. На пятый день случился резкий рост конверсии группы B, и можно заметить что значение не идёт на спад. \n",
    "\n",
    "Мы знаем, что в нашем тесте находятся аномальные значения, которые могут вносить большой вклад в наши расчёты. Попробуем посмотреть какие именно значения являются аномальными, а какие нет.\n",
    "\n",
    "Подсчитаем количество заказов по пользователям."
   ]
  },
  {
   "cell_type": "code",
   "execution_count": 24,
   "metadata": {
    "scrolled": true
   },
   "outputs": [
    {
     "data": {
      "text/html": [
       "<div>\n",
       "<style scoped>\n",
       "    .dataframe tbody tr th:only-of-type {\n",
       "        vertical-align: middle;\n",
       "    }\n",
       "\n",
       "    .dataframe tbody tr th {\n",
       "        vertical-align: top;\n",
       "    }\n",
       "\n",
       "    .dataframe thead th {\n",
       "        text-align: right;\n",
       "    }\n",
       "</style>\n",
       "<table border=\"1\" class=\"dataframe\">\n",
       "  <thead>\n",
       "    <tr style=\"text-align: right;\">\n",
       "      <th></th>\n",
       "      <th>user_id</th>\n",
       "      <th>orders</th>\n",
       "    </tr>\n",
       "  </thead>\n",
       "  <tbody>\n",
       "    <tr>\n",
       "      <td>0</td>\n",
       "      <td>5114589</td>\n",
       "      <td>1</td>\n",
       "    </tr>\n",
       "    <tr>\n",
       "      <td>1</td>\n",
       "      <td>6958315</td>\n",
       "      <td>1</td>\n",
       "    </tr>\n",
       "    <tr>\n",
       "      <td>2</td>\n",
       "      <td>11685486</td>\n",
       "      <td>1</td>\n",
       "    </tr>\n",
       "    <tr>\n",
       "      <td>3</td>\n",
       "      <td>39475350</td>\n",
       "      <td>1</td>\n",
       "    </tr>\n",
       "    <tr>\n",
       "      <td>4</td>\n",
       "      <td>47206413</td>\n",
       "      <td>1</td>\n",
       "    </tr>\n",
       "  </tbody>\n",
       "</table>\n",
       "</div>"
      ],
      "text/plain": [
       "    user_id  orders\n",
       "0   5114589       1\n",
       "1   6958315       1\n",
       "2  11685486       1\n",
       "3  39475350       1\n",
       "4  47206413       1"
      ]
     },
     "execution_count": 24,
     "metadata": {},
     "output_type": "execute_result"
    }
   ],
   "source": [
    "ordersByUsers = (\n",
    "    orders.groupby('visitor_id', as_index=False)\n",
    "    .agg({'transaction_id': 'nunique'})\n",
    ")\n",
    "ordersByUsers.columns = ['user_id', 'orders']\n",
    "ordersByUsers.head(5).sort_values('user_id')"
   ]
  },
  {
   "cell_type": "markdown",
   "metadata": {},
   "source": [
    "Построим точечный график количества заказов по пользователям."
   ]
  },
  {
   "cell_type": "code",
   "execution_count": 25,
   "metadata": {
    "scrolled": true
   },
   "outputs": [
    {
     "data": {
      "image/png": "[encoded data removed]",
      "text/plain": [
       "<Figure size 864x360 with 1 Axes>"
      ]
     },
     "metadata": {
      "needs_background": "light"
     },
     "output_type": "display_data"
    }
   ],
   "source": [
    "x_values = pd.Series(range(0,len(ordersByUsers)))\n",
    "\n",
    "\n",
    "plt.figure(figsize=(12,5))\n",
    "plt.grid()\n",
    "plt.scatter(x_values, ordersByUsers['orders'],alpha=0.5) \n",
    "plt.title('График количества заказов по пользователям')\n",
    "plt.xlabel(\"Пользователь\")\n",
    "plt.ylabel('Количество заказов')\n",
    "plt.show()"
   ]
  },
  {
   "cell_type": "markdown",
   "metadata": {},
   "source": [
    "По графику мы можем видеть: \n",
    "* большая часть пользователей не делают больше одного заказа\n",
    "* малая часть делает 2 заказа\n",
    "* заказов делают не больше 3\n",
    "\n",
    "Для большей точности, мы можем разбить выборку по количеству заказов на перцентили."
   ]
  },
  {
   "cell_type": "code",
   "execution_count": 26,
   "metadata": {
    "scrolled": true
   },
   "outputs": [
    {
     "name": "stdout",
     "output_type": "stream",
     "text": [
      "95-тый перцентиль количества заказов на пользователя: 1.0\n",
      "99-тый перцентиль количества заказов на пользователя: 2.0\n"
     ]
    }
   ],
   "source": [
    "print('95-тый перцентиль количества заказов на пользователя:', (np.percentile(ordersByUsers['orders'], 95))) \n",
    "print('99-тый перцентиль количества заказов на пользователя:', (np.percentile(ordersByUsers['orders'], 99))) "
   ]
  },
  {
   "cell_type": "markdown",
   "metadata": {},
   "source": [
    "Не более 5% всех пользователей делают больше одного заказа, и лишь 1% может сделать 2 и более заказов. Будем считать такие значения как выбросы. За нижнюю границу количество заказов примем значение больше 1. \n",
    "\n",
    "Проделаем, тоже самое для среднего чека и построим точечный график стоимостей заказов."
   ]
  },
  {
   "cell_type": "code",
   "execution_count": 27,
   "metadata": {
    "scrolled": false
   },
   "outputs": [
    {
     "data": {
      "image/png": "[encoded data removed]",
      "text/plain": [
       "<Figure size 864x360 with 1 Axes>"
      ]
     },
     "metadata": {
      "needs_background": "light"
     },
     "output_type": "display_data"
    }
   ],
   "source": [
    "x_values = pd.Series(range(0,len(orders['revenue'])))\n",
    "\n",
    "plt.figure(figsize=(12,5))\n",
    "plt.grid()\n",
    "plt.scatter(x_values, orders['revenue'],alpha=0.5) \n",
    "plt.title('График стоимостей заказов')\n",
    "plt.xlabel(\"Пользователь\")\n",
    "plt.ylabel('Средний чек')\n",
    "plt.show()"
   ]
  },
  {
   "cell_type": "markdown",
   "metadata": {},
   "source": [
    "По графику видно:\n",
    "* средний чек основной части пользователей ниже 50000, из-за масштабов примерно \n",
    "* мы можем увидеть явные выбросы: точка в значении 1200000 \n",
    "\n",
    "Рассмотрим перцентили:"
   ]
  },
  {
   "cell_type": "code",
   "execution_count": 28,
   "metadata": {},
   "outputs": [
    {
     "name": "stdout",
     "output_type": "stream",
     "text": [
      "95-тый перцентиль среднего чека: 26785.0\n",
      "99-тый перцентиль среднего чека: 53904.0\n"
     ]
    }
   ],
   "source": [
    "print('95-тый перцентиль среднего чека:', (np.percentile(orders['revenue'], 95).round(2))) \n",
    "print('99-тый перцентиль среднего чека:', (np.percentile(orders['revenue'], 99).round(2))) "
   ]
  },
  {
   "cell_type": "markdown",
   "metadata": {},
   "source": [
    "Лишь у 1% пользователей средний чек вышел 53904, что говорит нам что точки 200000 и 1200000 это точно выбросы, которые мы не будем учитывать. За нижнюю границу мы примем пользоваталей, чей средний чек не превышает 26785.\n",
    "\n",
    "Установив границы аномальных значений, посчитаем статистическую значимость различий в конверсии между группами по \"сырым\" , а затем по \"отфильтрованным\" данным. "
   ]
  },
  {
   "cell_type": "code",
   "execution_count": 29,
   "metadata": {},
   "outputs": [
    {
     "data": {
      "text/html": [
       "<div>\n",
       "<style scoped>\n",
       "    .dataframe tbody tr th:only-of-type {\n",
       "        vertical-align: middle;\n",
       "    }\n",
       "\n",
       "    .dataframe tbody tr th {\n",
       "        vertical-align: top;\n",
       "    }\n",
       "\n",
       "    .dataframe thead th {\n",
       "        text-align: right;\n",
       "    }\n",
       "</style>\n",
       "<table border=\"1\" class=\"dataframe\">\n",
       "  <thead>\n",
       "    <tr style=\"text-align: right;\">\n",
       "      <th></th>\n",
       "      <th>date</th>\n",
       "      <th>ordersPerDateA</th>\n",
       "      <th>revenuePerDateA</th>\n",
       "      <th>ordersPerDateB</th>\n",
       "      <th>revenuePerDateB</th>\n",
       "      <th>ordersCummulativeA</th>\n",
       "      <th>revenueCummulativeA</th>\n",
       "      <th>ordersCummulativeB</th>\n",
       "      <th>revenueCummulativeB</th>\n",
       "      <th>visitorsPerDateA</th>\n",
       "      <th>visitorsPerDateB</th>\n",
       "      <th>visitorsCummulativeA</th>\n",
       "      <th>visitorsCummulativeB</th>\n",
       "    </tr>\n",
       "  </thead>\n",
       "  <tbody>\n",
       "    <tr>\n",
       "      <td>0</td>\n",
       "      <td>2019-08-01</td>\n",
       "      <td>23</td>\n",
       "      <td>142779</td>\n",
       "      <td>17</td>\n",
       "      <td>59758</td>\n",
       "      <td>23</td>\n",
       "      <td>142779</td>\n",
       "      <td>17</td>\n",
       "      <td>59758</td>\n",
       "      <td>719</td>\n",
       "      <td>713</td>\n",
       "      <td>719</td>\n",
       "      <td>713</td>\n",
       "    </tr>\n",
       "    <tr>\n",
       "      <td>1</td>\n",
       "      <td>2019-08-02</td>\n",
       "      <td>19</td>\n",
       "      <td>91602</td>\n",
       "      <td>23</td>\n",
       "      <td>162043</td>\n",
       "      <td>42</td>\n",
       "      <td>234381</td>\n",
       "      <td>40</td>\n",
       "      <td>221801</td>\n",
       "      <td>619</td>\n",
       "      <td>581</td>\n",
       "      <td>1338</td>\n",
       "      <td>1294</td>\n",
       "    </tr>\n",
       "    <tr>\n",
       "      <td>2</td>\n",
       "      <td>2019-08-03</td>\n",
       "      <td>24</td>\n",
       "      <td>112473</td>\n",
       "      <td>14</td>\n",
       "      <td>67049</td>\n",
       "      <td>66</td>\n",
       "      <td>346854</td>\n",
       "      <td>54</td>\n",
       "      <td>288850</td>\n",
       "      <td>507</td>\n",
       "      <td>509</td>\n",
       "      <td>1845</td>\n",
       "      <td>1803</td>\n",
       "    </tr>\n",
       "    <tr>\n",
       "      <td>3</td>\n",
       "      <td>2019-08-04</td>\n",
       "      <td>11</td>\n",
       "      <td>41176</td>\n",
       "      <td>14</td>\n",
       "      <td>96890</td>\n",
       "      <td>77</td>\n",
       "      <td>388030</td>\n",
       "      <td>68</td>\n",
       "      <td>385740</td>\n",
       "      <td>717</td>\n",
       "      <td>770</td>\n",
       "      <td>2562</td>\n",
       "      <td>2573</td>\n",
       "    </tr>\n",
       "    <tr>\n",
       "      <td>4</td>\n",
       "      <td>2019-08-05</td>\n",
       "      <td>22</td>\n",
       "      <td>86383</td>\n",
       "      <td>21</td>\n",
       "      <td>89908</td>\n",
       "      <td>99</td>\n",
       "      <td>474413</td>\n",
       "      <td>89</td>\n",
       "      <td>475648</td>\n",
       "      <td>756</td>\n",
       "      <td>707</td>\n",
       "      <td>3318</td>\n",
       "      <td>3280</td>\n",
       "    </tr>\n",
       "  </tbody>\n",
       "</table>\n",
       "</div>"
      ],
      "text/plain": [
       "        date  ordersPerDateA  revenuePerDateA  ordersPerDateB  \\\n",
       "0 2019-08-01              23           142779              17   \n",
       "1 2019-08-02              19            91602              23   \n",
       "2 2019-08-03              24           112473              14   \n",
       "3 2019-08-04              11            41176              14   \n",
       "4 2019-08-05              22            86383              21   \n",
       "\n",
       "   revenuePerDateB  ordersCummulativeA  revenueCummulativeA  \\\n",
       "0            59758                  23               142779   \n",
       "1           162043                  42               234381   \n",
       "2            67049                  66               346854   \n",
       "3            96890                  77               388030   \n",
       "4            89908                  99               474413   \n",
       "\n",
       "   ordersCummulativeB  revenueCummulativeB  visitorsPerDateA  \\\n",
       "0                  17                59758               719   \n",
       "1                  40               221801               619   \n",
       "2                  54               288850               507   \n",
       "3                  68               385740               717   \n",
       "4                  89               475648               756   \n",
       "\n",
       "   visitorsPerDateB  visitorsCummulativeA  visitorsCummulativeB  \n",
       "0               713                   719                   713  \n",
       "1               581                  1338                  1294  \n",
       "2               509                  1845                  1803  \n",
       "3               770                  2562                  2573  \n",
       "4               707                  3318                  3280  "
      ]
     },
     "execution_count": 29,
     "metadata": {},
     "output_type": "execute_result"
    }
   ],
   "source": [
    "visitorsADaily = visitors[visitors['group'] == 'A'][['date', 'visitors']]\n",
    "visitorsADaily.columns = ['date', 'visitorsPerDateA']\n",
    "\n",
    "#количество пользователей до выбранной даты включительно в группе A\n",
    "visitorsACummulative = visitorsADaily.apply(\n",
    "    lambda x: visitorsADaily[visitorsADaily['date'] <= x['date']].agg(\n",
    "        {'date': 'max', 'visitorsPerDateA': 'sum'}\n",
    "    ),\n",
    "    axis=1,\n",
    ")\n",
    "visitorsACummulative.columns = ['date', 'visitorsCummulativeA']\n",
    "\n",
    "visitorsBDaily = visitors[visitors['group'] == 'B'][['date', 'visitors']]\n",
    "visitorsBDaily.columns = ['date', 'visitorsPerDateB']\n",
    "\n",
    "# количество пользователей до выбранной даты включительно в группе B.\n",
    "visitorsBCummulative = visitorsBDaily.apply(\n",
    "    lambda x: visitorsBDaily[visitorsBDaily['date'] <= x['date']].agg(\n",
    "        {'date': 'max', 'visitorsPerDateB': 'sum'}\n",
    "    ),\n",
    "    axis=1,\n",
    ")\n",
    "visitorsBCummulative.columns = ['date', 'visitorsCummulativeB']\n",
    "\n",
    "ordersADaily = (\n",
    "    orders[orders['group'] == 'A'][['date', 'transaction_id', 'visitor_id', 'revenue']]\n",
    "    .groupby('date', as_index=False)\n",
    "    .agg({'transaction_id': pd.Series.nunique, 'revenue': 'sum'})\n",
    ")\n",
    "ordersADaily.columns = ['date', 'ordersPerDateA', 'revenuePerDateA']\n",
    "\n",
    "#суммарное число заказов до выбранной даты включительно в группе A\n",
    "ordersACummulative = ordersADaily.apply(\n",
    "    lambda x: ordersADaily[ordersADaily['date'] <= x['date']].agg(\n",
    "        {'date': 'max', 'ordersPerDateA': 'sum', 'revenuePerDateA': 'sum'}\n",
    "    ),\n",
    "    axis=1,\n",
    ").sort_values(by=['date'])\n",
    "ordersACummulative.columns = [\n",
    "    'date',\n",
    "    'ordersCummulativeA',\n",
    "    'revenueCummulativeA',\n",
    "]\n",
    "\n",
    "ordersBDaily = (\n",
    "    orders[orders['group'] == 'B'][['date', 'transaction_id', 'visitor_id', 'revenue']]\n",
    "    .groupby('date', as_index=False)\n",
    "    .agg({'transaction_id': pd.Series.nunique, 'revenue': 'sum'})\n",
    ")\n",
    "ordersBDaily.columns = ['date', 'ordersPerDateB', 'revenuePerDateB']\n",
    "\n",
    "#суммарное количество заказов до выбранной даты включительно в группе B\n",
    "ordersBCummulative = ordersBDaily.apply(\n",
    "    lambda x: ordersBDaily[ordersBDaily['date'] <= x['date']].agg(\n",
    "        {'date': 'max', 'ordersPerDateB': 'sum', 'revenuePerDateB': 'sum'}\n",
    "    ),\n",
    "    axis=1,\n",
    ").sort_values(by=['date'])\n",
    "ordersBCummulative.columns = [\n",
    "    'date',\n",
    "    'ordersCummulativeB',\n",
    "    'revenueCummulativeB',\n",
    "]\n",
    "\n",
    "df = (\n",
    "    ordersADaily.merge(\n",
    "        ordersBDaily, left_on='date', right_on='date', how='left'\n",
    "    )\n",
    "    .merge(ordersACummulative, left_on='date', right_on='date', how='left')\n",
    "    .merge(ordersBCummulative, left_on='date', right_on='date', how='left')\n",
    "    .merge(visitorsADaily, left_on='date', right_on='date', how='left')\n",
    "    .merge(visitorsBDaily, left_on='date', right_on='date', how='left')\n",
    "    .merge(visitorsACummulative, left_on='date', right_on='date', how='left')\n",
    "    .merge(visitorsBCummulative, left_on='date', right_on='date', how='left')\n",
    ")\n",
    "\n",
    "df.head()"
   ]
  },
  {
   "cell_type": "markdown",
   "metadata": {},
   "source": [
    "* ordersPerDateA — количество заказов в выбранную дату в группе A;\n",
    "* revenuePerDateA — суммарная выручка в выбранную дату в группе A;\n",
    "* ordersPerDateB — количество заказов в выбранную дату в группе B;\n",
    "* revenuePerDateB — суммарная выручка в выбранную дату в группе B;\n",
    "* ordersCummulativeA — суммарное число заказов до выбранной даты включительно в группе A;\n",
    "* revenueCummulativeA — суммарная выручка до выбранной даты включительно в группе A;\n",
    "* ordersCummulativeB — суммарное количество заказов до выбранной даты включительно в группе B;\n",
    "* revenueCummulativeB — суммарная выручка до выбранной даты включительно в группе B;\n",
    "* visitorsPerDateA — количество пользователей в выбранную дату в группе A;\n",
    "* visitorsPerDateB — количество пользователей в выбранную дату в группе B;\n",
    "* visitorsCummulativeA — количество пользователей до выбранной даты включительно в группе A;\n",
    "* visitorsCummulativeB — количество пользователей до выбранной даты включительно в группе B.\n",
    "\n",
    "Статистическую значимость различий конверсии, мы будем считать через критерий Манна-Уитни. С помощью полученного p-value, мы будем принимать или отвергать гипотезы:\n",
    "* За нулевую гипотезу примем: *конверсия группы А и B равна между собой*;\n",
    "* Альтернативная гипотеза: *конверсия группы А и В отличаются друг от друга*."
   ]
  },
  {
   "cell_type": "code",
   "execution_count": 30,
   "metadata": {},
   "outputs": [
    {
     "name": "stdout",
     "output_type": "stream",
     "text": [
      "P-value: 0.011\n",
      "Мы не можем принять нулевую гипотезу\n",
      "Прирост конверсии группы B : 0.160\n"
     ]
    }
   ],
   "source": [
    "ordersByUsersA = (\n",
    "    orders[orders['group'] == 'A']\n",
    "    .groupby('visitor_id', as_index=False)\n",
    "    .agg({'transaction_id': 'nunique'})\n",
    ")\n",
    "ordersByUsersA.columns = ['user_id', 'orders']\n",
    "\n",
    "ordersByUsersB = (\n",
    "    orders[orders['group'] == 'B']\n",
    "    .groupby('visitor_id', as_index=False)\n",
    "    .agg({'transaction_id': 'nunique'})\n",
    ")\n",
    "ordersByUsersB.columns = ['user_id', 'orders']\n",
    "\n",
    "sampleA = pd.concat(\n",
    "    [\n",
    "        ordersByUsersA['orders'],\n",
    "        pd.Series(\n",
    "            0,\n",
    "            index=np.arange(\n",
    "                df['visitorsPerDateA'].sum() - len(ordersByUsersA['orders'])\n",
    "            ),\n",
    "            name='orders',\n",
    "        ),\n",
    "    ],\n",
    "    axis=0,\n",
    ")\n",
    "\n",
    "sampleB = pd.concat(\n",
    "    [\n",
    "        ordersByUsersB['orders'],\n",
    "        pd.Series(\n",
    "            0,\n",
    "            index=np.arange(\n",
    "                df['visitorsPerDateB'].sum() - len(ordersByUsersB['orders'])\n",
    "            ),\n",
    "            name='orders',\n",
    "        ),\n",
    "    ],\n",
    "    axis=0,\n",
    ")\n",
    "p_value = stats.mannwhitneyu(sampleA, sampleB, True,'two-sided')[1]\n",
    "print(\"P-value: {0:.3f}\".format(p_value))\n",
    "if p_value < 0.05:\n",
    "    print('Мы не можем принять нулевую гипотезу')\n",
    "else:\n",
    "    print('Мы принимаем нулевую гипотезу')\n",
    "\n",
    "print(\"Прирост конверсии группы B : {0:.3f}\".format(sampleB.mean() / sampleA.mean() - 1))"
   ]
  },
  {
   "cell_type": "markdown",
   "metadata": {},
   "source": [
    "Полученные данные говорят нам отклонить нулевую гипотезу, а значит конверсия группы А и В не равна между собой. Конверсия группы B выше группы А на 16%\n",
    "\n",
    "Теперь попробуем проверить гипотезы: \n",
    "* *средний чек между группой А и В равны между собой* будет нулевой гипотезой;\n",
    "* *средний чек между группой А и В отличается* будет альтернативной гипотезой."
   ]
  },
  {
   "cell_type": "code",
   "execution_count": 31,
   "metadata": {},
   "outputs": [
    {
     "name": "stdout",
     "output_type": "stream",
     "text": [
      "P-value: 0.829\n",
      "Мы принимаем нулевую гипотезу\n",
      "Относительные различия в среднем чеке между группами: 0.287\n"
     ]
    }
   ],
   "source": [
    "p_value = stats.mannwhitneyu(orders[orders['group']=='A']['revenue'], orders[orders['group']=='B']['revenue'],True,'two-sided')[1]\n",
    "print(\"P-value: {0:.3f}\".format(p_value))\n",
    "if p_value < 0.05:\n",
    "    print('Мы не можем принять нулевую гипотезу')\n",
    "else:\n",
    "    print('Мы принимаем нулевую гипотезу')\n",
    "\n",
    "print('Относительные различия в среднем чеке между группами: {0:.3f}'\n",
    "      .format(orders[orders['group']=='B']['revenue'].mean()/orders[orders['group']=='A']['revenue'].mean()-1)) "
   ]
  },
  {
   "cell_type": "markdown",
   "metadata": {},
   "source": [
    "Полученные данные говорят нам о том, что средний чек между группой А и В равны между собой. Хотя разница в среднем чеке в группах в районе ~28.7%. \n",
    "\n",
    "Чтобы посмотреть, значения без аномалей, посчитаем количество таких пользователей. напомню что количество заказов таких пользователей больше одного, а средний чек превышает 26785."
   ]
  },
  {
   "cell_type": "code",
   "execution_count": 32,
   "metadata": {
    "scrolled": true
   },
   "outputs": [
    {
     "name": "stdout",
     "output_type": "stream",
     "text": [
      "Количество \"аномальных\" пользователей: 86\n"
     ]
    }
   ],
   "source": [
    "usersWithManyOrders = pd.concat(\n",
    "    [\n",
    "        ordersByUsersA[ordersByUsersA['orders'] > 1]['user_id'],\n",
    "        ordersByUsersB[ordersByUsersB['orders'] > 1]['user_id'],\n",
    "    ],\n",
    "    axis=0,\n",
    ")\n",
    "usersWithExpensiveOrders = orders[orders['revenue'] > 26785]['visitor_id']\n",
    "\n",
    "abnormalUsers = (\n",
    "    pd.concat([usersWithManyOrders, usersWithExpensiveOrders], axis=0)\n",
    "    .drop_duplicates()\n",
    "    .sort_values()\n",
    ")\n",
    "print(f'Количество \"аномальных\" пользователей: {len(abnormalUsers)}') "
   ]
  },
  {
   "cell_type": "markdown",
   "metadata": {},
   "source": [
    "Используя полученную таблицу с выбросами, посмотрим на \"очищенные данные\". Также посмотрим на конверсию, нулевая гипотеза остатётся у нас такой же: конверсия группы А и B равна между собой. "
   ]
  },
  {
   "cell_type": "code",
   "execution_count": 33,
   "metadata": {
    "scrolled": true
   },
   "outputs": [
    {
     "name": "stdout",
     "output_type": "stream",
     "text": [
      "P-value: 0.016\n",
      "Мы не можем принять нулевую гипотезу\n",
      "Прирост конверсии группы B : 0.174\n"
     ]
    }
   ],
   "source": [
    "sampleAFiltered = pd.concat(\n",
    "    [\n",
    "        ordersByUsersA[\n",
    "            np.logical_not(ordersByUsersA['user_id'].isin(abnormalUsers))\n",
    "        ]['orders'],\n",
    "        pd.Series(\n",
    "            0,\n",
    "            index=np.arange(\n",
    "                df['visitorsPerDateA'].sum() - len(ordersByUsersA['orders'])\n",
    "            ),\n",
    "            name='orders',\n",
    "        ),\n",
    "    ],\n",
    "    axis=0,\n",
    ")\n",
    "\n",
    "sampleBFiltered = pd.concat(\n",
    "    [\n",
    "        ordersByUsersB[\n",
    "            np.logical_not(ordersByUsersB['user_id'].isin(abnormalUsers))\n",
    "        ]['orders'],\n",
    "        pd.Series(\n",
    "            0,\n",
    "            index=np.arange(\n",
    "                df['visitorsPerDateB'].sum() - len(ordersByUsersB['orders'])\n",
    "            ),\n",
    "            name='orders',\n",
    "        ),\n",
    "    ],\n",
    "    axis=0,\n",
    ")\n",
    "p_value = stats.mannwhitneyu(sampleAFiltered, sampleBFiltered,True,'two-sided')[1]\n",
    "print(\"P-value: {0:.3f}\".format(p_value))\n",
    "if p_value < 0.05:\n",
    "    print('Мы не можем принять нулевую гипотезу')\n",
    "else:\n",
    "    print('Мы принимаем нулевую гипотезу')\n",
    "\n",
    "print('Прирост конверсии группы B : {0:.3f}'.format(sampleBFiltered.mean()/sampleAFiltered.mean()-1)) "
   ]
  },
  {
   "cell_type": "markdown",
   "metadata": {},
   "source": [
    "Гипотеза также была отвергнута. А прирост конверсии даже повысился! \n",
    "\n",
    "Рассмотрим аналогично для среднего чека, гипотеза которую мы проверяем: средний чек между группой А и В равны между собой."
   ]
  },
  {
   "cell_type": "code",
   "execution_count": 34,
   "metadata": {
    "scrolled": true
   },
   "outputs": [
    {
     "name": "stdout",
     "output_type": "stream",
     "text": [
      "P-value: 0.727\n",
      "Мы принимаем нулевую гипотезу\n",
      "Относительные различия в среднем чеке между группами: -0.034\n"
     ]
    }
   ],
   "source": [
    "p_value = stats.mannwhitneyu(\n",
    "    orders[np.logical_and( orders['group'] == 'A',\n",
    "                    np.logical_not(orders['visitor_id'].isin(abnormalUsers)),)]['revenue'],\n",
    "            orders[\n",
    "                np.logical_and(\n",
    "                    orders['group'] == 'B',\n",
    "                    np.logical_not(orders['visitor_id'].isin(abnormalUsers)),\n",
    "                )\n",
    "            ]['revenue'],True,'two-sided'\n",
    "        )[1]\n",
    "    \n",
    "print(\"P-value: {0:.3f}\".format(p_value))\n",
    "if p_value < 0.05:\n",
    "    print('Мы не можем принять нулевую гипотезу')\n",
    "else:\n",
    "    print('Мы принимаем нулевую гипотезу')\n",
    "\n",
    "print(\n",
    "    \"Относительные различия в среднем чеке между группами: {0:.3f}\".format(\n",
    "        orders[\n",
    "            np.logical_and(\n",
    "                orders['group'] == 'B',\n",
    "                np.logical_not(orders['visitor_id'].isin(abnormalUsers)),\n",
    "            )\n",
    "        ]['revenue'].mean()\n",
    "        / orders[\n",
    "            np.logical_and(\n",
    "                orders['group'] == 'A',\n",
    "                np.logical_not(orders['visitor_id'].isin(abnormalUsers)),\n",
    "            )\n",
    "        ]['revenue'].mean()\n",
    "        - 1\n",
    "    )\n",
    ")"
   ]
  },
  {
   "cell_type": "markdown",
   "metadata": {},
   "source": [
    "Значение p-value немного уменьшилась, но все ещё нулевая гипотеза не отвергается. Относительные различия в среднем чеке между группами уменьшилось до 0! Это отличие от \"сырых данных\", показывает как сильно повлияли аномальные пользователи на наш тест."
   ]
  },
  {
   "cell_type": "markdown",
   "metadata": {},
   "source": [
    "## Общий вывод\n",
    "\n",
    "Мы ознакомились с данными, обработали их и удалили пользователей который попали в обе группы, что искажает общий результат теста. \n",
    "\n",
    "Из приоритизированных гипотез выделим \"добавить форму подписки на все основные страницы, чтобы собрать базу клиентов для email-рассылок\" рассчитаная с учетом охвата и посчитана методом RICE и \"запустить акцию, дающую скидку на товар в день рождения\" полученная из формулы ICE. \n",
    "\n",
    "\n",
    "Результаты анализа А/В-теста:  \n",
    "* Наблюдается статистически значимое различие по конверсии между группами; \n",
    "* Нет статистически значимого различия по среднему чеку между группами ни по «сырым», ни по данным после фильтрации аномалий;\n",
    "* График различия конверсии между группами показывает, что результаты группы А хуже группы В и нет значительной тенденции к улучшению;\n",
    "* Из графика различия среднего чека видно, что разница между группами по \"сырым данным\" около 28%, по отфильтрованным данным разница около нуля.\n",
    "\n",
    "Из полученных статистических значений различий и графиков, мы можем наблюдать успех группы B на А, поэтому самым экономически выгодным и оправданным решением будет, закончить тест победой группы B."
   ]
  }
 ],
 "metadata": {
  "ExecuteTimeLog": [
   {
    "duration": 582,
    "start_time": "2022-02-18T17:22:35.921Z"
   },
   {
    "duration": 75,
    "start_time": "2022-02-18T17:23:42.109Z"
   },
   {
    "duration": 28,
    "start_time": "2022-02-18T17:23:50.135Z"
   },
   {
    "duration": 77,
    "start_time": "2022-02-18T17:24:16.098Z"
   },
   {
    "duration": 98,
    "start_time": "2022-02-18T17:24:35.330Z"
   },
   {
    "duration": 33,
    "start_time": "2022-02-18T17:24:40.249Z"
   },
   {
    "duration": 14,
    "start_time": "2022-02-18T17:24:52.598Z"
   },
   {
    "duration": 8,
    "start_time": "2022-02-18T17:25:01.550Z"
   },
   {
    "duration": 10,
    "start_time": "2022-02-18T17:25:16.293Z"
   },
   {
    "duration": 9,
    "start_time": "2022-02-18T17:25:49.260Z"
   },
   {
    "duration": 6,
    "start_time": "2022-02-18T17:26:04.054Z"
   },
   {
    "duration": 6,
    "start_time": "2022-02-18T17:26:24.409Z"
   },
   {
    "duration": 34,
    "start_time": "2022-02-18T17:27:13.408Z"
   },
   {
    "duration": 290,
    "start_time": "2022-02-18T17:29:21.089Z"
   },
   {
    "duration": 243,
    "start_time": "2022-02-18T17:29:31.383Z"
   },
   {
    "duration": 12,
    "start_time": "2022-02-18T17:30:08.402Z"
   },
   {
    "duration": 255,
    "start_time": "2022-02-18T17:31:19.461Z"
   },
   {
    "duration": 236,
    "start_time": "2022-02-18T17:31:26.796Z"
   },
   {
    "duration": 220,
    "start_time": "2022-02-18T17:32:33.143Z"
   },
   {
    "duration": 236,
    "start_time": "2022-02-18T17:32:45.471Z"
   },
   {
    "duration": 9,
    "start_time": "2022-02-18T17:34:29.607Z"
   },
   {
    "duration": 16,
    "start_time": "2022-02-18T17:34:37.501Z"
   },
   {
    "duration": 67,
    "start_time": "2022-02-18T17:34:49.582Z"
   },
   {
    "duration": 16,
    "start_time": "2022-02-18T17:34:53.958Z"
   },
   {
    "duration": 635,
    "start_time": "2022-02-18T17:35:13.682Z"
   },
   {
    "duration": 9,
    "start_time": "2022-02-18T17:35:21.225Z"
   },
   {
    "duration": 16,
    "start_time": "2022-02-18T17:35:40.968Z"
   },
   {
    "duration": 10,
    "start_time": "2022-02-18T17:36:59.897Z"
   },
   {
    "duration": 238,
    "start_time": "2022-02-18T17:37:08.300Z"
   },
   {
    "duration": 19,
    "start_time": "2022-02-18T17:37:14.091Z"
   },
   {
    "duration": 10,
    "start_time": "2022-02-18T17:37:19.366Z"
   },
   {
    "duration": 84,
    "start_time": "2022-02-18T17:37:51.126Z"
   },
   {
    "duration": 16,
    "start_time": "2022-02-18T17:39:54.903Z"
   },
   {
    "duration": 17,
    "start_time": "2022-02-18T17:40:51.388Z"
   },
   {
    "duration": 22,
    "start_time": "2022-02-18T17:40:58.855Z"
   },
   {
    "duration": 613,
    "start_time": "2022-02-18T17:41:55.940Z"
   },
   {
    "duration": 82,
    "start_time": "2022-02-18T17:42:04.755Z"
   },
   {
    "duration": 567,
    "start_time": "2022-02-18T17:42:08.946Z"
   },
   {
    "duration": 16,
    "start_time": "2022-02-18T17:42:14.190Z"
   },
   {
    "duration": 22,
    "start_time": "2022-02-18T17:42:20.501Z"
   },
   {
    "duration": 16,
    "start_time": "2022-02-18T17:42:32.349Z"
   },
   {
    "duration": 18,
    "start_time": "2022-02-18T17:42:55.792Z"
   },
   {
    "duration": 9,
    "start_time": "2022-02-18T17:43:05.625Z"
   },
   {
    "duration": 9,
    "start_time": "2022-02-18T17:43:18.572Z"
   },
   {
    "duration": 16,
    "start_time": "2022-02-18T17:43:24.016Z"
   },
   {
    "duration": 206,
    "start_time": "2022-02-18T17:43:34.057Z"
   },
   {
    "duration": 232,
    "start_time": "2022-02-18T17:43:39.944Z"
   },
   {
    "duration": 9,
    "start_time": "2022-02-18T17:46:20.988Z"
   },
   {
    "duration": 16,
    "start_time": "2022-02-18T17:46:30.522Z"
   },
   {
    "duration": 678,
    "start_time": "2022-02-18T17:46:52.046Z"
   },
   {
    "duration": 226,
    "start_time": "2022-02-18T17:47:49.892Z"
   },
   {
    "duration": 231,
    "start_time": "2022-02-18T17:47:55.247Z"
   },
   {
    "duration": 16,
    "start_time": "2022-02-18T17:49:31.442Z"
   },
   {
    "duration": 234,
    "start_time": "2022-02-18T17:49:38.757Z"
   },
   {
    "duration": 249,
    "start_time": "2022-02-18T17:49:44.917Z"
   },
   {
    "duration": 225,
    "start_time": "2022-02-18T17:49:50.904Z"
   },
   {
    "duration": 244,
    "start_time": "2022-02-18T17:50:12.929Z"
   },
   {
    "duration": 243,
    "start_time": "2022-02-18T17:50:31.486Z"
   },
   {
    "duration": 210,
    "start_time": "2022-02-18T17:52:12.790Z"
   },
   {
    "duration": 8,
    "start_time": "2022-02-18T17:52:28.055Z"
   },
   {
    "duration": 8,
    "start_time": "2022-02-18T17:52:52.887Z"
   },
   {
    "duration": 8,
    "start_time": "2022-02-18T17:52:58.697Z"
   },
   {
    "duration": 10,
    "start_time": "2022-02-18T17:53:04.110Z"
   },
   {
    "duration": 5593,
    "start_time": "2022-02-18T17:56:26.309Z"
   },
   {
    "duration": 7,
    "start_time": "2022-02-18T17:56:49.786Z"
   },
   {
    "duration": 6,
    "start_time": "2022-02-18T17:56:54.940Z"
   },
   {
    "duration": 8,
    "start_time": "2022-02-18T17:58:06.768Z"
   },
   {
    "duration": 6,
    "start_time": "2022-02-18T17:58:43.287Z"
   },
   {
    "duration": 9,
    "start_time": "2022-02-18T17:58:53.289Z"
   },
   {
    "duration": 4,
    "start_time": "2022-02-18T17:59:37.568Z"
   },
   {
    "duration": 559,
    "start_time": "2022-02-18T18:03:26.255Z"
   },
   {
    "duration": 35,
    "start_time": "2022-02-18T18:03:26.816Z"
   },
   {
    "duration": 14,
    "start_time": "2022-02-18T18:03:26.853Z"
   },
   {
    "duration": 6,
    "start_time": "2022-02-18T18:03:26.869Z"
   },
   {
    "duration": 8,
    "start_time": "2022-02-18T18:03:26.877Z"
   },
   {
    "duration": 7,
    "start_time": "2022-02-18T18:03:26.886Z"
   },
   {
    "duration": 7,
    "start_time": "2022-02-18T18:03:26.919Z"
   },
   {
    "duration": 6,
    "start_time": "2022-02-18T18:03:26.928Z"
   },
   {
    "duration": 9,
    "start_time": "2022-02-18T18:03:26.936Z"
   },
   {
    "duration": 6,
    "start_time": "2022-02-18T18:03:26.947Z"
   },
   {
    "duration": 12,
    "start_time": "2022-02-18T18:03:26.955Z"
   },
   {
    "duration": 5,
    "start_time": "2022-02-18T18:03:26.969Z"
   },
   {
    "duration": 46,
    "start_time": "2022-02-18T18:03:26.975Z"
   },
   {
    "duration": 4,
    "start_time": "2022-02-18T18:03:45.290Z"
   },
   {
    "duration": 9,
    "start_time": "2022-02-18T18:03:47.580Z"
   },
   {
    "duration": 4,
    "start_time": "2022-02-18T18:21:58.420Z"
   },
   {
    "duration": 9,
    "start_time": "2022-02-18T18:22:54.633Z"
   },
   {
    "duration": 285,
    "start_time": "2022-02-18T18:23:06.722Z"
   },
   {
    "duration": 9,
    "start_time": "2022-02-18T18:23:16.043Z"
   },
   {
    "duration": 10,
    "start_time": "2022-02-18T18:23:23.023Z"
   },
   {
    "duration": 9,
    "start_time": "2022-02-18T18:23:38.129Z"
   },
   {
    "duration": 7,
    "start_time": "2022-02-18T18:33:32.210Z"
   },
   {
    "duration": 14,
    "start_time": "2022-02-18T18:33:37.555Z"
   },
   {
    "duration": 617,
    "start_time": "2022-02-18T18:34:14.810Z"
   },
   {
    "duration": 44,
    "start_time": "2022-02-18T18:34:15.429Z"
   },
   {
    "duration": 15,
    "start_time": "2022-02-18T18:34:15.474Z"
   },
   {
    "duration": 6,
    "start_time": "2022-02-18T18:34:15.490Z"
   },
   {
    "duration": 13,
    "start_time": "2022-02-18T18:34:15.498Z"
   },
   {
    "duration": 7,
    "start_time": "2022-02-18T18:34:15.512Z"
   },
   {
    "duration": 8,
    "start_time": "2022-02-18T18:34:15.520Z"
   },
   {
    "duration": 6,
    "start_time": "2022-02-18T18:34:15.530Z"
   },
   {
    "duration": 9,
    "start_time": "2022-02-18T18:34:15.537Z"
   },
   {
    "duration": 6,
    "start_time": "2022-02-18T18:34:15.548Z"
   },
   {
    "duration": 8,
    "start_time": "2022-02-18T18:34:15.556Z"
   },
   {
    "duration": 53,
    "start_time": "2022-02-18T18:34:15.566Z"
   },
   {
    "duration": 9,
    "start_time": "2022-02-18T18:34:15.621Z"
   },
   {
    "duration": 5,
    "start_time": "2022-02-18T18:34:15.632Z"
   },
   {
    "duration": 13,
    "start_time": "2022-02-18T18:34:15.638Z"
   },
   {
    "duration": 280,
    "start_time": "2022-02-18T18:34:18.769Z"
   },
   {
    "duration": 4,
    "start_time": "2022-02-18T18:34:28.455Z"
   },
   {
    "duration": 11,
    "start_time": "2022-02-18T18:34:37.312Z"
   },
   {
    "duration": 13,
    "start_time": "2022-02-18T18:34:40.993Z"
   },
   {
    "duration": 410,
    "start_time": "2022-02-18T18:36:07.904Z"
   },
   {
    "duration": 3,
    "start_time": "2022-02-18T18:39:13.133Z"
   },
   {
    "duration": 5641,
    "start_time": "2022-02-18T18:39:22.035Z"
   },
   {
    "duration": 5831,
    "start_time": "2022-02-18T18:40:06.209Z"
   },
   {
    "duration": 192,
    "start_time": "2022-02-18T18:40:41.690Z"
   },
   {
    "duration": 186,
    "start_time": "2022-02-18T18:40:46.727Z"
   },
   {
    "duration": 228,
    "start_time": "2022-02-18T18:45:23.400Z"
   },
   {
    "duration": 12,
    "start_time": "2022-02-18T18:45:50.041Z"
   },
   {
    "duration": 378,
    "start_time": "2022-02-18T18:47:42.373Z"
   },
   {
    "duration": 83,
    "start_time": "2022-02-18T18:49:59.965Z"
   },
   {
    "duration": 263,
    "start_time": "2022-02-18T18:50:43.798Z"
   },
   {
    "duration": 254,
    "start_time": "2022-02-18T18:50:49.800Z"
   },
   {
    "duration": 249,
    "start_time": "2022-02-18T18:51:48.572Z"
   },
   {
    "duration": 72,
    "start_time": "2022-02-18T18:51:55.730Z"
   },
   {
    "duration": 244,
    "start_time": "2022-02-18T18:52:09.716Z"
   },
   {
    "duration": 255,
    "start_time": "2022-02-18T18:52:23.166Z"
   },
   {
    "duration": 6,
    "start_time": "2022-02-18T18:52:37.310Z"
   },
   {
    "duration": 250,
    "start_time": "2022-02-18T18:52:48.386Z"
   },
   {
    "duration": 247,
    "start_time": "2022-02-18T18:57:09.359Z"
   },
   {
    "duration": 10,
    "start_time": "2022-02-18T18:57:16.050Z"
   },
   {
    "duration": 384,
    "start_time": "2022-02-18T18:58:48.973Z"
   },
   {
    "duration": 75,
    "start_time": "2022-02-18T18:59:07.369Z"
   },
   {
    "duration": 386,
    "start_time": "2022-02-18T18:59:11.346Z"
   },
   {
    "duration": 617,
    "start_time": "2022-02-18T19:00:35.207Z"
   },
   {
    "duration": 614,
    "start_time": "2022-02-18T19:00:47.362Z"
   },
   {
    "duration": 542,
    "start_time": "2022-02-18T19:00:56.785Z"
   },
   {
    "duration": 394,
    "start_time": "2022-02-18T19:01:08.958Z"
   },
   {
    "duration": 440,
    "start_time": "2022-02-18T19:01:33.639Z"
   },
   {
    "duration": 429,
    "start_time": "2022-02-18T19:01:42.323Z"
   },
   {
    "duration": 395,
    "start_time": "2022-02-18T19:01:46.677Z"
   },
   {
    "duration": 427,
    "start_time": "2022-02-18T19:02:39.799Z"
   },
   {
    "duration": 467,
    "start_time": "2022-02-18T19:02:50.798Z"
   },
   {
    "duration": 416,
    "start_time": "2022-02-18T19:02:57.100Z"
   },
   {
    "duration": 420,
    "start_time": "2022-02-18T19:03:09.029Z"
   },
   {
    "duration": 261,
    "start_time": "2022-02-18T19:04:20.448Z"
   },
   {
    "duration": 222,
    "start_time": "2022-02-18T19:07:15.243Z"
   },
   {
    "duration": 300,
    "start_time": "2022-02-18T19:07:21.086Z"
   },
   {
    "duration": 183,
    "start_time": "2022-02-18T19:08:37.948Z"
   },
   {
    "duration": 201,
    "start_time": "2022-02-18T19:08:54.050Z"
   },
   {
    "duration": 212,
    "start_time": "2022-02-18T19:09:05.924Z"
   },
   {
    "duration": 248,
    "start_time": "2022-02-18T19:20:11.874Z"
   },
   {
    "duration": 248,
    "start_time": "2022-02-18T19:20:26.741Z"
   },
   {
    "duration": 240,
    "start_time": "2022-02-18T19:20:42.928Z"
   },
   {
    "duration": 5525,
    "start_time": "2022-02-18T19:22:24.784Z"
   },
   {
    "duration": 305,
    "start_time": "2022-02-18T19:23:52.819Z"
   },
   {
    "duration": 286,
    "start_time": "2022-02-18T19:24:58.398Z"
   },
   {
    "duration": 472,
    "start_time": "2022-02-18T19:26:18.212Z"
   },
   {
    "duration": 311,
    "start_time": "2022-02-18T19:26:34.498Z"
   },
   {
    "duration": 298,
    "start_time": "2022-02-18T19:26:54.834Z"
   },
   {
    "duration": 282,
    "start_time": "2022-02-18T19:27:01.727Z"
   },
   {
    "duration": 270,
    "start_time": "2022-02-18T19:27:08.860Z"
   },
   {
    "duration": 423,
    "start_time": "2022-02-18T19:27:26.049Z"
   },
   {
    "duration": 311,
    "start_time": "2022-02-18T19:27:29.518Z"
   },
   {
    "duration": 242,
    "start_time": "2022-02-18T19:29:58.693Z"
   },
   {
    "duration": 303,
    "start_time": "2022-02-18T19:30:05.729Z"
   },
   {
    "duration": 271,
    "start_time": "2022-02-18T19:30:16.804Z"
   },
   {
    "duration": 329,
    "start_time": "2022-02-18T19:30:20.620Z"
   },
   {
    "duration": 375,
    "start_time": "2022-02-18T19:31:12.748Z"
   },
   {
    "duration": 302,
    "start_time": "2022-02-18T19:31:17.508Z"
   },
   {
    "duration": 294,
    "start_time": "2022-02-18T19:31:21.414Z"
   },
   {
    "duration": 298,
    "start_time": "2022-02-18T19:31:37.635Z"
   },
   {
    "duration": 241,
    "start_time": "2022-02-18T19:33:03.248Z"
   },
   {
    "duration": 228,
    "start_time": "2022-02-18T19:33:20.501Z"
   },
   {
    "duration": 232,
    "start_time": "2022-02-18T19:33:25.880Z"
   },
   {
    "duration": 360,
    "start_time": "2022-02-18T19:33:45.321Z"
   },
   {
    "duration": 288,
    "start_time": "2022-02-18T19:33:53.096Z"
   },
   {
    "duration": 253,
    "start_time": "2022-02-18T19:34:05.358Z"
   },
   {
    "duration": 275,
    "start_time": "2022-02-18T19:35:22.036Z"
   },
   {
    "duration": 9,
    "start_time": "2022-02-18T19:35:27.445Z"
   },
   {
    "duration": 292,
    "start_time": "2022-02-18T19:35:35.156Z"
   },
   {
    "duration": 308,
    "start_time": "2022-02-18T19:35:57.326Z"
   },
   {
    "duration": 290,
    "start_time": "2022-02-18T19:35:59.750Z"
   },
   {
    "duration": 346,
    "start_time": "2022-02-18T19:36:02.906Z"
   },
   {
    "duration": 307,
    "start_time": "2022-02-18T19:36:07.929Z"
   },
   {
    "duration": 7,
    "start_time": "2022-02-18T19:36:12.754Z"
   },
   {
    "duration": 287,
    "start_time": "2022-02-18T19:36:15.556Z"
   },
   {
    "duration": 331,
    "start_time": "2022-02-18T19:36:18.617Z"
   },
   {
    "duration": 313,
    "start_time": "2022-02-18T19:36:48.624Z"
   },
   {
    "duration": 237,
    "start_time": "2022-02-18T19:36:54.952Z"
   },
   {
    "duration": 304,
    "start_time": "2022-02-18T19:36:59.217Z"
   },
   {
    "duration": 243,
    "start_time": "2022-02-18T19:37:10.554Z"
   },
   {
    "duration": 3,
    "start_time": "2022-02-18T19:37:15.402Z"
   },
   {
    "duration": 276,
    "start_time": "2022-02-18T19:37:19.070Z"
   },
   {
    "duration": 277,
    "start_time": "2022-02-18T19:38:18.676Z"
   },
   {
    "duration": 410,
    "start_time": "2022-02-18T19:38:26.819Z"
   },
   {
    "duration": 296,
    "start_time": "2022-02-18T19:38:34.539Z"
   },
   {
    "duration": 279,
    "start_time": "2022-02-18T19:38:37.648Z"
   },
   {
    "duration": 318,
    "start_time": "2022-02-18T19:38:46.920Z"
   },
   {
    "duration": 306,
    "start_time": "2022-02-18T19:38:50.105Z"
   },
   {
    "duration": 502,
    "start_time": "2022-02-18T19:39:10.344Z"
   },
   {
    "duration": 3,
    "start_time": "2022-02-18T19:39:31.448Z"
   },
   {
    "duration": 301,
    "start_time": "2022-02-18T19:39:46.911Z"
   },
   {
    "duration": 296,
    "start_time": "2022-02-18T19:39:53.131Z"
   },
   {
    "duration": 290,
    "start_time": "2022-02-18T19:40:09.835Z"
   },
   {
    "duration": 300,
    "start_time": "2022-02-18T19:40:29.235Z"
   },
   {
    "duration": 318,
    "start_time": "2022-02-18T19:40:54.532Z"
   },
   {
    "duration": 336,
    "start_time": "2022-02-18T19:41:01.722Z"
   },
   {
    "duration": 356,
    "start_time": "2022-02-18T19:41:12.452Z"
   },
   {
    "duration": 369,
    "start_time": "2022-02-18T19:41:16.196Z"
   },
   {
    "duration": 445,
    "start_time": "2022-02-18T19:41:21.427Z"
   },
   {
    "duration": 356,
    "start_time": "2022-02-18T19:41:22.586Z"
   },
   {
    "duration": 377,
    "start_time": "2022-02-18T19:41:23.909Z"
   },
   {
    "duration": 403,
    "start_time": "2022-02-18T19:41:35.120Z"
   },
   {
    "duration": 372,
    "start_time": "2022-02-18T19:41:36.317Z"
   },
   {
    "duration": 334,
    "start_time": "2022-02-18T19:41:37.363Z"
   },
   {
    "duration": 349,
    "start_time": "2022-02-18T19:41:43.587Z"
   },
   {
    "duration": 343,
    "start_time": "2022-02-18T19:41:53.850Z"
   },
   {
    "duration": 388,
    "start_time": "2022-02-18T19:41:56.618Z"
   },
   {
    "duration": 341,
    "start_time": "2022-02-18T19:42:12.970Z"
   },
   {
    "duration": 385,
    "start_time": "2022-02-18T19:42:14.098Z"
   },
   {
    "duration": 395,
    "start_time": "2022-02-18T19:42:20.003Z"
   },
   {
    "duration": 551,
    "start_time": "2022-02-18T19:43:30.990Z"
   },
   {
    "duration": 378,
    "start_time": "2022-02-18T19:43:36.402Z"
   },
   {
    "duration": 318,
    "start_time": "2022-02-18T19:43:46.639Z"
   },
   {
    "duration": 67,
    "start_time": "2022-02-18T19:53:10.704Z"
   },
   {
    "duration": 290,
    "start_time": "2022-02-18T19:53:18.628Z"
   },
   {
    "duration": 380,
    "start_time": "2022-02-18T19:53:25.521Z"
   },
   {
    "duration": 495,
    "start_time": "2022-02-18T19:54:02.401Z"
   },
   {
    "duration": 434,
    "start_time": "2022-02-18T19:54:09.871Z"
   },
   {
    "duration": 362,
    "start_time": "2022-02-18T19:54:11.125Z"
   },
   {
    "duration": 319,
    "start_time": "2022-02-18T19:54:12.781Z"
   },
   {
    "duration": 339,
    "start_time": "2022-02-18T19:54:13.630Z"
   },
   {
    "duration": 364,
    "start_time": "2022-02-18T19:54:14.415Z"
   },
   {
    "duration": 304,
    "start_time": "2022-02-18T19:54:15.167Z"
   },
   {
    "duration": 360,
    "start_time": "2022-02-18T19:54:15.900Z"
   },
   {
    "duration": 339,
    "start_time": "2022-02-18T19:54:50.282Z"
   },
   {
    "duration": 324,
    "start_time": "2022-02-18T19:54:52.543Z"
   },
   {
    "duration": 740,
    "start_time": "2022-02-18T19:55:05.205Z"
   },
   {
    "duration": 45,
    "start_time": "2022-02-18T19:55:05.947Z"
   },
   {
    "duration": 9,
    "start_time": "2022-02-18T19:55:05.994Z"
   },
   {
    "duration": 9,
    "start_time": "2022-02-18T19:55:06.005Z"
   },
   {
    "duration": 16,
    "start_time": "2022-02-18T19:55:06.016Z"
   },
   {
    "duration": 8,
    "start_time": "2022-02-18T19:55:06.034Z"
   },
   {
    "duration": 10,
    "start_time": "2022-02-18T19:55:06.044Z"
   },
   {
    "duration": 6,
    "start_time": "2022-02-18T19:55:06.057Z"
   },
   {
    "duration": 10,
    "start_time": "2022-02-18T19:55:06.065Z"
   },
   {
    "duration": 42,
    "start_time": "2022-02-18T19:55:06.077Z"
   },
   {
    "duration": 8,
    "start_time": "2022-02-18T19:55:06.121Z"
   },
   {
    "duration": 6,
    "start_time": "2022-02-18T19:55:06.131Z"
   },
   {
    "duration": 8,
    "start_time": "2022-02-18T19:55:06.139Z"
   },
   {
    "duration": 9,
    "start_time": "2022-02-18T19:55:06.149Z"
   },
   {
    "duration": 12,
    "start_time": "2022-02-18T19:55:06.159Z"
   },
   {
    "duration": 49,
    "start_time": "2022-02-18T19:55:06.173Z"
   },
   {
    "duration": 206,
    "start_time": "2022-02-18T19:55:06.224Z"
   },
   {
    "duration": 415,
    "start_time": "2022-02-18T19:55:06.432Z"
   },
   {
    "duration": 229,
    "start_time": "2022-02-18T19:55:06.849Z"
   },
   {
    "duration": 350,
    "start_time": "2022-02-18T19:55:07.080Z"
   },
   {
    "duration": 268,
    "start_time": "2022-02-18T19:55:07.432Z"
   },
   {
    "duration": 301,
    "start_time": "2022-02-18T19:55:07.702Z"
   },
   {
    "duration": 3,
    "start_time": "2022-02-18T19:55:08.018Z"
   },
   {
    "duration": 366,
    "start_time": "2022-02-18T19:55:08.023Z"
   },
   {
    "duration": 336,
    "start_time": "2022-02-18T19:55:13.634Z"
   },
   {
    "duration": 346,
    "start_time": "2022-02-18T19:55:21.103Z"
   },
   {
    "duration": 304,
    "start_time": "2022-02-18T19:55:28.087Z"
   },
   {
    "duration": 707,
    "start_time": "2022-02-18T19:55:33.023Z"
   },
   {
    "duration": 41,
    "start_time": "2022-02-18T19:55:33.731Z"
   },
   {
    "duration": 10,
    "start_time": "2022-02-18T19:55:33.774Z"
   },
   {
    "duration": 19,
    "start_time": "2022-02-18T19:55:33.786Z"
   },
   {
    "duration": 26,
    "start_time": "2022-02-18T19:55:33.806Z"
   },
   {
    "duration": 18,
    "start_time": "2022-02-18T19:55:33.834Z"
   },
   {
    "duration": 20,
    "start_time": "2022-02-18T19:55:33.853Z"
   },
   {
    "duration": 13,
    "start_time": "2022-02-18T19:55:33.874Z"
   },
   {
    "duration": 21,
    "start_time": "2022-02-18T19:55:33.890Z"
   },
   {
    "duration": 10,
    "start_time": "2022-02-18T19:55:33.913Z"
   },
   {
    "duration": 12,
    "start_time": "2022-02-18T19:55:33.925Z"
   },
   {
    "duration": 17,
    "start_time": "2022-02-18T19:55:33.938Z"
   },
   {
    "duration": 22,
    "start_time": "2022-02-18T19:55:33.956Z"
   },
   {
    "duration": 11,
    "start_time": "2022-02-18T19:55:33.979Z"
   },
   {
    "duration": 18,
    "start_time": "2022-02-18T19:55:33.991Z"
   },
   {
    "duration": 16,
    "start_time": "2022-02-18T19:55:34.011Z"
   },
   {
    "duration": 200,
    "start_time": "2022-02-18T19:55:34.030Z"
   },
   {
    "duration": 410,
    "start_time": "2022-02-18T19:55:34.232Z"
   },
   {
    "duration": 219,
    "start_time": "2022-02-18T19:55:34.644Z"
   },
   {
    "duration": 281,
    "start_time": "2022-02-18T19:55:34.865Z"
   },
   {
    "duration": 280,
    "start_time": "2022-02-18T19:55:35.148Z"
   },
   {
    "duration": 280,
    "start_time": "2022-02-18T19:55:35.430Z"
   },
   {
    "duration": 325,
    "start_time": "2022-02-18T19:55:35.711Z"
   },
   {
    "duration": 4,
    "start_time": "2022-02-18T19:57:19.876Z"
   },
   {
    "duration": 4,
    "start_time": "2022-02-18T19:57:35.357Z"
   },
   {
    "duration": 105,
    "start_time": "2022-02-18T19:59:07.131Z"
   },
   {
    "duration": 5,
    "start_time": "2022-02-18T19:59:16.807Z"
   },
   {
    "duration": 5,
    "start_time": "2022-02-18T19:59:39.574Z"
   },
   {
    "duration": 5,
    "start_time": "2022-02-18T19:59:50.088Z"
   },
   {
    "duration": 5,
    "start_time": "2022-02-18T20:01:25.213Z"
   },
   {
    "duration": 7,
    "start_time": "2022-02-18T20:02:58.910Z"
   },
   {
    "duration": 5,
    "start_time": "2022-02-18T20:03:05.454Z"
   },
   {
    "duration": 94,
    "start_time": "2022-02-18T20:03:08.543Z"
   },
   {
    "duration": 5,
    "start_time": "2022-02-18T20:03:23.653Z"
   },
   {
    "duration": 383,
    "start_time": "2022-02-18T20:07:33.867Z"
   },
   {
    "duration": 631,
    "start_time": "2022-02-19T14:47:29.801Z"
   },
   {
    "duration": 3,
    "start_time": "2022-02-19T14:47:35.493Z"
   },
   {
    "duration": 44,
    "start_time": "2022-02-19T14:47:35.498Z"
   },
   {
    "duration": 10,
    "start_time": "2022-02-19T14:47:35.544Z"
   },
   {
    "duration": 7,
    "start_time": "2022-02-19T14:47:35.556Z"
   },
   {
    "duration": 8,
    "start_time": "2022-02-19T14:47:35.564Z"
   },
   {
    "duration": 7,
    "start_time": "2022-02-19T14:47:35.574Z"
   },
   {
    "duration": 9,
    "start_time": "2022-02-19T14:47:35.582Z"
   },
   {
    "duration": 37,
    "start_time": "2022-02-19T14:47:35.594Z"
   },
   {
    "duration": 16,
    "start_time": "2022-02-19T14:47:35.633Z"
   },
   {
    "duration": 6,
    "start_time": "2022-02-19T14:47:35.651Z"
   },
   {
    "duration": 11,
    "start_time": "2022-02-19T14:47:35.659Z"
   },
   {
    "duration": 6,
    "start_time": "2022-02-19T14:47:35.671Z"
   },
   {
    "duration": 8,
    "start_time": "2022-02-19T14:47:35.679Z"
   },
   {
    "duration": 5,
    "start_time": "2022-02-19T14:47:35.689Z"
   },
   {
    "duration": 9,
    "start_time": "2022-02-19T14:47:35.730Z"
   },
   {
    "duration": 15,
    "start_time": "2022-02-19T14:47:35.741Z"
   },
   {
    "duration": 211,
    "start_time": "2022-02-19T14:47:35.758Z"
   },
   {
    "duration": 407,
    "start_time": "2022-02-19T14:47:35.971Z"
   },
   {
    "duration": 193,
    "start_time": "2022-02-19T14:47:36.380Z"
   },
   {
    "duration": 284,
    "start_time": "2022-02-19T14:47:36.575Z"
   },
   {
    "duration": 251,
    "start_time": "2022-02-19T14:47:36.861Z"
   },
   {
    "duration": 301,
    "start_time": "2022-02-19T14:47:37.114Z"
   },
   {
    "duration": 5,
    "start_time": "2022-02-19T14:47:37.430Z"
   },
   {
    "duration": 309,
    "start_time": "2022-02-19T14:47:37.437Z"
   },
   {
    "duration": 4,
    "start_time": "2022-02-19T14:47:37.748Z"
   },
   {
    "duration": 3,
    "start_time": "2022-02-19T14:48:28.216Z"
   },
   {
    "duration": 5,
    "start_time": "2022-02-19T14:59:29.898Z"
   },
   {
    "duration": 12,
    "start_time": "2022-02-19T15:04:41.129Z"
   },
   {
    "duration": 7,
    "start_time": "2022-02-19T15:04:53.128Z"
   },
   {
    "duration": 11,
    "start_time": "2022-02-19T15:13:38.130Z"
   },
   {
    "duration": 12,
    "start_time": "2022-02-19T15:14:22.954Z"
   },
   {
    "duration": 11,
    "start_time": "2022-02-19T15:14:29.785Z"
   },
   {
    "duration": 5,
    "start_time": "2022-02-19T15:14:43.836Z"
   },
   {
    "duration": 5,
    "start_time": "2022-02-19T15:14:54.932Z"
   },
   {
    "duration": 11,
    "start_time": "2022-02-19T15:15:32.980Z"
   },
   {
    "duration": 7,
    "start_time": "2022-02-19T15:15:40.530Z"
   },
   {
    "duration": 10,
    "start_time": "2022-02-19T15:17:44.310Z"
   },
   {
    "duration": 11,
    "start_time": "2022-02-19T15:21:54.990Z"
   },
   {
    "duration": 11,
    "start_time": "2022-02-19T15:22:52.220Z"
   },
   {
    "duration": 11,
    "start_time": "2022-02-19T15:24:03.639Z"
   },
   {
    "duration": 45,
    "start_time": "2022-02-19T15:42:42.900Z"
   },
   {
    "duration": 9,
    "start_time": "2022-02-19T15:44:08.381Z"
   },
   {
    "duration": 8,
    "start_time": "2022-02-19T15:44:29.366Z"
   },
   {
    "duration": 12,
    "start_time": "2022-02-19T15:56:45.186Z"
   },
   {
    "duration": 10,
    "start_time": "2022-02-19T16:00:24.275Z"
   },
   {
    "duration": 196,
    "start_time": "2022-02-19T16:04:25.400Z"
   },
   {
    "duration": 194,
    "start_time": "2022-02-19T16:31:01.067Z"
   },
   {
    "duration": 252,
    "start_time": "2022-02-19T16:37:20.603Z"
   },
   {
    "duration": 166,
    "start_time": "2022-02-19T16:37:25.559Z"
   },
   {
    "duration": 338,
    "start_time": "2022-02-19T16:51:18.044Z"
   },
   {
    "duration": 334,
    "start_time": "2022-02-19T16:51:33.165Z"
   },
   {
    "duration": 369,
    "start_time": "2022-02-19T16:52:35.025Z"
   },
   {
    "duration": 337,
    "start_time": "2022-02-19T16:52:49.827Z"
   },
   {
    "duration": 242,
    "start_time": "2022-02-19T16:56:42.853Z"
   },
   {
    "duration": 440,
    "start_time": "2022-02-19T16:57:13.659Z"
   },
   {
    "duration": 246,
    "start_time": "2022-02-19T16:57:25.090Z"
   },
   {
    "duration": 239,
    "start_time": "2022-02-19T17:03:59.166Z"
   },
   {
    "duration": 240,
    "start_time": "2022-02-19T17:04:16.790Z"
   },
   {
    "duration": 297,
    "start_time": "2022-02-19T17:04:33.754Z"
   },
   {
    "duration": 244,
    "start_time": "2022-02-19T17:04:37.572Z"
   },
   {
    "duration": 369,
    "start_time": "2022-02-19T17:12:24.436Z"
   },
   {
    "duration": 322,
    "start_time": "2022-02-19T17:12:30.579Z"
   },
   {
    "duration": 393,
    "start_time": "2022-02-19T17:12:47.612Z"
   },
   {
    "duration": 198,
    "start_time": "2022-02-19T17:17:29.499Z"
   },
   {
    "duration": 269,
    "start_time": "2022-02-19T17:18:30.888Z"
   },
   {
    "duration": 266,
    "start_time": "2022-02-19T17:21:37.987Z"
   },
   {
    "duration": 264,
    "start_time": "2022-02-19T17:21:47.948Z"
   },
   {
    "duration": 255,
    "start_time": "2022-02-19T17:22:00.328Z"
   },
   {
    "duration": 257,
    "start_time": "2022-02-19T17:22:40.958Z"
   },
   {
    "duration": 386,
    "start_time": "2022-02-19T17:30:35.963Z"
   },
   {
    "duration": 267,
    "start_time": "2022-02-19T17:30:42.265Z"
   },
   {
    "duration": 372,
    "start_time": "2022-02-19T17:30:55.511Z"
   },
   {
    "duration": 289,
    "start_time": "2022-02-19T17:31:26.958Z"
   },
   {
    "duration": 337,
    "start_time": "2022-02-19T17:33:21.546Z"
   },
   {
    "duration": 323,
    "start_time": "2022-02-19T17:33:28.738Z"
   },
   {
    "duration": 360,
    "start_time": "2022-02-19T17:33:43.337Z"
   },
   {
    "duration": 408,
    "start_time": "2022-02-19T17:33:56.139Z"
   },
   {
    "duration": 405,
    "start_time": "2022-02-19T17:34:23.039Z"
   },
   {
    "duration": 348,
    "start_time": "2022-02-19T17:34:35.386Z"
   },
   {
    "duration": 356,
    "start_time": "2022-02-19T17:34:45.112Z"
   },
   {
    "duration": 409,
    "start_time": "2022-02-19T17:36:02.212Z"
   },
   {
    "duration": 349,
    "start_time": "2022-02-19T17:37:07.842Z"
   },
   {
    "duration": 137,
    "start_time": "2022-02-19T17:49:38.742Z"
   },
   {
    "duration": 275,
    "start_time": "2022-02-19T17:49:48.458Z"
   },
   {
    "duration": 11,
    "start_time": "2022-02-19T17:50:04.254Z"
   },
   {
    "duration": 10,
    "start_time": "2022-02-19T17:50:09.740Z"
   },
   {
    "duration": 9,
    "start_time": "2022-02-19T17:50:14.441Z"
   },
   {
    "duration": 10,
    "start_time": "2022-02-19T17:50:49.451Z"
   },
   {
    "duration": 297,
    "start_time": "2022-02-19T17:51:39.890Z"
   },
   {
    "duration": 303,
    "start_time": "2022-02-19T17:52:45.885Z"
   },
   {
    "duration": 338,
    "start_time": "2022-02-19T17:53:01.738Z"
   },
   {
    "duration": 11,
    "start_time": "2022-02-19T17:53:30.987Z"
   },
   {
    "duration": 361,
    "start_time": "2022-02-19T17:53:41.219Z"
   },
   {
    "duration": 5,
    "start_time": "2022-02-19T18:02:39.791Z"
   },
   {
    "duration": 5,
    "start_time": "2022-02-19T18:05:18.036Z"
   },
   {
    "duration": 348,
    "start_time": "2022-02-19T18:11:56.602Z"
   },
   {
    "duration": 5,
    "start_time": "2022-02-19T18:14:49.323Z"
   },
   {
    "duration": 469,
    "start_time": "2022-02-19T19:04:14.766Z"
   },
   {
    "duration": 3623,
    "start_time": "2022-02-19T19:05:24.036Z"
   },
   {
    "duration": 334,
    "start_time": "2022-02-19T19:05:44.891Z"
   },
   {
    "duration": 264,
    "start_time": "2022-02-19T19:06:02.808Z"
   },
   {
    "duration": 259,
    "start_time": "2022-02-19T19:06:12.063Z"
   },
   {
    "duration": 277,
    "start_time": "2022-02-19T19:13:39.203Z"
   },
   {
    "duration": 447,
    "start_time": "2022-02-19T19:16:33.092Z"
   },
   {
    "duration": 157,
    "start_time": "2022-02-19T19:17:50.251Z"
   },
   {
    "duration": 229,
    "start_time": "2022-02-19T19:18:57.423Z"
   },
   {
    "duration": 76,
    "start_time": "2022-02-19T19:19:10.134Z"
   },
   {
    "duration": 25,
    "start_time": "2022-02-19T19:30:13.668Z"
   },
   {
    "duration": 22,
    "start_time": "2022-02-19T19:33:57.804Z"
   },
   {
    "duration": 165,
    "start_time": "2022-02-19T19:37:04.158Z"
   },
   {
    "duration": 18,
    "start_time": "2022-02-19T19:37:13.448Z"
   },
   {
    "duration": 18,
    "start_time": "2022-02-19T19:38:12.806Z"
   },
   {
    "duration": 11,
    "start_time": "2022-02-19T19:38:41.762Z"
   },
   {
    "duration": 46,
    "start_time": "2022-02-19T19:39:34.676Z"
   },
   {
    "duration": 7,
    "start_time": "2022-02-19T19:39:37.226Z"
   },
   {
    "duration": 49,
    "start_time": "2022-02-19T19:40:34.693Z"
   },
   {
    "duration": 43,
    "start_time": "2022-02-19T19:40:40.876Z"
   },
   {
    "duration": 8,
    "start_time": "2022-02-19T19:40:50.941Z"
   },
   {
    "duration": 61,
    "start_time": "2022-02-19T19:48:01.257Z"
   },
   {
    "duration": 23,
    "start_time": "2022-02-19T19:48:04.768Z"
   },
   {
    "duration": 9,
    "start_time": "2022-02-19T19:48:32.450Z"
   },
   {
    "duration": 3697,
    "start_time": "2022-02-19T19:51:10.531Z"
   },
   {
    "duration": 3340,
    "start_time": "2022-02-19T19:52:40.925Z"
   },
   {
    "duration": 3267,
    "start_time": "2022-02-19T19:53:08.676Z"
   },
   {
    "duration": 3243,
    "start_time": "2022-02-19T19:53:45.019Z"
   },
   {
    "duration": 22,
    "start_time": "2022-02-19T19:55:00.900Z"
   },
   {
    "duration": 3569,
    "start_time": "2022-02-19T19:55:03.245Z"
   },
   {
    "duration": 8,
    "start_time": "2022-02-19T19:55:50.496Z"
   },
   {
    "duration": 3325,
    "start_time": "2022-02-19T19:55:59.149Z"
   },
   {
    "duration": 3904,
    "start_time": "2022-02-19T19:56:15.475Z"
   },
   {
    "duration": 3696,
    "start_time": "2022-02-19T19:56:25.204Z"
   },
   {
    "duration": 3310,
    "start_time": "2022-02-19T19:56:35.400Z"
   },
   {
    "duration": 3551,
    "start_time": "2022-02-19T19:56:41.295Z"
   },
   {
    "duration": 3208,
    "start_time": "2022-02-19T19:56:47.506Z"
   },
   {
    "duration": 6,
    "start_time": "2022-02-19T19:57:16.617Z"
   },
   {
    "duration": 3577,
    "start_time": "2022-02-19T20:01:45.847Z"
   },
   {
    "duration": 46,
    "start_time": "2022-02-19T20:02:00.625Z"
   },
   {
    "duration": 5,
    "start_time": "2022-02-19T20:02:05.259Z"
   },
   {
    "duration": 9,
    "start_time": "2022-02-19T20:02:19.006Z"
   },
   {
    "duration": 45,
    "start_time": "2022-02-19T20:02:51.792Z"
   },
   {
    "duration": 3578,
    "start_time": "2022-02-19T20:02:55.168Z"
   },
   {
    "duration": 8,
    "start_time": "2022-02-19T20:03:40.902Z"
   },
   {
    "duration": 10,
    "start_time": "2022-02-19T20:03:53.115Z"
   },
   {
    "duration": 9,
    "start_time": "2022-02-19T20:04:12.512Z"
   },
   {
    "duration": 9,
    "start_time": "2022-02-19T20:04:56.695Z"
   },
   {
    "duration": 10,
    "start_time": "2022-02-19T20:05:06.261Z"
   },
   {
    "duration": 3797,
    "start_time": "2022-02-19T20:09:04.223Z"
   },
   {
    "duration": 175,
    "start_time": "2022-02-19T20:11:21.738Z"
   },
   {
    "duration": 3447,
    "start_time": "2022-02-19T20:11:33.599Z"
   },
   {
    "duration": 8,
    "start_time": "2022-02-19T20:11:41.428Z"
   },
   {
    "duration": 12,
    "start_time": "2022-02-19T20:11:51.489Z"
   },
   {
    "duration": 3286,
    "start_time": "2022-02-19T20:12:39.319Z"
   },
   {
    "duration": 13,
    "start_time": "2022-02-19T20:13:51.282Z"
   },
   {
    "duration": 19,
    "start_time": "2022-02-19T20:21:33.039Z"
   },
   {
    "duration": 20,
    "start_time": "2022-02-19T20:22:24.438Z"
   },
   {
    "duration": 19,
    "start_time": "2022-02-19T20:22:29.159Z"
   },
   {
    "duration": 19,
    "start_time": "2022-02-19T20:22:33.427Z"
   },
   {
    "duration": 21,
    "start_time": "2022-02-19T20:22:48.884Z"
   },
   {
    "duration": 11,
    "start_time": "2022-02-19T20:23:53.378Z"
   },
   {
    "duration": 10,
    "start_time": "2022-02-19T20:24:00.857Z"
   },
   {
    "duration": 10,
    "start_time": "2022-02-19T20:24:41.586Z"
   },
   {
    "duration": 12,
    "start_time": "2022-02-19T20:27:34.049Z"
   },
   {
    "duration": 144,
    "start_time": "2022-02-19T20:29:14.728Z"
   },
   {
    "duration": 13,
    "start_time": "2022-02-19T20:29:20.360Z"
   },
   {
    "duration": 14,
    "start_time": "2022-02-19T20:29:46.252Z"
   },
   {
    "duration": 13,
    "start_time": "2022-02-19T20:29:55.394Z"
   },
   {
    "duration": 13,
    "start_time": "2022-02-19T20:30:27.992Z"
   },
   {
    "duration": 46,
    "start_time": "2022-02-19T20:34:27.778Z"
   },
   {
    "duration": 43,
    "start_time": "2022-02-19T20:34:40.048Z"
   },
   {
    "duration": 15,
    "start_time": "2022-02-19T20:34:44.524Z"
   },
   {
    "duration": 20,
    "start_time": "2022-02-19T20:35:10.653Z"
   },
   {
    "duration": 3282,
    "start_time": "2022-02-19T20:35:29.906Z"
   },
   {
    "duration": 3182,
    "start_time": "2022-02-19T20:35:37.159Z"
   },
   {
    "duration": 15,
    "start_time": "2022-02-19T20:35:45.427Z"
   },
   {
    "duration": 16,
    "start_time": "2022-02-19T20:36:05.039Z"
   },
   {
    "duration": 15,
    "start_time": "2022-02-19T20:36:14.389Z"
   },
   {
    "duration": 1043,
    "start_time": "2022-02-19T20:55:21.271Z"
   },
   {
    "duration": 39,
    "start_time": "2022-02-19T20:55:22.316Z"
   },
   {
    "duration": 11,
    "start_time": "2022-02-19T20:55:22.358Z"
   },
   {
    "duration": 6,
    "start_time": "2022-02-19T20:55:22.371Z"
   },
   {
    "duration": 9,
    "start_time": "2022-02-19T20:55:22.379Z"
   },
   {
    "duration": 8,
    "start_time": "2022-02-19T20:55:22.390Z"
   },
   {
    "duration": 8,
    "start_time": "2022-02-19T20:55:22.400Z"
   },
   {
    "duration": 21,
    "start_time": "2022-02-19T20:55:22.410Z"
   },
   {
    "duration": 6,
    "start_time": "2022-02-19T20:55:22.433Z"
   },
   {
    "duration": 7,
    "start_time": "2022-02-19T20:55:22.441Z"
   },
   {
    "duration": 12,
    "start_time": "2022-02-19T20:55:22.449Z"
   },
   {
    "duration": 13,
    "start_time": "2022-02-19T20:55:22.462Z"
   },
   {
    "duration": 11,
    "start_time": "2022-02-19T20:55:22.477Z"
   },
   {
    "duration": 11,
    "start_time": "2022-02-19T20:55:22.489Z"
   },
   {
    "duration": 11,
    "start_time": "2022-02-19T20:55:22.530Z"
   },
   {
    "duration": 335,
    "start_time": "2022-02-19T20:55:22.543Z"
   },
   {
    "duration": 269,
    "start_time": "2022-02-19T20:55:22.880Z"
   },
   {
    "duration": 250,
    "start_time": "2022-02-19T20:55:23.151Z"
   },
   {
    "duration": 376,
    "start_time": "2022-02-19T20:55:23.402Z"
   },
   {
    "duration": 248,
    "start_time": "2022-02-19T20:55:23.779Z"
   },
   {
    "duration": 416,
    "start_time": "2022-02-19T20:55:24.028Z"
   },
   {
    "duration": 14,
    "start_time": "2022-02-19T20:55:24.446Z"
   },
   {
    "duration": 366,
    "start_time": "2022-02-19T20:55:24.464Z"
   },
   {
    "duration": 5,
    "start_time": "2022-02-19T20:55:24.833Z"
   },
   {
    "duration": 404,
    "start_time": "2022-02-19T20:55:24.840Z"
   },
   {
    "duration": 6,
    "start_time": "2022-02-19T20:55:25.247Z"
   },
   {
    "duration": 281,
    "start_time": "2022-02-19T20:55:25.255Z"
   },
   {
    "duration": 21,
    "start_time": "2022-02-19T20:55:25.538Z"
   },
   {
    "duration": 9,
    "start_time": "2022-02-19T20:55:25.561Z"
   },
   {
    "duration": 7,
    "start_time": "2022-02-19T20:55:25.572Z"
   },
   {
    "duration": 19,
    "start_time": "2022-02-19T20:55:25.581Z"
   },
   {
    "duration": 16,
    "start_time": "2022-02-19T20:55:25.630Z"
   },
   {
    "duration": 244,
    "start_time": "2022-02-19T20:57:42.046Z"
   },
   {
    "duration": 1127,
    "start_time": "2022-02-20T08:29:31.789Z"
   },
   {
    "duration": 33,
    "start_time": "2022-02-20T08:29:32.918Z"
   },
   {
    "duration": 11,
    "start_time": "2022-02-20T08:29:32.953Z"
   },
   {
    "duration": 11,
    "start_time": "2022-02-20T08:29:32.966Z"
   },
   {
    "duration": 10,
    "start_time": "2022-02-20T08:29:32.979Z"
   },
   {
    "duration": 10,
    "start_time": "2022-02-20T08:29:32.991Z"
   },
   {
    "duration": 9,
    "start_time": "2022-02-20T08:29:33.003Z"
   },
   {
    "duration": 7,
    "start_time": "2022-02-20T08:29:33.018Z"
   },
   {
    "duration": 6,
    "start_time": "2022-02-20T08:29:33.027Z"
   },
   {
    "duration": 5,
    "start_time": "2022-02-20T08:29:33.035Z"
   },
   {
    "duration": 10,
    "start_time": "2022-02-20T08:29:33.042Z"
   },
   {
    "duration": 13,
    "start_time": "2022-02-20T08:29:33.054Z"
   },
   {
    "duration": 22,
    "start_time": "2022-02-20T08:29:33.069Z"
   },
   {
    "duration": 37,
    "start_time": "2022-02-20T08:29:33.093Z"
   },
   {
    "duration": 12,
    "start_time": "2022-02-20T08:29:33.132Z"
   },
   {
    "duration": 398,
    "start_time": "2022-02-20T08:29:33.146Z"
   },
   {
    "duration": 281,
    "start_time": "2022-02-20T08:29:33.546Z"
   },
   {
    "duration": 252,
    "start_time": "2022-02-20T08:29:33.829Z"
   },
   {
    "duration": 406,
    "start_time": "2022-02-20T08:29:34.084Z"
   },
   {
    "duration": 272,
    "start_time": "2022-02-20T08:29:34.493Z"
   },
   {
    "duration": 376,
    "start_time": "2022-02-20T08:29:34.767Z"
   },
   {
    "duration": 13,
    "start_time": "2022-02-20T08:29:35.146Z"
   },
   {
    "duration": 367,
    "start_time": "2022-02-20T08:29:35.163Z"
   },
   {
    "duration": 6,
    "start_time": "2022-02-20T08:29:35.532Z"
   },
   {
    "duration": 371,
    "start_time": "2022-02-20T08:29:35.539Z"
   },
   {
    "duration": 10,
    "start_time": "2022-02-20T08:29:35.912Z"
   },
   {
    "duration": 311,
    "start_time": "2022-02-20T08:29:35.923Z"
   },
   {
    "duration": 21,
    "start_time": "2022-02-20T08:29:36.235Z"
   },
   {
    "duration": 10,
    "start_time": "2022-02-20T08:29:36.258Z"
   },
   {
    "duration": 8,
    "start_time": "2022-02-20T08:29:36.270Z"
   },
   {
    "duration": 45,
    "start_time": "2022-02-20T08:29:36.280Z"
   },
   {
    "duration": 14,
    "start_time": "2022-02-20T08:29:36.327Z"
   },
   {
    "duration": 8,
    "start_time": "2022-02-20T08:35:13.949Z"
   },
   {
    "duration": 8,
    "start_time": "2022-02-20T08:35:26.374Z"
   },
   {
    "duration": 8,
    "start_time": "2022-02-20T08:35:46.672Z"
   },
   {
    "duration": 104,
    "start_time": "2022-02-20T13:44:21.576Z"
   },
   {
    "duration": 394,
    "start_time": "2022-02-21T07:14:59.918Z"
   },
   {
    "duration": 982,
    "start_time": "2022-02-21T07:15:08.859Z"
   },
   {
    "duration": 74,
    "start_time": "2022-02-21T07:15:09.843Z"
   },
   {
    "duration": 9,
    "start_time": "2022-02-21T07:15:09.919Z"
   },
   {
    "duration": 26,
    "start_time": "2022-02-21T07:15:09.929Z"
   },
   {
    "duration": 47,
    "start_time": "2022-02-21T07:15:09.957Z"
   },
   {
    "duration": 19,
    "start_time": "2022-02-21T07:15:10.005Z"
   },
   {
    "duration": 14,
    "start_time": "2022-02-21T07:15:10.026Z"
   },
   {
    "duration": 17,
    "start_time": "2022-02-21T07:15:10.042Z"
   },
   {
    "duration": 21,
    "start_time": "2022-02-21T07:15:10.060Z"
   },
   {
    "duration": 16,
    "start_time": "2022-02-21T07:15:10.082Z"
   },
   {
    "duration": 32,
    "start_time": "2022-02-21T07:15:10.099Z"
   },
   {
    "duration": 16,
    "start_time": "2022-02-21T07:15:10.133Z"
   },
   {
    "duration": 39,
    "start_time": "2022-02-21T07:15:10.151Z"
   },
   {
    "duration": 12,
    "start_time": "2022-02-21T07:15:10.191Z"
   },
   {
    "duration": 28,
    "start_time": "2022-02-21T07:15:10.205Z"
   },
   {
    "duration": 338,
    "start_time": "2022-02-21T07:15:10.234Z"
   },
   {
    "duration": 242,
    "start_time": "2022-02-21T07:15:10.573Z"
   },
   {
    "duration": 224,
    "start_time": "2022-02-21T07:15:10.817Z"
   },
   {
    "duration": 345,
    "start_time": "2022-02-21T07:15:11.045Z"
   },
   {
    "duration": 220,
    "start_time": "2022-02-21T07:15:11.392Z"
   },
   {
    "duration": 350,
    "start_time": "2022-02-21T07:15:11.614Z"
   },
   {
    "duration": 9,
    "start_time": "2022-02-21T07:15:11.966Z"
   },
   {
    "duration": 324,
    "start_time": "2022-02-21T07:15:11.978Z"
   },
   {
    "duration": 5,
    "start_time": "2022-02-21T07:15:12.303Z"
   },
   {
    "duration": 323,
    "start_time": "2022-02-21T07:15:12.310Z"
   },
   {
    "duration": 5,
    "start_time": "2022-02-21T07:15:12.634Z"
   },
   {
    "duration": 261,
    "start_time": "2022-02-21T07:15:12.640Z"
   },
   {
    "duration": 18,
    "start_time": "2022-02-21T07:15:12.902Z"
   },
   {
    "duration": 25,
    "start_time": "2022-02-21T07:15:12.922Z"
   },
   {
    "duration": 8,
    "start_time": "2022-02-21T07:15:12.948Z"
   },
   {
    "duration": 13,
    "start_time": "2022-02-21T07:15:12.957Z"
   },
   {
    "duration": 13,
    "start_time": "2022-02-21T07:15:12.971Z"
   },
   {
    "duration": 9,
    "start_time": "2022-02-21T07:15:24.178Z"
   },
   {
    "duration": 361,
    "start_time": "2022-02-21T07:45:44.702Z"
   },
   {
    "duration": 933,
    "start_time": "2022-02-21T07:46:25.565Z"
   },
   {
    "duration": 2139,
    "start_time": "2022-02-21T07:47:46.541Z"
   },
   {
    "duration": 381,
    "start_time": "2022-02-21T07:47:55.043Z"
   },
   {
    "duration": 417,
    "start_time": "2022-02-21T07:48:48.589Z"
   },
   {
    "duration": 10,
    "start_time": "2022-02-21T07:48:54.950Z"
   },
   {
    "duration": 288,
    "start_time": "2022-02-21T07:49:01.008Z"
   },
   {
    "duration": 11,
    "start_time": "2022-02-21T07:49:08.994Z"
   },
   {
    "duration": 5,
    "start_time": "2022-02-21T07:49:20.090Z"
   },
   {
    "duration": 1684,
    "start_time": "2022-02-21T07:49:25.651Z"
   },
   {
    "duration": 319,
    "start_time": "2022-02-21T07:51:51.965Z"
   },
   {
    "duration": 298,
    "start_time": "2022-02-21T07:51:58.401Z"
   },
   {
    "duration": 311,
    "start_time": "2022-02-21T07:53:41.465Z"
   },
   {
    "duration": 198,
    "start_time": "2022-02-21T07:53:49.034Z"
   },
   {
    "duration": 23,
    "start_time": "2022-02-21T07:53:53.557Z"
   },
   {
    "duration": 7,
    "start_time": "2022-02-21T07:54:25.088Z"
   },
   {
    "duration": 7,
    "start_time": "2022-02-21T07:54:31.267Z"
   },
   {
    "duration": 7,
    "start_time": "2022-02-21T07:54:41.809Z"
   },
   {
    "duration": 18,
    "start_time": "2022-02-21T07:56:30.249Z"
   },
   {
    "duration": 16,
    "start_time": "2022-02-21T07:56:45.291Z"
   },
   {
    "duration": 104,
    "start_time": "2022-02-21T07:56:49.885Z"
   },
   {
    "duration": 6,
    "start_time": "2022-02-21T07:56:53.243Z"
   },
   {
    "duration": 12,
    "start_time": "2022-02-21T07:57:07.110Z"
   },
   {
    "duration": 12,
    "start_time": "2022-02-21T07:58:37.902Z"
   },
   {
    "duration": 12,
    "start_time": "2022-02-21T07:58:51.097Z"
   },
   {
    "duration": 3,
    "start_time": "2022-02-21T08:00:18.243Z"
   },
   {
    "duration": 2640,
    "start_time": "2022-02-21T08:00:31.323Z"
   },
   {
    "duration": 13,
    "start_time": "2022-02-21T08:00:52.410Z"
   },
   {
    "duration": 3,
    "start_time": "2022-02-21T08:01:07.495Z"
   },
   {
    "duration": 11,
    "start_time": "2022-02-21T08:01:09.760Z"
   },
   {
    "duration": 540,
    "start_time": "2022-02-21T08:02:45.247Z"
   },
   {
    "duration": 3,
    "start_time": "2022-02-21T08:02:48.893Z"
   },
   {
    "duration": 13,
    "start_time": "2022-02-21T08:02:50.732Z"
   },
   {
    "duration": 1251,
    "start_time": "2022-02-21T08:08:23.983Z"
   },
   {
    "duration": 351,
    "start_time": "2022-02-21T08:08:29.800Z"
   },
   {
    "duration": 362,
    "start_time": "2022-02-21T08:08:35.003Z"
   },
   {
    "duration": 4,
    "start_time": "2022-02-21T08:11:14.651Z"
   },
   {
    "duration": 4,
    "start_time": "2022-02-21T08:11:19.628Z"
   },
   {
    "duration": 3,
    "start_time": "2022-02-21T08:11:25.528Z"
   },
   {
    "duration": 4,
    "start_time": "2022-02-21T08:11:31.755Z"
   },
   {
    "duration": 461,
    "start_time": "2022-02-21T08:11:59.005Z"
   },
   {
    "duration": 482,
    "start_time": "2022-02-21T08:12:02.867Z"
   },
   {
    "duration": 3,
    "start_time": "2022-02-21T08:12:20.174Z"
   },
   {
    "duration": 3,
    "start_time": "2022-02-21T08:12:24.791Z"
   },
   {
    "duration": 122,
    "start_time": "2022-02-21T08:13:20.480Z"
   },
   {
    "duration": 103,
    "start_time": "2022-02-21T08:13:28.770Z"
   },
   {
    "duration": 97,
    "start_time": "2022-02-21T08:13:33.698Z"
   },
   {
    "duration": 103,
    "start_time": "2022-02-21T08:13:40.718Z"
   },
   {
    "duration": 1414,
    "start_time": "2022-02-21T08:20:05.646Z"
   },
   {
    "duration": 2,
    "start_time": "2022-02-21T08:20:39.704Z"
   },
   {
    "duration": 5,
    "start_time": "2022-02-21T08:20:59.483Z"
   },
   {
    "duration": 2677,
    "start_time": "2022-02-21T08:21:05.508Z"
   },
   {
    "duration": 4,
    "start_time": "2022-02-21T08:21:11.592Z"
   },
   {
    "duration": 4,
    "start_time": "2022-02-21T08:21:16.336Z"
   },
   {
    "duration": 4,
    "start_time": "2022-02-21T08:21:18.563Z"
   },
   {
    "duration": 99,
    "start_time": "2022-02-21T08:21:29.331Z"
   },
   {
    "duration": 106,
    "start_time": "2022-02-21T08:22:55.392Z"
   },
   {
    "duration": 13,
    "start_time": "2022-02-21T08:23:32.817Z"
   },
   {
    "duration": 13,
    "start_time": "2022-02-21T08:24:03.951Z"
   },
   {
    "duration": 1720,
    "start_time": "2022-02-21T08:24:56.627Z"
   },
   {
    "duration": 2754,
    "start_time": "2022-02-21T08:25:01.428Z"
   },
   {
    "duration": 3232,
    "start_time": "2022-02-21T08:25:17.911Z"
   },
   {
    "duration": 5,
    "start_time": "2022-02-21T08:25:32.545Z"
   },
   {
    "duration": 16,
    "start_time": "2022-02-21T08:26:54.006Z"
   },
   {
    "duration": 18,
    "start_time": "2022-02-21T08:27:39.106Z"
   },
   {
    "duration": 30,
    "start_time": "2022-02-21T08:27:47.347Z"
   },
   {
    "duration": 16,
    "start_time": "2022-02-21T08:27:57.843Z"
   },
   {
    "duration": 19,
    "start_time": "2022-02-21T08:28:05.119Z"
   },
   {
    "duration": 16,
    "start_time": "2022-02-21T08:28:47.855Z"
   },
   {
    "duration": 17,
    "start_time": "2022-02-21T08:29:54.719Z"
   },
   {
    "duration": 18,
    "start_time": "2022-02-21T08:30:01.112Z"
   },
   {
    "duration": 15,
    "start_time": "2022-02-21T08:30:24.784Z"
   },
   {
    "duration": 320,
    "start_time": "2022-02-21T08:30:30.332Z"
   },
   {
    "duration": 16,
    "start_time": "2022-02-21T08:30:32.515Z"
   },
   {
    "duration": 3,
    "start_time": "2022-02-21T08:35:42.593Z"
   },
   {
    "duration": 9,
    "start_time": "2022-02-21T08:37:06.077Z"
   },
   {
    "duration": 6,
    "start_time": "2022-02-21T08:37:23.447Z"
   },
   {
    "duration": 6,
    "start_time": "2022-02-21T08:38:11.671Z"
   },
   {
    "duration": 779,
    "start_time": "2022-02-21T08:38:18.935Z"
   },
   {
    "duration": 5,
    "start_time": "2022-02-21T08:38:49.988Z"
   },
   {
    "duration": 1009,
    "start_time": "2022-02-21T08:39:14.646Z"
   },
   {
    "duration": 566,
    "start_time": "2022-02-21T08:39:28.897Z"
   },
   {
    "duration": 6,
    "start_time": "2022-02-21T08:39:36.348Z"
   },
   {
    "duration": 11,
    "start_time": "2022-02-21T08:40:56.332Z"
   },
   {
    "duration": 7,
    "start_time": "2022-02-21T08:43:00.802Z"
   },
   {
    "duration": 7,
    "start_time": "2022-02-21T08:43:04.553Z"
   },
   {
    "duration": 6,
    "start_time": "2022-02-21T08:43:09.698Z"
   },
   {
    "duration": 6,
    "start_time": "2022-02-21T08:43:13.197Z"
   },
   {
    "duration": 12,
    "start_time": "2022-02-21T08:43:57.301Z"
   },
   {
    "duration": 8,
    "start_time": "2022-02-21T08:49:18.921Z"
   },
   {
    "duration": 363,
    "start_time": "2022-02-21T08:50:29.935Z"
   },
   {
    "duration": 9134,
    "start_time": "2022-02-21T08:50:47.851Z"
   },
   {
    "duration": 4,
    "start_time": "2022-02-21T08:51:07.310Z"
   },
   {
    "duration": 334,
    "start_time": "2022-02-21T08:51:11.511Z"
   },
   {
    "duration": 5,
    "start_time": "2022-02-21T08:51:25.518Z"
   },
   {
    "duration": 6,
    "start_time": "2022-02-21T08:51:28.102Z"
   },
   {
    "duration": 470,
    "start_time": "2022-02-21T08:51:35.251Z"
   },
   {
    "duration": 6168,
    "start_time": "2022-02-21T08:52:47.735Z"
   },
   {
    "duration": 3,
    "start_time": "2022-02-21T08:53:45.274Z"
   },
   {
    "duration": 4,
    "start_time": "2022-02-21T08:53:47.789Z"
   },
   {
    "duration": 11,
    "start_time": "2022-02-21T08:53:50.554Z"
   },
   {
    "duration": 6,
    "start_time": "2022-02-21T08:54:04.652Z"
   },
   {
    "duration": 8,
    "start_time": "2022-02-21T08:54:19.321Z"
   },
   {
    "duration": 491,
    "start_time": "2022-02-21T08:54:33.763Z"
   },
   {
    "duration": 7,
    "start_time": "2022-02-21T08:54:39.184Z"
   },
   {
    "duration": 6982,
    "start_time": "2022-02-21T08:54:56.035Z"
   },
   {
    "duration": 6233,
    "start_time": "2022-02-21T08:55:07.452Z"
   },
   {
    "duration": 6,
    "start_time": "2022-02-21T08:57:14.823Z"
   },
   {
    "duration": 7,
    "start_time": "2022-02-21T08:57:19.156Z"
   },
   {
    "duration": 8,
    "start_time": "2022-02-21T08:57:58.047Z"
   },
   {
    "duration": 7,
    "start_time": "2022-02-21T08:58:18.542Z"
   },
   {
    "duration": 331,
    "start_time": "2022-02-21T08:59:02.412Z"
   },
   {
    "duration": 348,
    "start_time": "2022-02-21T08:59:16.493Z"
   },
   {
    "duration": 6,
    "start_time": "2022-02-21T09:02:59.173Z"
   },
   {
    "duration": 12,
    "start_time": "2022-02-21T09:03:08.442Z"
   },
   {
    "duration": 10,
    "start_time": "2022-02-21T09:03:38.242Z"
   },
   {
    "duration": 15569,
    "start_time": "2022-02-21T09:04:27.947Z"
   },
   {
    "duration": 7,
    "start_time": "2022-02-21T09:05:20.803Z"
   },
   {
    "duration": 12,
    "start_time": "2022-02-21T09:05:55.627Z"
   },
   {
    "duration": 20524,
    "start_time": "2022-02-21T09:07:44.236Z"
   },
   {
    "duration": 1059,
    "start_time": "2022-02-21T18:38:03.738Z"
   },
   {
    "duration": 104,
    "start_time": "2022-02-21T18:38:04.799Z"
   },
   {
    "duration": 9,
    "start_time": "2022-02-21T18:38:04.907Z"
   },
   {
    "duration": 7,
    "start_time": "2022-02-21T18:38:04.918Z"
   },
   {
    "duration": 9,
    "start_time": "2022-02-21T18:38:04.927Z"
   },
   {
    "duration": 6,
    "start_time": "2022-02-21T18:38:04.938Z"
   },
   {
    "duration": 6,
    "start_time": "2022-02-21T18:38:04.946Z"
   },
   {
    "duration": 7,
    "start_time": "2022-02-21T18:38:04.954Z"
   },
   {
    "duration": 7,
    "start_time": "2022-02-21T18:38:04.963Z"
   },
   {
    "duration": 6,
    "start_time": "2022-02-21T18:38:04.971Z"
   },
   {
    "duration": 12,
    "start_time": "2022-02-21T18:38:04.978Z"
   },
   {
    "duration": 12,
    "start_time": "2022-02-21T18:38:04.991Z"
   },
   {
    "duration": 14,
    "start_time": "2022-02-21T18:38:05.005Z"
   },
   {
    "duration": 28,
    "start_time": "2022-02-21T18:38:05.021Z"
   },
   {
    "duration": 12,
    "start_time": "2022-02-21T18:38:05.051Z"
   },
   {
    "duration": 73482,
    "start_time": "2022-02-21T18:38:05.065Z"
   },
   {
    "duration": 12,
    "start_time": "2022-02-21T18:39:18.549Z"
   },
   {
    "duration": 397,
    "start_time": "2022-02-21T18:39:18.563Z"
   },
   {
    "duration": 236,
    "start_time": "2022-02-21T18:39:18.961Z"
   },
   {
    "duration": 258,
    "start_time": "2022-02-21T18:39:19.198Z"
   },
   {
    "duration": 375,
    "start_time": "2022-02-21T18:39:19.457Z"
   },
   {
    "duration": 227,
    "start_time": "2022-02-21T18:39:19.835Z"
   },
   {
    "duration": 335,
    "start_time": "2022-02-21T18:39:20.064Z"
   },
   {
    "duration": 9,
    "start_time": "2022-02-21T18:39:20.401Z"
   },
   {
    "duration": 350,
    "start_time": "2022-02-21T18:39:20.411Z"
   },
   {
    "duration": 4,
    "start_time": "2022-02-21T18:39:20.763Z"
   },
   {
    "duration": 421,
    "start_time": "2022-02-21T18:39:20.769Z"
   },
   {
    "duration": 5,
    "start_time": "2022-02-21T18:39:21.192Z"
   },
   {
    "duration": 260,
    "start_time": "2022-02-21T18:39:21.198Z"
   },
   {
    "duration": 17,
    "start_time": "2022-02-21T18:39:21.459Z"
   },
   {
    "duration": 8,
    "start_time": "2022-02-21T18:39:21.477Z"
   },
   {
    "duration": 7,
    "start_time": "2022-02-21T18:39:21.487Z"
   },
   {
    "duration": 12,
    "start_time": "2022-02-21T18:39:21.496Z"
   },
   {
    "duration": 41,
    "start_time": "2022-02-21T18:39:21.510Z"
   },
   {
    "duration": 5,
    "start_time": "2022-02-21T18:41:57.041Z"
   },
   {
    "duration": 5,
    "start_time": "2022-02-21T18:42:15.979Z"
   },
   {
    "duration": 3,
    "start_time": "2022-02-21T18:42:24.464Z"
   },
   {
    "duration": 11,
    "start_time": "2022-02-21T18:42:35.952Z"
   },
   {
    "duration": 409,
    "start_time": "2022-02-21T18:43:13.688Z"
   },
   {
    "duration": 2,
    "start_time": "2022-02-21T18:43:21.454Z"
   },
   {
    "duration": 441,
    "start_time": "2022-02-21T18:43:21.692Z"
   },
   {
    "duration": 14,
    "start_time": "2022-02-21T18:43:28.271Z"
   },
   {
    "duration": 9,
    "start_time": "2022-02-21T18:43:39.680Z"
   },
   {
    "duration": 7,
    "start_time": "2022-02-21T18:43:48.504Z"
   },
   {
    "duration": 8,
    "start_time": "2022-02-21T18:43:52.291Z"
   },
   {
    "duration": 8,
    "start_time": "2022-02-21T18:44:54.274Z"
   },
   {
    "duration": 13,
    "start_time": "2022-02-21T18:45:22.577Z"
   },
   {
    "duration": 408,
    "start_time": "2022-02-21T18:46:34.229Z"
   },
   {
    "duration": 10,
    "start_time": "2022-02-21T18:46:41.272Z"
   },
   {
    "duration": 11,
    "start_time": "2022-02-21T18:46:55.062Z"
   },
   {
    "duration": 13,
    "start_time": "2022-02-21T18:47:14.960Z"
   },
   {
    "duration": 10,
    "start_time": "2022-02-21T18:47:26.439Z"
   },
   {
    "duration": 9,
    "start_time": "2022-02-21T18:47:34.866Z"
   },
   {
    "duration": 7,
    "start_time": "2022-02-21T18:47:46.344Z"
   },
   {
    "duration": 7,
    "start_time": "2022-02-21T18:47:48.281Z"
   },
   {
    "duration": 7,
    "start_time": "2022-02-21T18:47:48.889Z"
   },
   {
    "duration": 8,
    "start_time": "2022-02-21T18:48:05.155Z"
   },
   {
    "duration": 8,
    "start_time": "2022-02-21T18:48:05.504Z"
   },
   {
    "duration": 7,
    "start_time": "2022-02-21T18:48:05.936Z"
   },
   {
    "duration": 9083,
    "start_time": "2022-02-21T18:49:40.572Z"
   },
   {
    "duration": 7,
    "start_time": "2022-02-21T18:50:30.780Z"
   },
   {
    "duration": 7,
    "start_time": "2022-02-21T18:50:57.432Z"
   },
   {
    "duration": 6,
    "start_time": "2022-02-21T18:51:13.497Z"
   },
   {
    "duration": 4,
    "start_time": "2022-02-21T18:51:20.221Z"
   },
   {
    "duration": 3,
    "start_time": "2022-02-21T18:51:39.542Z"
   },
   {
    "duration": 16,
    "start_time": "2022-02-21T18:52:01.773Z"
   },
   {
    "duration": 8,
    "start_time": "2022-02-21T18:52:17.326Z"
   },
   {
    "duration": 12,
    "start_time": "2022-02-21T18:52:22.340Z"
   },
   {
    "duration": 12,
    "start_time": "2022-02-21T18:52:24.875Z"
   },
   {
    "duration": 7,
    "start_time": "2022-02-21T18:53:18.066Z"
   },
   {
    "duration": 7,
    "start_time": "2022-02-21T18:53:31.082Z"
   },
   {
    "duration": 8,
    "start_time": "2022-02-21T18:53:31.457Z"
   },
   {
    "duration": 1426,
    "start_time": "2022-02-22T07:24:17.692Z"
   },
   {
    "duration": 40,
    "start_time": "2022-02-22T07:24:19.121Z"
   },
   {
    "duration": 14,
    "start_time": "2022-02-22T07:24:19.165Z"
   },
   {
    "duration": 10,
    "start_time": "2022-02-22T07:24:19.182Z"
   },
   {
    "duration": 15,
    "start_time": "2022-02-22T07:24:19.195Z"
   },
   {
    "duration": 37,
    "start_time": "2022-02-22T07:24:19.212Z"
   },
   {
    "duration": 13,
    "start_time": "2022-02-22T07:24:19.251Z"
   },
   {
    "duration": 19,
    "start_time": "2022-02-22T07:24:19.267Z"
   },
   {
    "duration": 13,
    "start_time": "2022-02-22T07:24:19.290Z"
   },
   {
    "duration": 10,
    "start_time": "2022-02-22T07:24:19.305Z"
   },
   {
    "duration": 38,
    "start_time": "2022-02-22T07:24:19.317Z"
   },
   {
    "duration": 19,
    "start_time": "2022-02-22T07:24:19.358Z"
   },
   {
    "duration": 25,
    "start_time": "2022-02-22T07:24:19.380Z"
   },
   {
    "duration": 48,
    "start_time": "2022-02-22T07:24:19.407Z"
   },
   {
    "duration": 18,
    "start_time": "2022-02-22T07:24:19.458Z"
   },
   {
    "duration": 1365,
    "start_time": "2022-02-22T07:24:19.479Z"
   },
   {
    "duration": 17,
    "start_time": "2022-02-22T07:24:20.848Z"
   },
   {
    "duration": 622,
    "start_time": "2022-02-22T07:24:20.867Z"
   },
   {
    "duration": 570,
    "start_time": "2022-02-22T07:24:21.492Z"
   },
   {
    "duration": 605,
    "start_time": "2022-02-22T07:24:22.064Z"
   },
   {
    "duration": 604,
    "start_time": "2022-02-22T07:24:22.673Z"
   },
   {
    "duration": 463,
    "start_time": "2022-02-22T07:24:23.280Z"
   },
   {
    "duration": 507,
    "start_time": "2022-02-22T07:24:23.752Z"
   },
   {
    "duration": 16,
    "start_time": "2022-02-22T07:24:24.262Z"
   },
   {
    "duration": 470,
    "start_time": "2022-02-22T07:24:24.281Z"
   },
   {
    "duration": 7,
    "start_time": "2022-02-22T07:24:24.754Z"
   },
   {
    "duration": 590,
    "start_time": "2022-02-22T07:24:24.764Z"
   },
   {
    "duration": 7,
    "start_time": "2022-02-22T07:24:25.357Z"
   },
   {
    "duration": 729,
    "start_time": "2022-02-22T07:24:25.367Z"
   },
   {
    "duration": 58,
    "start_time": "2022-02-22T07:24:26.099Z"
   },
   {
    "duration": 15,
    "start_time": "2022-02-22T07:24:26.161Z"
   },
   {
    "duration": 13,
    "start_time": "2022-02-22T07:24:26.178Z"
   },
   {
    "duration": 56,
    "start_time": "2022-02-22T07:24:26.194Z"
   },
   {
    "duration": 21,
    "start_time": "2022-02-22T07:24:26.253Z"
   },
   {
    "duration": 6821,
    "start_time": "2022-02-22T07:24:43.763Z"
   },
   {
    "duration": 14,
    "start_time": "2022-02-22T07:25:13.081Z"
   },
   {
    "duration": 14,
    "start_time": "2022-02-22T07:25:17.243Z"
   },
   {
    "duration": 13,
    "start_time": "2022-02-22T07:25:30.900Z"
   },
   {
    "duration": 18,
    "start_time": "2022-02-22T07:25:33.839Z"
   },
   {
    "duration": 19,
    "start_time": "2022-02-22T07:25:44.418Z"
   },
   {
    "duration": 21,
    "start_time": "2022-02-22T07:25:51.225Z"
   },
   {
    "duration": 13,
    "start_time": "2022-02-22T07:26:12.679Z"
   },
   {
    "duration": 18,
    "start_time": "2022-02-22T07:26:16.018Z"
   },
   {
    "duration": 14,
    "start_time": "2022-02-22T07:26:23.024Z"
   },
   {
    "duration": 21,
    "start_time": "2022-02-22T07:26:25.019Z"
   },
   {
    "duration": 23,
    "start_time": "2022-02-22T07:27:02.114Z"
   },
   {
    "duration": 21,
    "start_time": "2022-02-22T07:27:06.677Z"
   },
   {
    "duration": 29,
    "start_time": "2022-02-22T07:47:25.866Z"
   },
   {
    "duration": 14,
    "start_time": "2022-02-22T07:47:25.897Z"
   },
   {
    "duration": 13,
    "start_time": "2022-02-22T07:47:25.914Z"
   },
   {
    "duration": 36,
    "start_time": "2022-02-22T07:47:25.929Z"
   },
   {
    "duration": 24,
    "start_time": "2022-02-22T07:47:25.967Z"
   },
   {
    "duration": 20,
    "start_time": "2022-02-22T08:09:06.883Z"
   },
   {
    "duration": 1331,
    "start_time": "2022-02-22T13:14:39.693Z"
   },
   {
    "duration": 80,
    "start_time": "2022-02-22T13:14:41.027Z"
   },
   {
    "duration": 17,
    "start_time": "2022-02-22T13:14:41.110Z"
   },
   {
    "duration": 17,
    "start_time": "2022-02-22T13:14:41.131Z"
   },
   {
    "duration": 23,
    "start_time": "2022-02-22T13:14:41.151Z"
   },
   {
    "duration": 22,
    "start_time": "2022-02-22T13:14:41.176Z"
   },
   {
    "duration": 17,
    "start_time": "2022-02-22T13:14:41.201Z"
   },
   {
    "duration": 28,
    "start_time": "2022-02-22T13:14:41.222Z"
   },
   {
    "duration": 16,
    "start_time": "2022-02-22T13:14:41.260Z"
   },
   {
    "duration": 10,
    "start_time": "2022-02-22T13:14:41.278Z"
   },
   {
    "duration": 18,
    "start_time": "2022-02-22T13:14:41.290Z"
   },
   {
    "duration": 58,
    "start_time": "2022-02-22T13:14:41.311Z"
   },
   {
    "duration": 31,
    "start_time": "2022-02-22T13:14:41.372Z"
   },
   {
    "duration": 13,
    "start_time": "2022-02-22T13:14:41.405Z"
   },
   {
    "duration": 41,
    "start_time": "2022-02-22T13:14:41.420Z"
   },
   {
    "duration": 1251,
    "start_time": "2022-02-22T13:14:41.463Z"
   },
   {
    "duration": 17,
    "start_time": "2022-02-22T13:14:42.717Z"
   },
   {
    "duration": 589,
    "start_time": "2022-02-22T13:14:42.749Z"
   },
   {
    "duration": 439,
    "start_time": "2022-02-22T13:14:43.341Z"
   },
   {
    "duration": 472,
    "start_time": "2022-02-22T13:14:43.782Z"
   },
   {
    "duration": 533,
    "start_time": "2022-02-22T13:14:44.257Z"
   },
   {
    "duration": 435,
    "start_time": "2022-02-22T13:14:44.793Z"
   },
   {
    "duration": 513,
    "start_time": "2022-02-22T13:14:45.232Z"
   },
   {
    "duration": 17,
    "start_time": "2022-02-22T13:14:45.747Z"
   },
   {
    "duration": 500,
    "start_time": "2022-02-22T13:14:45.767Z"
   },
   {
    "duration": 8,
    "start_time": "2022-02-22T13:14:46.270Z"
   },
   {
    "duration": 578,
    "start_time": "2022-02-22T13:14:46.280Z"
   },
   {
    "duration": 7,
    "start_time": "2022-02-22T13:14:46.862Z"
   },
   {
    "duration": 493,
    "start_time": "2022-02-22T13:14:46.871Z"
   },
   {
    "duration": 30,
    "start_time": "2022-02-22T13:14:47.366Z"
   },
   {
    "duration": 15,
    "start_time": "2022-02-22T13:14:47.399Z"
   },
   {
    "duration": 42,
    "start_time": "2022-02-22T13:14:47.417Z"
   },
   {
    "duration": 19,
    "start_time": "2022-02-22T13:14:47.462Z"
   },
   {
    "duration": 20,
    "start_time": "2022-02-22T13:14:47.484Z"
   }
  ],
  "kernelspec": {
   "display_name": "Python 3",
   "language": "python",
   "name": "python3"
  },
  "language_info": {
   "codemirror_mode": {
    "name": "ipython",
    "version": 3
   },
   "file_extension": ".py",
   "mimetype": "text/x-python",
   "name": "python",
   "nbconvert_exporter": "python",
   "pygments_lexer": "ipython3",
   "version": "3.8.8"
  },
  "toc": {
   "base_numbering": 1,
   "nav_menu": {},
   "number_sections": false,
   "sideBar": true,
   "skip_h1_title": true,
   "title_cell": "Table of Contents",
   "title_sidebar": "Contents",
   "toc_cell": false,
   "toc_position": {},
   "toc_section_display": true,
   "toc_window_display": false
  }
 },
 "nbformat": 4,
 "nbformat_minor": 2
}
