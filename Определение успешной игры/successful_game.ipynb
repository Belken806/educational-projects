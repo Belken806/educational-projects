{
 "cells": [
  {
   "cell_type": "markdown",
   "id": "d300f109",
   "metadata": {},
   "source": [
    "# Исследование поиска перспективного игрового проекта\n",
    "\n",
    "Интернет-магазине «Стримчик», занимается продажей компьютерных игр по всему миру. Из открытых источников доступны исторические данные о продажах игр, оценки пользователей и экспертов, жанры и платформы (например, Xbox или PlayStation). Нам нужно выявить определяющие успешность игры закономерности. Это позволит сделать ставку на потенциально популярный продукт и спланировать рекламные кампании.\n",
    "\n",
    "Перед нами данные до 2016 года (данные за 2016 год неполные). Представим, что сейчас декабрь 2016 г и мы планируем кампанию на 2017-й. Нам нужно отработать принцип работы с данными.\n",
    "\n",
    "**Цели исследования:**\n",
    "* за какой характерный срок появляются новые и исчезают старые платформы\n",
    "* связь оценки пользователей и критиков на общие продажи\n",
    "* жанры с высокими и низкими продажами, их отличия\n",
    "* составить портрет пользователя каждого региона (NA, EU, JP)\n",
    "* проверить гипотезы:\n",
    "    - средние пользовательские рейтинги платформ Xbox One и PC одинаковые\n",
    "    - средние пользовательские рейтинги жанров Action (англ. «действие», экшен-игры) и Sports (англ. «спортивные соревнования») разные\n",
    "    \n",
    "**Ход исследования:** Изучить набор данных. Обработать данные если потребуется. Решить поставленные цели, по возможности используя визуальные инструменты. Принять или опровергнуть выдвинутые гипотезы. Составить общий вывод."
   ]
  },
  {
   "cell_type": "markdown",
   "id": "38e9c643",
   "metadata": {},
   "source": [
    "## Изучение данных"
   ]
  },
  {
   "cell_type": "markdown",
   "id": "929f12a8",
   "metadata": {},
   "source": [
    "Импортируем библиотеки для работы с данными, которые нам понадобятся: "
   ]
  },
  {
   "cell_type": "code",
   "execution_count": 1,
   "id": "00b51338",
   "metadata": {},
   "outputs": [],
   "source": [
    "import pandas as pd\n",
    "import matplotlib.pyplot as plt\n",
    "from scipy import stats as st\n",
    "import warnings\n",
    "warnings.filterwarnings('ignore')"
   ]
  },
  {
   "cell_type": "markdown",
   "id": "4bad4cba",
   "metadata": {},
   "source": [
    "Откроем файл с данными и посмотрим на первые 10 строчек таблицы:"
   ]
  },
  {
   "cell_type": "markdown",
   "id": "de9dc602",
   "metadata": {},
   "source": [
    "На стадии визуального знакомства с таблицей, можно обратить внимание:\n",
    "- на наличие пустых значений\n",
    "- некорректная запись: целочисленные значения в формате float\n",
    "\n",
    "Рассмотрим в целом информацию по таблице:"
   ]
  },
  {
   "cell_type": "markdown",
   "id": "5427e244",
   "metadata": {},
   "source": [
    "\n",
    "\n",
    "В колонке `Name` и `Genre` отсуствует два значения: такими пропусками можно будет в дальнейшем пренебречь. Для  `Year_of_Release` стоит поменять тип на целочисленный, a `User_Score` в дробный. Большая часть пропусков присуствуют в `Critic_Score`,`User_Score` и `Rating`.\n",
    "\n",
    "### Вывод\n",
    "\n",
    "Мы ознакомились с первыми данными таблицы. В целом большая часть колонок не имеют пропусков. Не значительное количество пропущенных значений можно просто удалить из таблицы, не опасаясь их влияния на исследования. Пропуски которые присутсвуют в оценках пользователей и критиков имеют весомые значения для исследования. Такие пропуски не стоит удалять. Возможно их появление связанно с малой популярностью продукта, региональными ограничемиями или неправильной выгрузкой данных."
   ]
  },
  {
   "cell_type": "markdown",
   "id": "caa0b65f",
   "metadata": {},
   "source": [
    "## Обработка данных"
   ]
  },
  {
   "cell_type": "markdown",
   "id": "48ad7e5d",
   "metadata": {},
   "source": [
    "Приступим к изменению названия столбцом, а именно переписать их в нижний регистр"
   ]
  },
  {
   "cell_type": "code",
   "execution_count": 4,
   "id": "ecd628ef",
   "metadata": {},
   "outputs": [],
   "source": [
    "data.columns = data.columns.str.lower()"
   ]
  },
  {
   "cell_type": "markdown",
   "id": "950a0da2",
   "metadata": {},
   "source": [
    "В колонке `name` присуствуют два пропуска"
   ]
  },
  {
   "cell_type": "code",
   "execution_count": 5,
   "id": "9023a235",
   "metadata": {},
   "outputs": [
    {
     "data": {
      "text/html": [
       "<div>\n",
       "<style scoped>\n",
       "    .dataframe tbody tr th:only-of-type {\n",
       "        vertical-align: middle;\n",
       "    }\n",
       "\n",
       "    .dataframe tbody tr th {\n",
       "        vertical-align: top;\n",
       "    }\n",
       "\n",
       "    .dataframe thead th {\n",
       "        text-align: right;\n",
       "    }\n",
       "</style>\n",
       "<table border=\"1\" class=\"dataframe\">\n",
       "  <thead>\n",
       "    <tr style=\"text-align: right;\">\n",
       "      <th></th>\n",
       "      <th>name</th>\n",
       "      <th>platform</th>\n",
       "      <th>year_of_release</th>\n",
       "      <th>genre</th>\n",
       "      <th>na_sales</th>\n",
       "      <th>eu_sales</th>\n",
       "      <th>jp_sales</th>\n",
       "      <th>other_sales</th>\n",
       "      <th>critic_score</th>\n",
       "      <th>user_score</th>\n",
       "      <th>rating</th>\n",
       "    </tr>\n",
       "  </thead>\n",
       "  <tbody>\n",
       "    <tr>\n",
       "      <td>659</td>\n",
       "      <td>NaN</td>\n",
       "      <td>GEN</td>\n",
       "      <td>1993.0</td>\n",
       "      <td>NaN</td>\n",
       "      <td>1.78</td>\n",
       "      <td>0.53</td>\n",
       "      <td>0.00</td>\n",
       "      <td>0.08</td>\n",
       "      <td>NaN</td>\n",
       "      <td>NaN</td>\n",
       "      <td>NaN</td>\n",
       "    </tr>\n",
       "    <tr>\n",
       "      <td>14244</td>\n",
       "      <td>NaN</td>\n",
       "      <td>GEN</td>\n",
       "      <td>1993.0</td>\n",
       "      <td>NaN</td>\n",
       "      <td>0.00</td>\n",
       "      <td>0.00</td>\n",
       "      <td>0.03</td>\n",
       "      <td>0.00</td>\n",
       "      <td>NaN</td>\n",
       "      <td>NaN</td>\n",
       "      <td>NaN</td>\n",
       "    </tr>\n",
       "  </tbody>\n",
       "</table>\n",
       "</div>"
      ],
      "text/plain": [
       "      name platform  year_of_release genre  na_sales  eu_sales  jp_sales  \\\n",
       "659    NaN      GEN           1993.0   NaN      1.78      0.53      0.00   \n",
       "14244  NaN      GEN           1993.0   NaN      0.00      0.00      0.03   \n",
       "\n",
       "       other_sales  critic_score user_score rating  \n",
       "659           0.08           NaN        NaN    NaN  \n",
       "14244         0.00           NaN        NaN    NaN  "
      ]
     },
     "execution_count": 5,
     "metadata": {},
     "output_type": "execute_result"
    }
   ],
   "source": [
    "data[data['name'].isna()]"
   ]
  },
  {
   "cell_type": "markdown",
   "id": "03395ab2",
   "metadata": {},
   "source": [
    "Два пропуска в `genre` также  связнные с этими строчками, т.к они не повлияют на наше исследование,смело удалим их нашего датасета:"
   ]
  },
  {
   "cell_type": "code",
   "execution_count": 6,
   "id": "62ba894a",
   "metadata": {},
   "outputs": [],
   "source": [
    "data.dropna(subset=['name'], inplace=True)"
   ]
  },
  {
   "cell_type": "markdown",
   "id": "43162ce7",
   "metadata": {},
   "source": [
    "Перед тем как изменить тип данных для `year_of_release`, нам потребуется повлиять на пропуски. Интересный момент: пропуски имеются у игр которые выходили на несколько платформ. "
   ]
  },
  {
   "cell_type": "code",
   "execution_count": 7,
   "id": "737e7278",
   "metadata": {
    "scrolled": false
   },
   "outputs": [
    {
     "data": {
      "text/html": [
       "<div>\n",
       "<style scoped>\n",
       "    .dataframe tbody tr th:only-of-type {\n",
       "        vertical-align: middle;\n",
       "    }\n",
       "\n",
       "    .dataframe tbody tr th {\n",
       "        vertical-align: top;\n",
       "    }\n",
       "\n",
       "    .dataframe thead th {\n",
       "        text-align: right;\n",
       "    }\n",
       "</style>\n",
       "<table border=\"1\" class=\"dataframe\">\n",
       "  <thead>\n",
       "    <tr style=\"text-align: right;\">\n",
       "      <th></th>\n",
       "      <th>name</th>\n",
       "      <th>platform</th>\n",
       "      <th>year_of_release</th>\n",
       "      <th>genre</th>\n",
       "      <th>na_sales</th>\n",
       "      <th>eu_sales</th>\n",
       "      <th>jp_sales</th>\n",
       "      <th>other_sales</th>\n",
       "      <th>critic_score</th>\n",
       "      <th>user_score</th>\n",
       "      <th>rating</th>\n",
       "    </tr>\n",
       "  </thead>\n",
       "  <tbody>\n",
       "    <tr>\n",
       "      <td>183</td>\n",
       "      <td>Madden NFL 2004</td>\n",
       "      <td>PS2</td>\n",
       "      <td>NaN</td>\n",
       "      <td>Sports</td>\n",
       "      <td>4.26</td>\n",
       "      <td>0.26</td>\n",
       "      <td>0.01</td>\n",
       "      <td>0.71</td>\n",
       "      <td>94.0</td>\n",
       "      <td>8.5</td>\n",
       "      <td>E</td>\n",
       "    </tr>\n",
       "    <tr>\n",
       "      <td>1881</td>\n",
       "      <td>Madden NFL 2004</td>\n",
       "      <td>XB</td>\n",
       "      <td>2003.0</td>\n",
       "      <td>Sports</td>\n",
       "      <td>1.02</td>\n",
       "      <td>0.02</td>\n",
       "      <td>0.00</td>\n",
       "      <td>0.05</td>\n",
       "      <td>92.0</td>\n",
       "      <td>8.3</td>\n",
       "      <td>E</td>\n",
       "    </tr>\n",
       "    <tr>\n",
       "      <td>3889</td>\n",
       "      <td>Madden NFL 2004</td>\n",
       "      <td>GC</td>\n",
       "      <td>2003.0</td>\n",
       "      <td>Sports</td>\n",
       "      <td>0.40</td>\n",
       "      <td>0.10</td>\n",
       "      <td>0.00</td>\n",
       "      <td>0.01</td>\n",
       "      <td>94.0</td>\n",
       "      <td>7.7</td>\n",
       "      <td>E</td>\n",
       "    </tr>\n",
       "    <tr>\n",
       "      <td>5708</td>\n",
       "      <td>Madden NFL 2004</td>\n",
       "      <td>GBA</td>\n",
       "      <td>2003.0</td>\n",
       "      <td>Sports</td>\n",
       "      <td>0.22</td>\n",
       "      <td>0.08</td>\n",
       "      <td>0.00</td>\n",
       "      <td>0.01</td>\n",
       "      <td>70.0</td>\n",
       "      <td>6.6</td>\n",
       "      <td>E</td>\n",
       "    </tr>\n",
       "  </tbody>\n",
       "</table>\n",
       "</div>"
      ],
      "text/plain": [
       "                 name platform  year_of_release   genre  na_sales  eu_sales  \\\n",
       "183   Madden NFL 2004      PS2              NaN  Sports      4.26      0.26   \n",
       "1881  Madden NFL 2004       XB           2003.0  Sports      1.02      0.02   \n",
       "3889  Madden NFL 2004       GC           2003.0  Sports      0.40      0.10   \n",
       "5708  Madden NFL 2004      GBA           2003.0  Sports      0.22      0.08   \n",
       "\n",
       "      jp_sales  other_sales  critic_score user_score rating  \n",
       "183       0.01         0.71          94.0        8.5      E  \n",
       "1881      0.00         0.05          92.0        8.3      E  \n",
       "3889      0.00         0.01          94.0        7.7      E  \n",
       "5708      0.00         0.01          70.0        6.6      E  "
      ]
     },
     "execution_count": 7,
     "metadata": {},
     "output_type": "execute_result"
    }
   ],
   "source": [
    "data.query('name == \"Madden NFL 2004\"')"
   ]
  },
  {
   "cell_type": "markdown",
   "id": "7b0d328a",
   "metadata": {},
   "source": [
    "Данные пробел мы можем восполнить датами игр на других платформ:"
   ]
  },
  {
   "cell_type": "code",
   "execution_count": 8,
   "id": "1dd5ca9f",
   "metadata": {
    "scrolled": false
   },
   "outputs": [],
   "source": [
    "for name in data[data['year_of_release'].isna()]['name'].unique(): #создаём цикл по уникальным именам среди игр с пропусками в дате\n",
    "    year = data.loc[data['name'] == name, 'year_of_release'].max()\n",
    "    data.loc[(data['year_of_release'].isna()) & (data['name'] == name), 'year_of_release'] = year "
   ]
  },
  {
   "cell_type": "markdown",
   "id": "cc63c7e4",
   "metadata": {},
   "source": [
    "Посмотрим долю оставшихся, незаполненых игр: "
   ]
  },
  {
   "cell_type": "code",
   "execution_count": 9,
   "id": "47b9c10a",
   "metadata": {
    "scrolled": false
   },
   "outputs": [
    {
     "name": "stdout",
     "output_type": "stream",
     "text": [
      "Доля пропусков от общего числа данных: 0.009\n"
     ]
    }
   ],
   "source": [
    "print('Доля пропусков от общего числа данных:',(data['year_of_release'].isna().sum() / len(data) ).round(3))"
   ]
  },
  {
   "cell_type": "markdown",
   "id": "846b494a",
   "metadata": {},
   "source": [
    "Так как доля пропусков не большая и год является категоральной величиной,что означает замена медианой или средним будет некорректно. Мы удалим пропуски, а затем поменяем тип данных на `int`."
   ]
  },
  {
   "cell_type": "code",
   "execution_count": 10,
   "id": "daa2aac9",
   "metadata": {},
   "outputs": [],
   "source": [
    "data.dropna(subset=['year_of_release'], inplace=True)\n",
    "data['year_of_release'] = data['year_of_release'].astype('int')"
   ]
  },
  {
   "cell_type": "markdown",
   "id": "d73927e9",
   "metadata": {},
   "source": [
    "`critic_score` и `user_score` являются важными для исследования данными. Так как количество отсуствующих значений по датасету выше по сравнению с остальными, удалять их ни в коем случаи нельзя. Данные мы пока что оставляем без изменений. \n",
    "\n",
    "В колонке `user_score` присуствует значение tbd (сокр.анг. *to be defined - \"подлежащий определению\"*). Значение tbd пишут на месте недостающей информации, планируя позже заменить на реальные данные, когда те станут известны. Так как данные у нас отсуствуют, заменим tbd значения на `nan`. \n",
    "\n",
    "Также колонку стоит перевести из типа `object` в дробный `float`."
   ]
  },
  {
   "cell_type": "code",
   "execution_count": 11,
   "id": "818e722e",
   "metadata": {},
   "outputs": [],
   "source": [
    "data.loc[data['user_score'] == 'tbd', 'user_score'] = float('nan')\n",
    "data['user_score'] = data['user_score'].astype('float')"
   ]
  },
  {
   "cell_type": "markdown",
   "id": "e2011483",
   "metadata": {},
   "source": [
    "Столбец `rating` является категоральной величиной, поэтому пропуски мы не можем заменять медианой или средним. Возрастной рейтинг является важной метрикой для нашего анализа. Количество пропусков может повлиять на общих исход. В начале посмотрим на долю такие пропусков от \"общей массы\":"
   ]
  },
  {
   "cell_type": "code",
   "execution_count": 12,
   "id": "07719314",
   "metadata": {
    "scrolled": false
   },
   "outputs": [
    {
     "name": "stdout",
     "output_type": "stream",
     "text": [
      "Доля пропусков от общего числа данных: 0.404\n"
     ]
    }
   ],
   "source": [
    "print('Доля пропусков от общего числа данных:',(data['rating'].isna().sum() / len(data) ).round(3))"
   ]
  },
  {
   "cell_type": "markdown",
   "id": "431afa85",
   "metadata": {},
   "source": [
    "Такая доля пропущенных значений может повлиять на наш анализ, так как значения категоральные, заменим значением заглушкой`INDF` (\"Indefinite\" - *неопрделенно*): "
   ]
  },
  {
   "cell_type": "code",
   "execution_count": 13,
   "id": "ad72bacc",
   "metadata": {},
   "outputs": [],
   "source": [
    "data['rating'] = data['rating'].fillna('INDF')"
   ]
  },
  {
   "cell_type": "markdown",
   "id": "6b1d1c83",
   "metadata": {},
   "source": [
    "В дальнейшем для исследования нам понадобятся суммарная выручка игры по всему миру. Для этого просуммируем выручки с каждого региона и вынесем отдельной колонкой в таблице:"
   ]
  },
  {
   "cell_type": "code",
   "execution_count": 14,
   "id": "4be80fa8",
   "metadata": {
    "scrolled": false
   },
   "outputs": [],
   "source": [
    "data['sum_sales'] = data.loc[:, 'na_sales':'other_sales'].sum(axis=1)"
   ]
  },
  {
   "cell_type": "markdown",
   "id": "ea9184a8",
   "metadata": {},
   "source": [
    "Посмотрим на итоговый результат:"
   ]
  },
  {
   "cell_type": "markdown",
   "id": "9c83ac7c",
   "metadata": {},
   "source": [
    "### Вывод\n",
    "\n",
    "Мы ознакомились с предоставленными данными. Несущественные пропуски в значениях мы убрали из датасета. Данные с оценкой пользователей и критиков оставили без изменений, так как любое значение может повлиять на результаты корреляционого анализа. \n",
    "\n",
    "\n",
    "## Исследовательский анализ данных \n",
    "\n",
    "Рассмотрим сколько игр выходило в период с 1980 по 2016 год:"
   ]
  },
  {
   "cell_type": "code",
   "execution_count": 16,
   "id": "a1634b8d",
   "metadata": {
    "scrolled": true
   },
   "outputs": [
    {
     "data": {
      "image/png": "[encoded data removed]",
      "text/plain": [
       "<Figure size 720x360 with 1 Axes>"
      ]
     },
     "metadata": {
      "needs_background": "light"
     },
     "output_type": "display_data"
    }
   ],
   "source": [
    "(data\n",
    " .groupby('year_of_release')['name']\n",
    " .count()\n",
    " .plot(grid=True, style='o-', figsize=(10,5))\n",
    ")\n",
    "plt.xlim(1980,2016)\n",
    "plt.xlabel('Год')\n",
    "plt.ylabel('Количество игр')\n",
    "plt.show()"
   ]
  },
  {
   "cell_type": "markdown",
   "id": "271b2571",
   "metadata": {},
   "source": [
    "На графике можно увидеть:\n",
    "\n",
    "* самое высокое количество проданных игр приходится на 2008 и 2009 год\n",
    "* рост продаж начинается с 1994 года\n",
    "* с 2010 года наблюдается падание продаж до 2012. Мы можем предположить что это связанно с бурным появлением торрентов и пиратского распространнеия игр. Так как не все платформы позволяют использовать не лицензионный контент.\n",
    "\n",
    "Период до 1994 года, дальше мы рассматривать не будем.\n",
    "\n",
    "\n",
    "Посмотрим топ-5 платформ с самыми высокими продажами игр на них:"
   ]
  },
  {
   "cell_type": "code",
   "execution_count": 17,
   "id": "9fe5b9f7",
   "metadata": {
    "scrolled": false
   },
   "outputs": [
    {
     "data": {
      "text/plain": [
       "platform\n",
       "PS2     1247.16\n",
       "X360     966.61\n",
       "PS3      935.19\n",
       "Wii      903.31\n",
       "DS       804.28\n",
       "Name: sum_sales, dtype: float64"
      ]
     },
     "execution_count": 17,
     "metadata": {},
     "output_type": "execute_result"
    }
   ],
   "source": [
    "(data.groupby('platform')['sum_sales']\n",
    " .sum()\n",
    " .sort_values(ascending=False)\n",
    " .head()\n",
    ")"
   ]
  },
  {
   "cell_type": "markdown",
   "id": "f30a62eb",
   "metadata": {},
   "source": [
    "По данному топу построим график и ответим на вопрос: \"За какой характерный срок появляются новые и исчезают старые платформы?\""
   ]
  },
  {
   "cell_type": "code",
   "execution_count": 18,
   "id": "b5328fba",
   "metadata": {
    "scrolled": true
   },
   "outputs": [
    {
     "data": {
      "image/png": "[encoded data removed]",
      "text/plain": [
       "<Figure size 1080x360 with 1 Axes>"
      ]
     },
     "metadata": {
      "needs_background": "light"
     },
     "output_type": "display_data"
    }
   ],
   "source": [
    "(\n",
    "    data.query('platform == [\"PS2\",\"X360\",\"PS3\",\"Wii\",\"DS\"] and year_of_release >= 1994' )\n",
    ".pivot_table(index='year_of_release', columns='platform', values='sum_sales', aggfunc='sum')\n",
    "    .plot(figsize=(15,5),grid=True)\n",
    "\n",
    ")\n",
    "plt.xlabel('Релизный год')\n",
    "plt.ylabel(\"Количество проданных копий по всему миру, млн\")\n",
    "plt.show()"
   ]
  },
  {
   "cell_type": "markdown",
   "id": "5de4b318",
   "metadata": {},
   "source": [
    "Мы можем увидеть что продажи для платформы в среднем держатся 10 лет. При этом пик приходится примерно на середину, через 5 лет после старта продаж. \n",
    "\n",
    "Т.к мы планируем анализ для кампании 2017 года, то будет правильным решение анализировать данные за последние 5 лет, то есть с 2012 года. Тем самым в наш анализ будут входить потенциально прибыльные платформы."
   ]
  },
  {
   "cell_type": "code",
   "execution_count": 19,
   "id": "42a12e47",
   "metadata": {
    "scrolled": true
   },
   "outputs": [],
   "source": [
    "actual_data = data.query('year_of_release >= 2012')"
   ]
  },
  {
   "cell_type": "markdown",
   "id": "c35aad32",
   "metadata": {},
   "source": [
    "Рассмотрим самые прибыльние платформы для нашего анализа по актуальным данным:"
   ]
  },
  {
   "cell_type": "code",
   "execution_count": 20,
   "id": "15340323",
   "metadata": {
    "scrolled": true
   },
   "outputs": [
    {
     "data": {
      "text/plain": [
       "platform\n",
       "PS4     314.14\n",
       "PS3     289.71\n",
       "X360    237.52\n",
       "3DS     195.01\n",
       "XOne    159.32\n",
       "WiiU     82.19\n",
       "PC       63.51\n",
       "PSV      49.18\n",
       "Wii      36.60\n",
       "DS       13.21\n",
       "PSP      11.69\n",
       "Name: sum_sales, dtype: float64"
      ]
     },
     "execution_count": 20,
     "metadata": {},
     "output_type": "execute_result"
    }
   ],
   "source": [
    "(\n",
    "    actual_data.groupby('platform')['sum_sales']\n",
    "    .sum()\n",
    "    .sort_values(ascending=False)\n",
    ")"
   ]
  },
  {
   "cell_type": "markdown",
   "id": "6ceec269",
   "metadata": {},
   "source": [
    "По этим данным сложно опредить какая платформа падает, а какая только набирает обороты. Построим график:"
   ]
  },
  {
   "cell_type": "code",
   "execution_count": 21,
   "id": "1eeb57eb",
   "metadata": {
    "scrolled": true
   },
   "outputs": [
    {
     "data": {
      "image/png": "[encoded data removed]",
      "text/plain": [
       "<Figure size 864x360 with 1 Axes>"
      ]
     },
     "metadata": {
      "needs_background": "light"
     },
     "output_type": "display_data"
    }
   ],
   "source": [
    "(\n",
    "    actual_data\n",
    "    .pivot_table(index='year_of_release', columns='platform', values='sum_sales', aggfunc='sum')\n",
    "    .plot(kind='bar',figsize=(12,5),grid=True, label=True)\n",
    "\n",
    ")\n",
    "plt.legend(bbox_to_anchor=(1, 0.6))\n",
    "plt.xlabel('Релизный год')\n",
    "plt.ylabel(\"Количество проданных копий по всему миру, млн\")\n",
    "plt.show()"
   ]
  },
  {
   "cell_type": "markdown",
   "id": "9765cfeb",
   "metadata": {},
   "source": [
    "Падание графиков на 2016 году связанно с неполными данными для этого года. \n",
    "\n",
    "Мы можем увидеть что в целом выделяется рост трёх платформ: PS4, XOne и 3DS.\n",
    "\n",
    "Также стоит упомянуть про PC. Продажи для данной платформы не высоки, но стабильны во времени. Что связанно с возможностью постоянной заменой комплектующих.\n",
    "\n",
    "Построим диаграмму размаха для наших платформ по продажам:"
   ]
  },
  {
   "cell_type": "code",
   "execution_count": 23,
   "id": "9d7f9d00",
   "metadata": {
    "scrolled": false
   },
   "outputs": [
    {
     "data": {
      "image/png": "[encoded data removed]",
      "text/plain": [
       "<Figure size 432x288 with 1 Axes>"
      ]
     },
     "metadata": {
      "needs_background": "light"
     },
     "output_type": "display_data"
    }
   ],
   "source": [
    "actual_data.boxplot(column = 'sum_sales', by = 'platform')\n",
    "plt.ylim(0,3)\n",
    "plt.show()"
   ]
  },
  {
   "cell_type": "markdown",
   "id": "a8a4307c",
   "metadata": {},
   "source": [
    "По диаграмме можно увидеть что медиана, примерно на одном уровне для платформ с высокими продажами. Следовательно продажи держатся на одной позиции. Также можно обратить внимание на скошеность вверх для большинства платформ, что говорит об их прогрессивности развития, а следовательно к увеличению продаж. Графиком выше мы уже определили какие платформы сейчас у нас \"на подъёме\".\n",
    "\n",
    "Стоит также упомянуть про выбросы (круглые точки), которые мы можем увидеть: выходит множество проектов на платформу, и в зависимости от качества, маркетинга и многих других факторов, проект приносит различную прибыль. Поэтому стоит не игнорировать такие точки на графике, а держать в голове как показатель успешности проекта на платформе.\n",
    "\n",
    "Рассмотрим влияние продаж популярной платформы ( в нашем примере будет PS4) от пользователей и критиков. Рассмотрим для начала график:"
   ]
  },
  {
   "cell_type": "code",
   "execution_count": 24,
   "id": "f5de3113",
   "metadata": {
    "scrolled": false
   },
   "outputs": [],
   "source": [
    "ps4 = actual_data[actual_data['platform'] == 'PS4'] # используем датасет только с данными по платформе PS4"
   ]
  },
  {
   "cell_type": "code",
   "execution_count": 25,
   "id": "23ad4f8a",
   "metadata": {
    "scrolled": true
   },
   "outputs": [
    {
     "data": {
      "image/png": "[encoded data removed]",
      "text/plain": [
       "<Figure size 432x288 with 1 Axes>"
      ]
     },
     "metadata": {
      "needs_background": "light"
     },
     "output_type": "display_data"
    }
   ],
   "source": [
    "ps4.plot(kind='scatter',\n",
    "                x='critic_score',\n",
    "                y='sum_sales',\n",
    "                 grid=True,\n",
    "                 alpha = 0.6,\n",
    "                title = 'Выручка продукта / Оценка критика')\n",
    "plt.xlabel('Оценка критиков')\n",
    "plt.ylabel('Продажи')\n",
    "plt.show()"
   ]
  },
  {
   "cell_type": "markdown",
   "id": "04973b90",
   "metadata": {},
   "source": [
    "Можно обратить внимание, что с оценкой выше 50 количество продаж начинается расти, но не существенно. Можно увидеть не высокую, но линейную связь, между этими показателями.  "
   ]
  },
  {
   "cell_type": "code",
   "execution_count": 26,
   "id": "eba660cf",
   "metadata": {},
   "outputs": [
    {
     "data": {
      "image/png": "[encoded data removed]",
      "text/plain": [
       "<Figure size 432x288 with 1 Axes>"
      ]
     },
     "metadata": {
      "needs_background": "light"
     },
     "output_type": "display_data"
    }
   ],
   "source": [
    "ps4.plot(kind='scatter',\n",
    "                x='user_score',\n",
    "                y='sum_sales',\n",
    "                 grid=True,\n",
    "                 alpha = 0.6,\n",
    "                title = 'Выручка продукта / Оценка пользователей')\n",
    "plt.xlabel('Оценка пользователей')\n",
    "plt.ylabel('Продажи')\n",
    "plt.show()"
   ]
  },
  {
   "cell_type": "markdown",
   "id": "3fd33caf",
   "metadata": {},
   "source": [
    "На графике можно увидеть, что продажи чаще совершаются у продуктов с оценкой от игроков выше 5.5, но суммарно количество продаж от этого не увеличивается, возможно взаимосвязь двух параметров намного сложнее.\n",
    "\n",
    "Посмотрим на числовые значения корреляции: "
   ]
  },
  {
   "cell_type": "code",
   "execution_count": 27,
   "id": "e7d71ea8",
   "metadata": {
    "scrolled": false
   },
   "outputs": [
    {
     "data": {
      "text/html": [
       "<div>\n",
       "<style scoped>\n",
       "    .dataframe tbody tr th:only-of-type {\n",
       "        vertical-align: middle;\n",
       "    }\n",
       "\n",
       "    .dataframe tbody tr th {\n",
       "        vertical-align: top;\n",
       "    }\n",
       "\n",
       "    .dataframe thead th {\n",
       "        text-align: right;\n",
       "    }\n",
       "</style>\n",
       "<table border=\"1\" class=\"dataframe\">\n",
       "  <thead>\n",
       "    <tr style=\"text-align: right;\">\n",
       "      <th></th>\n",
       "      <th>sum_sales</th>\n",
       "      <th>critic_score</th>\n",
       "      <th>user_score</th>\n",
       "    </tr>\n",
       "  </thead>\n",
       "  <tbody>\n",
       "    <tr>\n",
       "      <td>sum_sales</td>\n",
       "      <td>1.000000</td>\n",
       "      <td>0.406568</td>\n",
       "      <td>-0.031957</td>\n",
       "    </tr>\n",
       "    <tr>\n",
       "      <td>critic_score</td>\n",
       "      <td>0.406568</td>\n",
       "      <td>1.000000</td>\n",
       "      <td>0.557654</td>\n",
       "    </tr>\n",
       "    <tr>\n",
       "      <td>user_score</td>\n",
       "      <td>-0.031957</td>\n",
       "      <td>0.557654</td>\n",
       "      <td>1.000000</td>\n",
       "    </tr>\n",
       "  </tbody>\n",
       "</table>\n",
       "</div>"
      ],
      "text/plain": [
       "              sum_sales  critic_score  user_score\n",
       "sum_sales      1.000000      0.406568   -0.031957\n",
       "critic_score   0.406568      1.000000    0.557654\n",
       "user_score    -0.031957      0.557654    1.000000"
      ]
     },
     "execution_count": 27,
     "metadata": {},
     "output_type": "execute_result"
    }
   ],
   "source": [
    "ps4[['sum_sales','critic_score','user_score']].corr()"
   ]
  },
  {
   "cell_type": "markdown",
   "id": "2bf8b944",
   "metadata": {},
   "source": [
    "Также как и по графику, можем увидеть линейную связь оценки критиков и общих продаж. Для пользотелей, знак не имеет значение, так как связь практически равна 0. \n",
    "\n",
    "Посмотрим корреляцию для XOne и PC:"
   ]
  },
  {
   "cell_type": "code",
   "execution_count": 28,
   "id": "5f33729d",
   "metadata": {
    "scrolled": true
   },
   "outputs": [
    {
     "data": {
      "text/plain": [
       "'Корреляция для XOne'"
      ]
     },
     "metadata": {},
     "output_type": "display_data"
    },
    {
     "data": {
      "text/html": [
       "<div>\n",
       "<style scoped>\n",
       "    .dataframe tbody tr th:only-of-type {\n",
       "        vertical-align: middle;\n",
       "    }\n",
       "\n",
       "    .dataframe tbody tr th {\n",
       "        vertical-align: top;\n",
       "    }\n",
       "\n",
       "    .dataframe thead th {\n",
       "        text-align: right;\n",
       "    }\n",
       "</style>\n",
       "<table border=\"1\" class=\"dataframe\">\n",
       "  <thead>\n",
       "    <tr style=\"text-align: right;\">\n",
       "      <th></th>\n",
       "      <th>sum_sales</th>\n",
       "      <th>critic_score</th>\n",
       "      <th>user_score</th>\n",
       "    </tr>\n",
       "  </thead>\n",
       "  <tbody>\n",
       "    <tr>\n",
       "      <td>sum_sales</td>\n",
       "      <td>1.000000</td>\n",
       "      <td>0.416998</td>\n",
       "      <td>-0.068925</td>\n",
       "    </tr>\n",
       "    <tr>\n",
       "      <td>critic_score</td>\n",
       "      <td>0.416998</td>\n",
       "      <td>1.000000</td>\n",
       "      <td>0.472462</td>\n",
       "    </tr>\n",
       "    <tr>\n",
       "      <td>user_score</td>\n",
       "      <td>-0.068925</td>\n",
       "      <td>0.472462</td>\n",
       "      <td>1.000000</td>\n",
       "    </tr>\n",
       "  </tbody>\n",
       "</table>\n",
       "</div>"
      ],
      "text/plain": [
       "              sum_sales  critic_score  user_score\n",
       "sum_sales      1.000000      0.416998   -0.068925\n",
       "critic_score   0.416998      1.000000    0.472462\n",
       "user_score    -0.068925      0.472462    1.000000"
      ]
     },
     "metadata": {},
     "output_type": "display_data"
    },
    {
     "data": {
      "text/plain": [
       "'Корреляция для PC'"
      ]
     },
     "metadata": {},
     "output_type": "display_data"
    },
    {
     "data": {
      "text/html": [
       "<div>\n",
       "<style scoped>\n",
       "    .dataframe tbody tr th:only-of-type {\n",
       "        vertical-align: middle;\n",
       "    }\n",
       "\n",
       "    .dataframe tbody tr th {\n",
       "        vertical-align: top;\n",
       "    }\n",
       "\n",
       "    .dataframe thead th {\n",
       "        text-align: right;\n",
       "    }\n",
       "</style>\n",
       "<table border=\"1\" class=\"dataframe\">\n",
       "  <thead>\n",
       "    <tr style=\"text-align: right;\">\n",
       "      <th></th>\n",
       "      <th>sum_sales</th>\n",
       "      <th>critic_score</th>\n",
       "      <th>user_score</th>\n",
       "    </tr>\n",
       "  </thead>\n",
       "  <tbody>\n",
       "    <tr>\n",
       "      <td>sum_sales</td>\n",
       "      <td>1.000000</td>\n",
       "      <td>0.240570</td>\n",
       "      <td>-0.120339</td>\n",
       "    </tr>\n",
       "    <tr>\n",
       "      <td>critic_score</td>\n",
       "      <td>0.240570</td>\n",
       "      <td>1.000000</td>\n",
       "      <td>0.431879</td>\n",
       "    </tr>\n",
       "    <tr>\n",
       "      <td>user_score</td>\n",
       "      <td>-0.120339</td>\n",
       "      <td>0.431879</td>\n",
       "      <td>1.000000</td>\n",
       "    </tr>\n",
       "  </tbody>\n",
       "</table>\n",
       "</div>"
      ],
      "text/plain": [
       "              sum_sales  critic_score  user_score\n",
       "sum_sales      1.000000      0.240570   -0.120339\n",
       "critic_score   0.240570      1.000000    0.431879\n",
       "user_score    -0.120339      0.431879    1.000000"
      ]
     },
     "metadata": {},
     "output_type": "display_data"
    }
   ],
   "source": [
    "display('Корреляция для XOne',\n",
    "      actual_data[actual_data['platform'] == 'XOne'][['sum_sales','critic_score','user_score']].corr()\n",
    "     )\n",
    "display('Корреляция для PC',\n",
    "      actual_data[actual_data['platform'] == 'PC'][['sum_sales','critic_score','user_score']].corr()\n",
    "     )"
   ]
  },
  {
   "cell_type": "markdown",
   "id": "7e328a8c",
   "metadata": {},
   "source": [
    "Корреляции для разных платформ немного различаются, но в целом примерно в равном диапозоне. Следовательно вывод для остальных платформ схож с корреляцией для PS4.\n",
    "\n",
    "Рассмотрим жанры с высокими/низкими продажами:"
   ]
  },
  {
   "cell_type": "code",
   "execution_count": 29,
   "id": "7d153429",
   "metadata": {},
   "outputs": [
    {
     "data": {
      "text/html": [
       "<div>\n",
       "<style scoped>\n",
       "    .dataframe tbody tr th:only-of-type {\n",
       "        vertical-align: middle;\n",
       "    }\n",
       "\n",
       "    .dataframe tbody tr th {\n",
       "        vertical-align: top;\n",
       "    }\n",
       "\n",
       "    .dataframe thead th {\n",
       "        text-align: right;\n",
       "    }\n",
       "</style>\n",
       "<table border=\"1\" class=\"dataframe\">\n",
       "  <thead>\n",
       "    <tr style=\"text-align: right;\">\n",
       "      <th></th>\n",
       "      <th>Выручка</th>\n",
       "      <th>Количество игр</th>\n",
       "      <th>Средняя выручка за 1 игру</th>\n",
       "    </tr>\n",
       "    <tr>\n",
       "      <th>genre</th>\n",
       "      <th></th>\n",
       "      <th></th>\n",
       "      <th></th>\n",
       "    </tr>\n",
       "  </thead>\n",
       "  <tbody>\n",
       "    <tr>\n",
       "      <td>Action</td>\n",
       "      <td>446.41</td>\n",
       "      <td>1041</td>\n",
       "      <td>0.428828</td>\n",
       "    </tr>\n",
       "    <tr>\n",
       "      <td>Shooter</td>\n",
       "      <td>304.75</td>\n",
       "      <td>237</td>\n",
       "      <td>1.285865</td>\n",
       "    </tr>\n",
       "    <tr>\n",
       "      <td>Role-Playing</td>\n",
       "      <td>192.80</td>\n",
       "      <td>370</td>\n",
       "      <td>0.521081</td>\n",
       "    </tr>\n",
       "    <tr>\n",
       "      <td>Sports</td>\n",
       "      <td>181.07</td>\n",
       "      <td>268</td>\n",
       "      <td>0.675634</td>\n",
       "    </tr>\n",
       "    <tr>\n",
       "      <td>Misc</td>\n",
       "      <td>85.28</td>\n",
       "      <td>193</td>\n",
       "      <td>0.441865</td>\n",
       "    </tr>\n",
       "    <tr>\n",
       "      <td>Platform</td>\n",
       "      <td>61.00</td>\n",
       "      <td>85</td>\n",
       "      <td>0.717647</td>\n",
       "    </tr>\n",
       "    <tr>\n",
       "      <td>Racing</td>\n",
       "      <td>53.50</td>\n",
       "      <td>115</td>\n",
       "      <td>0.465217</td>\n",
       "    </tr>\n",
       "    <tr>\n",
       "      <td>Fighting</td>\n",
       "      <td>44.49</td>\n",
       "      <td>109</td>\n",
       "      <td>0.408165</td>\n",
       "    </tr>\n",
       "    <tr>\n",
       "      <td>Simulation</td>\n",
       "      <td>35.12</td>\n",
       "      <td>80</td>\n",
       "      <td>0.439000</td>\n",
       "    </tr>\n",
       "    <tr>\n",
       "      <td>Adventure</td>\n",
       "      <td>29.43</td>\n",
       "      <td>302</td>\n",
       "      <td>0.097450</td>\n",
       "    </tr>\n",
       "    <tr>\n",
       "      <td>Strategy</td>\n",
       "      <td>13.34</td>\n",
       "      <td>71</td>\n",
       "      <td>0.187887</td>\n",
       "    </tr>\n",
       "    <tr>\n",
       "      <td>Puzzle</td>\n",
       "      <td>4.89</td>\n",
       "      <td>28</td>\n",
       "      <td>0.174643</td>\n",
       "    </tr>\n",
       "  </tbody>\n",
       "</table>\n",
       "</div>"
      ],
      "text/plain": [
       "              Выручка  Количество игр  Средняя выручка за 1 игру\n",
       "genre                                                           \n",
       "Action         446.41            1041                   0.428828\n",
       "Shooter        304.75             237                   1.285865\n",
       "Role-Playing   192.80             370                   0.521081\n",
       "Sports         181.07             268                   0.675634\n",
       "Misc            85.28             193                   0.441865\n",
       "Platform        61.00              85                   0.717647\n",
       "Racing          53.50             115                   0.465217\n",
       "Fighting        44.49             109                   0.408165\n",
       "Simulation      35.12              80                   0.439000\n",
       "Adventure       29.43             302                   0.097450\n",
       "Strategy        13.34              71                   0.187887\n",
       "Puzzle           4.89              28                   0.174643"
      ]
     },
     "execution_count": 29,
     "metadata": {},
     "output_type": "execute_result"
    }
   ],
   "source": [
    "games = (actual_data\n",
    " .pivot_table(index='genre', values = 'sum_sales', aggfunc=['sum','count'])\n",
    ")\n",
    "games.columns = ['Выручка','Количество игр']\n",
    "games['Средняя выручка за 1 игру'] = games['Выручка'] / games['Количество игр']\n",
    "games.sort_values('Выручка', ascending=False)"
   ]
  },
  {
   "cell_type": "markdown",
   "id": "53d4be3f",
   "metadata": {},
   "source": [
    "На первых местах находятся игры жанра Action, Shooter. Низкие продажи имеют игры с плавными геймплеем: Puzzle,Strategy. Также специально в таблицу добавленны количество игр. Можно увидеть что Adventure имеют большое количество игр, но при этом жанр особо не приносит доход. Тем самым можно судить о востреботельности жанра на рынке.\n",
    "\n",
    "### Вывод\n",
    "\n",
    "Основной подъём продаж игр начинается с 1994 года. До появление безлимитного интернета и торрентов объёмы продаж увеличивались до 2008-2009 года, где потом незначительно упали. За всё это время больше всего прибыли принесла платформа PS2 и продержалась около 10 лет на рынке. В среднем это и является примерным возрастом актуальности для большинства платформ. \n",
    "\n",
    "Построев диаграмму размаха мы определили, что продажи зависят только от оценки критиков, что вполне логично. Пользователи доверяют мнению профессионалов. \n",
    "\n",
    "Мы узнали, что для пользователей на первых местах жанры с активными действиями на экране. Хотя они и приносят в общем большую выручку, зачастую не каждая игра в этом жанре в среднем хорошо продаётся."
   ]
  },
  {
   "cell_type": "markdown",
   "id": "f33d0719",
   "metadata": {},
   "source": [
    "## Портрет пользователя \n",
    "Составим портрет пользователя для каждого из трёх регионов (NA, EU, JP). Нам понадобится:\n",
    "* составить топ-5 платформ\n",
    "* составить топ-5 жанров\n",
    "* влияние возрастного рейтинга ESRB на продажи\n"
   ]
  },
  {
   "cell_type": "markdown",
   "id": "529d476b",
   "metadata": {},
   "source": [
    "Рассмотри графически топ-5 платформ по круговой диаграмме. Пренебрежим не вошедшими платформами и будем считать, что топ-5 состовляет 100% всего рынка продаж."
   ]
  },
  {
   "cell_type": "code",
   "execution_count": 30,
   "id": "c3ddecaa",
   "metadata": {
    "scrolled": false
   },
   "outputs": [
    {
     "data": {
      "image/png": "[encoded data removed]",
      "text/plain": [
       "<Figure size 360x360 with 1 Axes>"
      ]
     },
     "metadata": {},
     "output_type": "display_data"
    }
   ],
   "source": [
    "(\n",
    "    actual_data.groupby('platform')['na_sales']\n",
    "    .sum()\n",
    "    .sort_values(ascending=False)\n",
    "    .head()\n",
    "    .plot(kind='pie',autopct='%.2f',title='Топ-5 платформ NA',figsize=(5,5))    \n",
    ")\n",
    "plt.ylabel(None)\n",
    "plt.show()"
   ]
  },
  {
   "cell_type": "markdown",
   "id": "41038046",
   "metadata": {},
   "source": [
    "Топ делят между собой примерно в равных количествах платформы корпорации \"Microsoft\" XOne, X360 и \"Playstation\" PS4 и PS3. Компания \"Microsoft\" является американской компанией, имеет большое распостренение в NA. Но так как платформы \"Playstation\", являются популярны на мировым рынке, внесли свою долю продаж для рынка NA. \n",
    "\n",
    "Рассмотрим топ-5 жанров NA:"
   ]
  },
  {
   "cell_type": "code",
   "execution_count": 31,
   "id": "f95e952b",
   "metadata": {
    "scrolled": false
   },
   "outputs": [
    {
     "data": {
      "image/png": "[encoded data removed]",
      "text/plain": [
       "<Figure size 360x360 with 1 Axes>"
      ]
     },
     "metadata": {},
     "output_type": "display_data"
    }
   ],
   "source": [
    "(\n",
    "    actual_data.groupby('genre')['na_sales']\n",
    "    .sum()\n",
    "    .sort_values(ascending=False)\n",
    "    .head()\n",
    "    .plot(kind='pie',autopct='%.2f',title='Топ-5 жанров NA',figsize=(5,5))    \n",
    ")\n",
    "plt.ylabel(None)\n",
    "plt.show()"
   ]
  },
  {
   "cell_type": "markdown",
   "id": "e18cc77b",
   "metadata": {},
   "source": [
    "Основные жанры в NA являются, аналогичные для международного рынка. Такая схожесть возможна из-за доли рынка NA к мировой. "
   ]
  },
  {
   "cell_type": "code",
   "execution_count": 32,
   "id": "8e13fca5",
   "metadata": {
    "scrolled": true
   },
   "outputs": [
    {
     "name": "stdout",
     "output_type": "stream",
     "text": [
      "Доля рынка NA от мирового: 40.9%\n"
     ]
    }
   ],
   "source": [
    "print('Доля рынка NA от мирового: {:.1%}'.format(actual_data['na_sales'].sum()/actual_data['sum_sales'].sum()))"
   ]
  },
  {
   "cell_type": "markdown",
   "id": "a0f3418b",
   "metadata": {},
   "source": [
    "Следовательно жанры мирового рынка и NA имеют сходство. \n",
    "\n",
    "Рассмотрим влияние рейтинга ESRB на продажи:"
   ]
  },
  {
   "cell_type": "code",
   "execution_count": 33,
   "id": "a3092306",
   "metadata": {
    "scrolled": true
   },
   "outputs": [
    {
     "data": {
      "image/png": "[encoded data removed]",
      "text/plain": [
       "<Figure size 432x288 with 1 Axes>"
      ]
     },
     "metadata": {
      "needs_background": "light"
     },
     "output_type": "display_data"
    }
   ],
   "source": [
    "actual_data.boxplot(column = 'na_sales', by = 'rating')\n",
    "plt.ylim(0,5)\n",
    "plt.title(None)\n",
    "plt.xlabel(\"Возрастная категория\")\n",
    "plt.ylabel('Продажи')\n",
    "plt.show()"
   ]
  },
  {
   "cell_type": "markdown",
   "id": "a1a4ad0c",
   "metadata": {},
   "source": [
    "Медианные значения немного отличаются друг от друга, хоть и не существенно. Стоит выделить, значения для рейтинга **М** - дети не младше 17, скорее всего это связана с популярностью игр жанра Action."
   ]
  },
  {
   "cell_type": "code",
   "execution_count": 34,
   "id": "a1bafe6b",
   "metadata": {
    "scrolled": false
   },
   "outputs": [
    {
     "data": {
      "image/png": "[encoded data removed]",
      "text/plain": [
       "<Figure size 360x360 with 1 Axes>"
      ]
     },
     "metadata": {},
     "output_type": "display_data"
    }
   ],
   "source": [
    "(\n",
    "    actual_data.groupby('platform')['eu_sales']\n",
    "    .sum()\n",
    "    .sort_values(ascending=False)\n",
    "    .head()\n",
    "    .plot(kind='pie',autopct='%.2f',title='Топ-5 платформ EU',figsize=(5,5))    \n",
    ")\n",
    "plt.ylabel(None)\n",
    "plt.show()"
   ]
  },
  {
   "cell_type": "markdown",
   "id": "602a8b1c",
   "metadata": {},
   "source": [
    "Основные платформы для EU являются семейство Playstation. Продажи платформ корпорации \"Microsoft\" суммарно меньше продаж PS4.  Посмотрим на сколько распространнена платформа на EU рынка от мирового:"
   ]
  },
  {
   "cell_type": "code",
   "execution_count": 35,
   "id": "ce95e2b8",
   "metadata": {},
   "outputs": [
    {
     "name": "stdout",
     "output_type": "stream",
     "text": [
      "Доля платформ PS4 для EU от мира: 44.9%\n"
     ]
    }
   ],
   "source": [
    "print('Доля платформ PS4 для EU от мира: {:.1%}'\n",
    "      .format(actual_data[actual_data['platform'] == 'PS4']['eu_sales'].sum() \n",
    "              / actual_data[actual_data['platform'] == 'PS4']['sum_sales'].sum())\n",
    "     )\n"
   ]
  },
  {
   "cell_type": "markdown",
   "id": "00064b88",
   "metadata": {},
   "source": [
    "Рассмотри топ-5 жанров EU:"
   ]
  },
  {
   "cell_type": "code",
   "execution_count": 36,
   "id": "978ee37a",
   "metadata": {
    "scrolled": false
   },
   "outputs": [
    {
     "data": {
      "image/png": "[encoded data removed]",
      "text/plain": [
       "<Figure size 360x360 with 1 Axes>"
      ]
     },
     "metadata": {},
     "output_type": "display_data"
    }
   ],
   "source": [
    "(\n",
    "    actual_data.groupby('genre')['eu_sales']\n",
    "    .sum()\n",
    "    .sort_values(ascending=False)\n",
    "    .head()\n",
    "    .plot(kind='pie',autopct='%.2f',title='Топ-5 жанров EU',figsize=(5,5))    \n",
    ")\n",
    "plt.ylabel(None)\n",
    "plt.show()"
   ]
  },
  {
   "cell_type": "markdown",
   "id": "bd5b49d7",
   "metadata": {},
   "source": [
    "Аналогино топу NA, Европейские не сильно отличается по долям. Отличия имеются только в последнем месте. Для EU характера любовь к гонкам и машина, следовательно рейтингу Racing. Посмотрим чем обоснованно такая схожесть с NA и мировым топом:"
   ]
  },
  {
   "cell_type": "code",
   "execution_count": 37,
   "id": "a53be503",
   "metadata": {
    "scrolled": false
   },
   "outputs": [
    {
     "name": "stdout",
     "output_type": "stream",
     "text": [
      "Доля рынка EU от мирового: 35.1%\n"
     ]
    }
   ],
   "source": [
    "print('Доля рынка EU от мирового: {:.1%}'.format(actual_data['eu_sales'].sum()/actual_data['sum_sales'].sum()))"
   ]
  },
  {
   "cell_type": "markdown",
   "id": "7e5aff1e",
   "metadata": {},
   "source": [
    "Столь высокая схожесть обусловлена, такой же высокой долей продаж как и для NA от мира."
   ]
  },
  {
   "cell_type": "code",
   "execution_count": 38,
   "id": "b3e857cb",
   "metadata": {
    "scrolled": false
   },
   "outputs": [
    {
     "data": {
      "image/png": "[encoded data removed]",
      "text/plain": [
       "<Figure size 432x288 with 1 Axes>"
      ]
     },
     "metadata": {
      "needs_background": "light"
     },
     "output_type": "display_data"
    }
   ],
   "source": [
    "actual_data.boxplot(column = 'eu_sales', by = 'rating')\n",
    "plt.ylim(0,5)\n",
    "plt.title(None)\n",
    "plt.xlabel(\"Возрастная категория\")\n",
    "plt.ylabel('Продажи')\n",
    "plt.show()"
   ]
  },
  {
   "cell_type": "markdown",
   "id": "b56ad818",
   "metadata": {},
   "source": [
    "Ситуация для EU аналогична NA: медианные значения немного отличаются друг от друга, хоть и не существенно.\n",
    "\n",
    "Рассмотри топ-5 платформ для JP:"
   ]
  },
  {
   "cell_type": "code",
   "execution_count": 39,
   "id": "aaacbee7",
   "metadata": {
    "scrolled": false
   },
   "outputs": [
    {
     "data": {
      "image/png": "[encoded data removed]",
      "text/plain": [
       "<Figure size 360x360 with 1 Axes>"
      ]
     },
     "metadata": {},
     "output_type": "display_data"
    }
   ],
   "source": [
    "(\n",
    "    actual_data.groupby('platform')['jp_sales']\n",
    "    .sum()\n",
    "    .sort_values(ascending=False)\n",
    "    .head()\n",
    "    .plot(kind='pie',autopct='%.2f',title='Топ-5 платформ JP',figsize=(5,5))    \n",
    ")\n",
    "plt.ylabel(None)\n",
    "plt.show()"
   ]
  },
  {
   "cell_type": "markdown",
   "id": "ce229496",
   "metadata": {},
   "source": [
    "Рынок JP отличается своей спецификой от мирового. Предпочтение отдаются портативным платформам (WiiU, 3DS, PSV) и продуктами японской компаний \"Nintendo\" и японско-американской \"Playstation\".\n",
    "\n",
    "Рассмотрим топ-5 жанров JP:"
   ]
  },
  {
   "cell_type": "code",
   "execution_count": 40,
   "id": "dbbaaf5b",
   "metadata": {
    "scrolled": false
   },
   "outputs": [
    {
     "data": {
      "image/png": "[encoded data removed]",
      "text/plain": [
       "<Figure size 360x360 with 1 Axes>"
      ]
     },
     "metadata": {},
     "output_type": "display_data"
    }
   ],
   "source": [
    "(\n",
    "    actual_data.groupby('genre')['jp_sales']\n",
    "    .sum()\n",
    "    .sort_values(ascending=False)\n",
    "    .head()\n",
    "    .plot(kind='pie',autopct='%.2f',title='Топ-5 жанров JP',figsize=(5,5))    \n",
    ")\n",
    "plt.ylabel(None)\n",
    "plt.show()"
   ]
  },
  {
   "cell_type": "markdown",
   "id": "9094d0d4",
   "metadata": {},
   "source": [
    "Жанр Action для JP рынка занимает второе место, в отличии от мирового и устпает Role-Playing. Возможно такое отличие связано с платформами, на которых игры данного жанра больше популярны и распостранены для данного рынка. Посмотрим на топ платформ для жанра Role-Playing:"
   ]
  },
  {
   "cell_type": "code",
   "execution_count": 41,
   "id": "f26cd9bc",
   "metadata": {
    "scrolled": true
   },
   "outputs": [
    {
     "data": {
      "text/plain": [
       "platform\n",
       "3DS    38.93\n",
       "PSV     7.68\n",
       "PS3     6.86\n",
       "PS4     3.55\n",
       "DS      3.51\n",
       "Name: jp_sales, dtype: float64"
      ]
     },
     "execution_count": 41,
     "metadata": {},
     "output_type": "execute_result"
    }
   ],
   "source": [
    "(\n",
    "    actual_data.query('genre == \"Role-Playing\"')\n",
    "    .groupby('platform')['jp_sales']\n",
    "    .sum()\n",
    "    .sort_values(ascending = False)\n",
    "    .head()\n",
    ")"
   ]
  },
  {
   "cell_type": "markdown",
   "id": "bffbe10c",
   "metadata": {},
   "source": [
    "4 из 5 платформ являются самыми распространнёными  для рынка JP. Тем самым мы можем понять чем вызван интерес к играм жанра Role-Playing.\n",
    "\n",
    "Рассмотрим теперь связь возрастного рейтинга и продаж:"
   ]
  },
  {
   "cell_type": "code",
   "execution_count": 42,
   "id": "8fb1df75",
   "metadata": {
    "scrolled": false
   },
   "outputs": [
    {
     "data": {
      "image/png": "[encoded data removed]",
      "text/plain": [
       "<Figure size 432x288 with 1 Axes>"
      ]
     },
     "metadata": {
      "needs_background": "light"
     },
     "output_type": "display_data"
    }
   ],
   "source": [
    "actual_data.boxplot(column = 'jp_sales', by = 'rating')\n",
    "plt.ylim(0,1)\n",
    "plt.title(None)\n",
    "plt.xlabel(\"Возрастная категория\")\n",
    "plt.ylabel('Продажи')\n",
    "plt.show()"
   ]
  },
  {
   "cell_type": "markdown",
   "id": "4bd2c620",
   "metadata": {},
   "source": [
    "Медианные значения имеют маленькие значения.Стоит обратить внимание на преобладание категории **T** для детей от 13 лет. Также высокое значения **INDF** - игр для которых возрастной рейтинг отсуствовал. По количеству выбросов можно сказать что продаж таких игр высокий. Это затрудняет определение связи продаж от возрастного рейтинга в регионе. \n",
    "\n",
    "### Вывод\n",
    "\n",
    "Основную долю мирового рынка составляет EU и NA. Что сказывается на общих чертах в выборе жанра. JP рынок имеет отличие в жанре, связанные с выбором платформы и продуктов доступных на нём. Для платформ, все три региона в разных долях предпочитают PS4 и PS3. Причём для NA характера преобладание платформ американских кампаний, для JP японских кампаний, а EU предпочитает японско-американский платформы. \n",
    "\n",
    "Возрастной рейтинг не сильно зависит для NA и EU, есть преобладающий рейтинг, но разница является не высокой. Для JP преобладает высокое количество игр с отсуствующим рейтингом. Для данного региона проблематично выяснить зависимость. "
   ]
  },
  {
   "cell_type": "markdown",
   "id": "9504efc1",
   "metadata": {},
   "source": [
    "## Проверка гипотез\n",
    "\n",
    "В нашем исследовании расмотрим две гипотезы:\n",
    "* средние пользовательские рейтинги платформ Xbox One и PC одинаковые\n",
    "* средние пользовательские рейтинги жанров Action и Sports разные\n",
    "\n",
    "Приступик с первой гипотезы. Нулевой гипотезой для нас будет: *средние пользовательские рейтинги платформ Xbox One и PC равны между собой*, а значит альтернативной гипотезой будет: *средние пользовательские рейтинги платформ Xbox One и PC не равны между собой*. \n",
    "\n",
    "Для того чтобы отвергнуть или наоборот принять гипотезу, у нас имеется две генеральных совокупности. Мы можем сравнить их среднее с применением библиотеки `scipy` и её методов, через критерий Стьюдента. Для большей точности, мы возьмём уровень значимости равный 1%.\n",
    "\n",
    "Так как в оценках пользователя имеются пропуски, мы не сможем провести тест. Удалим их, так как другие значения могут повлиять на результат проверки гипотезы."
   ]
  },
  {
   "cell_type": "code",
   "execution_count": 43,
   "id": "84c96ffe",
   "metadata": {},
   "outputs": [
    {
     "name": "stdout",
     "output_type": "stream",
     "text": [
      "p - значение: 0.6252774522173157\n",
      "Не отвергаем нулевую гипотезу\n"
     ]
    }
   ],
   "source": [
    "filter_data = actual_data.dropna(subset=['user_score']) \n",
    "\n",
    "xone_score = filter_data[filter_data['platform'] == 'XOne']['user_score']\n",
    "pc_score = filter_data[filter_data['platform'] == 'PC']['user_score']\n",
    "alpha = 0.01 # уровень значимости\n",
    "\n",
    "result = st.ttest_ind(xone_score, pc_score)\n",
    "\n",
    "print('p - значение:', result.pvalue)\n",
    "if result.pvalue < alpha:\n",
    "    print('Отвергаем нулевую гипотезу')\n",
    "else:\n",
    "    print('Не отвергаем нулевую гипотезу')"
   ]
  },
  {
   "cell_type": "markdown",
   "id": "18cdc36e",
   "metadata": {},
   "source": [
    "По результатам теста мы можем сказать что в среднем оценки пользователей PC и XOne равны между собой. Это говорит нам о том, что продукты выпускаемые на эти две платформы, в среднем одинаково оцениваются. Стоит добавить из личного опыта, что многие проекты для консолей XOne также играются на PC. Один и тот же проект, одинаково себя показывает на двух платформах. \n",
    "средние пользовательские рейтинги жанров Action и Sports разные\n",
    "Рассмотрим вторую гипотезу и также составим нулевую и альтернативную:\n",
    "* нулевой гипотезой у нас будет: *средние пользовательские рейтинги жанров Action и Sports равны между собой*\n",
    "* альтернативная гипотеза: *ссредние пользовательские рейтинги жанров Action и Sports отличаются между собой*\n",
    "\n",
    "Также чтобы принять или отвергнуть гипотезу, мы сравним среднии двух генеральных совокупностей: оценки жанра Action и Sports между собой, через критерий Стьюдента и возьмём уровень значимости 1%."
   ]
  },
  {
   "cell_type": "code",
   "execution_count": 44,
   "id": "ae7d6b6b",
   "metadata": {
    "scrolled": true
   },
   "outputs": [
    {
     "name": "stdout",
     "output_type": "stream",
     "text": [
      "p - значение: 1.1405639632267916e-26\n",
      "Отвергаем нулевую гипотезу\n"
     ]
    }
   ],
   "source": [
    "action_score = filter_data[filter_data['genre'] == 'Action']['user_score']\n",
    "sports_score = filter_data[filter_data['genre'] == 'Sports']['user_score']\n",
    "alpha = 0.01 # уровень значимости\n",
    "\n",
    "result = st.ttest_ind(action_score, sports_score)\n",
    "\n",
    "print('p - значение:', result.pvalue)\n",
    "if result.pvalue < alpha:\n",
    "    print('Отвергаем нулевую гипотезу')\n",
    "else:\n",
    "    print('Не отвергаем нулевую гипотезу')"
   ]
  },
  {
   "cell_type": "markdown",
   "id": "75478198",
   "metadata": {},
   "source": [
    "На основе полученных данных, мы отвергаем нулевую гипотезу, а следовательно можем сказать что средние пользовательские рейтинги жанров Action и Sport не равны между собой.\n",
    "\n",
    "### Вывод \n",
    "\n",
    "Благодаря полученным результатам статистических тестов мы можем сказать, что наши гипотезы частично подвердились: пользоватейский рейтинг для XOne и PC между собой равны. Мы можем сделать вывод, что проекты выпускаемые на обе платформы будут одинаково оценены между собой. \n",
    "\n",
    "Пользовательские оценки для жанров Action и Sports отличаются. Стоит вспомнить что ранее смотрели популярность каждого жанра и количество игр. Action ощутимо выигрывает: пользователи чаще оценивают и выбирают игры данного жанра."
   ]
  },
  {
   "cell_type": "markdown",
   "id": "00a83c6c",
   "metadata": {},
   "source": [
    "## Общий вывод\n",
    "\n",
    "Ознакомившись с данными и построив графики, мы обнаружили: \n",
    "* среднем для самых успешных платформ \"время жизни\" составляет примерно 10 лет. Наиболее перспективно выбирать платформы, которые находятся на пике продаж (половина от времени жизни - 5 лет).\n",
    "* если игра будет хорошо оценена критиками, это увеличит продажи.\n",
    "* наиболее популярными в мире жанрами являются игры с высокой динамичностью (такие как Action, Shooter).\n",
    "* для рынка NA стоит выбирать консоли XOne и PS4, хоть и лидирует X360, первые две плаформы имеют перспективу роста в дальнейшем, но большим плюсом будет и поддержка консолей прошлого поколения. Предпочтение отдаётся жанрам: Action,Shooter,Sports\n",
    "* для рынка EU ситуация аналогично с NA, но больший спрос будут иметь платформы Playstation: PS4/PS3. Жанры аналогичны NA.\n",
    "* для рынка JP стоит уделить внимание портативным платформам 3DS, PSV. Популярным жанром для рынка является: Role-Playing, Action\n",
    "* стоит не уберать со счетов PC, хоть и платформа не входит в топ-5 платформ, будет всегда актуальна для любого года. \n",
    "\n",
    "Из полученого анализа мы можем предположить для успеха кампании в 2017 году по всему миру, стоит выбирать игры платформы PS4, жанра Action. Дополниельным плюсом будет, если игры выйдут также на XOne, прошлое поколение PS3 и X360 и будет иметь аналоги для портативных платформ 3DS и PSV."
   ]
  }
 ],
 "metadata": {
  "ExecuteTimeLog": [
   {
    "duration": 1459,
    "start_time": "2021-12-30T06:42:01.938Z"
   },
   {
    "duration": 2939,
    "start_time": "2021-12-30T06:42:03.399Z"
   },
   {
    "duration": -3986,
    "start_time": "2021-12-30T06:42:10.330Z"
   },
   {
    "duration": -3985,
    "start_time": "2021-12-30T06:42:10.331Z"
   },
   {
    "duration": -3983,
    "start_time": "2021-12-30T06:42:10.332Z"
   },
   {
    "duration": -3992,
    "start_time": "2021-12-30T06:42:10.343Z"
   },
   {
    "duration": -3991,
    "start_time": "2021-12-30T06:42:10.344Z"
   },
   {
    "duration": -3990,
    "start_time": "2021-12-30T06:42:10.346Z"
   },
   {
    "duration": -4021,
    "start_time": "2021-12-30T06:42:10.379Z"
   },
   {
    "duration": -4025,
    "start_time": "2021-12-30T06:42:10.385Z"
   },
   {
    "duration": -4029,
    "start_time": "2021-12-30T06:42:10.391Z"
   },
   {
    "duration": -4029,
    "start_time": "2021-12-30T06:42:10.393Z"
   },
   {
    "duration": -4031,
    "start_time": "2021-12-30T06:42:10.397Z"
   },
   {
    "duration": -4033,
    "start_time": "2021-12-30T06:42:10.402Z"
   },
   {
    "duration": -4035,
    "start_time": "2021-12-30T06:42:10.406Z"
   },
   {
    "duration": -4039,
    "start_time": "2021-12-30T06:42:10.412Z"
   },
   {
    "duration": -4040,
    "start_time": "2021-12-30T06:42:10.416Z"
   },
   {
    "duration": -4040,
    "start_time": "2021-12-30T06:42:10.418Z"
   },
   {
    "duration": -4103,
    "start_time": "2021-12-30T06:42:10.483Z"
   },
   {
    "duration": -4107,
    "start_time": "2021-12-30T06:42:10.488Z"
   },
   {
    "duration": -4074,
    "start_time": "2021-12-30T06:42:10.491Z"
   },
   {
    "duration": -4072,
    "start_time": "2021-12-30T06:42:10.492Z"
   },
   {
    "duration": -4071,
    "start_time": "2021-12-30T06:42:10.493Z"
   },
   {
    "duration": -4073,
    "start_time": "2021-12-30T06:42:10.498Z"
   },
   {
    "duration": -4072,
    "start_time": "2021-12-30T06:42:10.499Z"
   },
   {
    "duration": -4071,
    "start_time": "2021-12-30T06:42:10.500Z"
   },
   {
    "duration": -4072,
    "start_time": "2021-12-30T06:42:10.503Z"
   },
   {
    "duration": -4072,
    "start_time": "2021-12-30T06:42:10.505Z"
   },
   {
    "duration": -4072,
    "start_time": "2021-12-30T06:42:10.508Z"
   },
   {
    "duration": -4077,
    "start_time": "2021-12-30T06:42:10.515Z"
   },
   {
    "duration": -4076,
    "start_time": "2021-12-30T06:42:10.516Z"
   },
   {
    "duration": -4075,
    "start_time": "2021-12-30T06:42:10.517Z"
   },
   {
    "duration": -4075,
    "start_time": "2021-12-30T06:42:10.519Z"
   },
   {
    "duration": -4076,
    "start_time": "2021-12-30T06:42:10.522Z"
   },
   {
    "duration": -4075,
    "start_time": "2021-12-30T06:42:10.524Z"
   },
   {
    "duration": -4076,
    "start_time": "2021-12-30T06:42:10.527Z"
   },
   {
    "duration": -4080,
    "start_time": "2021-12-30T06:42:10.533Z"
   },
   {
    "duration": -4018,
    "start_time": "2021-12-30T06:42:10.534Z"
   },
   {
    "duration": -4019,
    "start_time": "2021-12-30T06:42:10.537Z"
   },
   {
    "duration": 253,
    "start_time": "2021-12-30T08:48:41.157Z"
   },
   {
    "duration": 1073,
    "start_time": "2021-12-30T08:48:44.809Z"
   },
   {
    "duration": 50,
    "start_time": "2021-12-30T08:48:46.790Z"
   },
   {
    "duration": 1005,
    "start_time": "2021-12-30T08:48:53.000Z"
   },
   {
    "duration": 50,
    "start_time": "2021-12-30T08:48:54.007Z"
   },
   {
    "duration": 10,
    "start_time": "2021-12-30T08:48:54.060Z"
   },
   {
    "duration": 4,
    "start_time": "2021-12-30T08:48:54.072Z"
   },
   {
    "duration": 17,
    "start_time": "2021-12-30T08:48:54.092Z"
   },
   {
    "duration": 10,
    "start_time": "2021-12-30T08:48:54.111Z"
   },
   {
    "duration": 5,
    "start_time": "2021-12-30T08:48:54.123Z"
   },
   {
    "duration": 7,
    "start_time": "2021-12-30T08:48:54.130Z"
   },
   {
    "duration": 8,
    "start_time": "2021-12-30T08:48:54.140Z"
   },
   {
    "duration": 8,
    "start_time": "2021-12-30T08:48:54.149Z"
   },
   {
    "duration": 46,
    "start_time": "2021-12-30T08:48:54.159Z"
   },
   {
    "duration": 243,
    "start_time": "2021-12-30T08:48:54.206Z"
   },
   {
    "duration": 8,
    "start_time": "2021-12-30T08:48:54.450Z"
   },
   {
    "duration": 328,
    "start_time": "2021-12-30T08:48:54.459Z"
   },
   {
    "duration": 6,
    "start_time": "2021-12-30T08:48:54.791Z"
   },
   {
    "duration": 10,
    "start_time": "2021-12-30T08:48:54.798Z"
   },
   {
    "duration": 430,
    "start_time": "2021-12-30T08:48:54.809Z"
   },
   {
    "duration": 368,
    "start_time": "2021-12-30T08:48:55.241Z"
   },
   {
    "duration": 4,
    "start_time": "2021-12-30T08:48:55.610Z"
   },
   {
    "duration": 319,
    "start_time": "2021-12-30T08:48:55.616Z"
   },
   {
    "duration": 305,
    "start_time": "2021-12-30T08:48:55.937Z"
   },
   {
    "duration": 10,
    "start_time": "2021-12-30T08:48:56.244Z"
   },
   {
    "duration": 42,
    "start_time": "2021-12-30T08:48:56.257Z"
   },
   {
    "duration": 23,
    "start_time": "2021-12-30T08:48:56.301Z"
   },
   {
    "duration": 109,
    "start_time": "2021-12-30T08:48:56.326Z"
   },
   {
    "duration": 173,
    "start_time": "2021-12-30T08:48:56.437Z"
   },
   {
    "duration": 4,
    "start_time": "2021-12-30T08:48:56.612Z"
   },
   {
    "duration": 224,
    "start_time": "2021-12-30T08:48:56.617Z"
   },
   {
    "duration": 101,
    "start_time": "2021-12-30T08:48:56.843Z"
   },
   {
    "duration": 6,
    "start_time": "2021-12-30T08:48:56.946Z"
   },
   {
    "duration": 105,
    "start_time": "2021-12-30T08:48:56.954Z"
   },
   {
    "duration": 4,
    "start_time": "2021-12-30T08:48:57.061Z"
   },
   {
    "duration": 235,
    "start_time": "2021-12-30T08:48:57.067Z"
   },
   {
    "duration": 105,
    "start_time": "2021-12-30T08:48:57.304Z"
   },
   {
    "duration": 99,
    "start_time": "2021-12-30T08:48:57.411Z"
   },
   {
    "duration": 10,
    "start_time": "2021-12-30T08:48:57.512Z"
   },
   {
    "duration": 219,
    "start_time": "2021-12-30T08:48:57.523Z"
   },
   {
    "duration": 11,
    "start_time": "2021-12-30T08:48:57.743Z"
   },
   {
    "duration": 8,
    "start_time": "2021-12-30T08:48:57.756Z"
   },
   {
    "duration": 58,
    "start_time": "2021-12-30T08:49:33.436Z"
   },
   {
    "duration": 954,
    "start_time": "2021-12-30T19:03:59.823Z"
   },
   {
    "duration": 50,
    "start_time": "2021-12-30T19:04:00.780Z"
   },
   {
    "duration": 10,
    "start_time": "2021-12-30T19:04:00.832Z"
   },
   {
    "duration": 3,
    "start_time": "2021-12-30T19:04:00.844Z"
   },
   {
    "duration": 20,
    "start_time": "2021-12-30T19:04:00.849Z"
   },
   {
    "duration": 24,
    "start_time": "2021-12-30T19:04:00.871Z"
   },
   {
    "duration": 6,
    "start_time": "2021-12-30T19:04:00.897Z"
   },
   {
    "duration": 11,
    "start_time": "2021-12-30T19:04:00.906Z"
   },
   {
    "duration": 8,
    "start_time": "2021-12-30T19:04:00.919Z"
   },
   {
    "duration": 6,
    "start_time": "2021-12-30T19:04:00.929Z"
   },
   {
    "duration": 18,
    "start_time": "2021-12-30T19:04:00.936Z"
   },
   {
    "duration": 258,
    "start_time": "2021-12-30T19:04:00.956Z"
   },
   {
    "duration": 7,
    "start_time": "2021-12-30T19:04:01.216Z"
   },
   {
    "duration": 329,
    "start_time": "2021-12-30T19:04:01.225Z"
   },
   {
    "duration": 6,
    "start_time": "2021-12-30T19:04:01.556Z"
   },
   {
    "duration": 23,
    "start_time": "2021-12-30T19:04:01.563Z"
   },
   {
    "duration": 397,
    "start_time": "2021-12-30T19:04:01.588Z"
   },
   {
    "duration": 349,
    "start_time": "2021-12-30T19:04:01.987Z"
   },
   {
    "duration": 4,
    "start_time": "2021-12-30T19:04:02.338Z"
   },
   {
    "duration": 311,
    "start_time": "2021-12-30T19:04:02.343Z"
   },
   {
    "duration": 346,
    "start_time": "2021-12-30T19:04:02.655Z"
   },
   {
    "duration": 9,
    "start_time": "2021-12-30T19:04:03.003Z"
   },
   {
    "duration": 26,
    "start_time": "2021-12-30T19:04:03.016Z"
   },
   {
    "duration": 25,
    "start_time": "2021-12-30T19:04:03.044Z"
   },
   {
    "duration": 109,
    "start_time": "2021-12-30T19:04:03.071Z"
   },
   {
    "duration": 171,
    "start_time": "2021-12-30T19:04:03.182Z"
   },
   {
    "duration": 4,
    "start_time": "2021-12-30T19:04:03.354Z"
   },
   {
    "duration": 222,
    "start_time": "2021-12-30T19:04:03.359Z"
   },
   {
    "duration": 91,
    "start_time": "2021-12-30T19:04:03.583Z"
   },
   {
    "duration": 19,
    "start_time": "2021-12-30T19:04:03.676Z"
   },
   {
    "duration": 97,
    "start_time": "2021-12-30T19:04:03.696Z"
   },
   {
    "duration": 4,
    "start_time": "2021-12-30T19:04:03.795Z"
   },
   {
    "duration": 222,
    "start_time": "2021-12-30T19:04:03.800Z"
   },
   {
    "duration": 99,
    "start_time": "2021-12-30T19:04:04.023Z"
   },
   {
    "duration": 97,
    "start_time": "2021-12-30T19:04:04.123Z"
   },
   {
    "duration": 9,
    "start_time": "2021-12-30T19:04:04.221Z"
   },
   {
    "duration": 211,
    "start_time": "2021-12-30T19:04:04.231Z"
   },
   {
    "duration": 9,
    "start_time": "2021-12-30T19:04:04.444Z"
   },
   {
    "duration": 16,
    "start_time": "2021-12-30T19:04:04.455Z"
   },
   {
    "duration": 278,
    "start_time": "2021-12-30T19:06:54.836Z"
   },
   {
    "duration": 23,
    "start_time": "2021-12-30T19:07:01.997Z"
   },
   {
    "duration": 1367,
    "start_time": "2022-01-10T07:56:43.467Z"
   },
   {
    "duration": 71,
    "start_time": "2022-01-10T07:56:44.837Z"
   },
   {
    "duration": 18,
    "start_time": "2022-01-10T07:56:44.911Z"
   },
   {
    "duration": 5,
    "start_time": "2022-01-10T07:56:44.932Z"
   },
   {
    "duration": 21,
    "start_time": "2022-01-10T07:56:44.964Z"
   },
   {
    "duration": 11,
    "start_time": "2022-01-10T07:56:44.988Z"
   },
   {
    "duration": 6,
    "start_time": "2022-01-10T07:56:45.001Z"
   },
   {
    "duration": 32,
    "start_time": "2022-01-10T07:56:45.011Z"
   },
   {
    "duration": 12,
    "start_time": "2022-01-10T07:56:45.063Z"
   },
   {
    "duration": 11,
    "start_time": "2022-01-10T07:56:45.078Z"
   },
   {
    "duration": 22,
    "start_time": "2022-01-10T07:56:45.092Z"
   },
   {
    "duration": 382,
    "start_time": "2022-01-10T07:56:45.117Z"
   },
   {
    "duration": 11,
    "start_time": "2022-01-10T07:56:45.502Z"
   },
   {
    "duration": 598,
    "start_time": "2022-01-10T07:56:45.515Z"
   },
   {
    "duration": 7,
    "start_time": "2022-01-10T07:56:46.116Z"
   },
   {
    "duration": 11,
    "start_time": "2022-01-10T07:56:46.126Z"
   },
   {
    "duration": 607,
    "start_time": "2022-01-10T07:56:46.162Z"
   },
   {
    "duration": 36,
    "start_time": "2022-01-10T07:56:46.771Z"
   },
   {
    "duration": 532,
    "start_time": "2022-01-10T07:56:46.809Z"
   },
   {
    "duration": 5,
    "start_time": "2022-01-10T07:56:47.344Z"
   },
   {
    "duration": 436,
    "start_time": "2022-01-10T07:56:47.363Z"
   },
   {
    "duration": 415,
    "start_time": "2022-01-10T07:56:47.803Z"
   },
   {
    "duration": 13,
    "start_time": "2022-01-10T07:56:48.224Z"
   },
   {
    "duration": 44,
    "start_time": "2022-01-10T07:56:48.241Z"
   },
   {
    "duration": 35,
    "start_time": "2022-01-10T07:56:48.288Z"
   },
   {
    "duration": 185,
    "start_time": "2022-01-10T07:56:48.326Z"
   },
   {
    "duration": 226,
    "start_time": "2022-01-10T07:56:48.514Z"
   },
   {
    "duration": 6,
    "start_time": "2022-01-10T07:56:48.742Z"
   },
   {
    "duration": 357,
    "start_time": "2022-01-10T07:56:48.762Z"
   },
   {
    "duration": 151,
    "start_time": "2022-01-10T07:56:49.121Z"
   },
   {
    "duration": 10,
    "start_time": "2022-01-10T07:56:49.274Z"
   },
   {
    "duration": 162,
    "start_time": "2022-01-10T07:56:49.286Z"
   },
   {
    "duration": 15,
    "start_time": "2022-01-10T07:56:49.450Z"
   },
   {
    "duration": 354,
    "start_time": "2022-01-10T07:56:49.467Z"
   },
   {
    "duration": 149,
    "start_time": "2022-01-10T07:56:49.824Z"
   },
   {
    "duration": 163,
    "start_time": "2022-01-10T07:56:49.975Z"
   },
   {
    "duration": 24,
    "start_time": "2022-01-10T07:56:50.140Z"
   },
   {
    "duration": 343,
    "start_time": "2022-01-10T07:56:50.167Z"
   },
   {
    "duration": 17,
    "start_time": "2022-01-10T07:56:50.513Z"
   },
   {
    "duration": 30,
    "start_time": "2022-01-10T07:56:50.533Z"
   },
   {
    "duration": 7,
    "start_time": "2022-01-10T08:13:19.912Z"
   },
   {
    "duration": 421,
    "start_time": "2022-01-10T08:13:27.593Z"
   },
   {
    "duration": 7,
    "start_time": "2022-01-10T08:14:07.780Z"
   },
   {
    "duration": 2218,
    "start_time": "2022-01-10T08:15:23.555Z"
   },
   {
    "duration": 263,
    "start_time": "2022-01-10T08:15:39.823Z"
   },
   {
    "duration": 2149,
    "start_time": "2022-01-10T08:15:42.456Z"
   },
   {
    "duration": 272,
    "start_time": "2022-01-10T08:15:47.523Z"
   },
   {
    "duration": 266,
    "start_time": "2022-01-10T08:15:53.966Z"
   },
   {
    "duration": 1332,
    "start_time": "2022-01-10T08:17:39.391Z"
   },
   {
    "duration": 70,
    "start_time": "2022-01-10T08:17:40.725Z"
   },
   {
    "duration": 14,
    "start_time": "2022-01-10T08:17:40.799Z"
   },
   {
    "duration": 4,
    "start_time": "2022-01-10T08:17:40.815Z"
   },
   {
    "duration": 46,
    "start_time": "2022-01-10T08:17:40.822Z"
   },
   {
    "duration": 11,
    "start_time": "2022-01-10T08:17:40.871Z"
   },
   {
    "duration": 5,
    "start_time": "2022-01-10T08:17:40.885Z"
   },
   {
    "duration": 80,
    "start_time": "2022-01-10T08:18:18.058Z"
   },
   {
    "duration": 83,
    "start_time": "2022-01-10T08:21:05.559Z"
   },
   {
    "duration": 31,
    "start_time": "2022-01-10T08:25:43.636Z"
   },
   {
    "duration": 9054,
    "start_time": "2022-01-10T08:27:44.363Z"
   },
   {
    "duration": 9013,
    "start_time": "2022-01-10T08:28:08.918Z"
   },
   {
    "duration": 82,
    "start_time": "2022-01-10T08:28:33.403Z"
   },
   {
    "duration": 8999,
    "start_time": "2022-01-10T08:28:53.944Z"
   },
   {
    "duration": 5461,
    "start_time": "2022-01-10T08:29:13.783Z"
   },
   {
    "duration": 10417,
    "start_time": "2022-01-10T08:30:06.212Z"
   },
   {
    "duration": 10,
    "start_time": "2022-01-10T08:30:20.236Z"
   },
   {
    "duration": 268,
    "start_time": "2022-01-10T08:30:36.752Z"
   },
   {
    "duration": 6745,
    "start_time": "2022-01-10T08:30:54.275Z"
   },
   {
    "duration": 6539,
    "start_time": "2022-01-10T08:31:03.073Z"
   },
   {
    "duration": 33,
    "start_time": "2022-01-10T08:32:03.619Z"
   },
   {
    "duration": 32,
    "start_time": "2022-01-10T08:32:33.556Z"
   },
   {
    "duration": 15,
    "start_time": "2022-01-10T08:32:42.037Z"
   },
   {
    "duration": 399,
    "start_time": "2022-01-10T08:32:50.872Z"
   },
   {
    "duration": 9,
    "start_time": "2022-01-10T08:32:58.313Z"
   },
   {
    "duration": 17,
    "start_time": "2022-01-10T08:33:01.439Z"
   },
   {
    "duration": 9,
    "start_time": "2022-01-10T08:33:09.916Z"
   },
   {
    "duration": 15,
    "start_time": "2022-01-10T08:33:27.241Z"
   },
   {
    "duration": 13,
    "start_time": "2022-01-10T08:33:32.425Z"
   },
   {
    "duration": 96,
    "start_time": "2022-01-10T08:33:40.967Z"
   },
   {
    "duration": 15,
    "start_time": "2022-01-10T08:33:43.104Z"
   },
   {
    "duration": 9285,
    "start_time": "2022-01-10T08:33:48.690Z"
   },
   {
    "duration": 9,
    "start_time": "2022-01-10T08:34:11.447Z"
   },
   {
    "duration": 269,
    "start_time": "2022-01-10T08:34:16.298Z"
   },
   {
    "duration": 10,
    "start_time": "2022-01-10T08:34:21.447Z"
   },
   {
    "duration": 14098,
    "start_time": "2022-01-10T08:34:42.095Z"
   },
   {
    "duration": 14696,
    "start_time": "2022-01-10T08:35:52.774Z"
   },
   {
    "duration": 13830,
    "start_time": "2022-01-10T08:37:20.762Z"
   },
   {
    "duration": 35,
    "start_time": "2022-01-10T08:42:08.967Z"
   },
   {
    "duration": 31,
    "start_time": "2022-01-10T08:42:28.229Z"
   },
   {
    "duration": 19,
    "start_time": "2022-01-10T08:42:47.573Z"
   },
   {
    "duration": 8306,
    "start_time": "2022-01-10T08:51:18.967Z"
   },
   {
    "duration": 18395,
    "start_time": "2022-01-10T08:52:16.884Z"
   },
   {
    "duration": 4677,
    "start_time": "2022-01-10T08:54:12.086Z"
   },
   {
    "duration": 509,
    "start_time": "2022-01-10T08:56:14.358Z"
   },
   {
    "duration": 619,
    "start_time": "2022-01-10T08:57:35.843Z"
   },
   {
    "duration": 6185,
    "start_time": "2022-01-10T08:59:39.879Z"
   },
   {
    "duration": 4487,
    "start_time": "2022-01-10T08:59:54.037Z"
   },
   {
    "duration": 288,
    "start_time": "2022-01-10T09:00:14.455Z"
   },
   {
    "duration": 780,
    "start_time": "2022-01-10T09:00:25.944Z"
   },
   {
    "duration": 83,
    "start_time": "2022-01-10T09:00:54.822Z"
   },
   {
    "duration": 269,
    "start_time": "2022-01-10T09:00:57.075Z"
   },
   {
    "duration": 85,
    "start_time": "2022-01-10T09:01:04.785Z"
   },
   {
    "duration": 212,
    "start_time": "2022-01-10T09:01:07.365Z"
   },
   {
    "duration": 3204,
    "start_time": "2022-01-10T09:01:15.700Z"
   },
   {
    "duration": 1228,
    "start_time": "2022-01-10T09:03:29.421Z"
   },
   {
    "duration": 12,
    "start_time": "2022-01-10T09:03:31.417Z"
   },
   {
    "duration": 7,
    "start_time": "2022-01-10T09:03:33.321Z"
   },
   {
    "duration": 13666,
    "start_time": "2022-01-10T09:04:05.340Z"
   },
   {
    "duration": 14245,
    "start_time": "2022-01-10T09:04:33.458Z"
   },
   {
    "duration": 19,
    "start_time": "2022-01-10T09:04:51.108Z"
   },
   {
    "duration": 110,
    "start_time": "2022-01-10T09:05:04.717Z"
   },
   {
    "duration": 17,
    "start_time": "2022-01-10T09:05:07.640Z"
   },
   {
    "duration": 15,
    "start_time": "2022-01-10T09:05:12.502Z"
   },
   {
    "duration": 22,
    "start_time": "2022-01-10T09:05:29.484Z"
   },
   {
    "duration": 6,
    "start_time": "2022-01-10T09:05:37.792Z"
   },
   {
    "duration": 7,
    "start_time": "2022-01-10T09:05:40.674Z"
   },
   {
    "duration": 87,
    "start_time": "2022-01-10T09:05:50.382Z"
   },
   {
    "duration": 109,
    "start_time": "2022-01-10T09:05:58.686Z"
   },
   {
    "duration": 86,
    "start_time": "2022-01-10T09:06:08.935Z"
   },
   {
    "duration": 6,
    "start_time": "2022-01-10T09:06:19.617Z"
   },
   {
    "duration": 15,
    "start_time": "2022-01-10T09:06:27.825Z"
   },
   {
    "duration": 31,
    "start_time": "2022-01-10T09:06:33.140Z"
   },
   {
    "duration": 1353,
    "start_time": "2022-01-10T09:06:52.990Z"
   },
   {
    "duration": 74,
    "start_time": "2022-01-10T09:06:54.346Z"
   },
   {
    "duration": 15,
    "start_time": "2022-01-10T09:06:54.422Z"
   },
   {
    "duration": 4,
    "start_time": "2022-01-10T09:06:54.440Z"
   },
   {
    "duration": 20,
    "start_time": "2022-01-10T09:06:54.463Z"
   },
   {
    "duration": 12,
    "start_time": "2022-01-10T09:06:54.485Z"
   },
   {
    "duration": 5,
    "start_time": "2022-01-10T09:06:54.499Z"
   },
   {
    "duration": 1063,
    "start_time": "2022-01-10T09:06:54.506Z"
   },
   {
    "duration": 12,
    "start_time": "2022-01-10T09:06:55.572Z"
   },
   {
    "duration": 7,
    "start_time": "2022-01-10T09:07:22.309Z"
   },
   {
    "duration": 6,
    "start_time": "2022-01-10T09:07:25.491Z"
   },
   {
    "duration": 7,
    "start_time": "2022-01-10T09:07:42.310Z"
   },
   {
    "duration": 532,
    "start_time": "2022-01-10T09:07:59.107Z"
   },
   {
    "duration": 1360,
    "start_time": "2022-01-10T09:08:07.675Z"
   },
   {
    "duration": 72,
    "start_time": "2022-01-10T09:08:09.037Z"
   },
   {
    "duration": 15,
    "start_time": "2022-01-10T09:08:09.112Z"
   },
   {
    "duration": 4,
    "start_time": "2022-01-10T09:08:09.131Z"
   },
   {
    "duration": 42,
    "start_time": "2022-01-10T09:08:09.137Z"
   },
   {
    "duration": 14,
    "start_time": "2022-01-10T09:08:09.182Z"
   },
   {
    "duration": 6,
    "start_time": "2022-01-10T09:08:09.199Z"
   },
   {
    "duration": 5692,
    "start_time": "2022-01-10T09:08:16.815Z"
   },
   {
    "duration": 762,
    "start_time": "2022-01-10T09:09:17.214Z"
   },
   {
    "duration": 93,
    "start_time": "2022-01-10T09:09:58.812Z"
   },
   {
    "duration": 90,
    "start_time": "2022-01-10T09:10:06.937Z"
   },
   {
    "duration": 325,
    "start_time": "2022-01-10T09:10:13.767Z"
   },
   {
    "duration": 267,
    "start_time": "2022-01-10T09:10:48.712Z"
   },
   {
    "duration": 273,
    "start_time": "2022-01-10T09:10:59.367Z"
   },
   {
    "duration": 163,
    "start_time": "2022-01-10T09:12:11.602Z"
   },
   {
    "duration": 255,
    "start_time": "2022-01-10T09:12:23.058Z"
   },
   {
    "duration": 292,
    "start_time": "2022-01-10T09:12:29.371Z"
   },
   {
    "duration": 5148,
    "start_time": "2022-01-10T09:12:36.280Z"
   },
   {
    "duration": 273,
    "start_time": "2022-01-10T09:14:26.236Z"
   },
   {
    "duration": 427,
    "start_time": "2022-01-10T09:14:49.405Z"
   },
   {
    "duration": 298,
    "start_time": "2022-01-10T09:14:58.900Z"
   },
   {
    "duration": 368,
    "start_time": "2022-01-10T09:15:30.432Z"
   },
   {
    "duration": 367,
    "start_time": "2022-01-10T09:16:03.933Z"
   },
   {
    "duration": 257,
    "start_time": "2022-01-10T09:16:49.831Z"
   },
   {
    "duration": 249,
    "start_time": "2022-01-10T09:16:57.133Z"
   },
   {
    "duration": 440,
    "start_time": "2022-01-10T09:17:00.085Z"
   },
   {
    "duration": 3299,
    "start_time": "2022-01-10T09:17:53.514Z"
   },
   {
    "duration": 4670,
    "start_time": "2022-01-10T09:18:29.801Z"
   },
   {
    "duration": 1351,
    "start_time": "2022-01-10T09:18:57.071Z"
   },
   {
    "duration": 72,
    "start_time": "2022-01-10T09:18:58.425Z"
   },
   {
    "duration": 16,
    "start_time": "2022-01-10T09:18:58.501Z"
   },
   {
    "duration": 4,
    "start_time": "2022-01-10T09:18:58.519Z"
   },
   {
    "duration": 52,
    "start_time": "2022-01-10T09:18:58.526Z"
   },
   {
    "duration": 10,
    "start_time": "2022-01-10T09:18:58.580Z"
   },
   {
    "duration": 5,
    "start_time": "2022-01-10T09:18:58.593Z"
   },
   {
    "duration": 4993,
    "start_time": "2022-01-10T09:18:58.601Z"
   },
   {
    "duration": 3231,
    "start_time": "2022-01-10T09:19:46.543Z"
   },
   {
    "duration": 4340,
    "start_time": "2022-01-10T09:20:08.304Z"
   },
   {
    "duration": 3514,
    "start_time": "2022-01-10T09:20:27.071Z"
   },
   {
    "duration": 10,
    "start_time": "2022-01-10T09:20:37.624Z"
   },
   {
    "duration": 9,
    "start_time": "2022-01-10T09:20:42.592Z"
   },
   {
    "duration": 268,
    "start_time": "2022-01-10T09:20:51.121Z"
   },
   {
    "duration": 338,
    "start_time": "2022-01-10T09:24:12.206Z"
   },
   {
    "duration": 6634,
    "start_time": "2022-01-10T09:25:47.838Z"
   },
   {
    "duration": 955,
    "start_time": "2022-01-10T09:27:37.281Z"
   },
   {
    "duration": 1411,
    "start_time": "2022-01-10T09:28:28.237Z"
   },
   {
    "duration": 72,
    "start_time": "2022-01-10T09:28:29.651Z"
   },
   {
    "duration": 15,
    "start_time": "2022-01-10T09:28:29.726Z"
   },
   {
    "duration": 21,
    "start_time": "2022-01-10T09:28:29.745Z"
   },
   {
    "duration": 22,
    "start_time": "2022-01-10T09:28:29.768Z"
   },
   {
    "duration": 11,
    "start_time": "2022-01-10T09:28:29.793Z"
   },
   {
    "duration": 6,
    "start_time": "2022-01-10T09:28:29.807Z"
   },
   {
    "duration": 1447,
    "start_time": "2022-01-10T09:28:29.816Z"
   },
   {
    "duration": 31,
    "start_time": "2022-01-10T09:28:33.689Z"
   },
   {
    "duration": 15358,
    "start_time": "2022-01-10T09:29:02.026Z"
   },
   {
    "duration": 1423,
    "start_time": "2022-01-10T09:30:01.701Z"
   },
   {
    "duration": 70,
    "start_time": "2022-01-10T09:30:03.126Z"
   },
   {
    "duration": 14,
    "start_time": "2022-01-10T09:30:03.199Z"
   },
   {
    "duration": 13,
    "start_time": "2022-01-10T09:30:03.216Z"
   },
   {
    "duration": 37,
    "start_time": "2022-01-10T09:30:03.232Z"
   },
   {
    "duration": 12,
    "start_time": "2022-01-10T09:30:03.272Z"
   },
   {
    "duration": 6,
    "start_time": "2022-01-10T09:30:03.287Z"
   },
   {
    "duration": 67299,
    "start_time": "2022-01-10T09:30:03.297Z"
   },
   {
    "duration": 33,
    "start_time": "2022-01-10T09:31:12.991Z"
   },
   {
    "duration": 748,
    "start_time": "2022-01-10T09:31:25.478Z"
   },
   {
    "duration": 31,
    "start_time": "2022-01-10T09:31:27.872Z"
   },
   {
    "duration": 584,
    "start_time": "2022-01-10T09:32:32.968Z"
   },
   {
    "duration": 855,
    "start_time": "2022-01-10T09:32:42.768Z"
   },
   {
    "duration": 9,
    "start_time": "2022-01-10T09:32:50.366Z"
   },
   {
    "duration": 330,
    "start_time": "2022-01-10T09:33:02.744Z"
   },
   {
    "duration": 9,
    "start_time": "2022-01-10T09:33:15.477Z"
   },
   {
    "duration": 1343,
    "start_time": "2022-01-10T09:33:31.284Z"
   },
   {
    "duration": 69,
    "start_time": "2022-01-10T09:33:32.630Z"
   },
   {
    "duration": 15,
    "start_time": "2022-01-10T09:33:32.702Z"
   },
   {
    "duration": 15,
    "start_time": "2022-01-10T09:33:32.720Z"
   },
   {
    "duration": 49,
    "start_time": "2022-01-10T09:33:32.738Z"
   },
   {
    "duration": 32,
    "start_time": "2022-01-10T09:33:32.790Z"
   },
   {
    "duration": 8,
    "start_time": "2022-01-10T09:33:36.846Z"
   },
   {
    "duration": 31,
    "start_time": "2022-01-10T09:37:40.354Z"
   },
   {
    "duration": 27,
    "start_time": "2022-01-10T09:37:55.678Z"
   },
   {
    "duration": 27,
    "start_time": "2022-01-10T09:38:10.857Z"
   },
   {
    "duration": 1411,
    "start_time": "2022-01-10T09:41:19.674Z"
   },
   {
    "duration": 6,
    "start_time": "2022-01-10T09:42:57.426Z"
   },
   {
    "duration": 17,
    "start_time": "2022-01-10T09:43:34.285Z"
   },
   {
    "duration": 26,
    "start_time": "2022-01-10T09:45:02.572Z"
   },
   {
    "duration": 6,
    "start_time": "2022-01-10T09:46:12.012Z"
   },
   {
    "duration": 68,
    "start_time": "2022-01-10T09:46:12.021Z"
   },
   {
    "duration": 14,
    "start_time": "2022-01-10T09:46:12.092Z"
   },
   {
    "duration": 4,
    "start_time": "2022-01-10T09:46:12.109Z"
   },
   {
    "duration": 58,
    "start_time": "2022-01-10T09:46:12.116Z"
   },
   {
    "duration": 11,
    "start_time": "2022-01-10T09:46:12.177Z"
   },
   {
    "duration": 22,
    "start_time": "2022-01-10T09:46:12.193Z"
   },
   {
    "duration": 1474,
    "start_time": "2022-01-10T09:46:12.219Z"
   },
   {
    "duration": 7,
    "start_time": "2022-01-10T09:46:13.695Z"
   },
   {
    "duration": 14,
    "start_time": "2022-01-10T09:46:13.704Z"
   },
   {
    "duration": 11,
    "start_time": "2022-01-10T09:46:13.720Z"
   },
   {
    "duration": 35,
    "start_time": "2022-01-10T09:46:13.734Z"
   },
   {
    "duration": 24,
    "start_time": "2022-01-10T09:46:13.771Z"
   },
   {
    "duration": 386,
    "start_time": "2022-01-10T09:46:13.797Z"
   },
   {
    "duration": 14,
    "start_time": "2022-01-10T09:46:14.186Z"
   },
   {
    "duration": 787,
    "start_time": "2022-01-10T09:46:14.204Z"
   },
   {
    "duration": 10,
    "start_time": "2022-01-10T09:46:14.994Z"
   },
   {
    "duration": 25,
    "start_time": "2022-01-10T09:46:15.007Z"
   },
   {
    "duration": 1062,
    "start_time": "2022-01-10T09:46:15.038Z"
   },
   {
    "duration": 87,
    "start_time": "2022-01-10T09:47:22.894Z"
   },
   {
    "duration": 35,
    "start_time": "2022-01-10T09:47:40.210Z"
   },
   {
    "duration": 5,
    "start_time": "2022-01-10T09:48:30.305Z"
   },
   {
    "duration": 511,
    "start_time": "2022-01-10T09:48:47.654Z"
   },
   {
    "duration": 4,
    "start_time": "2022-01-10T10:01:36.415Z"
   },
   {
    "duration": 68,
    "start_time": "2022-01-10T10:01:36.422Z"
   },
   {
    "duration": 19,
    "start_time": "2022-01-10T10:01:36.494Z"
   },
   {
    "duration": 5,
    "start_time": "2022-01-10T10:01:36.516Z"
   },
   {
    "duration": 59,
    "start_time": "2022-01-10T10:01:36.524Z"
   },
   {
    "duration": 14,
    "start_time": "2022-01-10T10:01:36.587Z"
   },
   {
    "duration": 57,
    "start_time": "2022-01-10T10:01:36.606Z"
   },
   {
    "duration": 1508,
    "start_time": "2022-01-10T10:01:36.667Z"
   },
   {
    "duration": 6,
    "start_time": "2022-01-10T10:01:38.177Z"
   },
   {
    "duration": 12,
    "start_time": "2022-01-10T10:01:38.186Z"
   },
   {
    "duration": 13,
    "start_time": "2022-01-10T10:01:38.201Z"
   },
   {
    "duration": 47,
    "start_time": "2022-01-10T10:01:38.216Z"
   },
   {
    "duration": 23,
    "start_time": "2022-01-10T10:01:38.266Z"
   },
   {
    "duration": 361,
    "start_time": "2022-01-10T10:01:38.292Z"
   },
   {
    "duration": 12,
    "start_time": "2022-01-10T10:01:38.664Z"
   },
   {
    "duration": 497,
    "start_time": "2022-01-10T10:01:38.680Z"
   },
   {
    "duration": 10,
    "start_time": "2022-01-10T10:01:39.180Z"
   },
   {
    "duration": 12,
    "start_time": "2022-01-10T10:01:39.192Z"
   },
   {
    "duration": 803,
    "start_time": "2022-01-10T10:01:39.210Z"
   },
   {
    "duration": 49,
    "start_time": "2022-01-10T10:01:40.016Z"
   },
   {
    "duration": 519,
    "start_time": "2022-01-10T10:01:40.067Z"
   },
   {
    "duration": 6,
    "start_time": "2022-01-10T10:01:40.588Z"
   },
   {
    "duration": 417,
    "start_time": "2022-01-10T10:01:40.596Z"
   },
   {
    "duration": 455,
    "start_time": "2022-01-10T10:01:41.015Z"
   },
   {
    "duration": 14,
    "start_time": "2022-01-10T10:01:41.472Z"
   },
   {
    "duration": 30,
    "start_time": "2022-01-10T10:01:41.490Z"
   },
   {
    "duration": 70,
    "start_time": "2022-01-10T10:01:41.523Z"
   },
   {
    "duration": 7,
    "start_time": "2022-01-10T10:05:55.089Z"
   },
   {
    "duration": 7,
    "start_time": "2022-01-10T10:10:06.571Z"
   },
   {
    "duration": 382,
    "start_time": "2022-01-10T10:11:21.738Z"
   },
   {
    "duration": 6,
    "start_time": "2022-01-10T10:11:29.964Z"
   },
   {
    "duration": 6,
    "start_time": "2022-01-10T10:11:51.409Z"
   },
   {
    "duration": 6,
    "start_time": "2022-01-10T10:12:56.284Z"
   },
   {
    "duration": 76,
    "start_time": "2022-01-10T10:12:56.293Z"
   },
   {
    "duration": 16,
    "start_time": "2022-01-10T10:12:56.372Z"
   },
   {
    "duration": 25,
    "start_time": "2022-01-10T10:12:56.392Z"
   },
   {
    "duration": 35,
    "start_time": "2022-01-10T10:12:56.420Z"
   },
   {
    "duration": 14,
    "start_time": "2022-01-10T10:12:56.458Z"
   },
   {
    "duration": 31,
    "start_time": "2022-01-10T10:12:56.475Z"
   },
   {
    "duration": 1398,
    "start_time": "2022-01-10T10:12:56.510Z"
   },
   {
    "duration": 6,
    "start_time": "2022-01-10T10:12:57.912Z"
   },
   {
    "duration": 11,
    "start_time": "2022-01-10T10:12:57.921Z"
   },
   {
    "duration": 36,
    "start_time": "2022-01-10T10:12:57.934Z"
   },
   {
    "duration": 10,
    "start_time": "2022-01-10T10:12:57.972Z"
   },
   {
    "duration": 24,
    "start_time": "2022-01-10T10:12:57.984Z"
   },
   {
    "duration": 375,
    "start_time": "2022-01-10T10:12:58.012Z"
   },
   {
    "duration": 11,
    "start_time": "2022-01-10T10:12:58.389Z"
   },
   {
    "duration": 538,
    "start_time": "2022-01-10T10:12:58.404Z"
   },
   {
    "duration": 18,
    "start_time": "2022-01-10T10:12:58.944Z"
   },
   {
    "duration": 12,
    "start_time": "2022-01-10T10:12:58.965Z"
   },
   {
    "duration": 637,
    "start_time": "2022-01-10T10:12:58.980Z"
   },
   {
    "duration": 56,
    "start_time": "2022-01-10T10:12:59.621Z"
   },
   {
    "duration": 548,
    "start_time": "2022-01-10T10:12:59.679Z"
   },
   {
    "duration": 6,
    "start_time": "2022-01-10T10:13:00.230Z"
   },
   {
    "duration": 537,
    "start_time": "2022-01-10T10:13:00.241Z"
   },
   {
    "duration": 424,
    "start_time": "2022-01-10T10:13:00.782Z"
   },
   {
    "duration": 18,
    "start_time": "2022-01-10T10:13:01.210Z"
   },
   {
    "duration": 55,
    "start_time": "2022-01-10T10:13:01.230Z"
   },
   {
    "duration": 43,
    "start_time": "2022-01-10T10:13:01.287Z"
   },
   {
    "duration": 6,
    "start_time": "2022-01-10T10:13:01.332Z"
   },
   {
    "duration": 150,
    "start_time": "2022-01-10T10:13:01.364Z"
   },
   {
    "duration": 160,
    "start_time": "2022-01-10T10:13:01.517Z"
   },
   {
    "duration": 6,
    "start_time": "2022-01-10T10:13:01.680Z"
   },
   {
    "duration": 353,
    "start_time": "2022-01-10T10:13:01.689Z"
   },
   {
    "duration": 159,
    "start_time": "2022-01-10T10:13:02.045Z"
   },
   {
    "duration": 9,
    "start_time": "2022-01-10T10:13:02.207Z"
   },
   {
    "duration": 163,
    "start_time": "2022-01-10T10:13:02.219Z"
   },
   {
    "duration": 6,
    "start_time": "2022-01-10T10:13:02.385Z"
   },
   {
    "duration": 361,
    "start_time": "2022-01-10T10:13:02.394Z"
   },
   {
    "duration": 152,
    "start_time": "2022-01-10T10:13:02.762Z"
   },
   {
    "duration": 167,
    "start_time": "2022-01-10T10:13:02.918Z"
   },
   {
    "duration": 16,
    "start_time": "2022-01-10T10:13:03.088Z"
   },
   {
    "duration": 342,
    "start_time": "2022-01-10T10:13:03.107Z"
   },
   {
    "duration": 24,
    "start_time": "2022-01-10T10:13:03.452Z"
   },
   {
    "duration": 12,
    "start_time": "2022-01-10T10:13:03.479Z"
   },
   {
    "duration": 6,
    "start_time": "2022-01-10T10:15:22.157Z"
   },
   {
    "duration": 7,
    "start_time": "2022-01-10T10:24:29.322Z"
   },
   {
    "duration": 570,
    "start_time": "2022-01-10T10:25:43.900Z"
   },
   {
    "duration": 192,
    "start_time": "2022-01-10T10:26:00.462Z"
   },
   {
    "duration": 444,
    "start_time": "2022-01-10T10:26:03.874Z"
   },
   {
    "duration": 354,
    "start_time": "2022-01-10T10:26:09.375Z"
   },
   {
    "duration": 318,
    "start_time": "2022-01-10T10:26:25.578Z"
   },
   {
    "duration": 364,
    "start_time": "2022-01-10T10:26:29.960Z"
   },
   {
    "duration": 23,
    "start_time": "2022-01-10T10:26:40.137Z"
   },
   {
    "duration": 1325,
    "start_time": "2022-01-10T10:26:53.605Z"
   },
   {
    "duration": 71,
    "start_time": "2022-01-10T10:26:54.933Z"
   },
   {
    "duration": 14,
    "start_time": "2022-01-10T10:26:55.007Z"
   },
   {
    "duration": 5,
    "start_time": "2022-01-10T10:26:55.024Z"
   },
   {
    "duration": 42,
    "start_time": "2022-01-10T10:26:55.031Z"
   },
   {
    "duration": 13,
    "start_time": "2022-01-10T10:26:55.076Z"
   },
   {
    "duration": 26,
    "start_time": "2022-01-10T10:26:55.092Z"
   },
   {
    "duration": 1442,
    "start_time": "2022-01-10T10:26:55.123Z"
   },
   {
    "duration": 7,
    "start_time": "2022-01-10T10:26:56.568Z"
   },
   {
    "duration": 14,
    "start_time": "2022-01-10T10:26:56.578Z"
   },
   {
    "duration": 11,
    "start_time": "2022-01-10T10:26:56.594Z"
   },
   {
    "duration": 8,
    "start_time": "2022-01-10T10:26:56.608Z"
   },
   {
    "duration": 6,
    "start_time": "2022-01-10T10:26:56.663Z"
   },
   {
    "duration": 13,
    "start_time": "2022-01-10T10:26:56.671Z"
   },
   {
    "duration": 22,
    "start_time": "2022-01-10T10:26:56.687Z"
   },
   {
    "duration": 377,
    "start_time": "2022-01-10T10:26:56.712Z"
   },
   {
    "duration": 10,
    "start_time": "2022-01-10T10:26:57.092Z"
   },
   {
    "duration": 497,
    "start_time": "2022-01-10T10:26:57.105Z"
   },
   {
    "duration": 7,
    "start_time": "2022-01-10T10:26:57.605Z"
   },
   {
    "duration": 11,
    "start_time": "2022-01-10T10:26:57.615Z"
   },
   {
    "duration": 652,
    "start_time": "2022-01-10T10:26:57.628Z"
   },
   {
    "duration": 34,
    "start_time": "2022-01-10T10:26:58.283Z"
   },
   {
    "duration": 569,
    "start_time": "2022-01-10T10:26:58.322Z"
   },
   {
    "duration": 5,
    "start_time": "2022-01-10T10:26:58.894Z"
   },
   {
    "duration": 415,
    "start_time": "2022-01-10T10:26:58.901Z"
   },
   {
    "duration": 449,
    "start_time": "2022-01-10T10:26:59.319Z"
   },
   {
    "duration": 13,
    "start_time": "2022-01-10T10:26:59.770Z"
   },
   {
    "duration": 29,
    "start_time": "2022-01-10T10:26:59.786Z"
   },
   {
    "duration": 66,
    "start_time": "2022-01-10T10:26:59.818Z"
   },
   {
    "duration": 154,
    "start_time": "2022-01-10T10:26:59.887Z"
   },
   {
    "duration": 240,
    "start_time": "2022-01-10T10:27:00.043Z"
   },
   {
    "duration": 6,
    "start_time": "2022-01-10T10:27:00.285Z"
   },
   {
    "duration": 387,
    "start_time": "2022-01-10T10:27:00.293Z"
   },
   {
    "duration": 163,
    "start_time": "2022-01-10T10:27:00.682Z"
   },
   {
    "duration": 21,
    "start_time": "2022-01-10T10:27:00.847Z"
   },
   {
    "duration": 151,
    "start_time": "2022-01-10T10:27:00.870Z"
   },
   {
    "duration": 6,
    "start_time": "2022-01-10T10:27:01.024Z"
   },
   {
    "duration": 387,
    "start_time": "2022-01-10T10:27:01.032Z"
   },
   {
    "duration": 158,
    "start_time": "2022-01-10T10:27:01.421Z"
   },
   {
    "duration": 157,
    "start_time": "2022-01-10T10:27:01.581Z"
   },
   {
    "duration": 24,
    "start_time": "2022-01-10T10:27:01.740Z"
   },
   {
    "duration": 347,
    "start_time": "2022-01-10T10:27:01.767Z"
   },
   {
    "duration": 17,
    "start_time": "2022-01-10T10:27:02.117Z"
   },
   {
    "duration": 35,
    "start_time": "2022-01-10T10:27:02.137Z"
   },
   {
    "duration": 475,
    "start_time": "2022-01-10T10:32:03.328Z"
   },
   {
    "duration": 333,
    "start_time": "2022-01-10T10:32:14.957Z"
   },
   {
    "duration": 11,
    "start_time": "2022-01-10T10:33:36.880Z"
   },
   {
    "duration": 259,
    "start_time": "2022-01-10T10:42:23.350Z"
   },
   {
    "duration": 277,
    "start_time": "2022-01-10T10:42:58.987Z"
   },
   {
    "duration": 8,
    "start_time": "2022-01-10T10:43:24.560Z"
   },
   {
    "duration": 12,
    "start_time": "2022-01-10T10:43:32.935Z"
   },
   {
    "duration": 12,
    "start_time": "2022-01-10T10:43:47.192Z"
   },
   {
    "duration": 19,
    "start_time": "2022-01-10T10:47:47.697Z"
   },
   {
    "duration": 13,
    "start_time": "2022-01-10T10:47:49.972Z"
   },
   {
    "duration": 12,
    "start_time": "2022-01-10T10:47:52.786Z"
   },
   {
    "duration": 352,
    "start_time": "2022-01-10T10:50:59.351Z"
   },
   {
    "duration": 355,
    "start_time": "2022-01-10T10:51:11.464Z"
   },
   {
    "duration": 449,
    "start_time": "2022-01-10T10:52:23.547Z"
   },
   {
    "duration": 383,
    "start_time": "2022-01-10T10:53:47.173Z"
   },
   {
    "duration": 1377,
    "start_time": "2022-01-10T11:20:23.644Z"
   },
   {
    "duration": 70,
    "start_time": "2022-01-10T11:20:25.024Z"
   },
   {
    "duration": 14,
    "start_time": "2022-01-10T11:20:25.098Z"
   },
   {
    "duration": 5,
    "start_time": "2022-01-10T11:20:25.114Z"
   },
   {
    "duration": 43,
    "start_time": "2022-01-10T11:20:25.121Z"
   },
   {
    "duration": 11,
    "start_time": "2022-01-10T11:20:25.166Z"
   },
   {
    "duration": 24,
    "start_time": "2022-01-10T11:20:25.179Z"
   },
   {
    "duration": 1452,
    "start_time": "2022-01-10T11:20:25.206Z"
   },
   {
    "duration": 6,
    "start_time": "2022-01-10T11:20:26.664Z"
   },
   {
    "duration": 14,
    "start_time": "2022-01-10T11:20:26.672Z"
   },
   {
    "duration": 11,
    "start_time": "2022-01-10T11:20:26.688Z"
   },
   {
    "duration": 9,
    "start_time": "2022-01-10T11:20:26.701Z"
   },
   {
    "duration": 8,
    "start_time": "2022-01-10T11:20:26.713Z"
   },
   {
    "duration": 42,
    "start_time": "2022-01-10T11:20:26.723Z"
   },
   {
    "duration": 25,
    "start_time": "2022-01-10T11:20:26.767Z"
   },
   {
    "duration": 387,
    "start_time": "2022-01-10T11:20:26.795Z"
   },
   {
    "duration": 10,
    "start_time": "2022-01-10T11:20:27.185Z"
   },
   {
    "duration": 499,
    "start_time": "2022-01-10T11:20:27.198Z"
   },
   {
    "duration": 8,
    "start_time": "2022-01-10T11:20:27.700Z"
   },
   {
    "duration": 10,
    "start_time": "2022-01-10T11:20:27.711Z"
   },
   {
    "duration": 619,
    "start_time": "2022-01-10T11:20:27.724Z"
   },
   {
    "duration": 47,
    "start_time": "2022-01-10T11:20:28.345Z"
   },
   {
    "duration": 533,
    "start_time": "2022-01-10T11:20:28.397Z"
   },
   {
    "duration": 6,
    "start_time": "2022-01-10T11:20:28.933Z"
   },
   {
    "duration": 440,
    "start_time": "2022-01-10T11:20:28.942Z"
   },
   {
    "duration": 420,
    "start_time": "2022-01-10T11:20:29.385Z"
   },
   {
    "duration": 14,
    "start_time": "2022-01-10T11:20:29.807Z"
   },
   {
    "duration": 53,
    "start_time": "2022-01-10T11:20:29.823Z"
   },
   {
    "duration": 36,
    "start_time": "2022-01-10T11:20:29.878Z"
   },
   {
    "duration": 167,
    "start_time": "2022-01-10T11:20:29.916Z"
   },
   {
    "duration": 251,
    "start_time": "2022-01-10T11:20:30.085Z"
   },
   {
    "duration": 6,
    "start_time": "2022-01-10T11:20:30.339Z"
   },
   {
    "duration": 344,
    "start_time": "2022-01-10T11:20:30.363Z"
   },
   {
    "duration": 167,
    "start_time": "2022-01-10T11:20:30.709Z"
   },
   {
    "duration": 10,
    "start_time": "2022-01-10T11:20:30.878Z"
   },
   {
    "duration": 160,
    "start_time": "2022-01-10T11:20:30.890Z"
   },
   {
    "duration": 6,
    "start_time": "2022-01-10T11:20:31.052Z"
   },
   {
    "duration": 404,
    "start_time": "2022-01-10T11:20:31.063Z"
   },
   {
    "duration": 165,
    "start_time": "2022-01-10T11:20:31.470Z"
   },
   {
    "duration": 180,
    "start_time": "2022-01-10T11:20:31.638Z"
   },
   {
    "duration": 14,
    "start_time": "2022-01-10T11:20:31.820Z"
   },
   {
    "duration": 365,
    "start_time": "2022-01-10T11:20:31.837Z"
   },
   {
    "duration": 15,
    "start_time": "2022-01-10T11:20:32.205Z"
   },
   {
    "duration": 25,
    "start_time": "2022-01-10T11:20:32.223Z"
   },
   {
    "duration": 1095,
    "start_time": "2022-01-10T20:10:15.259Z"
   },
   {
    "duration": 54,
    "start_time": "2022-01-10T20:10:16.356Z"
   },
   {
    "duration": 12,
    "start_time": "2022-01-10T20:10:16.412Z"
   },
   {
    "duration": 3,
    "start_time": "2022-01-10T20:10:16.426Z"
   },
   {
    "duration": 16,
    "start_time": "2022-01-10T20:10:16.430Z"
   },
   {
    "duration": 8,
    "start_time": "2022-01-10T20:10:16.447Z"
   },
   {
    "duration": 41,
    "start_time": "2022-01-10T20:10:16.456Z"
   },
   {
    "duration": 881,
    "start_time": "2022-01-10T20:10:16.499Z"
   },
   {
    "duration": 9,
    "start_time": "2022-01-10T20:10:17.382Z"
   },
   {
    "duration": 10,
    "start_time": "2022-01-10T20:10:17.393Z"
   },
   {
    "duration": 8,
    "start_time": "2022-01-10T20:10:17.404Z"
   },
   {
    "duration": 5,
    "start_time": "2022-01-10T20:10:17.413Z"
   },
   {
    "duration": 6,
    "start_time": "2022-01-10T20:10:17.420Z"
   },
   {
    "duration": 7,
    "start_time": "2022-01-10T20:10:17.427Z"
   },
   {
    "duration": 14,
    "start_time": "2022-01-10T20:10:17.436Z"
   },
   {
    "duration": 255,
    "start_time": "2022-01-10T20:10:17.452Z"
   },
   {
    "duration": 8,
    "start_time": "2022-01-10T20:10:17.708Z"
   },
   {
    "duration": 319,
    "start_time": "2022-01-10T20:10:17.717Z"
   },
   {
    "duration": 6,
    "start_time": "2022-01-10T20:10:18.038Z"
   },
   {
    "duration": 11,
    "start_time": "2022-01-10T20:10:18.046Z"
   },
   {
    "duration": 405,
    "start_time": "2022-01-10T20:10:18.058Z"
   },
   {
    "duration": 30,
    "start_time": "2022-01-10T20:10:18.465Z"
   },
   {
    "duration": 346,
    "start_time": "2022-01-10T20:10:18.498Z"
   },
   {
    "duration": 3,
    "start_time": "2022-01-10T20:10:18.846Z"
   },
   {
    "duration": 309,
    "start_time": "2022-01-10T20:10:18.851Z"
   },
   {
    "duration": 358,
    "start_time": "2022-01-10T20:10:19.162Z"
   },
   {
    "duration": 9,
    "start_time": "2022-01-10T20:10:19.522Z"
   },
   {
    "duration": 24,
    "start_time": "2022-01-10T20:10:19.532Z"
   },
   {
    "duration": 36,
    "start_time": "2022-01-10T20:10:19.558Z"
   },
   {
    "duration": 100,
    "start_time": "2022-01-10T20:10:19.596Z"
   },
   {
    "duration": 168,
    "start_time": "2022-01-10T20:10:19.697Z"
   },
   {
    "duration": 5,
    "start_time": "2022-01-10T20:10:19.866Z"
   },
   {
    "duration": 232,
    "start_time": "2022-01-10T20:10:19.872Z"
   },
   {
    "duration": 99,
    "start_time": "2022-01-10T20:10:20.106Z"
   },
   {
    "duration": 8,
    "start_time": "2022-01-10T20:10:20.207Z"
   },
   {
    "duration": 107,
    "start_time": "2022-01-10T20:10:20.216Z"
   },
   {
    "duration": 4,
    "start_time": "2022-01-10T20:10:20.324Z"
   },
   {
    "duration": 228,
    "start_time": "2022-01-10T20:10:20.330Z"
   },
   {
    "duration": 105,
    "start_time": "2022-01-10T20:10:20.559Z"
   },
   {
    "duration": 103,
    "start_time": "2022-01-10T20:10:20.666Z"
   },
   {
    "duration": 20,
    "start_time": "2022-01-10T20:10:20.771Z"
   },
   {
    "duration": 237,
    "start_time": "2022-01-10T20:10:20.793Z"
   },
   {
    "duration": 276,
    "start_time": "2022-01-10T20:10:32.783Z"
   }
  ],
  "kernelspec": {
   "display_name": "Python 3",
   "language": "python",
   "name": "python3"
  },
  "language_info": {
   "codemirror_mode": {
    "name": "ipython",
    "version": 3
   },
   "file_extension": ".py",
   "mimetype": "text/x-python",
   "name": "python",
   "nbconvert_exporter": "python",
   "pygments_lexer": "ipython3",
   "version": "3.8.8"
  },
  "toc": {
   "base_numbering": 1,
   "nav_menu": {},
   "number_sections": true,
   "sideBar": true,
   "skip_h1_title": true,
   "title_cell": "Table of Contents",
   "title_sidebar": "Contents",
   "toc_cell": false,
   "toc_position": {
    "height": "calc(100% - 180px)",
    "left": "10px",
    "top": "150px",
    "width": "165px"
   },
   "toc_section_display": true,
   "toc_window_display": true
  }
 },
 "nbformat": 4,
 "nbformat_minor": 5
}
