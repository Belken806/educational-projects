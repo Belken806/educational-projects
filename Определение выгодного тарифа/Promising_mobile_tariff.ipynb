{
 "cells": [
  {
   "cell_type": "markdown",
   "id": "5e3b5b1b",
   "metadata": {},
   "source": [
    "# Исследование перспективного тарифа для телеком-компании"
   ]
  },
  {
   "cell_type": "markdown",
   "id": "8372fc12",
   "metadata": {},
   "source": [
    "Нам предложенна база данных для рассмотрения с абонентами компании «Мегалайн» — федерального оператора сотовой связи. Клиентам предлагают два тарифных плана: «Смарт» и «Ультра». Чтобы скорректировать рекламный бюджет, коммерческий департамент хочет понять, какой тариф приносит больше денег.\n",
    "\n",
    "Наша задача выполнить предварительный анализ тарифов на небольшой выборке клиентов. В нашем распоряжении данные 500 пользователей «Мегалайна»: кто они, откуда, каким тарифом пользуются, сколько звонков и сообщений каждый отправил за 2018 год. *Нужно проанализировать поведение клиентов и сделать вывод — какой тариф лучше.*"
   ]
  },
  {
   "cell_type": "markdown",
   "id": "d3a39fff",
   "metadata": {},
   "source": [
    "### Описание тарифов\n",
    "**Тариф «Смарт»**\n",
    "* Ежемесячная плата: 550 рублей\n",
    "* Включено 500 минут разговора, 50 сообщений и 15 Гб интернет-трафика\n",
    "* Стоимость услуг сверх тарифного пакета: \n",
    "    1. Минута разговора: 3 рубля;\n",
    "    2. Сообщение: 3 рубля; \n",
    "    3. 1 Гб интернет-трафика: 200 рублей.\n",
    "\n",
    "**Тариф «Ультра»**\n",
    "* Ежемесячная плата: 1950 рублей\n",
    "* Включено 3000 минут разговора, 1000 сообщений и 30 Гб интернет-трафика\n",
    "* Стоимость услуг сверх тарифного пакета: \n",
    "    1. Минута разговора: 1 рубль; \n",
    "    2. Сообщение: 1 рубль; \n",
    "    3. 1 Гб интернет-трафика: 150 рублей.\n",
    "    \n",
    "**Примечание**\n",
    "\n",
    "«Мегалайн» всегда округляет секунды до минут, а мегабайты — до гигабайт. Каждый звонок округляется отдельно: даже если он длился всего 1 секунду, будет засчитан как 1 минута.\n",
    "Для веб-трафика отдельные сессии не считаются. Вместо этого общая сумма за месяц округляется в бо́льшую сторону. Если абонент использует 1025 мегабайт в этом месяце, с него возьмут плату за 2 гигабайта."
   ]
  },
  {
   "cell_type": "markdown",
   "id": "3d1b31d3",
   "metadata": {},
   "source": [
    "**Цели исследования:** \n",
    "* Проанализировать поведение клиентов\n",
    "\n",
    "* Проверить гипотезы:\n",
    " - средняя выручка пользователей тарифов «Ультра» и «Смарт» различаются\n",
    " - средняя выручка пользователей из Москвы отличается от выручки пользователей из других регионов\n",
    " \n",
    " \n",
    "**Ход исследования:** Изучить набор данных и провести обработку, объединить в одну клиентсую базу. Посчитать выручку за месяц по каждому клиенту. Получить дисперсию, среднее, стандартное отклонение и построить гистограммы для количество сообщений, протяженности звонков и интернет трафика. Опровергнуть или принять поставленные гипотезы. Составить общий вывод\n",
    "\n",
    "## Изучение данных из файлов"
   ]
  },
  {
   "cell_type": "markdown",
   "id": "47029a53",
   "metadata": {},
   "source": [
    "Для начала импортируем библиотеки для работы с данными:"
   ]
  },
  {
   "cell_type": "code",
   "execution_count": 1,
   "id": "c24dcd19",
   "metadata": {},
   "outputs": [],
   "source": [
    "import pandas as pd\n",
    "import numpy as np\n",
    "import matplotlib.pyplot as plt\n",
    "from scipy import stats as st"
   ]
  },
  {
   "cell_type": "markdown",
   "id": "a3e59a46",
   "metadata": {},
   "source": [
    "База данных клиентов представлено в `csv` формате и разделена на несколько файлов. Поэтапно будет открывать их, знакомясь с информацией."
   ]
  },
  {
   "cell_type": "markdown",
   "id": "31d0cf4d",
   "metadata": {
    "scrolled": true
   },
   "source": [
    "\n",
    "\n",
    "В данных отсуствуют пропущенные значения. Формат стоблца `call_date` стоит конвектировать для удобства в формат `datetime`, а `duration` округлить вверх, т.к звонки больше 1 секунды засчитываются за 1 минуту."
   ]
  },
  {
   "cell_type": "markdown",
   "id": "6a17fc5e",
   "metadata": {
    "scrolled": false
   },
   "source": [
    "\n",
    "\n",
    "Пустых значений в данных нет. Для удобства `session_date` приведём к формату `datetime`."
   ]
  },
  {
   "cell_type": "markdown",
   "id": "5e7cfdf6",
   "metadata": {
    "scrolled": true
   },
   "source": [
    "\n",
    "\n",
    "Также в данных отсуствуют пропуски. Для удобства поменяем формат `message_date` на `datetime`."
   ]
  },
  {
   "cell_type": "markdown",
   "id": "23ff0f3b",
   "metadata": {},
   "source": [
    "\n",
    "\n",
    "Данные состоят из двух строчек. Файлу не требуются какие либо изменения. В дальнейшем для расчёта месячных затрат на тариф мы будем ссылаться на этот датафрейм."
   ]
  },
  {
   "cell_type": "markdown",
   "id": "c6e1a688",
   "metadata": {},
   "source": [
    "\n",
    "\n",
    "Пустые значения имеются в столбце `churn_date`, но в нашем исследовании они не мешают, поэтому замена не требуется.\n",
    "\n",
    "### Вывод\n",
    "\n",
    "Данные открыты и проанализированы, определены задачи для обработки данных. Следующий этапом будет приведение к формату `datetime` и работы с ним. "
   ]
  },
  {
   "cell_type": "markdown",
   "id": "800504be",
   "metadata": {},
   "source": [
    "## Обработка данных"
   ]
  },
  {
   "cell_type": "markdown",
   "id": "4e0787db",
   "metadata": {},
   "source": [
    "Посмотрим имеются ли звонки с продолжительностью ноль и если да, то сколько:"
   ]
  },
  {
   "cell_type": "code",
   "execution_count": 7,
   "id": "2cd87ee0",
   "metadata": {
    "scrolled": true
   },
   "outputs": [
    {
     "name": "stdout",
     "output_type": "stream",
     "text": [
      "Количество звонков продолжительностью ноль: 39613\n"
     ]
    }
   ],
   "source": [
    "print('Количество звонков продолжительностью ноль:',\n",
    "      data_calls[data_calls['duration'] == 0]['duration'].count())"
   ]
  },
  {
   "cell_type": "markdown",
   "id": "b46e8d17",
   "metadata": {},
   "source": [
    "Такие звонки имеются и их достаточно много, но мы можем предположить что система посчитала их как пропущенные. За такие звонки абонент не платит, ноль-значения мы оставим как есть. \n",
    "\n",
    "Также по условиям тарифов ,звонки больше 1 секунды округляются до следующей минуты. Для удобства округлим продолжительность вверх:"
   ]
  },
  {
   "cell_type": "code",
   "execution_count": 8,
   "id": "bf468dc0",
   "metadata": {
    "scrolled": true
   },
   "outputs": [],
   "source": [
    "data_calls['duration'] = data_calls['duration'].apply(np.ceil)"
   ]
  },
  {
   "cell_type": "markdown",
   "id": "901d3f06",
   "metadata": {},
   "source": [
    "Посмотрим есть ли ноль значения для интернет трафика: "
   ]
  },
  {
   "cell_type": "code",
   "execution_count": 9,
   "id": "2c323e04",
   "metadata": {
    "scrolled": true
   },
   "outputs": [
    {
     "name": "stdout",
     "output_type": "stream",
     "text": [
      "Количество использованого трафика равного нулю: 19598\n"
     ]
    }
   ],
   "source": [
    "print('Количество использованого трафика равного нулю:',\n",
    "      data_internet[data_internet['mb_used'] == 0]['mb_used'].count())"
   ]
  },
  {
   "cell_type": "markdown",
   "id": "536bfe5e",
   "metadata": {},
   "source": [
    "Возможно клиенты не имеют доступ в интернет и пользуются не смартфонами, а обычными кнопочными телефонами. Также мы можем предположить, что значения настолько малы (значения кбайт или в байт). Оставим значения без изменений."
   ]
  },
  {
   "cell_type": "markdown",
   "id": "c2d0be7c",
   "metadata": {},
   "source": [
    "Преобразуем `call_date, message_date , session_date` и выведим результат на экран: "
   ]
  },
  {
   "cell_type": "code",
   "execution_count": 10,
   "id": "5a8febbc",
   "metadata": {
    "scrolled": false
   },
   "outputs": [
    {
     "data": {
      "text/plain": [
       "'data_calls'"
      ]
     },
     "metadata": {},
     "output_type": "display_data"
    },
    {
     "data": {
      "text/plain": [
       "id                   object\n",
       "call_date    datetime64[ns]\n",
       "duration            float64\n",
       "user_id               int64\n",
       "dtype: object"
      ]
     },
     "metadata": {},
     "output_type": "display_data"
    },
    {
     "data": {
      "text/plain": [
       "'data_messages'"
      ]
     },
     "metadata": {},
     "output_type": "display_data"
    },
    {
     "data": {
      "text/plain": [
       "id                      object\n",
       "message_date    datetime64[ns]\n",
       "user_id                  int64\n",
       "dtype: object"
      ]
     },
     "metadata": {},
     "output_type": "display_data"
    },
    {
     "data": {
      "text/plain": [
       "'data_internet'"
      ]
     },
     "metadata": {},
     "output_type": "display_data"
    },
    {
     "data": {
      "text/plain": [
       "id                      object\n",
       "mb_used                float64\n",
       "session_date    datetime64[ns]\n",
       "user_id                  int64\n",
       "dtype: object"
      ]
     },
     "metadata": {},
     "output_type": "display_data"
    }
   ],
   "source": [
    "data_calls['call_date'] = pd.to_datetime(data_calls['call_date'], format='%Y-%m-%d')\n",
    "display('data_calls',data_calls.dtypes)\n",
    "data_messages['message_date'] = pd.to_datetime(data_messages['message_date'],format='%Y-%m-%d')\n",
    "display('data_messages',data_messages.dtypes)\n",
    "data_internet['session_date'] = pd.to_datetime(data_internet['session_date'], format='%Y-%m-%d')\n",
    "display('data_internet',data_internet.dtypes)"
   ]
  },
  {
   "cell_type": "markdown",
   "id": "cf1bdc5a",
   "metadata": {},
   "source": [
    "Изменения сработали и теперь мы можем добавить к таблицам месяц, когда совершались действия клиента."
   ]
  },
  {
   "cell_type": "code",
   "execution_count": 11,
   "id": "6ff8ef5a",
   "metadata": {},
   "outputs": [],
   "source": [
    "data_calls['month'] = data_calls['call_date'].dt.month\n",
    "data_messages['month'] = data_messages['message_date'].dt.month\n",
    "data_internet['month'] = data_internet['session_date'].dt.month"
   ]
  },
  {
   "cell_type": "markdown",
   "id": "0465c7a8",
   "metadata": {},
   "source": [
    "Теперь мы сможем сгруппировать данные по каждому клиенту и месяцу, и посчитать общую продолжительность звонков:"
   ]
  },
  {
   "cell_type": "markdown",
   "id": "7187292b",
   "metadata": {},
   "source": [
    "Группируем данные по отправленным сообщениям (для информативности преобразуем столбец с уникальным номером сообщения, просто в количество сообщений):"
   ]
  },
  {
   "cell_type": "markdown",
   "id": "93a234bc",
   "metadata": {
    "scrolled": false
   },
   "source": [
    "Группируем значения для интернет данных, просуммировав для каждого месяца общий расход мегабайтов:"
   ]
  },
  {
   "cell_type": "markdown",
   "id": "6143e280",
   "metadata": {},
   "source": [
    "Затем объединим поэтапно: звонки + интернет трафик + количество смс + клиентская база:"
   ]
  },
  {
   "cell_type": "code",
   "execution_count": 15,
   "id": "7c8037fa",
   "metadata": {},
   "outputs": [],
   "source": [
    "calls_internet = calls.merge(internet, on = ['user_id','month'], how='outer')\n",
    "calls_internet_sms = calls_internet.merge(messages, on = ['user_id','month'], how='outer')\n",
    "users_trafic = data_users.merge(calls_internet_sms, on = 'user_id', how = 'inner')"
   ]
  },
  {
   "cell_type": "markdown",
   "id": "adf6a8a0",
   "metadata": {},
   "source": [
    "Посмотрим на промежуточные итоги:"
   ]
  },
  {
   "cell_type": "markdown",
   "id": "0db50141",
   "metadata": {},
   "source": [
    "Сразу можно обратить внимание, что последние две строчки имеют данные вида `NaN`, стоит посмотреть общие количество пропусков в таблице данных:"
   ]
  },
  {
   "cell_type": "markdown",
   "id": "1a878635",
   "metadata": {},
   "source": [
    "В нашем случае данные пропуски можно трактовать логически, как отсуствие клиентской деятельности в данный месяц. Заменим все значения нулём."
   ]
  },
  {
   "cell_type": "code",
   "execution_count": 18,
   "id": "5c9b04c3",
   "metadata": {
    "scrolled": false
   },
   "outputs": [
    {
     "data": {
      "text/plain": [
       "user_id          0\n",
       "age              0\n",
       "churn_date    3027\n",
       "city             0\n",
       "first_name       0\n",
       "last_name        0\n",
       "reg_date         0\n",
       "tariff           0\n",
       "month            0\n",
       "duration         0\n",
       "mb_used          0\n",
       "messages         0\n",
       "dtype: int64"
      ]
     },
     "execution_count": 18,
     "metadata": {},
     "output_type": "execute_result"
    }
   ],
   "source": [
    "users_trafic['duration'] = users_trafic['duration'].fillna(0)\n",
    "users_trafic['mb_used'] = users_trafic['mb_used'].fillna(0)\n",
    "users_trafic['messages'] = users_trafic['messages'].fillna(0)\n",
    "users_trafic.isna().sum()"
   ]
  },
  {
   "cell_type": "code",
   "execution_count": 19,
   "id": "bcdf8bc8",
   "metadata": {},
   "outputs": [],
   "source": [
    "users_trafic['messages'] = users_trafic['messages'].astype(int)"
   ]
  },
  {
   "cell_type": "markdown",
   "id": "36ca9b3d",
   "metadata": {},
   "source": [
    "Приступим теперь к расчёту затрат клиента в месяц. Для этого используем функцию, которая будет проверять к какому тарифу относится клиент, для дальнейшего расчёта превышений тарифного плана:"
   ]
  },
  {
   "cell_type": "code",
   "execution_count": 20,
   "id": "cd2e3e8f",
   "metadata": {},
   "outputs": [],
   "source": [
    "def profit(user):  \n",
    "    if user['tariff'] == 'ultra': \n",
    "        mb = data_tariffs['mb_per_month_included'][1] - user['mb_used'] # Разница сверхпользования интернета по тарифу и клиента\n",
    "        minute = data_tariffs['minutes_included'][1] - user['duration'] # Разница сверхпользования минут звонков по тарифу и клиента\n",
    "        sms = data_tariffs['messages_included'][1] - user['messages'] # Разница сверхпользования кол-во сообщений по тарифу и клиента\n",
    "        if mb < 0:\n",
    "            # Если есть превышения, то разница будет отрицательная, а т.к считается превышение в гигабайтах, \n",
    "            # то мы берём модуль числа переводим в гб, считаем частное от деления с округлением вверх засчёт - 1 \n",
    "            mb = (abs(mb) + 1024 - 1) // 1024  * data_tariffs['rub_per_gb'][1] \n",
    "        else:\n",
    "            mb = 0\n",
    "        if minute < 0:\n",
    "            x = abs(minute) * data_tariffs['rub_per_minute'][1]\n",
    "        else:\n",
    "            minute = 0\n",
    "        if sms < 0:\n",
    "            sms = abs(sms) * data_tariffs['rub_per_message'][1]\n",
    "        else:\n",
    "            sms = 0\n",
    "        # итоговая сумма за месяц, обязательно включает месячную оплату за тариф,\n",
    "        # если есть превышение, оно также учитывается в итоговой сумме\n",
    "        return data_tariffs['rub_monthly_fee'][1] + mb + minute + sms  \n",
    "        \n",
    "    else:\n",
    "        # для тарифа smart всё считается аналогично\n",
    "        mb = data_tariffs['mb_per_month_included'][0] - user['mb_used']\n",
    "        minute = data_tariffs['minutes_included'][0] - user['duration']\n",
    "        sms = data_tariffs['messages_included'][0] - user['messages']\n",
    "        if mb < 0:\n",
    "            mb = (abs(mb) + 1024 - 1) // 1024  * data_tariffs['rub_per_gb'][0] \n",
    "        else:\n",
    "            mb = 0\n",
    "        if minute < 0:\n",
    "            x = abs(minute) * data_tariffs['rub_per_minute'][0]\n",
    "        else:\n",
    "            minute = 0\n",
    "        if sms < 0:\n",
    "            sms = abs(sms) * data_tariffs['rub_per_message'][0]\n",
    "        else:\n",
    "            sms = 0\n",
    "        return data_tariffs['rub_monthly_fee'][0] + mb + minute + sms\n",
    "    "
   ]
  },
  {
   "cell_type": "markdown",
   "id": "6ed85124",
   "metadata": {},
   "source": [
    "Применим нашу новую функцию к таблице:"
   ]
  },
  {
   "cell_type": "markdown",
   "id": "6e14ac80",
   "metadata": {},
   "source": [
    "Для дальнейшей работы с данными уберём лишние колонки которые не будут участовать в исследовании:"
   ]
  },
  {
   "cell_type": "markdown",
   "id": "99e285db",
   "metadata": {},
   "source": [
    "### Вывод \n",
    "\n",
    "Мы обработали данные, приобразовали формат данных и с помощью него узнали в каком месяце проводилась операция. Прогруппировали данные и просуммировали итоги за месяц. Объединив все данные с клиентской базой, через функцию подсчитали затраты клиентов за месяц.\n"
   ]
  },
  {
   "cell_type": "markdown",
   "id": "3300902d",
   "metadata": {},
   "source": [
    "## Анализ данных\n",
    "\n",
    "Посмотрим на значения среднего, дисперсии и стандартного отклонения для продолжительности звонков, использования интернет трафика и количество смс сообщений по нашим тарифам:"
   ]
  },
  {
   "cell_type": "code",
   "execution_count": 23,
   "id": "a00a4a5c",
   "metadata": {
    "scrolled": false
   },
   "outputs": [
    {
     "data": {
      "text/html": [
       "<div>\n",
       "<style scoped>\n",
       "    .dataframe tbody tr th:only-of-type {\n",
       "        vertical-align: middle;\n",
       "    }\n",
       "\n",
       "    .dataframe tbody tr th {\n",
       "        vertical-align: top;\n",
       "    }\n",
       "\n",
       "    .dataframe thead tr th {\n",
       "        text-align: left;\n",
       "    }\n",
       "\n",
       "    .dataframe thead tr:last-of-type th {\n",
       "        text-align: right;\n",
       "    }\n",
       "</style>\n",
       "<table border=\"1\" class=\"dataframe\">\n",
       "  <thead>\n",
       "    <tr>\n",
       "      <th></th>\n",
       "      <th colspan=\"3\" halign=\"left\">duration</th>\n",
       "    </tr>\n",
       "    <tr>\n",
       "      <th></th>\n",
       "      <th>mean</th>\n",
       "      <th>std</th>\n",
       "      <th>var</th>\n",
       "    </tr>\n",
       "    <tr>\n",
       "      <th>tariff</th>\n",
       "      <th></th>\n",
       "      <th></th>\n",
       "      <th></th>\n",
       "    </tr>\n",
       "  </thead>\n",
       "  <tbody>\n",
       "    <tr>\n",
       "      <td>smart</td>\n",
       "      <td>417.9</td>\n",
       "      <td>190.3</td>\n",
       "      <td>36219.3</td>\n",
       "    </tr>\n",
       "    <tr>\n",
       "      <td>ultra</td>\n",
       "      <td>526.6</td>\n",
       "      <td>317.6</td>\n",
       "      <td>100873.6</td>\n",
       "    </tr>\n",
       "  </tbody>\n",
       "</table>\n",
       "</div>"
      ],
      "text/plain": [
       "       duration                 \n",
       "           mean    std       var\n",
       "tariff                          \n",
       "smart     417.9  190.3   36219.3\n",
       "ultra     526.6  317.6  100873.6"
      ]
     },
     "metadata": {},
     "output_type": "display_data"
    },
    {
     "data": {
      "text/html": [
       "<div>\n",
       "<style scoped>\n",
       "    .dataframe tbody tr th:only-of-type {\n",
       "        vertical-align: middle;\n",
       "    }\n",
       "\n",
       "    .dataframe tbody tr th {\n",
       "        vertical-align: top;\n",
       "    }\n",
       "\n",
       "    .dataframe thead tr th {\n",
       "        text-align: left;\n",
       "    }\n",
       "\n",
       "    .dataframe thead tr:last-of-type th {\n",
       "        text-align: right;\n",
       "    }\n",
       "</style>\n",
       "<table border=\"1\" class=\"dataframe\">\n",
       "  <thead>\n",
       "    <tr>\n",
       "      <th></th>\n",
       "      <th colspan=\"3\" halign=\"left\">mb_used</th>\n",
       "    </tr>\n",
       "    <tr>\n",
       "      <th></th>\n",
       "      <th>mean</th>\n",
       "      <th>std</th>\n",
       "      <th>var</th>\n",
       "    </tr>\n",
       "    <tr>\n",
       "      <th>tariff</th>\n",
       "      <th></th>\n",
       "      <th></th>\n",
       "      <th></th>\n",
       "    </tr>\n",
       "  </thead>\n",
       "  <tbody>\n",
       "    <tr>\n",
       "      <td>smart</td>\n",
       "      <td>16208.4</td>\n",
       "      <td>5870.5</td>\n",
       "      <td>34462496.5</td>\n",
       "    </tr>\n",
       "    <tr>\n",
       "      <td>ultra</td>\n",
       "      <td>19468.8</td>\n",
       "      <td>10087.2</td>\n",
       "      <td>101751013.8</td>\n",
       "    </tr>\n",
       "  </tbody>\n",
       "</table>\n",
       "</div>"
      ],
      "text/plain": [
       "        mb_used                      \n",
       "           mean      std          var\n",
       "tariff                               \n",
       "smart   16208.4   5870.5   34462496.5\n",
       "ultra   19468.8  10087.2  101751013.8"
      ]
     },
     "metadata": {},
     "output_type": "display_data"
    },
    {
     "data": {
      "text/html": [
       "<div>\n",
       "<style scoped>\n",
       "    .dataframe tbody tr th:only-of-type {\n",
       "        vertical-align: middle;\n",
       "    }\n",
       "\n",
       "    .dataframe tbody tr th {\n",
       "        vertical-align: top;\n",
       "    }\n",
       "\n",
       "    .dataframe thead tr th {\n",
       "        text-align: left;\n",
       "    }\n",
       "\n",
       "    .dataframe thead tr:last-of-type th {\n",
       "        text-align: right;\n",
       "    }\n",
       "</style>\n",
       "<table border=\"1\" class=\"dataframe\">\n",
       "  <thead>\n",
       "    <tr>\n",
       "      <th></th>\n",
       "      <th colspan=\"3\" halign=\"left\">messages</th>\n",
       "    </tr>\n",
       "    <tr>\n",
       "      <th></th>\n",
       "      <th>mean</th>\n",
       "      <th>std</th>\n",
       "      <th>var</th>\n",
       "    </tr>\n",
       "    <tr>\n",
       "      <th>tariff</th>\n",
       "      <th></th>\n",
       "      <th></th>\n",
       "      <th></th>\n",
       "    </tr>\n",
       "  </thead>\n",
       "  <tbody>\n",
       "    <tr>\n",
       "      <td>smart</td>\n",
       "      <td>33.4</td>\n",
       "      <td>28.2</td>\n",
       "      <td>796.8</td>\n",
       "    </tr>\n",
       "    <tr>\n",
       "      <td>ultra</td>\n",
       "      <td>49.4</td>\n",
       "      <td>47.8</td>\n",
       "      <td>2285.3</td>\n",
       "    </tr>\n",
       "  </tbody>\n",
       "</table>\n",
       "</div>"
      ],
      "text/plain": [
       "       messages              \n",
       "           mean   std     var\n",
       "tariff                       \n",
       "smart      33.4  28.2   796.8\n",
       "ultra      49.4  47.8  2285.3"
      ]
     },
     "execution_count": 23,
     "metadata": {},
     "output_type": "execute_result"
    }
   ],
   "source": [
    "display(filter_data.groupby('tariff').agg({'duration' : ['mean', 'std', 'var']}).round(1))\n",
    "display(filter_data.groupby('tariff').agg({'mb_used' : ['mean', 'std', 'var']}).round(1))\n",
    "filter_data.groupby('tariff').agg({'messages' : ['mean', 'std', 'var']}).round(1)"
   ]
  },
  {
   "cell_type": "markdown",
   "id": "c586dc4d",
   "metadata": {},
   "source": [
    "Можно обратить внимание, что среднее значения двух тарифов по всем позициям, не сильно разнятся. Само собой для владельцев пакета \"ультра\" эти значения выше. Также если сопоставить среднее и стандартное отклоение, то мы увидем, что пользователи тарифа \"смарт\", чаще прибегают к функциям сверхпакета. \n",
    "\n",
    "Посмотрим на гистограммы по каждому тарифу: "
   ]
  },
  {
   "cell_type": "code",
   "execution_count": 24,
   "id": "911d9ce4",
   "metadata": {},
   "outputs": [
    {
     "data": {
      "image/png": "[encoded data removed]",
      "text/plain": [
       "<Figure size 432x288 with 1 Axes>"
      ]
     },
     "metadata": {
      "needs_background": "light"
     },
     "output_type": "display_data"
    }
   ],
   "source": [
    "ax = filter_data[filter_data['tariff'] == \"smart\"]['duration'].plot(kind='hist',bins=75, label=\"Смарт\")\n",
    "filter_data[filter_data['tariff'] == \"ultra\"]['duration'].plot(\n",
    "    ax=ax,\n",
    "    kind='hist',\n",
    "    bins=75, \n",
    "    grid=True,\n",
    "    alpha = 0.7,\n",
    "    label=\"Ультра\"\n",
    ")\n",
    "plt.legend()\n",
    "plt.title('Протяженность звонка для двух тарифов')\n",
    "plt.xlabel('Протяженность звонка, мин')\n",
    "plt.ylabel('Частота')\n",
    "plt.show()"
   ]
  },
  {
   "cell_type": "markdown",
   "id": "16610da6",
   "metadata": {},
   "source": [
    "Из графикиа мы видим: \n",
    "* пользователи тарифа \"ультра\", чаще всего говорят меньше 1 минуты\n",
    "* в среднем говорят 500 минут ~ чуть больше 8 часов в месяц\n",
    "* после 800 минуты виден планый спад - \"любителей живого общения\" становится меньше\n",
    "\n",
    "Для тарифа \"смарт\":\n",
    "* пользователи реже говорит меньше одной минуты\n",
    "* говорят в среднем 420 минут ~ 7 часов \n",
    "* планый спад на 500 минуте (включается сверхпакет)\n",
    "* меньше клиентов говорящхи больше 800 минут по сравнению владельцев пакета \"ультра\"\n",
    "\n",
    "Посмотрим теперь пользователей интернета:"
   ]
  },
  {
   "cell_type": "code",
   "execution_count": 25,
   "id": "ca280186",
   "metadata": {},
   "outputs": [
    {
     "data": {
      "image/png": "[encoded data removed]",
      "text/plain": [
       "<Figure size 432x288 with 1 Axes>"
      ]
     },
     "metadata": {
      "needs_background": "light"
     },
     "output_type": "display_data"
    }
   ],
   "source": [
    "ax = filter_data[filter_data['tariff'] == \"smart\"]['mb_used'].plot(kind='hist',bins=75, label=\"Смарт\")\n",
    "filter_data[filter_data['tariff'] == \"ultra\"]['mb_used'].plot(\n",
    "    ax=ax,\n",
    "    kind='hist',\n",
    "    bins=75, \n",
    "    grid=True,\n",
    "    alpha = 0.7,\n",
    "    label=\"Ультра\",\n",
    ")\n",
    "plt.legend()\n",
    "plt.title('Использованно интернет трафика для двух тарифов')\n",
    "plt.xlabel('Интернет трафик, мб')\n",
    "plt.ylabel('Частота')\n",
    "plt.show()"
   ]
  },
  {
   "cell_type": "markdown",
   "id": "93ec6356",
   "metadata": {},
   "source": [
    "По графику:\n",
    "* пик для пользователей пакета \"смарт\" находится в районе сверхпакета (15360 мб), что означает: половина пользователей начинают доплачивает за дополнительный интернет\n",
    "* для пользователей \"ультра\" пики находятся левее сверхпакета - они доплачивают реже за интернет\n",
    "* в пакете \"смарт\" встречаются клиенты с трафиком больше 30000, хотя и меньше чем на \"ультра\", где только начинается спад"
   ]
  },
  {
   "cell_type": "code",
   "execution_count": 26,
   "id": "e24a18d5",
   "metadata": {},
   "outputs": [
    {
     "data": {
      "image/png": "[encoded data removed]",
      "text/plain": [
       "<Figure size 432x288 with 1 Axes>"
      ]
     },
     "metadata": {
      "needs_background": "light"
     },
     "output_type": "display_data"
    }
   ],
   "source": [
    "ax = filter_data[filter_data['tariff'] == \"smart\"]['messages'].plot(kind='hist',bins=75, label=\"Смарт\")\n",
    "filter_data[filter_data['tariff'] == \"ultra\"]['messages'].plot(\n",
    "    ax=ax,\n",
    "    kind='hist',\n",
    "    bins=75, \n",
    "    grid=True,\n",
    "    alpha = 0.7,\n",
    "    label=\"Ультра\"\n",
    ")\n",
    "plt.legend()\n",
    "plt.title('Количество отправленных сообщений для двух тарифов')\n",
    "plt.xlabel('Количество сообщений')\n",
    "plt.ylabel('Частота')\n",
    "plt.show()"
   ]
  },
  {
   "cell_type": "markdown",
   "id": "6fcc20b6",
   "metadata": {},
   "source": [
    "По графику:\n",
    "* клиенты двух тарифов, чаще всего, пренебрегают отправкой сообщений\n",
    "* графики примерно схожи между собой, главное отличие в количестве сообщений после 110, для \"смарт\" таких клиентов практически нет, когда для \"ультра\" имеются клиенты после 150 сообщений\n",
    "* сверх пакет для \"смарт\" начинается после 50 сообщений, клиенты это тарифа доплачивают в отличии от \"ультра\""
   ]
  },
  {
   "cell_type": "markdown",
   "id": "cc5fd83f",
   "metadata": {},
   "source": [
    "### Вывод \n",
    "\n",
    "После того как мы рассмотрели среднее, стандартное отклонение и дисперсию, построили гистограммы для тарифов по количеству звонков, сообщений и интернет трафику мы можем утверждать, что клиенты \"смарт\" намного чаще клиентов \"ультра\" переплачивают за тариф. Также мы узнали что клиенты двух тарифов стараются не пользоватся отправкой сообщений. По разнице частот, можно сделать вывод о преобраладние клиентов пользующийся тарифом \"смарт\" над \"ультра\"."
   ]
  },
  {
   "cell_type": "markdown",
   "id": "ba5aa573",
   "metadata": {},
   "source": [
    "## Проверка гипотез\n",
    "\n",
    "В нашем исследовании расмотрим две гипотезы:\n",
    "* средняя выручка пользователей тарифов «Ультра» и «Смарт» различаются\n",
    "* средняя выручка пользователей из Москвы отличается от выручки пользователей из других регионов\n",
    "\n",
    "Начнём с первой, нулевой гипотезой для нас будет: *средняя выручка пользователей по двум тараифам равна между собой*, а значит альтернативной гипотезой будет: *средняя выручка пользователей по двум тарифам отличается и не равна между собой*. \n",
    "\n",
    "Для того чтобы отвергнуть или наоборот принять гипотезу, у нас имеется две генеральных совокупности. Мы можем сравнить их среднее с применением библиотеки `scipy` и её методов, через критерий Стьюдента. Для большей точности, мы возьмём уровень значимости равный 1%."
   ]
  },
  {
   "cell_type": "code",
   "execution_count": 27,
   "id": "abe29d67",
   "metadata": {},
   "outputs": [
    {
     "name": "stdout",
     "output_type": "stream",
     "text": [
      "p - значение: 1.394822320003296e-265\n",
      "Отвергаем нулевую гипотезу\n"
     ]
    }
   ],
   "source": [
    "smart = users_trafic[users_trafic['tariff'] == 'smart']['profit']\n",
    "ultra = users_trafic[users_trafic['tariff'] == 'ultra']['profit']\n",
    "alpha = 0.01 # уровень значимости\n",
    "\n",
    "result = st.ttest_ind(smart, ultra)\n",
    "\n",
    "print('p - значение:', result.pvalue)\n",
    "if result.pvalue < alpha:\n",
    "    print('Отвергаем нулевую гипотезу')\n",
    "else:\n",
    "    print('Не отвергаем нулевую гипотезу')"
   ]
  },
  {
   "cell_type": "markdown",
   "id": "093ec824",
   "metadata": {},
   "source": [
    "По полученным статистическим данным, мы может сказать что средняя выручка пользователей между тарифами не равна между собой. Вполне ожидаемый вывод, так как тарифы имеют разную месячную оплату и разные тариф за превышение лимита.\n",
    "\n",
    "Рассмотрим вторую гипотезу: также составим нулевую и альтернативную:\n",
    "* нулевой гипотезой у нас будет: *средняя выручка клиентов из Москвы равна выручке клиентов остальных городов*\n",
    "* альтернативная гипотеза: *средняя вырчка клиентов из Москвы отличается от выручки остальных городов*\n",
    "\n",
    "Также чтобы принять или отвергнуть гипотезу, мы сравним среднии двух генеральных совокупностей клиентов Москвы и остальных городов между собой, через критерий Стьюдента и примим уровень значимости 1%."
   ]
  },
  {
   "cell_type": "code",
   "execution_count": 28,
   "id": "4158da3e",
   "metadata": {},
   "outputs": [
    {
     "name": "stdout",
     "output_type": "stream",
     "text": [
      "p - значение: 0.24\n",
      "Не отвергаем нулевую гипотезу\n"
     ]
    }
   ],
   "source": [
    "moscow_users = users_trafic[users_trafic['city'] == 'Москва']['profit']\n",
    "other_users = users_trafic[users_trafic['city'] != 'Москва']['profit']\n",
    "alpha = 0.01 # уровень значимости\n",
    "\n",
    "result = st.ttest_ind(moscow_users, other_users)\n",
    "\n",
    "print('p - значение:', result.pvalue.round(2))\n",
    "if result.pvalue < alpha:\n",
    "    print('Отвергаем нулевую гипотезу')\n",
    "else:\n",
    "    print('Не отвергаем нулевую гипотезу')"
   ]
  },
  {
   "cell_type": "markdown",
   "id": "5bcfc257",
   "metadata": {},
   "source": [
    "На основе полученных данных, нулевая гипотеза не была отвергнута и мы можем сказать что жители столицы приносят такую же прибыль, как и пользователи других городов.\n",
    "\n",
    "### Вывод\n",
    "\n",
    "Наши гипотезы частично потвердились: для разных тарифов в действительности выручки отличаются друг от друга. Хоть и клиенты тарифа \"смарт\" зачастую превышают доступный пакет, они не равны выручкам тарифа \"ультра\". А для жителей Москвы выручка оказалась равна выручке остальных городов. Для дополнительного исследования можно будет узнать процент клиентов в каждом городе."
   ]
  },
  {
   "cell_type": "markdown",
   "id": "30ab8e07",
   "metadata": {},
   "source": [
    "## Общий вывод\n",
    "\n",
    "Ознакомившись с предоставленной выборкой, мы определили что клиенты «Мегалайн» подключающие тариф \"смарт\" чаще всего превышают пакет данных, особенно по пользованию интернета. При этом выручку которую приносят \"смарт\" и \"ультра\" не равны между с собой. Количество пользователей тоже не равны ( перевес идёт в сторону первого ).\n",
    "\n",
    "Собрав выше сказанные факты, можем утверждать что тариф \"смарт\" для компании будет выгоднее, особенно если учесть анализ интернет пользования в наш технологичный век.\n",
    "\n",
    "Также мы обратили внимание что выручка в месяц для жителей Москвы сопоставима выручке других городов. Для более глубокого исследования можно будет, разделить по городам, и посмотреть отдельно для каждого региона. Также можно будет посмотреть процент пользователей каждого города, для полноты картины."
   ]
  }
 ],
 "metadata": {
  "ExecuteTimeLog": [
   {
    "duration": 1358,
    "start_time": "2021-12-22T04:19:12.356Z"
   },
   {
    "duration": 507,
    "start_time": "2021-12-22T04:19:13.717Z"
   },
   {
    "duration": 310,
    "start_time": "2021-12-22T04:19:14.227Z"
   },
   {
    "duration": 459,
    "start_time": "2021-12-22T04:19:14.539Z"
   },
   {
    "duration": 111,
    "start_time": "2021-12-22T04:19:15.001Z"
   },
   {
    "duration": 171,
    "start_time": "2021-12-22T04:19:15.114Z"
   },
   {
    "duration": 14,
    "start_time": "2021-12-22T04:19:15.288Z"
   },
   {
    "duration": 6,
    "start_time": "2021-12-22T04:19:15.308Z"
   },
   {
    "duration": 8105,
    "start_time": "2021-12-22T04:19:15.318Z"
   },
   {
    "duration": -31,
    "start_time": "2021-12-22T04:19:23.457Z"
   },
   {
    "duration": -44,
    "start_time": "2021-12-22T04:19:23.471Z"
   },
   {
    "duration": -52,
    "start_time": "2021-12-22T04:19:23.481Z"
   },
   {
    "duration": -57,
    "start_time": "2021-12-22T04:19:23.487Z"
   },
   {
    "duration": -60,
    "start_time": "2021-12-22T04:19:23.491Z"
   },
   {
    "duration": -72,
    "start_time": "2021-12-22T04:19:23.505Z"
   },
   {
    "duration": -82,
    "start_time": "2021-12-22T04:19:23.516Z"
   },
   {
    "duration": -84,
    "start_time": "2021-12-22T04:19:23.520Z"
   },
   {
    "duration": -95,
    "start_time": "2021-12-22T04:19:23.532Z"
   },
   {
    "duration": -99,
    "start_time": "2021-12-22T04:19:23.538Z"
   },
   {
    "duration": -109,
    "start_time": "2021-12-22T04:19:23.549Z"
   },
   {
    "duration": -113,
    "start_time": "2021-12-22T04:19:23.554Z"
   },
   {
    "duration": -117,
    "start_time": "2021-12-22T04:19:23.559Z"
   },
   {
    "duration": -127,
    "start_time": "2021-12-22T04:19:23.571Z"
   },
   {
    "duration": -141,
    "start_time": "2021-12-22T04:19:23.586Z"
   },
   {
    "duration": -145,
    "start_time": "2021-12-22T04:19:23.591Z"
   },
   {
    "duration": -152,
    "start_time": "2021-12-22T04:19:23.599Z"
   },
   {
    "duration": -155,
    "start_time": "2021-12-22T04:19:23.603Z"
   },
   {
    "duration": -163,
    "start_time": "2021-12-22T04:19:23.613Z"
   },
   {
    "duration": 1363,
    "start_time": "2021-12-22T04:21:10.357Z"
   },
   {
    "duration": 241,
    "start_time": "2021-12-22T04:21:11.723Z"
   },
   {
    "duration": 207,
    "start_time": "2021-12-22T04:21:11.967Z"
   },
   {
    "duration": 146,
    "start_time": "2021-12-22T04:21:12.177Z"
   },
   {
    "duration": 27,
    "start_time": "2021-12-22T04:21:12.325Z"
   },
   {
    "duration": 61,
    "start_time": "2021-12-22T04:21:12.362Z"
   },
   {
    "duration": 16,
    "start_time": "2021-12-22T04:21:12.426Z"
   },
   {
    "duration": 16,
    "start_time": "2021-12-22T04:21:12.447Z"
   },
   {
    "duration": 12,
    "start_time": "2021-12-22T04:21:12.467Z"
   },
   {
    "duration": 193,
    "start_time": "2021-12-22T04:21:12.482Z"
   },
   {
    "duration": 107,
    "start_time": "2021-12-22T04:21:12.678Z"
   },
   {
    "duration": 51,
    "start_time": "2021-12-22T04:21:12.788Z"
   },
   {
    "duration": 56,
    "start_time": "2021-12-22T04:21:12.842Z"
   },
   {
    "duration": 38,
    "start_time": "2021-12-22T04:21:12.901Z"
   },
   {
    "duration": 36,
    "start_time": "2021-12-22T04:21:12.964Z"
   },
   {
    "duration": 34,
    "start_time": "2021-12-22T04:21:13.003Z"
   },
   {
    "duration": 12,
    "start_time": "2021-12-22T04:21:13.064Z"
   },
   {
    "duration": 24,
    "start_time": "2021-12-22T04:21:13.079Z"
   },
   {
    "duration": 19,
    "start_time": "2021-12-22T04:21:13.106Z"
   },
   {
    "duration": 16,
    "start_time": "2021-12-22T04:21:13.128Z"
   },
   {
    "duration": 547,
    "start_time": "2021-12-22T04:21:13.147Z"
   },
   {
    "duration": 16,
    "start_time": "2021-12-22T04:21:13.696Z"
   },
   {
    "duration": 83,
    "start_time": "2021-12-22T04:21:13.717Z"
   },
   {
    "duration": 850,
    "start_time": "2021-12-22T04:21:13.802Z"
   },
   {
    "duration": 826,
    "start_time": "2021-12-22T04:21:14.654Z"
   },
   {
    "duration": 829,
    "start_time": "2021-12-22T04:21:15.484Z"
   },
   {
    "duration": 14,
    "start_time": "2021-12-22T04:21:16.316Z"
   },
   {
    "duration": 37,
    "start_time": "2021-12-22T04:21:16.333Z"
   }
  ],
  "kernelspec": {
   "display_name": "Python 3",
   "language": "python",
   "name": "python3"
  },
  "language_info": {
   "codemirror_mode": {
    "name": "ipython",
    "version": 3
   },
   "file_extension": ".py",
   "mimetype": "text/x-python",
   "name": "python",
   "nbconvert_exporter": "python",
   "pygments_lexer": "ipython3",
   "version": "3.8.8"
  },
  "toc": {
   "base_numbering": 1,
   "nav_menu": {},
   "number_sections": true,
   "sideBar": true,
   "skip_h1_title": true,
   "title_cell": "Table of Contents",
   "title_sidebar": "Contents",
   "toc_cell": false,
   "toc_position": {},
   "toc_section_display": true,
   "toc_window_display": false
  }
 },
 "nbformat": 4,
 "nbformat_minor": 5
}
